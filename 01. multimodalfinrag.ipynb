{
 "cells": [
  {
   "cell_type": "code",
   "execution_count": 2,
   "metadata": {},
   "outputs": [],
   "source": [
    "import json\n",
    "import os\n",
    "import pandas as pd\n",
    "\n",
    "from dotenv import load_dotenv\n",
    "from typing import List, Dict, Any\n",
    "from openai import OpenAI\n",
    "from langchain.chat_models import ChatOpenAI\n",
    "from langchain.embeddings.openai import OpenAIEmbeddings\n",
    "from langchain.vectorstores import Chroma\n",
    "from langchain.schema import Document\n",
    "from langchain.chains import RetrievalQA\n",
    "from langchain.prompts import PromptTemplate"
   ]
  },
  {
   "cell_type": "code",
   "execution_count": 3,
   "metadata": {},
   "outputs": [],
   "source": [
    "pd.set_option('display.width', -1)\n",
    "pd.set_option('max_colwidth', 1000)"
   ]
  },
  {
   "cell_type": "code",
   "execution_count": 4,
   "metadata": {},
   "outputs": [
    {
     "name": "stdout",
     "output_type": "stream",
     "text": [
      "API key looks good so far\n"
     ]
    }
   ],
   "source": [
    "load_dotenv(override=True)\n",
    "api_key = os.getenv('OPENAI_API_KEY')\n",
    "\n",
    "if api_key and api_key.startswith('sk-proj-') and len(api_key)>10:\n",
    "    print(\"API key looks good so far\")\n",
    "else:\n",
    "    print(\"Issue detected with API key\")\n",
    "    \n",
    "openai = OpenAI()"
   ]
  },
  {
   "cell_type": "code",
   "execution_count": 5,
   "metadata": {},
   "outputs": [],
   "source": [
    "client = OpenAI(api_key=os.environ['OPENAI_API_KEY'])"
   ]
  },
  {
   "cell_type": "markdown",
   "metadata": {},
   "source": [
    "### 1. Load JSON data\n",
    "---"
   ]
  },
  {
   "cell_type": "code",
   "execution_count": 6,
   "metadata": {},
   "outputs": [],
   "source": [
    "# Load JSON data\n",
    "with open('./data/convfinqatrain.json', 'r') as f:\n",
    "    json_data = json.load(f)\n",
    "data = json_data[:5]"
   ]
  },
  {
   "cell_type": "markdown",
   "metadata": {},
   "source": [
    "### 2. Helper Functions for processing financial documents encoded as JSON file\n",
    "---"
   ]
  },
  {
   "cell_type": "code",
   "execution_count": 7,
   "metadata": {},
   "outputs": [],
   "source": [
    "def table_to_string(table):\n",
    "    \"\"\"Convert table to string representation.\"\"\"\n",
    "    return \"\\n\".join(\" | \".join(str(cell) for cell in row) for row in table)"
   ]
  },
  {
   "cell_type": "code",
   "execution_count": 8,
   "metadata": {},
   "outputs": [],
   "source": [
    "def process_json_entry(entry: Dict[str, Any]) -> Dict[str, Any]:\n",
    "    \"\"\"Process a single JSON entry to extract id, merged text, and table string.\"\"\"\n",
    "    entry_id = entry.get(\"id\", None)\n",
    "    parts = []\n",
    "\n",
    "    # Merge pre_text if available\n",
    "    if \"pre_text\" in entry and entry[\"pre_text\"]:\n",
    "        parts.append(\" \".join(entry[\"pre_text\"]))\n",
    "\n",
    "    # Convert table to a string if it exists\n",
    "    table_str = table_to_string(entry[\"table\"]) if \"table\" in entry and entry[\"table\"] else \"\"\n",
    "    if table_str:\n",
    "        parts.append(table_str)\n",
    "\n",
    "    # Merge post_text if available\n",
    "    if \"post_text\" in entry and entry[\"post_text\"]:\n",
    "        parts.append(\" \".join(entry[\"post_text\"]))\n",
    "\n",
    "    # Merge QA details\n",
    "    if \"qa\" in entry and entry[\"qa\"]:\n",
    "        qa_parts = []\n",
    "        if \"question\" in entry[\"qa\"]:\n",
    "            qa_parts.append(f\"Question: {entry['qa']['question']}\")\n",
    "        if \"answer\" in entry[\"qa\"]:\n",
    "            qa_parts.append(f\"Answer: {entry['qa']['answer']}\")\n",
    "        if \"exe_ans\" in entry[\"qa\"]:\n",
    "            qa_parts.append(f\"Execution Answer: {entry['qa']['exe_ans']}\")\n",
    "        parts.append(\"\\n\".join(qa_parts))\n",
    "    \n",
    "    # Extract and Merge dialogue break\n",
    "    dialogue_break = entry.get(\"annotation\", {}).get(\"dialogue_break\", \"\")\n",
    "    if dialogue_break:\n",
    "        parts.append(f\"Dialogue Break: {dialogue_break}\")\n",
    "\n",
    "    # Combine all parts into a single text field\n",
    "    full_text = \"\\n\\n\".join(parts)\n",
    "\n",
    "    return {\"id\": entry_id, \"text\": full_text, \"possible_questions\":dialogue_break, \"table\": table_str}    "
   ]
  },
  {
   "cell_type": "code",
   "execution_count": 9,
   "metadata": {},
   "outputs": [],
   "source": [
    "def get_table_description(table_content: str, document_context: str) -> str:\n",
    "    \"\"\"\n",
    "    Given the table content and the document context, use OpenAI's ChatCompletion API\n",
    "    to generate a detailed description of the table and include the table in markdown format.\n",
    "    \"\"\"\n",
    "    prompt = f\"\"\"\n",
    "    Given the following table and its context from the original document,\n",
    "    provide a detailed description of the table. Then, include the table in markdown format.\n",
    "\n",
    "    Original Document Context:\n",
    "    {document_context}\n",
    "\n",
    "    Table Content:\n",
    "    {table_content}\n",
    "\n",
    "    Please provide:\n",
    "    1. A comprehensive description of the table.\n",
    "    2. The table in markdown format.\n",
    "    \"\"\"\n",
    "    response = client.chat.completions.create(\n",
    "        model=\"gpt-4o-mini\",\n",
    "        messages=[\n",
    "            {\"role\": \"system\", \"content\": \"You are a helpful assistant that describes tables and formats them in markdown.\"},\n",
    "            {\"role\": \"user\", \"content\": prompt}\n",
    "        ]\n",
    "    )\n",
    "    return response.choices[0].message.content"
   ]
  },
  {
   "cell_type": "markdown",
   "metadata": {},
   "source": [
    "### 3. Process each JSON entry\n",
    "---"
   ]
  },
  {
   "cell_type": "code",
   "execution_count": 10,
   "metadata": {},
   "outputs": [],
   "source": [
    "processed_data = [process_json_entry(entry) for entry in data]"
   ]
  },
  {
   "cell_type": "code",
   "execution_count": 11,
   "metadata": {},
   "outputs": [
    {
     "data": {
      "text/html": [
       "<div>\n",
       "<style scoped>\n",
       "    .dataframe tbody tr th:only-of-type {\n",
       "        vertical-align: middle;\n",
       "    }\n",
       "\n",
       "    .dataframe tbody tr th {\n",
       "        vertical-align: top;\n",
       "    }\n",
       "\n",
       "    .dataframe thead th {\n",
       "        text-align: right;\n",
       "    }\n",
       "</style>\n",
       "<table border=\"1\" class=\"dataframe\">\n",
       "  <thead>\n",
       "    <tr style=\"text-align: right;\">\n",
       "      <th></th>\n",
       "      <th>id</th>\n",
       "      <th>text</th>\n",
       "      <th>possible_questions</th>\n",
       "      <th>table</th>\n",
       "    </tr>\n",
       "  </thead>\n",
       "  <tbody>\n",
       "    <tr>\n",
       "      <th>0</th>\n",
       "      <td>Single_JKHY/2009/page_28.pdf-3</td>\n",
       "      <td>26 | 2009 annual report in fiscal 2008 , revenues in the credit union systems and services business segment increased 14% ( 14 % ) from fiscal 2007 . all revenue components within the segment experienced growth during fiscal 2008 . license revenue generated the largest dollar growth in revenue as episys ae , our flagship core processing system aimed at larger credit unions , experienced strong sales throughout the year . support and service revenue , which is the largest component of total revenues for the credit union segment , experienced 34 percent growth in eft support and 10 percent growth in in-house support . gross profit in this business segment increased $ 9344 in fiscal 2008 compared to fiscal 2007 , due primarily to the increase in license revenue , which carries the highest margins . liquidity and capital resources we have historically generated positive cash flow from operations and have generally used funds generated from operations and short-term borrowings on our re...</td>\n",
       "      <td>[what is the net cash from operating activities in 2009?, what about in 2008?, what is the difference?, what percentage change does this represent?]</td>\n",
       "      <td>2008 | year ended june 30 2009 2008 | year ended june 30 2009 2008 | year ended june 30 2009\\nnet income | $ 103102 | $ 104222 | $ 104681\\nnon-cash expenses | 74397 | 70420 | 56348\\nchange in receivables | 21214 | -2913 ( 2913 ) | -28853 ( 28853 )\\nchange in deferred revenue | 21943 | 5100 | 24576\\nchange in other assets and liabilities | -14068 ( 14068 ) | 4172 | 17495\\nnet cash from operating activities | $ 206588 | $ 181001 | $ 174247</td>\n",
       "    </tr>\n",
       "    <tr>\n",
       "      <th>1</th>\n",
       "      <td>Single_RSG/2008/page_114.pdf-2</td>\n",
       "      <td>substantially all of the goodwill and other intangible assets recorded related to the acquisition of allied are not deductible for tax purposes . pro forma information the consolidated financial statements presented for republic include the operating results of allied from the date of the acquisition . the following pro forma information is presented assuming the merger had been completed as of january 1 , 2007 . the unaudited pro forma information presented below has been prepared for illustrative purposes and is not intended to be indicative of the results of operations that would have actually occurred had the acquisition been consummated at the beginning of the periods presented or of future results of the combined operations ( in millions , except share and per share amounts ) . year ended december 31 , year ended december 31 , ( unaudited ) ( unaudited ) .\\n\\n | year ended december 31 2008 ( unaudited ) | year ended december 31 2007 ( unaudited )\\nrevenue | $ 9362.2 | $ 9244....</td>\n",
       "      <td>[what were revenues in 2008?, what were they in 2007?, what was the net change?, what is the percent change?]</td>\n",
       "      <td>| year ended december 31 2008 ( unaudited ) | year ended december 31 2007 ( unaudited )\\nrevenue | $ 9362.2 | $ 9244.9\\nincome from continuing operations available to common stockholders | 285.7 | 423.2\\nbasic earnings per share | .76 | 1.10\\ndiluted earnings per share | .75 | 1.09</td>\n",
       "    </tr>\n",
       "    <tr>\n",
       "      <th>2</th>\n",
       "      <td>Single_AAPL/2002/page_23.pdf-1</td>\n",
       "      <td>in a new business model such as the retail segment is inherently risky , particularly in light of the significant investment involved , the current economic climate , and the fixed nature of a substantial portion of the retail segment's operating expenses . results for this segment are dependent upon a number of risks and uncertainties , some of which are discussed below under the heading \"factors that may affect future results and financial condition.\" backlog in the company's experience , the actual amount of product backlog at any particular time is not a meaningful indication of its future business prospects . in particular , backlog often increases in anticipation of or immediately following new product introductions because of over- ordering by dealers anticipating shortages . backlog often is reduced once dealers and customers believe they can obtain sufficient supply . because of the foregoing , backlog cannot be considered a reliable indicator of the company's ability to a...</td>\n",
       "      <td>[what was the total of net sales in 2001?, and what was that in 2000?, what was, then, the change in the total of net sales over the year?, and how much does this change represent in relation to that total in 2000, in percentage?]</td>\n",
       "      <td>| 2002 | 2001 | 2000\\nnet sales | $ 5742 | $ 5363 | $ 7983\\ncost of sales | 4139 | 4128 | 5817\\ngross margin | $ 1603 | $ 1235 | $ 2166\\ngross margin percentage | 28% ( 28 % ) | 23% ( 23 % ) | 27% ( 27 % )</td>\n",
       "    </tr>\n",
       "    <tr>\n",
       "      <th>3</th>\n",
       "      <td>Single_UPS/2009/page_33.pdf-2</td>\n",
       "      <td>( 1 ) includes shares repurchased through our publicly announced share repurchase program and shares tendered to pay the exercise price and tax withholding on employee stock options . shareowner return performance graph the following performance graph and related information shall not be deemed 201csoliciting material 201d or to be 201cfiled 201d with the securities and exchange commission , nor shall such information be incorporated by reference into any future filing under the securities act of 1933 or securities exchange act of 1934 , each as amended , except to the extent that the company specifically incorporates such information by reference into such filing . the following graph shows a five-year comparison of cumulative total shareowners 2019 returns for our class b common stock , the s&amp;p 500 index , and the dow jones transportation average . the comparison of the total cumulative return on investment , which is the change in the quarterly stock price plus reinvested divide...</td>\n",
       "      <td>[what was the change in the performance of the united parcel service inc . from 2004 to 2009?, and how much does this change represent in relation to that performance in 2004, in percentage?, what was the performance value of the s&amp;p 500 index in 2009?, what was, then, the change in that performance from 2004 to 2009?, and how much does this change represent in relation to that performance in 2004, in percentage?, what is, then, the difference between the percent representation of the united parcel service inc . and the s&amp;p 500 index?]</td>\n",
       "      <td>| 12/31/04 | 12/31/05 | 12/31/06 | 12/31/07 | 12/31/08 | 12/31/09\\nunited parcel service inc . | $ 100.00 | $ 89.49 | $ 91.06 | $ 87.88 | $ 70.48 | $ 75.95\\ns&amp;p 500 index | $ 100.00 | $ 104.91 | $ 121.48 | $ 128.15 | $ 80.74 | $ 102.11\\ndow jones transportation average | $ 100.00 | $ 111.65 | $ 122.61 | $ 124.35 | $ 97.72 | $ 115.88</td>\n",
       "    </tr>\n",
       "    <tr>\n",
       "      <th>4</th>\n",
       "      <td>Double_UPS/2009/page_33.pdf</td>\n",
       "      <td>( 1 ) includes shares repurchased through our publicly announced share repurchase program and shares tendered to pay the exercise price and tax withholding on employee stock options . shareowner return performance graph the following performance graph and related information shall not be deemed 201csoliciting material 201d or to be 201cfiled 201d with the securities and exchange commission , nor shall such information be incorporated by reference into any future filing under the securities act of 1933 or securities exchange act of 1934 , each as amended , except to the extent that the company specifically incorporates such information by reference into such filing . the following graph shows a five-year comparison of cumulative total shareowners 2019 returns for our class b common stock , the s&amp;p 500 index , and the dow jones transportation average . the comparison of the total cumulative return on investment , which is the change in the quarterly stock price plus reinvested divide...</td>\n",
       "      <td>[what was the fluctuation of the performance price of the ups from 2004 to 2006?, and how much does this fluctuation represent in relation to that price in 2004?, and from this year to 2009, what was the fluctuation for that stock?, what is this fluctuation as a percentage of the 2004 price?, and for the s&amp;p 500 index price, what was the fluctuation in those five years?, and what percentage does this fluctuation represent in relation to the 2004 price of this stock?, what is, then, the difference between the ups percentage and this s&amp;p 500 index one, for this five year period?]</td>\n",
       "      <td>| 12/31/04 | 12/31/05 | 12/31/06 | 12/31/07 | 12/31/08 | 12/31/09\\nunited parcel service inc . | $ 100.00 | $ 89.49 | $ 91.06 | $ 87.88 | $ 70.48 | $ 75.95\\ns&amp;p 500 index | $ 100.00 | $ 104.91 | $ 121.48 | $ 128.15 | $ 80.74 | $ 102.11\\ndow jones transportation average | $ 100.00 | $ 111.65 | $ 122.61 | $ 124.35 | $ 97.72 | $ 115.88</td>\n",
       "    </tr>\n",
       "  </tbody>\n",
       "</table>\n",
       "</div>"
      ],
      "text/plain": [
       "                               id  \\\n",
       "0  Single_JKHY/2009/page_28.pdf-3   \n",
       "1  Single_RSG/2008/page_114.pdf-2   \n",
       "2  Single_AAPL/2002/page_23.pdf-1   \n",
       "3   Single_UPS/2009/page_33.pdf-2   \n",
       "4     Double_UPS/2009/page_33.pdf   \n",
       "\n",
       "                                                                                                                                                                                                                                                                                                                                                                                                                                                                                                                                                                                                                                                                                                                                                                                                                                                                                                                                                                                                                                      text  \\\n",
       "0  26 | 2009 annual report in fiscal 2008 , revenues in the credit union systems and services business segment increased 14% ( 14 % ) from fiscal 2007 . all revenue components within the segment experienced growth during fiscal 2008 . license revenue generated the largest dollar growth in revenue as episys ae , our flagship core processing system aimed at larger credit unions , experienced strong sales throughout the year . support and service revenue , which is the largest component of total revenues for the credit union segment , experienced 34 percent growth in eft support and 10 percent growth in in-house support . gross profit in this business segment increased $ 9344 in fiscal 2008 compared to fiscal 2007 , due primarily to the increase in license revenue , which carries the highest margins . liquidity and capital resources we have historically generated positive cash flow from operations and have generally used funds generated from operations and short-term borrowings on our re...   \n",
       "1  substantially all of the goodwill and other intangible assets recorded related to the acquisition of allied are not deductible for tax purposes . pro forma information the consolidated financial statements presented for republic include the operating results of allied from the date of the acquisition . the following pro forma information is presented assuming the merger had been completed as of january 1 , 2007 . the unaudited pro forma information presented below has been prepared for illustrative purposes and is not intended to be indicative of the results of operations that would have actually occurred had the acquisition been consummated at the beginning of the periods presented or of future results of the combined operations ( in millions , except share and per share amounts ) . year ended december 31 , year ended december 31 , ( unaudited ) ( unaudited ) .\\n\\n | year ended december 31 2008 ( unaudited ) | year ended december 31 2007 ( unaudited )\\nrevenue | $ 9362.2 | $ 9244....   \n",
       "2  in a new business model such as the retail segment is inherently risky , particularly in light of the significant investment involved , the current economic climate , and the fixed nature of a substantial portion of the retail segment's operating expenses . results for this segment are dependent upon a number of risks and uncertainties , some of which are discussed below under the heading \"factors that may affect future results and financial condition.\" backlog in the company's experience , the actual amount of product backlog at any particular time is not a meaningful indication of its future business prospects . in particular , backlog often increases in anticipation of or immediately following new product introductions because of over- ordering by dealers anticipating shortages . backlog often is reduced once dealers and customers believe they can obtain sufficient supply . because of the foregoing , backlog cannot be considered a reliable indicator of the company's ability to a...   \n",
       "3  ( 1 ) includes shares repurchased through our publicly announced share repurchase program and shares tendered to pay the exercise price and tax withholding on employee stock options . shareowner return performance graph the following performance graph and related information shall not be deemed 201csoliciting material 201d or to be 201cfiled 201d with the securities and exchange commission , nor shall such information be incorporated by reference into any future filing under the securities act of 1933 or securities exchange act of 1934 , each as amended , except to the extent that the company specifically incorporates such information by reference into such filing . the following graph shows a five-year comparison of cumulative total shareowners 2019 returns for our class b common stock , the s&p 500 index , and the dow jones transportation average . the comparison of the total cumulative return on investment , which is the change in the quarterly stock price plus reinvested divide...   \n",
       "4  ( 1 ) includes shares repurchased through our publicly announced share repurchase program and shares tendered to pay the exercise price and tax withholding on employee stock options . shareowner return performance graph the following performance graph and related information shall not be deemed 201csoliciting material 201d or to be 201cfiled 201d with the securities and exchange commission , nor shall such information be incorporated by reference into any future filing under the securities act of 1933 or securities exchange act of 1934 , each as amended , except to the extent that the company specifically incorporates such information by reference into such filing . the following graph shows a five-year comparison of cumulative total shareowners 2019 returns for our class b common stock , the s&p 500 index , and the dow jones transportation average . the comparison of the total cumulative return on investment , which is the change in the quarterly stock price plus reinvested divide...   \n",
       "\n",
       "                                                                                                                                                                                                                                                                                                                                                                                                                                                                                                                                                                                         possible_questions  \\\n",
       "0                                                                                                                                                                                                                                                                                                                                                                                                                                                      [what is the net cash from operating activities in 2009?, what about in 2008?, what is the difference?, what percentage change does this represent?]   \n",
       "1                                                                                                                                                                                                                                                                                                                                                                                                                                                                                             [what were revenues in 2008?, what were they in 2007?, what was the net change?, what is the percent change?]   \n",
       "2                                                                                                                                                                                                                                                                                                                                                                    [what was the total of net sales in 2001?, and what was that in 2000?, what was, then, the change in the total of net sales over the year?, and how much does this change represent in relation to that total in 2000, in percentage?]   \n",
       "3                                             [what was the change in the performance of the united parcel service inc . from 2004 to 2009?, and how much does this change represent in relation to that performance in 2004, in percentage?, what was the performance value of the s&p 500 index in 2009?, what was, then, the change in that performance from 2004 to 2009?, and how much does this change represent in relation to that performance in 2004, in percentage?, what is, then, the difference between the percent representation of the united parcel service inc . and the s&p 500 index?]   \n",
       "4  [what was the fluctuation of the performance price of the ups from 2004 to 2006?, and how much does this fluctuation represent in relation to that price in 2004?, and from this year to 2009, what was the fluctuation for that stock?, what is this fluctuation as a percentage of the 2004 price?, and for the s&p 500 index price, what was the fluctuation in those five years?, and what percentage does this fluctuation represent in relation to the 2004 price of this stock?, what is, then, the difference between the ups percentage and this s&p 500 index one, for this five year period?]   \n",
       "\n",
       "                                                                                                                                                                                                                                                                                                                                                                                                                                                       table  \n",
       "0  2008 | year ended june 30 2009 2008 | year ended june 30 2009 2008 | year ended june 30 2009\\nnet income | $ 103102 | $ 104222 | $ 104681\\nnon-cash expenses | 74397 | 70420 | 56348\\nchange in receivables | 21214 | -2913 ( 2913 ) | -28853 ( 28853 )\\nchange in deferred revenue | 21943 | 5100 | 24576\\nchange in other assets and liabilities | -14068 ( 14068 ) | 4172 | 17495\\nnet cash from operating activities | $ 206588 | $ 181001 | $ 174247  \n",
       "1                                                                                                                                                                 | year ended december 31 2008 ( unaudited ) | year ended december 31 2007 ( unaudited )\\nrevenue | $ 9362.2 | $ 9244.9\\nincome from continuing operations available to common stockholders | 285.7 | 423.2\\nbasic earnings per share | .76 | 1.10\\ndiluted earnings per share | .75 | 1.09  \n",
       "2                                                                                                                                                                                                                                              | 2002 | 2001 | 2000\\nnet sales | $ 5742 | $ 5363 | $ 7983\\ncost of sales | 4139 | 4128 | 5817\\ngross margin | $ 1603 | $ 1235 | $ 2166\\ngross margin percentage | 28% ( 28 % ) | 23% ( 23 % ) | 27% ( 27 % )  \n",
       "3                                                                                                             | 12/31/04 | 12/31/05 | 12/31/06 | 12/31/07 | 12/31/08 | 12/31/09\\nunited parcel service inc . | $ 100.00 | $ 89.49 | $ 91.06 | $ 87.88 | $ 70.48 | $ 75.95\\ns&p 500 index | $ 100.00 | $ 104.91 | $ 121.48 | $ 128.15 | $ 80.74 | $ 102.11\\ndow jones transportation average | $ 100.00 | $ 111.65 | $ 122.61 | $ 124.35 | $ 97.72 | $ 115.88  \n",
       "4                                                                                                             | 12/31/04 | 12/31/05 | 12/31/06 | 12/31/07 | 12/31/08 | 12/31/09\\nunited parcel service inc . | $ 100.00 | $ 89.49 | $ 91.06 | $ 87.88 | $ 70.48 | $ 75.95\\ns&p 500 index | $ 100.00 | $ 104.91 | $ 121.48 | $ 128.15 | $ 80.74 | $ 102.11\\ndow jones transportation average | $ 100.00 | $ 111.65 | $ 122.61 | $ 124.35 | $ 97.72 | $ 115.88  "
      ]
     },
     "execution_count": 11,
     "metadata": {},
     "output_type": "execute_result"
    }
   ],
   "source": [
    "df = pd.DataFrame(processed_data)\n",
    "df"
   ]
  },
  {
   "cell_type": "markdown",
   "metadata": {},
   "source": [
    "### 4. Generate contextualised table description\n",
    "---"
   ]
  },
  {
   "cell_type": "code",
   "execution_count": 12,
   "metadata": {},
   "outputs": [],
   "source": [
    "def safe_get_table_description(row):\n",
    "    table_content = row[\"table\"]\n",
    "    document_context = row[\"text\"]\n",
    "    if table_content and table_content.strip():\n",
    "        try:\n",
    "            return get_table_description(table_content, document_context)\n",
    "        except Exception as e:\n",
    "            print(f\"Error processing table description for id {row['id']}: {e}\")\n",
    "            return \"\"\n",
    "    else:\n",
    "        return \"\""
   ]
  },
  {
   "cell_type": "code",
   "execution_count": 13,
   "metadata": {},
   "outputs": [],
   "source": [
    "df[\"table_description\"] = df.apply(safe_get_table_description, axis=1)"
   ]
  },
  {
   "cell_type": "code",
   "execution_count": 14,
   "metadata": {},
   "outputs": [
    {
     "data": {
      "text/html": [
       "<div>\n",
       "<style scoped>\n",
       "    .dataframe tbody tr th:only-of-type {\n",
       "        vertical-align: middle;\n",
       "    }\n",
       "\n",
       "    .dataframe tbody tr th {\n",
       "        vertical-align: top;\n",
       "    }\n",
       "\n",
       "    .dataframe thead th {\n",
       "        text-align: right;\n",
       "    }\n",
       "</style>\n",
       "<table border=\"1\" class=\"dataframe\">\n",
       "  <thead>\n",
       "    <tr style=\"text-align: right;\">\n",
       "      <th></th>\n",
       "      <th>id</th>\n",
       "      <th>text</th>\n",
       "      <th>possible_questions</th>\n",
       "      <th>table</th>\n",
       "      <th>table_description</th>\n",
       "    </tr>\n",
       "  </thead>\n",
       "  <tbody>\n",
       "    <tr>\n",
       "      <th>0</th>\n",
       "      <td>Single_JKHY/2009/page_28.pdf-3</td>\n",
       "      <td>26 | 2009 annual report in fiscal 2008 , revenues in the credit union systems and services business segment increased 14% ( 14 % ) from fiscal 2007 . all revenue components within the segment experienced growth during fiscal 2008 . license revenue generated the largest dollar growth in revenue as episys ae , our flagship core processing system aimed at larger credit unions , experienced strong sales throughout the year . support and service revenue , which is the largest component of total revenues for the credit union segment , experienced 34 percent growth in eft support and 10 percent growth in in-house support . gross profit in this business segment increased $ 9344 in fiscal 2008 compared to fiscal 2007 , due primarily to the increase in license revenue , which carries the highest margins . liquidity and capital resources we have historically generated positive cash flow from operations and have generally used funds generated from operations and short-term borrowings on our re...</td>\n",
       "      <td>[what is the net cash from operating activities in 2009?, what about in 2008?, what is the difference?, what percentage change does this represent?]</td>\n",
       "      <td>2008 | year ended june 30 2009 2008 | year ended june 30 2009 2008 | year ended june 30 2009\\nnet income | $ 103102 | $ 104222 | $ 104681\\nnon-cash expenses | 74397 | 70420 | 56348\\nchange in receivables | 21214 | -2913 ( 2913 ) | -28853 ( 28853 )\\nchange in deferred revenue | 21943 | 5100 | 24576\\nchange in other assets and liabilities | -14068 ( 14068 ) | 4172 | 17495\\nnet cash from operating activities | $ 206588 | $ 181001 | $ 174247</td>\n",
       "      <td>### Description of the Table\\n\\nThe table summarizes the net cash from operating activities for a company over the fiscal years ending June 30 from 2007 to 2009. It includes detailed line items that contribute to the calculation of net cash from operating activities, which are crucial for understanding the company's financial performance and cash flow situation.\\n\\n1. **Lines Item Breakdown:**\\n   - **Net Income:** This row shows the net income for each of the three fiscal years. It indicates a slight decrease in net income from 2007 to 2009.\\n   - **Non-Cash Expenses:** This represents various non-cash charges such as depreciation and amortization, which are added back to net income to determine cash flows.\\n   - **Change in Receivables:** This indicates the net change in accounts receivable, showing how much cash was collected as compared to how much was billed.\\n   - **Change in Deferred Revenue:** This row reflects changes in deferred revenue, which contributes to cash inflows ...</td>\n",
       "    </tr>\n",
       "    <tr>\n",
       "      <th>1</th>\n",
       "      <td>Single_RSG/2008/page_114.pdf-2</td>\n",
       "      <td>substantially all of the goodwill and other intangible assets recorded related to the acquisition of allied are not deductible for tax purposes . pro forma information the consolidated financial statements presented for republic include the operating results of allied from the date of the acquisition . the following pro forma information is presented assuming the merger had been completed as of january 1 , 2007 . the unaudited pro forma information presented below has been prepared for illustrative purposes and is not intended to be indicative of the results of operations that would have actually occurred had the acquisition been consummated at the beginning of the periods presented or of future results of the combined operations ( in millions , except share and per share amounts ) . year ended december 31 , year ended december 31 , ( unaudited ) ( unaudited ) .\\n\\n | year ended december 31 2008 ( unaudited ) | year ended december 31 2007 ( unaudited )\\nrevenue | $ 9362.2 | $ 9244....</td>\n",
       "      <td>[what were revenues in 2008?, what were they in 2007?, what was the net change?, what is the percent change?]</td>\n",
       "      <td>| year ended december 31 2008 ( unaudited ) | year ended december 31 2007 ( unaudited )\\nrevenue | $ 9362.2 | $ 9244.9\\nincome from continuing operations available to common stockholders | 285.7 | 423.2\\nbasic earnings per share | .76 | 1.10\\ndiluted earnings per share | .75 | 1.09</td>\n",
       "      <td>### Description of the Table\\n\\nThe table presents the unaudited pro forma financial information for Republic Services, Inc. for the years ended December 31, 2008, and December 31, 2007. This information reflects the operating results of Allied, following the acquisition, and assumes that the merger was completed as of January 1, 2007. \\n\\nThe table contains four key financial metrics for both years:\\n\\n1. **Revenue**: This item indicates total revenue generated by the company, which shows a slight increase from $9,244.9 million in 2007 to $9,362.2 million in 2008.\\n\\n2. **Income from Continuing Operations Available to Common Stockholders**: This represents the net income attributable to shareholders from ongoing operations, which decreased from $423.2 million in 2007 to $285.7 million in 2008.\\n\\n3. **Basic Earnings per Share (EPS)**: This metric provides the earnings available to each common share, which declined from $1.10 in 2007 to $0.76 in 2008.\\n\\n4. **Diluted Earnings per S...</td>\n",
       "    </tr>\n",
       "    <tr>\n",
       "      <th>2</th>\n",
       "      <td>Single_AAPL/2002/page_23.pdf-1</td>\n",
       "      <td>in a new business model such as the retail segment is inherently risky , particularly in light of the significant investment involved , the current economic climate , and the fixed nature of a substantial portion of the retail segment's operating expenses . results for this segment are dependent upon a number of risks and uncertainties , some of which are discussed below under the heading \"factors that may affect future results and financial condition.\" backlog in the company's experience , the actual amount of product backlog at any particular time is not a meaningful indication of its future business prospects . in particular , backlog often increases in anticipation of or immediately following new product introductions because of over- ordering by dealers anticipating shortages . backlog often is reduced once dealers and customers believe they can obtain sufficient supply . because of the foregoing , backlog cannot be considered a reliable indicator of the company's ability to a...</td>\n",
       "      <td>[what was the total of net sales in 2001?, and what was that in 2000?, what was, then, the change in the total of net sales over the year?, and how much does this change represent in relation to that total in 2000, in percentage?]</td>\n",
       "      <td>| 2002 | 2001 | 2000\\nnet sales | $ 5742 | $ 5363 | $ 7983\\ncost of sales | 4139 | 4128 | 5817\\ngross margin | $ 1603 | $ 1235 | $ 2166\\ngross margin percentage | 28% ( 28 % ) | 23% ( 23 % ) | 27% ( 27 % )</td>\n",
       "      <td>### Comprehensive Description of the Table:\\nThe table presents financial data for a company over three consecutive fiscal years, specifically 2000, 2001, and 2002. The information includes four main financial metrics: net sales, cost of sales, gross margin, and gross margin percentage.\\n\\n1. **Net Sales**: This row shows the total revenue generated from sales of goods before any deductions like returns or allowances. In 2000, the net sales were $7,983 million, indicating a peak year. However, in 2001, net sales declined to $5,363 million, representing a significant decrease of 32% compared to 2000. The net sales recovered slightly to $5,742 million in 2002, but they still remained below the figures from 2000.\\n\\n2. **Cost of Sales**: This metric captures the expenses directly associated with the production of the goods sold. The cost of sales remained relatively stable over the three years, showing minor changes. In 2000, the cost was $5,817 million, slightly decreased to $4,128 m...</td>\n",
       "    </tr>\n",
       "    <tr>\n",
       "      <th>3</th>\n",
       "      <td>Single_UPS/2009/page_33.pdf-2</td>\n",
       "      <td>( 1 ) includes shares repurchased through our publicly announced share repurchase program and shares tendered to pay the exercise price and tax withholding on employee stock options . shareowner return performance graph the following performance graph and related information shall not be deemed 201csoliciting material 201d or to be 201cfiled 201d with the securities and exchange commission , nor shall such information be incorporated by reference into any future filing under the securities act of 1933 or securities exchange act of 1934 , each as amended , except to the extent that the company specifically incorporates such information by reference into such filing . the following graph shows a five-year comparison of cumulative total shareowners 2019 returns for our class b common stock , the s&amp;p 500 index , and the dow jones transportation average . the comparison of the total cumulative return on investment , which is the change in the quarterly stock price plus reinvested divide...</td>\n",
       "      <td>[what was the change in the performance of the united parcel service inc . from 2004 to 2009?, and how much does this change represent in relation to that performance in 2004, in percentage?, what was the performance value of the s&amp;p 500 index in 2009?, what was, then, the change in that performance from 2004 to 2009?, and how much does this change represent in relation to that performance in 2004, in percentage?, what is, then, the difference between the percent representation of the united parcel service inc . and the s&amp;p 500 index?]</td>\n",
       "      <td>| 12/31/04 | 12/31/05 | 12/31/06 | 12/31/07 | 12/31/08 | 12/31/09\\nunited parcel service inc . | $ 100.00 | $ 89.49 | $ 91.06 | $ 87.88 | $ 70.48 | $ 75.95\\ns&amp;p 500 index | $ 100.00 | $ 104.91 | $ 121.48 | $ 128.15 | $ 80.74 | $ 102.11\\ndow jones transportation average | $ 100.00 | $ 111.65 | $ 122.61 | $ 124.35 | $ 97.72 | $ 115.88</td>\n",
       "      <td>### Description of the Table\\n\\nThe table presents a comparative analysis of cumulative total returns for three investment entities over a five-year period from December 31, 2004, to December 31, 2009. The entities compared are United Parcel Service Inc. (UPS), the S&amp;P 500 Index, and the Dow Jones Transportation Average. Each column in the table represents the total investment value at the end of each year for the respective date, where an initial investment of $100 is assumed at the start of the period (December 31, 2004).\\n\\n- **Row 1**: United Parcel Service Inc. shows a decreasing trend in total returns from $100.00 in 2004 to $75.95 in 2009, indicating a decline in value over the period.\\n  \\n- **Row 2**: The S&amp;P 500 Index displays a generally upward trend, increasing from $100.00 in 2004 to $102.11 in 2009. It shows a dip in 2008, but it still manages to end higher than the starting value.\\n  \\n- **Row 3**: The Dow Jones Transportation Average also starts at $100.00 in 2004, ...</td>\n",
       "    </tr>\n",
       "    <tr>\n",
       "      <th>4</th>\n",
       "      <td>Double_UPS/2009/page_33.pdf</td>\n",
       "      <td>( 1 ) includes shares repurchased through our publicly announced share repurchase program and shares tendered to pay the exercise price and tax withholding on employee stock options . shareowner return performance graph the following performance graph and related information shall not be deemed 201csoliciting material 201d or to be 201cfiled 201d with the securities and exchange commission , nor shall such information be incorporated by reference into any future filing under the securities act of 1933 or securities exchange act of 1934 , each as amended , except to the extent that the company specifically incorporates such information by reference into such filing . the following graph shows a five-year comparison of cumulative total shareowners 2019 returns for our class b common stock , the s&amp;p 500 index , and the dow jones transportation average . the comparison of the total cumulative return on investment , which is the change in the quarterly stock price plus reinvested divide...</td>\n",
       "      <td>[what was the fluctuation of the performance price of the ups from 2004 to 2006?, and how much does this fluctuation represent in relation to that price in 2004?, and from this year to 2009, what was the fluctuation for that stock?, what is this fluctuation as a percentage of the 2004 price?, and for the s&amp;p 500 index price, what was the fluctuation in those five years?, and what percentage does this fluctuation represent in relation to the 2004 price of this stock?, what is, then, the difference between the ups percentage and this s&amp;p 500 index one, for this five year period?]</td>\n",
       "      <td>| 12/31/04 | 12/31/05 | 12/31/06 | 12/31/07 | 12/31/08 | 12/31/09\\nunited parcel service inc . | $ 100.00 | $ 89.49 | $ 91.06 | $ 87.88 | $ 70.48 | $ 75.95\\ns&amp;p 500 index | $ 100.00 | $ 104.91 | $ 121.48 | $ 128.15 | $ 80.74 | $ 102.11\\ndow jones transportation average | $ 100.00 | $ 111.65 | $ 122.61 | $ 124.35 | $ 97.72 | $ 115.88</td>\n",
       "      <td>### Description of the Table\\n\\nThe table provides a five-year comparison of cumulative total shareowner returns for three entities: United Parcel Service Inc. (UPS), the S&amp;P 500 Index, and the Dow Jones Transportation Average. It illustrates the value of a hypothetical investment of $100 made on December 31, 2004, and how that investment would have changed over the subsequent years through to December 31, 2009.\\n\\nThe first row showcases the returns for United Parcel Service Inc., which starts at $100.00 in 2004 and experiences fluctuations in value over the following years, with a decline to $89.49 in 2005, followed by slight recoveries leading to $91.06 in 2006. However, it continues to decline in value, reaching $70.48 by 2008, and slightly recovering to $75.95 in 2009.\\n\\nThe second row outlines the performance of the S&amp;P 500 index, which initially matches the $100 investment in 2004 and rises in value to $104.91 in 2005, continuing to increase through 2006 and 2007, peaking a...</td>\n",
       "    </tr>\n",
       "  </tbody>\n",
       "</table>\n",
       "</div>"
      ],
      "text/plain": [
       "                               id  \\\n",
       "0  Single_JKHY/2009/page_28.pdf-3   \n",
       "1  Single_RSG/2008/page_114.pdf-2   \n",
       "2  Single_AAPL/2002/page_23.pdf-1   \n",
       "3   Single_UPS/2009/page_33.pdf-2   \n",
       "4     Double_UPS/2009/page_33.pdf   \n",
       "\n",
       "                                                                                                                                                                                                                                                                                                                                                                                                                                                                                                                                                                                                                                                                                                                                                                                                                                                                                                                                                                                                                                      text  \\\n",
       "0  26 | 2009 annual report in fiscal 2008 , revenues in the credit union systems and services business segment increased 14% ( 14 % ) from fiscal 2007 . all revenue components within the segment experienced growth during fiscal 2008 . license revenue generated the largest dollar growth in revenue as episys ae , our flagship core processing system aimed at larger credit unions , experienced strong sales throughout the year . support and service revenue , which is the largest component of total revenues for the credit union segment , experienced 34 percent growth in eft support and 10 percent growth in in-house support . gross profit in this business segment increased $ 9344 in fiscal 2008 compared to fiscal 2007 , due primarily to the increase in license revenue , which carries the highest margins . liquidity and capital resources we have historically generated positive cash flow from operations and have generally used funds generated from operations and short-term borrowings on our re...   \n",
       "1  substantially all of the goodwill and other intangible assets recorded related to the acquisition of allied are not deductible for tax purposes . pro forma information the consolidated financial statements presented for republic include the operating results of allied from the date of the acquisition . the following pro forma information is presented assuming the merger had been completed as of january 1 , 2007 . the unaudited pro forma information presented below has been prepared for illustrative purposes and is not intended to be indicative of the results of operations that would have actually occurred had the acquisition been consummated at the beginning of the periods presented or of future results of the combined operations ( in millions , except share and per share amounts ) . year ended december 31 , year ended december 31 , ( unaudited ) ( unaudited ) .\\n\\n | year ended december 31 2008 ( unaudited ) | year ended december 31 2007 ( unaudited )\\nrevenue | $ 9362.2 | $ 9244....   \n",
       "2  in a new business model such as the retail segment is inherently risky , particularly in light of the significant investment involved , the current economic climate , and the fixed nature of a substantial portion of the retail segment's operating expenses . results for this segment are dependent upon a number of risks and uncertainties , some of which are discussed below under the heading \"factors that may affect future results and financial condition.\" backlog in the company's experience , the actual amount of product backlog at any particular time is not a meaningful indication of its future business prospects . in particular , backlog often increases in anticipation of or immediately following new product introductions because of over- ordering by dealers anticipating shortages . backlog often is reduced once dealers and customers believe they can obtain sufficient supply . because of the foregoing , backlog cannot be considered a reliable indicator of the company's ability to a...   \n",
       "3  ( 1 ) includes shares repurchased through our publicly announced share repurchase program and shares tendered to pay the exercise price and tax withholding on employee stock options . shareowner return performance graph the following performance graph and related information shall not be deemed 201csoliciting material 201d or to be 201cfiled 201d with the securities and exchange commission , nor shall such information be incorporated by reference into any future filing under the securities act of 1933 or securities exchange act of 1934 , each as amended , except to the extent that the company specifically incorporates such information by reference into such filing . the following graph shows a five-year comparison of cumulative total shareowners 2019 returns for our class b common stock , the s&p 500 index , and the dow jones transportation average . the comparison of the total cumulative return on investment , which is the change in the quarterly stock price plus reinvested divide...   \n",
       "4  ( 1 ) includes shares repurchased through our publicly announced share repurchase program and shares tendered to pay the exercise price and tax withholding on employee stock options . shareowner return performance graph the following performance graph and related information shall not be deemed 201csoliciting material 201d or to be 201cfiled 201d with the securities and exchange commission , nor shall such information be incorporated by reference into any future filing under the securities act of 1933 or securities exchange act of 1934 , each as amended , except to the extent that the company specifically incorporates such information by reference into such filing . the following graph shows a five-year comparison of cumulative total shareowners 2019 returns for our class b common stock , the s&p 500 index , and the dow jones transportation average . the comparison of the total cumulative return on investment , which is the change in the quarterly stock price plus reinvested divide...   \n",
       "\n",
       "                                                                                                                                                                                                                                                                                                                                                                                                                                                                                                                                                                                         possible_questions  \\\n",
       "0                                                                                                                                                                                                                                                                                                                                                                                                                                                      [what is the net cash from operating activities in 2009?, what about in 2008?, what is the difference?, what percentage change does this represent?]   \n",
       "1                                                                                                                                                                                                                                                                                                                                                                                                                                                                                             [what were revenues in 2008?, what were they in 2007?, what was the net change?, what is the percent change?]   \n",
       "2                                                                                                                                                                                                                                                                                                                                                                    [what was the total of net sales in 2001?, and what was that in 2000?, what was, then, the change in the total of net sales over the year?, and how much does this change represent in relation to that total in 2000, in percentage?]   \n",
       "3                                             [what was the change in the performance of the united parcel service inc . from 2004 to 2009?, and how much does this change represent in relation to that performance in 2004, in percentage?, what was the performance value of the s&p 500 index in 2009?, what was, then, the change in that performance from 2004 to 2009?, and how much does this change represent in relation to that performance in 2004, in percentage?, what is, then, the difference between the percent representation of the united parcel service inc . and the s&p 500 index?]   \n",
       "4  [what was the fluctuation of the performance price of the ups from 2004 to 2006?, and how much does this fluctuation represent in relation to that price in 2004?, and from this year to 2009, what was the fluctuation for that stock?, what is this fluctuation as a percentage of the 2004 price?, and for the s&p 500 index price, what was the fluctuation in those five years?, and what percentage does this fluctuation represent in relation to the 2004 price of this stock?, what is, then, the difference between the ups percentage and this s&p 500 index one, for this five year period?]   \n",
       "\n",
       "                                                                                                                                                                                                                                                                                                                                                                                                                                                       table  \\\n",
       "0  2008 | year ended june 30 2009 2008 | year ended june 30 2009 2008 | year ended june 30 2009\\nnet income | $ 103102 | $ 104222 | $ 104681\\nnon-cash expenses | 74397 | 70420 | 56348\\nchange in receivables | 21214 | -2913 ( 2913 ) | -28853 ( 28853 )\\nchange in deferred revenue | 21943 | 5100 | 24576\\nchange in other assets and liabilities | -14068 ( 14068 ) | 4172 | 17495\\nnet cash from operating activities | $ 206588 | $ 181001 | $ 174247   \n",
       "1                                                                                                                                                                 | year ended december 31 2008 ( unaudited ) | year ended december 31 2007 ( unaudited )\\nrevenue | $ 9362.2 | $ 9244.9\\nincome from continuing operations available to common stockholders | 285.7 | 423.2\\nbasic earnings per share | .76 | 1.10\\ndiluted earnings per share | .75 | 1.09   \n",
       "2                                                                                                                                                                                                                                              | 2002 | 2001 | 2000\\nnet sales | $ 5742 | $ 5363 | $ 7983\\ncost of sales | 4139 | 4128 | 5817\\ngross margin | $ 1603 | $ 1235 | $ 2166\\ngross margin percentage | 28% ( 28 % ) | 23% ( 23 % ) | 27% ( 27 % )   \n",
       "3                                                                                                             | 12/31/04 | 12/31/05 | 12/31/06 | 12/31/07 | 12/31/08 | 12/31/09\\nunited parcel service inc . | $ 100.00 | $ 89.49 | $ 91.06 | $ 87.88 | $ 70.48 | $ 75.95\\ns&p 500 index | $ 100.00 | $ 104.91 | $ 121.48 | $ 128.15 | $ 80.74 | $ 102.11\\ndow jones transportation average | $ 100.00 | $ 111.65 | $ 122.61 | $ 124.35 | $ 97.72 | $ 115.88   \n",
       "4                                                                                                             | 12/31/04 | 12/31/05 | 12/31/06 | 12/31/07 | 12/31/08 | 12/31/09\\nunited parcel service inc . | $ 100.00 | $ 89.49 | $ 91.06 | $ 87.88 | $ 70.48 | $ 75.95\\ns&p 500 index | $ 100.00 | $ 104.91 | $ 121.48 | $ 128.15 | $ 80.74 | $ 102.11\\ndow jones transportation average | $ 100.00 | $ 111.65 | $ 122.61 | $ 124.35 | $ 97.72 | $ 115.88   \n",
       "\n",
       "                                                                                                                                                                                                                                                                                                                                                                                                                                                                                                                                                                                                                                                                                                                                                                                                                                                                                                                                                                                                                         table_description  \n",
       "0  ### Description of the Table\\n\\nThe table summarizes the net cash from operating activities for a company over the fiscal years ending June 30 from 2007 to 2009. It includes detailed line items that contribute to the calculation of net cash from operating activities, which are crucial for understanding the company's financial performance and cash flow situation.\\n\\n1. **Lines Item Breakdown:**\\n   - **Net Income:** This row shows the net income for each of the three fiscal years. It indicates a slight decrease in net income from 2007 to 2009.\\n   - **Non-Cash Expenses:** This represents various non-cash charges such as depreciation and amortization, which are added back to net income to determine cash flows.\\n   - **Change in Receivables:** This indicates the net change in accounts receivable, showing how much cash was collected as compared to how much was billed.\\n   - **Change in Deferred Revenue:** This row reflects changes in deferred revenue, which contributes to cash inflows ...  \n",
       "1  ### Description of the Table\\n\\nThe table presents the unaudited pro forma financial information for Republic Services, Inc. for the years ended December 31, 2008, and December 31, 2007. This information reflects the operating results of Allied, following the acquisition, and assumes that the merger was completed as of January 1, 2007. \\n\\nThe table contains four key financial metrics for both years:\\n\\n1. **Revenue**: This item indicates total revenue generated by the company, which shows a slight increase from $9,244.9 million in 2007 to $9,362.2 million in 2008.\\n\\n2. **Income from Continuing Operations Available to Common Stockholders**: This represents the net income attributable to shareholders from ongoing operations, which decreased from $423.2 million in 2007 to $285.7 million in 2008.\\n\\n3. **Basic Earnings per Share (EPS)**: This metric provides the earnings available to each common share, which declined from $1.10 in 2007 to $0.76 in 2008.\\n\\n4. **Diluted Earnings per S...  \n",
       "2  ### Comprehensive Description of the Table:\\nThe table presents financial data for a company over three consecutive fiscal years, specifically 2000, 2001, and 2002. The information includes four main financial metrics: net sales, cost of sales, gross margin, and gross margin percentage.\\n\\n1. **Net Sales**: This row shows the total revenue generated from sales of goods before any deductions like returns or allowances. In 2000, the net sales were $7,983 million, indicating a peak year. However, in 2001, net sales declined to $5,363 million, representing a significant decrease of 32% compared to 2000. The net sales recovered slightly to $5,742 million in 2002, but they still remained below the figures from 2000.\\n\\n2. **Cost of Sales**: This metric captures the expenses directly associated with the production of the goods sold. The cost of sales remained relatively stable over the three years, showing minor changes. In 2000, the cost was $5,817 million, slightly decreased to $4,128 m...  \n",
       "3  ### Description of the Table\\n\\nThe table presents a comparative analysis of cumulative total returns for three investment entities over a five-year period from December 31, 2004, to December 31, 2009. The entities compared are United Parcel Service Inc. (UPS), the S&P 500 Index, and the Dow Jones Transportation Average. Each column in the table represents the total investment value at the end of each year for the respective date, where an initial investment of $100 is assumed at the start of the period (December 31, 2004).\\n\\n- **Row 1**: United Parcel Service Inc. shows a decreasing trend in total returns from $100.00 in 2004 to $75.95 in 2009, indicating a decline in value over the period.\\n  \\n- **Row 2**: The S&P 500 Index displays a generally upward trend, increasing from $100.00 in 2004 to $102.11 in 2009. It shows a dip in 2008, but it still manages to end higher than the starting value.\\n  \\n- **Row 3**: The Dow Jones Transportation Average also starts at $100.00 in 2004, ...  \n",
       "4  ### Description of the Table\\n\\nThe table provides a five-year comparison of cumulative total shareowner returns for three entities: United Parcel Service Inc. (UPS), the S&P 500 Index, and the Dow Jones Transportation Average. It illustrates the value of a hypothetical investment of $100 made on December 31, 2004, and how that investment would have changed over the subsequent years through to December 31, 2009.\\n\\nThe first row showcases the returns for United Parcel Service Inc., which starts at $100.00 in 2004 and experiences fluctuations in value over the following years, with a decline to $89.49 in 2005, followed by slight recoveries leading to $91.06 in 2006. However, it continues to decline in value, reaching $70.48 by 2008, and slightly recovering to $75.95 in 2009.\\n\\nThe second row outlines the performance of the S&P 500 index, which initially matches the $100 investment in 2004 and rises in value to $104.91 in 2005, continuing to increase through 2006 and 2007, peaking a...  "
      ]
     },
     "execution_count": 14,
     "metadata": {},
     "output_type": "execute_result"
    }
   ],
   "source": [
    "df"
   ]
  },
  {
   "cell_type": "markdown",
   "metadata": {},
   "source": [
    "### 5. Append contextualised table field to text field\n",
    "---"
   ]
  },
  {
   "cell_type": "code",
   "execution_count": 15,
   "metadata": {},
   "outputs": [],
   "source": [
    "df[\"expanded_text\"] = df[\"text\"] + \"\\n\\n\" + df[\"table_description\"]"
   ]
  },
  {
   "cell_type": "markdown",
   "metadata": {},
   "source": [
    "### 6. Run embedding model\n",
    "---"
   ]
  },
  {
   "cell_type": "code",
   "execution_count": null,
   "metadata": {},
   "outputs": [
    {
     "name": "stderr",
     "output_type": "stream",
     "text": [
      "/var/folders/4f/c9ycdnn56lx6fjnv2my0qwk80000gn/T/ipykernel_4263/1236624881.py:1: LangChainDeprecationWarning: The class `OpenAIEmbeddings` was deprecated in LangChain 0.0.9 and will be removed in 1.0. An updated version of the class exists in the :class:`~langchain-openai package and should be used instead. To use it run `pip install -U :class:`~langchain-openai` and import as `from :class:`~langchain_openai import OpenAIEmbeddings``.\n",
      "  embedding_model = OpenAIEmbeddings(model=\"text-embedding-3-small\")\n"
     ]
    },
    {
     "data": {
      "text/html": [
       "<div>\n",
       "<style scoped>\n",
       "    .dataframe tbody tr th:only-of-type {\n",
       "        vertical-align: middle;\n",
       "    }\n",
       "\n",
       "    .dataframe tbody tr th {\n",
       "        vertical-align: top;\n",
       "    }\n",
       "\n",
       "    .dataframe thead th {\n",
       "        text-align: right;\n",
       "    }\n",
       "</style>\n",
       "<table border=\"1\" class=\"dataframe\">\n",
       "  <thead>\n",
       "    <tr style=\"text-align: right;\">\n",
       "      <th></th>\n",
       "      <th>id</th>\n",
       "      <th>text</th>\n",
       "      <th>possible_questions</th>\n",
       "      <th>table</th>\n",
       "      <th>table_description</th>\n",
       "      <th>expanded_text</th>\n",
       "      <th>embedding</th>\n",
       "    </tr>\n",
       "  </thead>\n",
       "  <tbody>\n",
       "    <tr>\n",
       "      <th>0</th>\n",
       "      <td>Single_JKHY/2009/page_28.pdf-3</td>\n",
       "      <td>26 | 2009 annual report in fiscal 2008 , revenues in the credit union systems and services business segment increased 14% ( 14 % ) from fiscal 2007 . all revenue components within the segment experienced growth during fiscal 2008 . license revenue generated the largest dollar growth in revenue as episys ae , our flagship core processing system aimed at larger credit unions , experienced strong sales throughout the year . support and service revenue , which is the largest component of total revenues for the credit union segment , experienced 34 percent growth in eft support and 10 percent growth in in-house support . gross profit in this business segment increased $ 9344 in fiscal 2008 compared to fiscal 2007 , due primarily to the increase in license revenue , which carries the highest margins . liquidity and capital resources we have historically generated positive cash flow from operations and have generally used funds generated from operations and short-term borrowings on our re...</td>\n",
       "      <td>[what is the net cash from operating activities in 2009?, what about in 2008?, what is the difference?, what percentage change does this represent?]</td>\n",
       "      <td>2008 | year ended june 30 2009 2008 | year ended june 30 2009 2008 | year ended june 30 2009\\nnet income | $ 103102 | $ 104222 | $ 104681\\nnon-cash expenses | 74397 | 70420 | 56348\\nchange in receivables | 21214 | -2913 ( 2913 ) | -28853 ( 28853 )\\nchange in deferred revenue | 21943 | 5100 | 24576\\nchange in other assets and liabilities | -14068 ( 14068 ) | 4172 | 17495\\nnet cash from operating activities | $ 206588 | $ 181001 | $ 174247</td>\n",
       "      <td>### Description of the Table\\n\\nThe table summarizes the net cash from operating activities for a company over the fiscal years ending June 30 from 2007 to 2009. It includes detailed line items that contribute to the calculation of net cash from operating activities, which are crucial for understanding the company's financial performance and cash flow situation.\\n\\n1. **Lines Item Breakdown:**\\n   - **Net Income:** This row shows the net income for each of the three fiscal years. It indicates a slight decrease in net income from 2007 to 2009.\\n   - **Non-Cash Expenses:** This represents various non-cash charges such as depreciation and amortization, which are added back to net income to determine cash flows.\\n   - **Change in Receivables:** This indicates the net change in accounts receivable, showing how much cash was collected as compared to how much was billed.\\n   - **Change in Deferred Revenue:** This row reflects changes in deferred revenue, which contributes to cash inflows ...</td>\n",
       "      <td>26 | 2009 annual report in fiscal 2008 , revenues in the credit union systems and services business segment increased 14% ( 14 % ) from fiscal 2007 . all revenue components within the segment experienced growth during fiscal 2008 . license revenue generated the largest dollar growth in revenue as episys ae , our flagship core processing system aimed at larger credit unions , experienced strong sales throughout the year . support and service revenue , which is the largest component of total revenues for the credit union segment , experienced 34 percent growth in eft support and 10 percent growth in in-house support . gross profit in this business segment increased $ 9344 in fiscal 2008 compared to fiscal 2007 , due primarily to the increase in license revenue , which carries the highest margins . liquidity and capital resources we have historically generated positive cash flow from operations and have generally used funds generated from operations and short-term borrowings on our re...</td>\n",
       "      <td>[-0.04168519960464352, 0.025579553964186694, 0.05294714289388926, 0.021242906443692415, 0.052226589821835034, -0.01531837634704506, -0.02178999137975278, 0.01758677816461867, 0.010514704101177505, 0.01606561367246821, 0.00743234827116193, -0.0066917820090810105, -0.023177717841252915, -0.03133061778748526, 0.03952354783906115, 0.03955023209243008, -0.008653281850961859, -0.002760443496141524, -0.03346558157440856, -0.013837244754205759, 0.03805575744158378, 0.011875745377986179, 0.01631914201914916, 0.014210863416917335, 0.01435764264292958, 0.025192591312145577, -0.056416460910284676, -0.015651964904413094, 0.00482702329587171, -0.025632928058859774, 0.02674044192031004, -0.020509011244953728, 0.039203303271022664, 0.024138451545368398, -4.0239092665957724e-05, -0.00507387871656535, -0.026526945541617712, 0.009073602613681748, 0.041605139393956436, -0.037121711716127374, 0.018454107668717523, -0.005917857170660049, -0.007218851892469601, -0.020082018487569072, -0.06186062229222922...</td>\n",
       "    </tr>\n",
       "    <tr>\n",
       "      <th>1</th>\n",
       "      <td>Single_RSG/2008/page_114.pdf-2</td>\n",
       "      <td>substantially all of the goodwill and other intangible assets recorded related to the acquisition of allied are not deductible for tax purposes . pro forma information the consolidated financial statements presented for republic include the operating results of allied from the date of the acquisition . the following pro forma information is presented assuming the merger had been completed as of january 1 , 2007 . the unaudited pro forma information presented below has been prepared for illustrative purposes and is not intended to be indicative of the results of operations that would have actually occurred had the acquisition been consummated at the beginning of the periods presented or of future results of the combined operations ( in millions , except share and per share amounts ) . year ended december 31 , year ended december 31 , ( unaudited ) ( unaudited ) .\\n\\n | year ended december 31 2008 ( unaudited ) | year ended december 31 2007 ( unaudited )\\nrevenue | $ 9362.2 | $ 9244....</td>\n",
       "      <td>[what were revenues in 2008?, what were they in 2007?, what was the net change?, what is the percent change?]</td>\n",
       "      <td>| year ended december 31 2008 ( unaudited ) | year ended december 31 2007 ( unaudited )\\nrevenue | $ 9362.2 | $ 9244.9\\nincome from continuing operations available to common stockholders | 285.7 | 423.2\\nbasic earnings per share | .76 | 1.10\\ndiluted earnings per share | .75 | 1.09</td>\n",
       "      <td>### Description of the Table\\n\\nThe table presents the unaudited pro forma financial information for Republic Services, Inc. for the years ended December 31, 2008, and December 31, 2007. This information reflects the operating results of Allied, following the acquisition, and assumes that the merger was completed as of January 1, 2007. \\n\\nThe table contains four key financial metrics for both years:\\n\\n1. **Revenue**: This item indicates total revenue generated by the company, which shows a slight increase from $9,244.9 million in 2007 to $9,362.2 million in 2008.\\n\\n2. **Income from Continuing Operations Available to Common Stockholders**: This represents the net income attributable to shareholders from ongoing operations, which decreased from $423.2 million in 2007 to $285.7 million in 2008.\\n\\n3. **Basic Earnings per Share (EPS)**: This metric provides the earnings available to each common share, which declined from $1.10 in 2007 to $0.76 in 2008.\\n\\n4. **Diluted Earnings per S...</td>\n",
       "      <td>substantially all of the goodwill and other intangible assets recorded related to the acquisition of allied are not deductible for tax purposes . pro forma information the consolidated financial statements presented for republic include the operating results of allied from the date of the acquisition . the following pro forma information is presented assuming the merger had been completed as of january 1 , 2007 . the unaudited pro forma information presented below has been prepared for illustrative purposes and is not intended to be indicative of the results of operations that would have actually occurred had the acquisition been consummated at the beginning of the periods presented or of future results of the combined operations ( in millions , except share and per share amounts ) . year ended december 31 , year ended december 31 , ( unaudited ) ( unaudited ) .\\n\\n | year ended december 31 2008 ( unaudited ) | year ended december 31 2007 ( unaudited )\\nrevenue | $ 9362.2 | $ 9244....</td>\n",
       "      <td>[-0.023219507650746818, 0.0016361440392597423, 0.07101111255665597, 0.01671015504550496, 0.01776686904999899, 0.020232532576958142, 0.002194440734571393, 0.02452983197323811, -0.01286372009246029, 0.025783798240324993, 0.00010847820010808295, -0.029447069978966615, 0.02250094384132445, -0.0034801082914079316, 0.04486098975017008, -0.0031349154348865537, 0.008566420696180322, -0.026615078160556187, -0.05906321226150128, -0.0068334109581559355, 0.046946239662778534, 0.01804865932702105, 0.0009519223430076888, 0.0040401663505739566, -0.022261420708871806, 0.021979630431849743, -0.05193392290945607, -0.04418469308531714, -0.020443875750385986, -0.013293450032088287, 0.027390001888028155, -0.028615788196090234, 0.0373935520656984, 0.0005952816691707963, -0.026502363912392548, -0.005501952597718636, -0.0120113047372992, -0.00015586517421825062, 0.02102154535261992, -0.012715780429854355, -0.010327608530584322, -0.02305043348453358, -0.03232133080459165, -0.00828463041915826, -0.062388339...</td>\n",
       "    </tr>\n",
       "    <tr>\n",
       "      <th>2</th>\n",
       "      <td>Single_AAPL/2002/page_23.pdf-1</td>\n",
       "      <td>in a new business model such as the retail segment is inherently risky , particularly in light of the significant investment involved , the current economic climate , and the fixed nature of a substantial portion of the retail segment's operating expenses . results for this segment are dependent upon a number of risks and uncertainties , some of which are discussed below under the heading \"factors that may affect future results and financial condition.\" backlog in the company's experience , the actual amount of product backlog at any particular time is not a meaningful indication of its future business prospects . in particular , backlog often increases in anticipation of or immediately following new product introductions because of over- ordering by dealers anticipating shortages . backlog often is reduced once dealers and customers believe they can obtain sufficient supply . because of the foregoing , backlog cannot be considered a reliable indicator of the company's ability to a...</td>\n",
       "      <td>[what was the total of net sales in 2001?, and what was that in 2000?, what was, then, the change in the total of net sales over the year?, and how much does this change represent in relation to that total in 2000, in percentage?]</td>\n",
       "      <td>| 2002 | 2001 | 2000\\nnet sales | $ 5742 | $ 5363 | $ 7983\\ncost of sales | 4139 | 4128 | 5817\\ngross margin | $ 1603 | $ 1235 | $ 2166\\ngross margin percentage | 28% ( 28 % ) | 23% ( 23 % ) | 27% ( 27 % )</td>\n",
       "      <td>### Comprehensive Description of the Table:\\nThe table presents financial data for a company over three consecutive fiscal years, specifically 2000, 2001, and 2002. The information includes four main financial metrics: net sales, cost of sales, gross margin, and gross margin percentage.\\n\\n1. **Net Sales**: This row shows the total revenue generated from sales of goods before any deductions like returns or allowances. In 2000, the net sales were $7,983 million, indicating a peak year. However, in 2001, net sales declined to $5,363 million, representing a significant decrease of 32% compared to 2000. The net sales recovered slightly to $5,742 million in 2002, but they still remained below the figures from 2000.\\n\\n2. **Cost of Sales**: This metric captures the expenses directly associated with the production of the goods sold. The cost of sales remained relatively stable over the three years, showing minor changes. In 2000, the cost was $5,817 million, slightly decreased to $4,128 m...</td>\n",
       "      <td>in a new business model such as the retail segment is inherently risky , particularly in light of the significant investment involved , the current economic climate , and the fixed nature of a substantial portion of the retail segment's operating expenses . results for this segment are dependent upon a number of risks and uncertainties , some of which are discussed below under the heading \"factors that may affect future results and financial condition.\" backlog in the company's experience , the actual amount of product backlog at any particular time is not a meaningful indication of its future business prospects . in particular , backlog often increases in anticipation of or immediately following new product introductions because of over- ordering by dealers anticipating shortages . backlog often is reduced once dealers and customers believe they can obtain sufficient supply . because of the foregoing , backlog cannot be considered a reliable indicator of the company's ability to a...</td>\n",
       "      <td>[-0.03333227424071934, 0.01174629417407653, 0.05807815644901063, -0.01207961639494307, 0.03650550640272888, 0.024225896861530406, -0.01332624384791687, 0.02751912621514482, 0.007006444221232913, 0.04474524526260674, 0.04591854409941704, -0.004976508804164668, -0.038798769093743676, -0.0041098693535309904, 0.014586203183896926, 0.027052473988344546, 0.019226056097951544, -0.01199295217048292, -0.04826513432245686, -0.019012729206044687, 0.06570457839918044, 0.027652456221078554, -0.022625947966196786, 0.001459953646388708, -0.026972477102371425, 0.049545095673898, -0.0024449222898522602, -0.04666518542712324, 0.016492810534084575, -0.025612520727602367, 0.006939779683927345, -0.023532586791139624, 0.02253261826589481, 0.010979651762231854, -0.006009809365231614, -0.009033046900380244, -0.008073076818121992, -0.0019099393896166135, 0.048291799951114565, -0.02805244251358936, -0.011139646465500697, -0.009133043007846646, -0.00379321291774487, 0.01925272172660925, -0.011766293395569812...</td>\n",
       "    </tr>\n",
       "    <tr>\n",
       "      <th>3</th>\n",
       "      <td>Single_UPS/2009/page_33.pdf-2</td>\n",
       "      <td>( 1 ) includes shares repurchased through our publicly announced share repurchase program and shares tendered to pay the exercise price and tax withholding on employee stock options . shareowner return performance graph the following performance graph and related information shall not be deemed 201csoliciting material 201d or to be 201cfiled 201d with the securities and exchange commission , nor shall such information be incorporated by reference into any future filing under the securities act of 1933 or securities exchange act of 1934 , each as amended , except to the extent that the company specifically incorporates such information by reference into such filing . the following graph shows a five-year comparison of cumulative total shareowners 2019 returns for our class b common stock , the s&amp;p 500 index , and the dow jones transportation average . the comparison of the total cumulative return on investment , which is the change in the quarterly stock price plus reinvested divide...</td>\n",
       "      <td>[what was the change in the performance of the united parcel service inc . from 2004 to 2009?, and how much does this change represent in relation to that performance in 2004, in percentage?, what was the performance value of the s&amp;p 500 index in 2009?, what was, then, the change in that performance from 2004 to 2009?, and how much does this change represent in relation to that performance in 2004, in percentage?, what is, then, the difference between the percent representation of the united parcel service inc . and the s&amp;p 500 index?]</td>\n",
       "      <td>| 12/31/04 | 12/31/05 | 12/31/06 | 12/31/07 | 12/31/08 | 12/31/09\\nunited parcel service inc . | $ 100.00 | $ 89.49 | $ 91.06 | $ 87.88 | $ 70.48 | $ 75.95\\ns&amp;p 500 index | $ 100.00 | $ 104.91 | $ 121.48 | $ 128.15 | $ 80.74 | $ 102.11\\ndow jones transportation average | $ 100.00 | $ 111.65 | $ 122.61 | $ 124.35 | $ 97.72 | $ 115.88</td>\n",
       "      <td>### Description of the Table\\n\\nThe table presents a comparative analysis of cumulative total returns for three investment entities over a five-year period from December 31, 2004, to December 31, 2009. The entities compared are United Parcel Service Inc. (UPS), the S&amp;P 500 Index, and the Dow Jones Transportation Average. Each column in the table represents the total investment value at the end of each year for the respective date, where an initial investment of $100 is assumed at the start of the period (December 31, 2004).\\n\\n- **Row 1**: United Parcel Service Inc. shows a decreasing trend in total returns from $100.00 in 2004 to $75.95 in 2009, indicating a decline in value over the period.\\n  \\n- **Row 2**: The S&amp;P 500 Index displays a generally upward trend, increasing from $100.00 in 2004 to $102.11 in 2009. It shows a dip in 2008, but it still manages to end higher than the starting value.\\n  \\n- **Row 3**: The Dow Jones Transportation Average also starts at $100.00 in 2004, ...</td>\n",
       "      <td>( 1 ) includes shares repurchased through our publicly announced share repurchase program and shares tendered to pay the exercise price and tax withholding on employee stock options . shareowner return performance graph the following performance graph and related information shall not be deemed 201csoliciting material 201d or to be 201cfiled 201d with the securities and exchange commission , nor shall such information be incorporated by reference into any future filing under the securities act of 1933 or securities exchange act of 1934 , each as amended , except to the extent that the company specifically incorporates such information by reference into such filing . the following graph shows a five-year comparison of cumulative total shareowners 2019 returns for our class b common stock , the s&amp;p 500 index , and the dow jones transportation average . the comparison of the total cumulative return on investment , which is the change in the quarterly stock price plus reinvested divide...</td>\n",
       "      <td>[-0.024903152828901633, -0.015268795615855328, 0.04672331120061683, 0.02142149641936492, 0.02822534632014343, 0.016544517588666624, 0.022192244102338925, 0.03085652265623608, 0.060915717682481205, 0.03144122747389823, 0.03867031741139877, -0.001210939056308401, -0.01686344901319205, -0.04512865966592531, 0.03787299350669821, 0.017899971951947976, 0.005747392933082472, -0.01586679040702595, -0.05076309806873434, 0.007787218999097439, 0.017926550036319728, 0.009401804097067772, 0.008996497157963254, 0.02663069292280671, -0.015189063225385272, 0.01742157574648244, -0.008458301659645177, -0.01280372904745703, -0.00970744554808472, 0.004936777657889535, 0.014444891764137817, -0.020637458762882435, 0.06336084929061679, 0.004059719034412419, 0.00209464231729378, 0.025554303788815756, -0.042524063276849614, 0.028517699660297106, 0.03072363409702252, -0.04619176068905299, 0.01706277998936719, -0.0007736555631709373, 0.008504811910311843, -0.05847058607434562, -0.051321228527315126, -0.02174...</td>\n",
       "    </tr>\n",
       "    <tr>\n",
       "      <th>4</th>\n",
       "      <td>Double_UPS/2009/page_33.pdf</td>\n",
       "      <td>( 1 ) includes shares repurchased through our publicly announced share repurchase program and shares tendered to pay the exercise price and tax withholding on employee stock options . shareowner return performance graph the following performance graph and related information shall not be deemed 201csoliciting material 201d or to be 201cfiled 201d with the securities and exchange commission , nor shall such information be incorporated by reference into any future filing under the securities act of 1933 or securities exchange act of 1934 , each as amended , except to the extent that the company specifically incorporates such information by reference into such filing . the following graph shows a five-year comparison of cumulative total shareowners 2019 returns for our class b common stock , the s&amp;p 500 index , and the dow jones transportation average . the comparison of the total cumulative return on investment , which is the change in the quarterly stock price plus reinvested divide...</td>\n",
       "      <td>[what was the fluctuation of the performance price of the ups from 2004 to 2006?, and how much does this fluctuation represent in relation to that price in 2004?, and from this year to 2009, what was the fluctuation for that stock?, what is this fluctuation as a percentage of the 2004 price?, and for the s&amp;p 500 index price, what was the fluctuation in those five years?, and what percentage does this fluctuation represent in relation to the 2004 price of this stock?, what is, then, the difference between the ups percentage and this s&amp;p 500 index one, for this five year period?]</td>\n",
       "      <td>| 12/31/04 | 12/31/05 | 12/31/06 | 12/31/07 | 12/31/08 | 12/31/09\\nunited parcel service inc . | $ 100.00 | $ 89.49 | $ 91.06 | $ 87.88 | $ 70.48 | $ 75.95\\ns&amp;p 500 index | $ 100.00 | $ 104.91 | $ 121.48 | $ 128.15 | $ 80.74 | $ 102.11\\ndow jones transportation average | $ 100.00 | $ 111.65 | $ 122.61 | $ 124.35 | $ 97.72 | $ 115.88</td>\n",
       "      <td>### Description of the Table\\n\\nThe table provides a five-year comparison of cumulative total shareowner returns for three entities: United Parcel Service Inc. (UPS), the S&amp;P 500 Index, and the Dow Jones Transportation Average. It illustrates the value of a hypothetical investment of $100 made on December 31, 2004, and how that investment would have changed over the subsequent years through to December 31, 2009.\\n\\nThe first row showcases the returns for United Parcel Service Inc., which starts at $100.00 in 2004 and experiences fluctuations in value over the following years, with a decline to $89.49 in 2005, followed by slight recoveries leading to $91.06 in 2006. However, it continues to decline in value, reaching $70.48 by 2008, and slightly recovering to $75.95 in 2009.\\n\\nThe second row outlines the performance of the S&amp;P 500 index, which initially matches the $100 investment in 2004 and rises in value to $104.91 in 2005, continuing to increase through 2006 and 2007, peaking a...</td>\n",
       "      <td>( 1 ) includes shares repurchased through our publicly announced share repurchase program and shares tendered to pay the exercise price and tax withholding on employee stock options . shareowner return performance graph the following performance graph and related information shall not be deemed 201csoliciting material 201d or to be 201cfiled 201d with the securities and exchange commission , nor shall such information be incorporated by reference into any future filing under the securities act of 1933 or securities exchange act of 1934 , each as amended , except to the extent that the company specifically incorporates such information by reference into such filing . the following graph shows a five-year comparison of cumulative total shareowners 2019 returns for our class b common stock , the s&amp;p 500 index , and the dow jones transportation average . the comparison of the total cumulative return on investment , which is the change in the quarterly stock price plus reinvested divide...</td>\n",
       "      <td>[-0.054680626418250805, -0.005597664000194266, 0.05531484591080831, 0.026830181272808798, 0.030028845883592625, 0.003867351420239812, 0.014766250623282217, 0.038632154167177996, 0.03973514183554172, 0.03146273246016865, 0.05299857217977352, 0.00010803680841954748, -0.0141733948912351, -0.051674983997504836, 0.04056237979284681, 0.02851223737393122, -0.009175481204054729, 0.007072910146329132, -0.04930356106931637, 0.022114908152363565, 0.025727193604445073, 0.003550242372452984, 0.01910926573161759, 0.0354334858311039, -0.007321082464843227, 9.850414714112682e-05, -0.01324964304494338, 0.0006798886408818612, -0.0009814869769692181, 0.0028350236607292308, 0.020074380407097133, -0.021411754026009103, 0.04858661778102835, -0.009306460547294702, 0.012574062585843187, 0.01466973952826329, -0.03399960297981814, 0.031104258953379513, 0.027671210254692574, -0.04935871026647004, 0.01241550771270381, -0.01826823861237895, 0.01782704317250443, -0.038108233068927834, -0.04861419237960519, -0.0...</td>\n",
       "    </tr>\n",
       "  </tbody>\n",
       "</table>\n",
       "</div>"
      ],
      "text/plain": [
       "                               id  \\\n",
       "0  Single_JKHY/2009/page_28.pdf-3   \n",
       "1  Single_RSG/2008/page_114.pdf-2   \n",
       "2  Single_AAPL/2002/page_23.pdf-1   \n",
       "3   Single_UPS/2009/page_33.pdf-2   \n",
       "4     Double_UPS/2009/page_33.pdf   \n",
       "\n",
       "                                                                                                                                                                                                                                                                                                                                                                                                                                                                                                                                                                                                                                                                                                                                                                                                                                                                                                                                                                                                                                      text  \\\n",
       "0  26 | 2009 annual report in fiscal 2008 , revenues in the credit union systems and services business segment increased 14% ( 14 % ) from fiscal 2007 . all revenue components within the segment experienced growth during fiscal 2008 . license revenue generated the largest dollar growth in revenue as episys ae , our flagship core processing system aimed at larger credit unions , experienced strong sales throughout the year . support and service revenue , which is the largest component of total revenues for the credit union segment , experienced 34 percent growth in eft support and 10 percent growth in in-house support . gross profit in this business segment increased $ 9344 in fiscal 2008 compared to fiscal 2007 , due primarily to the increase in license revenue , which carries the highest margins . liquidity and capital resources we have historically generated positive cash flow from operations and have generally used funds generated from operations and short-term borrowings on our re...   \n",
       "1  substantially all of the goodwill and other intangible assets recorded related to the acquisition of allied are not deductible for tax purposes . pro forma information the consolidated financial statements presented for republic include the operating results of allied from the date of the acquisition . the following pro forma information is presented assuming the merger had been completed as of january 1 , 2007 . the unaudited pro forma information presented below has been prepared for illustrative purposes and is not intended to be indicative of the results of operations that would have actually occurred had the acquisition been consummated at the beginning of the periods presented or of future results of the combined operations ( in millions , except share and per share amounts ) . year ended december 31 , year ended december 31 , ( unaudited ) ( unaudited ) .\\n\\n | year ended december 31 2008 ( unaudited ) | year ended december 31 2007 ( unaudited )\\nrevenue | $ 9362.2 | $ 9244....   \n",
       "2  in a new business model such as the retail segment is inherently risky , particularly in light of the significant investment involved , the current economic climate , and the fixed nature of a substantial portion of the retail segment's operating expenses . results for this segment are dependent upon a number of risks and uncertainties , some of which are discussed below under the heading \"factors that may affect future results and financial condition.\" backlog in the company's experience , the actual amount of product backlog at any particular time is not a meaningful indication of its future business prospects . in particular , backlog often increases in anticipation of or immediately following new product introductions because of over- ordering by dealers anticipating shortages . backlog often is reduced once dealers and customers believe they can obtain sufficient supply . because of the foregoing , backlog cannot be considered a reliable indicator of the company's ability to a...   \n",
       "3  ( 1 ) includes shares repurchased through our publicly announced share repurchase program and shares tendered to pay the exercise price and tax withholding on employee stock options . shareowner return performance graph the following performance graph and related information shall not be deemed 201csoliciting material 201d or to be 201cfiled 201d with the securities and exchange commission , nor shall such information be incorporated by reference into any future filing under the securities act of 1933 or securities exchange act of 1934 , each as amended , except to the extent that the company specifically incorporates such information by reference into such filing . the following graph shows a five-year comparison of cumulative total shareowners 2019 returns for our class b common stock , the s&p 500 index , and the dow jones transportation average . the comparison of the total cumulative return on investment , which is the change in the quarterly stock price plus reinvested divide...   \n",
       "4  ( 1 ) includes shares repurchased through our publicly announced share repurchase program and shares tendered to pay the exercise price and tax withholding on employee stock options . shareowner return performance graph the following performance graph and related information shall not be deemed 201csoliciting material 201d or to be 201cfiled 201d with the securities and exchange commission , nor shall such information be incorporated by reference into any future filing under the securities act of 1933 or securities exchange act of 1934 , each as amended , except to the extent that the company specifically incorporates such information by reference into such filing . the following graph shows a five-year comparison of cumulative total shareowners 2019 returns for our class b common stock , the s&p 500 index , and the dow jones transportation average . the comparison of the total cumulative return on investment , which is the change in the quarterly stock price plus reinvested divide...   \n",
       "\n",
       "                                                                                                                                                                                                                                                                                                                                                                                                                                                                                                                                                                                         possible_questions  \\\n",
       "0                                                                                                                                                                                                                                                                                                                                                                                                                                                      [what is the net cash from operating activities in 2009?, what about in 2008?, what is the difference?, what percentage change does this represent?]   \n",
       "1                                                                                                                                                                                                                                                                                                                                                                                                                                                                                             [what were revenues in 2008?, what were they in 2007?, what was the net change?, what is the percent change?]   \n",
       "2                                                                                                                                                                                                                                                                                                                                                                    [what was the total of net sales in 2001?, and what was that in 2000?, what was, then, the change in the total of net sales over the year?, and how much does this change represent in relation to that total in 2000, in percentage?]   \n",
       "3                                             [what was the change in the performance of the united parcel service inc . from 2004 to 2009?, and how much does this change represent in relation to that performance in 2004, in percentage?, what was the performance value of the s&p 500 index in 2009?, what was, then, the change in that performance from 2004 to 2009?, and how much does this change represent in relation to that performance in 2004, in percentage?, what is, then, the difference between the percent representation of the united parcel service inc . and the s&p 500 index?]   \n",
       "4  [what was the fluctuation of the performance price of the ups from 2004 to 2006?, and how much does this fluctuation represent in relation to that price in 2004?, and from this year to 2009, what was the fluctuation for that stock?, what is this fluctuation as a percentage of the 2004 price?, and for the s&p 500 index price, what was the fluctuation in those five years?, and what percentage does this fluctuation represent in relation to the 2004 price of this stock?, what is, then, the difference between the ups percentage and this s&p 500 index one, for this five year period?]   \n",
       "\n",
       "                                                                                                                                                                                                                                                                                                                                                                                                                                                       table  \\\n",
       "0  2008 | year ended june 30 2009 2008 | year ended june 30 2009 2008 | year ended june 30 2009\\nnet income | $ 103102 | $ 104222 | $ 104681\\nnon-cash expenses | 74397 | 70420 | 56348\\nchange in receivables | 21214 | -2913 ( 2913 ) | -28853 ( 28853 )\\nchange in deferred revenue | 21943 | 5100 | 24576\\nchange in other assets and liabilities | -14068 ( 14068 ) | 4172 | 17495\\nnet cash from operating activities | $ 206588 | $ 181001 | $ 174247   \n",
       "1                                                                                                                                                                 | year ended december 31 2008 ( unaudited ) | year ended december 31 2007 ( unaudited )\\nrevenue | $ 9362.2 | $ 9244.9\\nincome from continuing operations available to common stockholders | 285.7 | 423.2\\nbasic earnings per share | .76 | 1.10\\ndiluted earnings per share | .75 | 1.09   \n",
       "2                                                                                                                                                                                                                                              | 2002 | 2001 | 2000\\nnet sales | $ 5742 | $ 5363 | $ 7983\\ncost of sales | 4139 | 4128 | 5817\\ngross margin | $ 1603 | $ 1235 | $ 2166\\ngross margin percentage | 28% ( 28 % ) | 23% ( 23 % ) | 27% ( 27 % )   \n",
       "3                                                                                                             | 12/31/04 | 12/31/05 | 12/31/06 | 12/31/07 | 12/31/08 | 12/31/09\\nunited parcel service inc . | $ 100.00 | $ 89.49 | $ 91.06 | $ 87.88 | $ 70.48 | $ 75.95\\ns&p 500 index | $ 100.00 | $ 104.91 | $ 121.48 | $ 128.15 | $ 80.74 | $ 102.11\\ndow jones transportation average | $ 100.00 | $ 111.65 | $ 122.61 | $ 124.35 | $ 97.72 | $ 115.88   \n",
       "4                                                                                                             | 12/31/04 | 12/31/05 | 12/31/06 | 12/31/07 | 12/31/08 | 12/31/09\\nunited parcel service inc . | $ 100.00 | $ 89.49 | $ 91.06 | $ 87.88 | $ 70.48 | $ 75.95\\ns&p 500 index | $ 100.00 | $ 104.91 | $ 121.48 | $ 128.15 | $ 80.74 | $ 102.11\\ndow jones transportation average | $ 100.00 | $ 111.65 | $ 122.61 | $ 124.35 | $ 97.72 | $ 115.88   \n",
       "\n",
       "                                                                                                                                                                                                                                                                                                                                                                                                                                                                                                                                                                                                                                                                                                                                                                                                                                                                                                                                                                                                                         table_description  \\\n",
       "0  ### Description of the Table\\n\\nThe table summarizes the net cash from operating activities for a company over the fiscal years ending June 30 from 2007 to 2009. It includes detailed line items that contribute to the calculation of net cash from operating activities, which are crucial for understanding the company's financial performance and cash flow situation.\\n\\n1. **Lines Item Breakdown:**\\n   - **Net Income:** This row shows the net income for each of the three fiscal years. It indicates a slight decrease in net income from 2007 to 2009.\\n   - **Non-Cash Expenses:** This represents various non-cash charges such as depreciation and amortization, which are added back to net income to determine cash flows.\\n   - **Change in Receivables:** This indicates the net change in accounts receivable, showing how much cash was collected as compared to how much was billed.\\n   - **Change in Deferred Revenue:** This row reflects changes in deferred revenue, which contributes to cash inflows ...   \n",
       "1  ### Description of the Table\\n\\nThe table presents the unaudited pro forma financial information for Republic Services, Inc. for the years ended December 31, 2008, and December 31, 2007. This information reflects the operating results of Allied, following the acquisition, and assumes that the merger was completed as of January 1, 2007. \\n\\nThe table contains four key financial metrics for both years:\\n\\n1. **Revenue**: This item indicates total revenue generated by the company, which shows a slight increase from $9,244.9 million in 2007 to $9,362.2 million in 2008.\\n\\n2. **Income from Continuing Operations Available to Common Stockholders**: This represents the net income attributable to shareholders from ongoing operations, which decreased from $423.2 million in 2007 to $285.7 million in 2008.\\n\\n3. **Basic Earnings per Share (EPS)**: This metric provides the earnings available to each common share, which declined from $1.10 in 2007 to $0.76 in 2008.\\n\\n4. **Diluted Earnings per S...   \n",
       "2  ### Comprehensive Description of the Table:\\nThe table presents financial data for a company over three consecutive fiscal years, specifically 2000, 2001, and 2002. The information includes four main financial metrics: net sales, cost of sales, gross margin, and gross margin percentage.\\n\\n1. **Net Sales**: This row shows the total revenue generated from sales of goods before any deductions like returns or allowances. In 2000, the net sales were $7,983 million, indicating a peak year. However, in 2001, net sales declined to $5,363 million, representing a significant decrease of 32% compared to 2000. The net sales recovered slightly to $5,742 million in 2002, but they still remained below the figures from 2000.\\n\\n2. **Cost of Sales**: This metric captures the expenses directly associated with the production of the goods sold. The cost of sales remained relatively stable over the three years, showing minor changes. In 2000, the cost was $5,817 million, slightly decreased to $4,128 m...   \n",
       "3  ### Description of the Table\\n\\nThe table presents a comparative analysis of cumulative total returns for three investment entities over a five-year period from December 31, 2004, to December 31, 2009. The entities compared are United Parcel Service Inc. (UPS), the S&P 500 Index, and the Dow Jones Transportation Average. Each column in the table represents the total investment value at the end of each year for the respective date, where an initial investment of $100 is assumed at the start of the period (December 31, 2004).\\n\\n- **Row 1**: United Parcel Service Inc. shows a decreasing trend in total returns from $100.00 in 2004 to $75.95 in 2009, indicating a decline in value over the period.\\n  \\n- **Row 2**: The S&P 500 Index displays a generally upward trend, increasing from $100.00 in 2004 to $102.11 in 2009. It shows a dip in 2008, but it still manages to end higher than the starting value.\\n  \\n- **Row 3**: The Dow Jones Transportation Average also starts at $100.00 in 2004, ...   \n",
       "4  ### Description of the Table\\n\\nThe table provides a five-year comparison of cumulative total shareowner returns for three entities: United Parcel Service Inc. (UPS), the S&P 500 Index, and the Dow Jones Transportation Average. It illustrates the value of a hypothetical investment of $100 made on December 31, 2004, and how that investment would have changed over the subsequent years through to December 31, 2009.\\n\\nThe first row showcases the returns for United Parcel Service Inc., which starts at $100.00 in 2004 and experiences fluctuations in value over the following years, with a decline to $89.49 in 2005, followed by slight recoveries leading to $91.06 in 2006. However, it continues to decline in value, reaching $70.48 by 2008, and slightly recovering to $75.95 in 2009.\\n\\nThe second row outlines the performance of the S&P 500 index, which initially matches the $100 investment in 2004 and rises in value to $104.91 in 2005, continuing to increase through 2006 and 2007, peaking a...   \n",
       "\n",
       "                                                                                                                                                                                                                                                                                                                                                                                                                                                                                                                                                                                                                                                                                                                                                                                                                                                                                                                                                                                                                             expanded_text  \\\n",
       "0  26 | 2009 annual report in fiscal 2008 , revenues in the credit union systems and services business segment increased 14% ( 14 % ) from fiscal 2007 . all revenue components within the segment experienced growth during fiscal 2008 . license revenue generated the largest dollar growth in revenue as episys ae , our flagship core processing system aimed at larger credit unions , experienced strong sales throughout the year . support and service revenue , which is the largest component of total revenues for the credit union segment , experienced 34 percent growth in eft support and 10 percent growth in in-house support . gross profit in this business segment increased $ 9344 in fiscal 2008 compared to fiscal 2007 , due primarily to the increase in license revenue , which carries the highest margins . liquidity and capital resources we have historically generated positive cash flow from operations and have generally used funds generated from operations and short-term borrowings on our re...   \n",
       "1  substantially all of the goodwill and other intangible assets recorded related to the acquisition of allied are not deductible for tax purposes . pro forma information the consolidated financial statements presented for republic include the operating results of allied from the date of the acquisition . the following pro forma information is presented assuming the merger had been completed as of january 1 , 2007 . the unaudited pro forma information presented below has been prepared for illustrative purposes and is not intended to be indicative of the results of operations that would have actually occurred had the acquisition been consummated at the beginning of the periods presented or of future results of the combined operations ( in millions , except share and per share amounts ) . year ended december 31 , year ended december 31 , ( unaudited ) ( unaudited ) .\\n\\n | year ended december 31 2008 ( unaudited ) | year ended december 31 2007 ( unaudited )\\nrevenue | $ 9362.2 | $ 9244....   \n",
       "2  in a new business model such as the retail segment is inherently risky , particularly in light of the significant investment involved , the current economic climate , and the fixed nature of a substantial portion of the retail segment's operating expenses . results for this segment are dependent upon a number of risks and uncertainties , some of which are discussed below under the heading \"factors that may affect future results and financial condition.\" backlog in the company's experience , the actual amount of product backlog at any particular time is not a meaningful indication of its future business prospects . in particular , backlog often increases in anticipation of or immediately following new product introductions because of over- ordering by dealers anticipating shortages . backlog often is reduced once dealers and customers believe they can obtain sufficient supply . because of the foregoing , backlog cannot be considered a reliable indicator of the company's ability to a...   \n",
       "3  ( 1 ) includes shares repurchased through our publicly announced share repurchase program and shares tendered to pay the exercise price and tax withholding on employee stock options . shareowner return performance graph the following performance graph and related information shall not be deemed 201csoliciting material 201d or to be 201cfiled 201d with the securities and exchange commission , nor shall such information be incorporated by reference into any future filing under the securities act of 1933 or securities exchange act of 1934 , each as amended , except to the extent that the company specifically incorporates such information by reference into such filing . the following graph shows a five-year comparison of cumulative total shareowners 2019 returns for our class b common stock , the s&p 500 index , and the dow jones transportation average . the comparison of the total cumulative return on investment , which is the change in the quarterly stock price plus reinvested divide...   \n",
       "4  ( 1 ) includes shares repurchased through our publicly announced share repurchase program and shares tendered to pay the exercise price and tax withholding on employee stock options . shareowner return performance graph the following performance graph and related information shall not be deemed 201csoliciting material 201d or to be 201cfiled 201d with the securities and exchange commission , nor shall such information be incorporated by reference into any future filing under the securities act of 1933 or securities exchange act of 1934 , each as amended , except to the extent that the company specifically incorporates such information by reference into such filing . the following graph shows a five-year comparison of cumulative total shareowners 2019 returns for our class b common stock , the s&p 500 index , and the dow jones transportation average . the comparison of the total cumulative return on investment , which is the change in the quarterly stock price plus reinvested divide...   \n",
       "\n",
       "                                                                                                                                                                                                                                                                                                                                                                                                                                                                                                                                                                                                                                                                                                                                                                                                                                                                                                                                                                                                                                 embedding  \n",
       "0  [-0.04168519960464352, 0.025579553964186694, 0.05294714289388926, 0.021242906443692415, 0.052226589821835034, -0.01531837634704506, -0.02178999137975278, 0.01758677816461867, 0.010514704101177505, 0.01606561367246821, 0.00743234827116193, -0.0066917820090810105, -0.023177717841252915, -0.03133061778748526, 0.03952354783906115, 0.03955023209243008, -0.008653281850961859, -0.002760443496141524, -0.03346558157440856, -0.013837244754205759, 0.03805575744158378, 0.011875745377986179, 0.01631914201914916, 0.014210863416917335, 0.01435764264292958, 0.025192591312145577, -0.056416460910284676, -0.015651964904413094, 0.00482702329587171, -0.025632928058859774, 0.02674044192031004, -0.020509011244953728, 0.039203303271022664, 0.024138451545368398, -4.0239092665957724e-05, -0.00507387871656535, -0.026526945541617712, 0.009073602613681748, 0.041605139393956436, -0.037121711716127374, 0.018454107668717523, -0.005917857170660049, -0.007218851892469601, -0.020082018487569072, -0.06186062229222922...  \n",
       "1  [-0.023219507650746818, 0.0016361440392597423, 0.07101111255665597, 0.01671015504550496, 0.01776686904999899, 0.020232532576958142, 0.002194440734571393, 0.02452983197323811, -0.01286372009246029, 0.025783798240324993, 0.00010847820010808295, -0.029447069978966615, 0.02250094384132445, -0.0034801082914079316, 0.04486098975017008, -0.0031349154348865537, 0.008566420696180322, -0.026615078160556187, -0.05906321226150128, -0.0068334109581559355, 0.046946239662778534, 0.01804865932702105, 0.0009519223430076888, 0.0040401663505739566, -0.022261420708871806, 0.021979630431849743, -0.05193392290945607, -0.04418469308531714, -0.020443875750385986, -0.013293450032088287, 0.027390001888028155, -0.028615788196090234, 0.0373935520656984, 0.0005952816691707963, -0.026502363912392548, -0.005501952597718636, -0.0120113047372992, -0.00015586517421825062, 0.02102154535261992, -0.012715780429854355, -0.010327608530584322, -0.02305043348453358, -0.03232133080459165, -0.00828463041915826, -0.062388339...  \n",
       "2  [-0.03333227424071934, 0.01174629417407653, 0.05807815644901063, -0.01207961639494307, 0.03650550640272888, 0.024225896861530406, -0.01332624384791687, 0.02751912621514482, 0.007006444221232913, 0.04474524526260674, 0.04591854409941704, -0.004976508804164668, -0.038798769093743676, -0.0041098693535309904, 0.014586203183896926, 0.027052473988344546, 0.019226056097951544, -0.01199295217048292, -0.04826513432245686, -0.019012729206044687, 0.06570457839918044, 0.027652456221078554, -0.022625947966196786, 0.001459953646388708, -0.026972477102371425, 0.049545095673898, -0.0024449222898522602, -0.04666518542712324, 0.016492810534084575, -0.025612520727602367, 0.006939779683927345, -0.023532586791139624, 0.02253261826589481, 0.010979651762231854, -0.006009809365231614, -0.009033046900380244, -0.008073076818121992, -0.0019099393896166135, 0.048291799951114565, -0.02805244251358936, -0.011139646465500697, -0.009133043007846646, -0.00379321291774487, 0.01925272172660925, -0.011766293395569812...  \n",
       "3  [-0.024903152828901633, -0.015268795615855328, 0.04672331120061683, 0.02142149641936492, 0.02822534632014343, 0.016544517588666624, 0.022192244102338925, 0.03085652265623608, 0.060915717682481205, 0.03144122747389823, 0.03867031741139877, -0.001210939056308401, -0.01686344901319205, -0.04512865966592531, 0.03787299350669821, 0.017899971951947976, 0.005747392933082472, -0.01586679040702595, -0.05076309806873434, 0.007787218999097439, 0.017926550036319728, 0.009401804097067772, 0.008996497157963254, 0.02663069292280671, -0.015189063225385272, 0.01742157574648244, -0.008458301659645177, -0.01280372904745703, -0.00970744554808472, 0.004936777657889535, 0.014444891764137817, -0.020637458762882435, 0.06336084929061679, 0.004059719034412419, 0.00209464231729378, 0.025554303788815756, -0.042524063276849614, 0.028517699660297106, 0.03072363409702252, -0.04619176068905299, 0.01706277998936719, -0.0007736555631709373, 0.008504811910311843, -0.05847058607434562, -0.051321228527315126, -0.02174...  \n",
       "4  [-0.054680626418250805, -0.005597664000194266, 0.05531484591080831, 0.026830181272808798, 0.030028845883592625, 0.003867351420239812, 0.014766250623282217, 0.038632154167177996, 0.03973514183554172, 0.03146273246016865, 0.05299857217977352, 0.00010803680841954748, -0.0141733948912351, -0.051674983997504836, 0.04056237979284681, 0.02851223737393122, -0.009175481204054729, 0.007072910146329132, -0.04930356106931637, 0.022114908152363565, 0.025727193604445073, 0.003550242372452984, 0.01910926573161759, 0.0354334858311039, -0.007321082464843227, 9.850414714112682e-05, -0.01324964304494338, 0.0006798886408818612, -0.0009814869769692181, 0.0028350236607292308, 0.020074380407097133, -0.021411754026009103, 0.04858661778102835, -0.009306460547294702, 0.012574062585843187, 0.01466973952826329, -0.03399960297981814, 0.031104258953379513, 0.027671210254692574, -0.04935871026647004, 0.01241550771270381, -0.01826823861237895, 0.01782704317250443, -0.038108233068927834, -0.04861419237960519, -0.0...  "
      ]
     },
     "execution_count": 16,
     "metadata": {},
     "output_type": "execute_result"
    }
   ],
   "source": [
    "embedding_model = OpenAIEmbeddings(model=\"text-embedding-3-small\")\n",
    "df[\"embedding\"] = df[\"expanded_text\"].apply(lambda x: embedding_model.embed_query(x) if x else [])\n",
    "df"
   ]
  },
  {
   "cell_type": "markdown",
   "metadata": {},
   "source": [
    "### 7. Create ChromdaDB vector store of documents\n",
    "---"
   ]
  },
  {
   "cell_type": "code",
   "execution_count": 17,
   "metadata": {},
   "outputs": [],
   "source": [
    "# Create documents for vector store\n",
    "documents = []"
   ]
  },
  {
   "cell_type": "code",
   "execution_count": 18,
   "metadata": {},
   "outputs": [],
   "source": [
    "documents = [\n",
    "    Document(\n",
    "        page_content=row[\"expanded_text\"],\n",
    "        metadata={\n",
    "            \"id\": row[\"id\"],\n",
    "            \"table\": row[\"table\"],\n",
    "            \"table_description\": row[\"table_description\"]\n",
    "        }\n",
    "    )\n",
    "    for _, row in df.iterrows()\n",
    "]"
   ]
  },
  {
   "cell_type": "code",
   "execution_count": 19,
   "metadata": {},
   "outputs": [
    {
     "data": {
      "text/plain": [
       "[Document(metadata={'id': 'Single_JKHY/2009/page_28.pdf-3', 'table': '2008 | year ended june 30 2009 2008 | year ended june 30 2009 2008 | year ended june 30 2009\\nnet income | $ 103102 | $ 104222 | $ 104681\\nnon-cash expenses | 74397 | 70420 | 56348\\nchange in receivables | 21214 | -2913 ( 2913 ) | -28853 ( 28853 )\\nchange in deferred revenue | 21943 | 5100 | 24576\\nchange in other assets and liabilities | -14068 ( 14068 ) | 4172 | 17495\\nnet cash from operating activities | $ 206588 | $ 181001 | $ 174247', 'table_description': \"### Description of the Table\\n\\nThe table summarizes the net cash from operating activities for a company over the fiscal years ending June 30 from 2007 to 2009. It includes detailed line items that contribute to the calculation of net cash from operating activities, which are crucial for understanding the company's financial performance and cash flow situation.\\n\\n1. **Lines Item Breakdown:**\\n   - **Net Income:** This row shows the net income for each of the three fiscal years. It indicates a slight decrease in net income from 2007 to 2009.\\n   - **Non-Cash Expenses:** This represents various non-cash charges such as depreciation and amortization, which are added back to net income to determine cash flows.\\n   - **Change in Receivables:** This indicates the net change in accounts receivable, showing how much cash was collected as compared to how much was billed.\\n   - **Change in Deferred Revenue:** This row reflects changes in deferred revenue, which contributes to cash inflows from future services that have already been billed.\\n   - **Change in Other Assets and Liabilities:** This line shows adjustments made for other assets and liabilities, which also affects cash flow.\\n  \\n2. **Net Cash from Operating Activities:**\\n   - This row provides the total cash generated from operating activities and is the key figure for assessing the company's ability to generate cash. Notably, it shows growth in net cash from operating activities over the three years, with an increase of approximately 14.1% from 2008 to 2009.\\n\\nOverall, the table showcases the financial health of the company concerning cash flow operations, highlighting the inflows and adjustments encountered while transitioning from income to cash available from operations.\\n\\n### Table in Markdown Format\\n\\n```markdown\\n| Line Item                           | 2009         | 2008         | 2007         |\\n|-------------------------------------|--------------|--------------|--------------|\\n| Net Income                          | $ 103,102   | $ 104,222   | $ 104,681    |\\n| Non-Cash Expenses                   | $ 74,397    | $ 70,420    | $ 56,348     |\\n| Change in Receivables               | $ 21,214    | $ -2,913    | $ -28,853    |\\n| Change in Deferred Revenue           | $ 21,943    | $ 5,100     | $ 24,576     |\\n| Change in Other Assets and Liabilities | $ -14,068   | $ 4,172     | $ 17,495     |\\n| **Net Cash from Operating Activities** | **$ 206,588** | **$ 181,001** | **$ 174,247** |\\n```\\n\\nThis markdown format accurately reflects the content of the table, making it easy to read and understand in a markdown viewer.\"}, page_content=\"26 | 2009 annual report in fiscal 2008 , revenues in the credit union systems and services business segment increased 14% ( 14 % ) from fiscal 2007 . all revenue components within the segment experienced growth during fiscal 2008 . license revenue generated the largest dollar growth in revenue as episys ae , our flagship core processing system aimed at larger credit unions , experienced strong sales throughout the year . support and service revenue , which is the largest component of total revenues for the credit union segment , experienced 34 percent growth in eft support and 10 percent growth in in-house support . gross profit in this business segment increased $ 9344 in fiscal 2008 compared to fiscal 2007 , due primarily to the increase in license revenue , which carries the highest margins . liquidity and capital resources we have historically generated positive cash flow from operations and have generally used funds generated from operations and short-term borrowings on our revolving credit facility to meet capital requirements . we expect this trend to continue in the future . the company 2019s cash and cash equivalents increased to $ 118251 at june 30 , 2009 from $ 65565 at june 30 , 2008 . the following table summarizes net cash from operating activities in the statement of cash flows : 2009 2008 2007 .\\n\\n2008 | year ended june 30 2009 2008 | year ended june 30 2009 2008 | year ended june 30 2009\\nnet income | $ 103102 | $ 104222 | $ 104681\\nnon-cash expenses | 74397 | 70420 | 56348\\nchange in receivables | 21214 | -2913 ( 2913 ) | -28853 ( 28853 )\\nchange in deferred revenue | 21943 | 5100 | 24576\\nchange in other assets and liabilities | -14068 ( 14068 ) | 4172 | 17495\\nnet cash from operating activities | $ 206588 | $ 181001 | $ 174247\\n\\nyear ended june 30 , cash provided by operations increased $ 25587 to $ 206588 for the fiscal year ended june 30 , 2009 as compared to $ 181001 for the fiscal year ended june 30 , 2008 . this increase is primarily attributable to a decrease in receivables compared to the same period a year ago of $ 21214 . this decrease is largely the result of fiscal 2010 annual software maintenance billings being provided to customers earlier than in the prior year , which allowed more cash to be collected before the end of the fiscal year than in previous years . further , we collected more cash overall related to revenues that will be recognized in subsequent periods in the current year than in fiscal 2008 . cash used in investing activities for the fiscal year ended june 2009 was $ 59227 and includes $ 3027 in contingent consideration paid on prior years 2019 acquisitions . cash used in investing activities for the fiscal year ended june 2008 was $ 102148 and includes payments for acquisitions of $ 48109 , plus $ 1215 in contingent consideration paid on prior years 2019 acquisitions . capital expenditures for fiscal 2009 were $ 31562 compared to $ 31105 for fiscal 2008 . cash used for software development in fiscal 2009 was $ 24684 compared to $ 23736 during the prior year . net cash used in financing activities for the current fiscal year was $ 94675 and includes the repurchase of 3106 shares of our common stock for $ 58405 , the payment of dividends of $ 26903 and $ 13489 net repayment on our revolving credit facilities . cash used in financing activities was partially offset by proceeds of $ 3773 from the exercise of stock options and the sale of common stock ( through the employee stock purchase plan ) and $ 348 excess tax benefits from stock option exercises . during fiscal 2008 , net cash used in financing activities for the fiscal year was $ 101905 and includes the repurchase of 4200 shares of our common stock for $ 100996 , the payment of dividends of $ 24683 and $ 429 net repayment on our revolving credit facilities . cash used in financing activities was partially offset by proceeds of $ 20394 from the exercise of stock options and the sale of common stock and $ 3809 excess tax benefits from stock option exercises . beginning during fiscal 2008 , us financial markets and many of the largest us financial institutions have been shaken by negative developments in the home mortgage industry and the mortgage markets , and particularly the markets for subprime mortgage-backed securities . since that time , these and other such developments have resulted in a broad , global economic downturn . while we , as is the case with most companies , have experienced the effects of this downturn , we have not experienced any significant issues with our current collection efforts , and we believe that any future impact to our liquidity will be minimized by cash generated by recurring sources of revenue and due to our access to available lines of credit. .\\n\\nQuestion: what was the percentage change in the net cash from operating activities from 2008 to 2009\\nAnswer: 14.1%\\nExecution Answer: 0.14136\\n\\nDialogue Break: ['what is the net cash from operating activities in 2009?', 'what about in 2008?', 'what is the difference?', 'what percentage change does this represent?']\\n\\n### Description of the Table\\n\\nThe table summarizes the net cash from operating activities for a company over the fiscal years ending June 30 from 2007 to 2009. It includes detailed line items that contribute to the calculation of net cash from operating activities, which are crucial for understanding the company's financial performance and cash flow situation.\\n\\n1. **Lines Item Breakdown:**\\n   - **Net Income:** This row shows the net income for each of the three fiscal years. It indicates a slight decrease in net income from 2007 to 2009.\\n   - **Non-Cash Expenses:** This represents various non-cash charges such as depreciation and amortization, which are added back to net income to determine cash flows.\\n   - **Change in Receivables:** This indicates the net change in accounts receivable, showing how much cash was collected as compared to how much was billed.\\n   - **Change in Deferred Revenue:** This row reflects changes in deferred revenue, which contributes to cash inflows from future services that have already been billed.\\n   - **Change in Other Assets and Liabilities:** This line shows adjustments made for other assets and liabilities, which also affects cash flow.\\n  \\n2. **Net Cash from Operating Activities:**\\n   - This row provides the total cash generated from operating activities and is the key figure for assessing the company's ability to generate cash. Notably, it shows growth in net cash from operating activities over the three years, with an increase of approximately 14.1% from 2008 to 2009.\\n\\nOverall, the table showcases the financial health of the company concerning cash flow operations, highlighting the inflows and adjustments encountered while transitioning from income to cash available from operations.\\n\\n### Table in Markdown Format\\n\\n```markdown\\n| Line Item                           | 2009         | 2008         | 2007         |\\n|-------------------------------------|--------------|--------------|--------------|\\n| Net Income                          | $ 103,102   | $ 104,222   | $ 104,681    |\\n| Non-Cash Expenses                   | $ 74,397    | $ 70,420    | $ 56,348     |\\n| Change in Receivables               | $ 21,214    | $ -2,913    | $ -28,853    |\\n| Change in Deferred Revenue           | $ 21,943    | $ 5,100     | $ 24,576     |\\n| Change in Other Assets and Liabilities | $ -14,068   | $ 4,172     | $ 17,495     |\\n| **Net Cash from Operating Activities** | **$ 206,588** | **$ 181,001** | **$ 174,247** |\\n```\\n\\nThis markdown format accurately reflects the content of the table, making it easy to read and understand in a markdown viewer.\"),\n",
       " Document(metadata={'id': 'Single_RSG/2008/page_114.pdf-2', 'table': ' | year ended december 31 2008 ( unaudited ) | year ended december 31 2007 ( unaudited )\\nrevenue | $ 9362.2 | $ 9244.9\\nincome from continuing operations available to common stockholders | 285.7 | 423.2\\nbasic earnings per share | .76 | 1.10\\ndiluted earnings per share | .75 | 1.09', 'table_description': '### Description of the Table\\n\\nThe table presents the unaudited pro forma financial information for Republic Services, Inc. for the years ended December 31, 2008, and December 31, 2007. This information reflects the operating results of Allied, following the acquisition, and assumes that the merger was completed as of January 1, 2007. \\n\\nThe table contains four key financial metrics for both years:\\n\\n1. **Revenue**: This item indicates total revenue generated by the company, which shows a slight increase from $9,244.9 million in 2007 to $9,362.2 million in 2008.\\n\\n2. **Income from Continuing Operations Available to Common Stockholders**: This represents the net income attributable to shareholders from ongoing operations, which decreased from $423.2 million in 2007 to $285.7 million in 2008.\\n\\n3. **Basic Earnings per Share (EPS)**: This metric provides the earnings available to each common share, which declined from $1.10 in 2007 to $0.76 in 2008.\\n\\n4. **Diluted Earnings per Share (EPS)**: This adjusted EPS takes into account the potential dilution from convertible securities and options, decreasing from $1.09 in 2007 to $0.75 in 2008.\\n\\nOverall, while revenues showed a modest growth of approximately 1.3%, there was a significant decline in income from continuing operations and earnings per share, indicating some underlying challenges following the merger.\\n\\n### Table in Markdown Format\\n\\n```markdown\\n| Metric                                             | Year Ended December 31, 2008 (Unaudited) | Year Ended December 31, 2007 (Unaudited) |\\n|---------------------------------------------------|----------------------------------------|----------------------------------------|\\n| Revenue                                           | $9,362.2 million                       | $9,244.9 million                       |\\n| Income from Continuing Operations Available to Common Stockholders | $285.7 million                         | $423.2 million                        |\\n| Basic Earnings per Share                          | $0.76                                  | $1.10                                  |\\n| Diluted Earnings per Share                        | $0.75                                  | $1.09                                  |\\n```'}, page_content=\"substantially all of the goodwill and other intangible assets recorded related to the acquisition of allied are not deductible for tax purposes . pro forma information the consolidated financial statements presented for republic include the operating results of allied from the date of the acquisition . the following pro forma information is presented assuming the merger had been completed as of january 1 , 2007 . the unaudited pro forma information presented below has been prepared for illustrative purposes and is not intended to be indicative of the results of operations that would have actually occurred had the acquisition been consummated at the beginning of the periods presented or of future results of the combined operations ( in millions , except share and per share amounts ) . year ended december 31 , year ended december 31 , ( unaudited ) ( unaudited ) .\\n\\n | year ended december 31 2008 ( unaudited ) | year ended december 31 2007 ( unaudited )\\nrevenue | $ 9362.2 | $ 9244.9\\nincome from continuing operations available to common stockholders | 285.7 | 423.2\\nbasic earnings per share | .76 | 1.10\\ndiluted earnings per share | .75 | 1.09\\n\\nthe above unaudited pro forma financial information includes adjustments for amortization of identifiable intangible assets , accretion of discounts to fair value associated with debt , environmental , self-insurance and other liabilities , accretion of capping , closure and post-closure obligations and amortization of the related assets , and provision for income taxes . assets held for sale as a condition of the merger with allied in december 2008 , we reached a settlement with the doj requiring us to divest of certain operations serving fifteen metropolitan areas including los angeles , ca ; san francisco , ca ; denver , co ; atlanta , ga ; northwestern indiana ; lexington , ky ; flint , mi ; cape girardeau , mo ; charlotte , nc ; cleveland , oh ; philadelphia , pa ; greenville-spartanburg , sc ; and fort worth , houston and lubbock , tx . the settlement requires us to divest 87 commercial waste collection routes , nine landfills and ten transfer stations , together with ancillary assets and , in three cases , access to landfill disposal capacity . we have classified the assets and liabilities we expect to divest ( including accounts receivable , property and equipment , goodwill , and accrued landfill and environmental costs ) as assets held for sale in our consolidated balance sheet at december 31 , 2008 . the assets held for sale related to operations that were republic 2019s prior to the merger with allied have been adjusted to the lower of their carrying amounts or estimated fair values less costs to sell , which resulted in us recognizing an asset impairment loss of $ 6.1 million in our consolidated statement of income for the year ended december 31 , 2008 . the assets held for sale related to operations that were allied 2019s prior to the merger are recorded at their estimated fair values in our consolidated balance sheet as of december 31 , 2008 in accordance with the purchase method of accounting . in february 2009 , we entered into an agreement to divest certain assets to waste connections , inc . the assets covered by the agreement include six municipal solid waste landfills , six collection operations and three transfer stations across the following seven markets : los angeles , ca ; denver , co ; houston , tx ; lubbock , tx ; greenville-spartanburg , sc ; charlotte , nc ; and flint , mi . the transaction with waste connections is subject to closing conditions regarding due diligence , regulatory approval and other customary matters . closing is expected to occur in the second quarter of 2009 . republic services , inc . and subsidiaries notes to consolidated financial statements %%transmsg*** transmitting job : p14076 pcn : 106000000 ***%%pcmsg|104 |00046|yes|no|02/28/2009 21:07|0|0|page is valid , no graphics -- color : d| .\\n\\nQuestion: what was the percent of the growth in the revenues from 2007 to 2008\\nAnswer: 1.3%\\nExecution Answer: 0.01269\\n\\nDialogue Break: ['what were revenues in 2008?', 'what were they in 2007?', 'what was the net change?', 'what is the percent change?']\\n\\n### Description of the Table\\n\\nThe table presents the unaudited pro forma financial information for Republic Services, Inc. for the years ended December 31, 2008, and December 31, 2007. This information reflects the operating results of Allied, following the acquisition, and assumes that the merger was completed as of January 1, 2007. \\n\\nThe table contains four key financial metrics for both years:\\n\\n1. **Revenue**: This item indicates total revenue generated by the company, which shows a slight increase from $9,244.9 million in 2007 to $9,362.2 million in 2008.\\n\\n2. **Income from Continuing Operations Available to Common Stockholders**: This represents the net income attributable to shareholders from ongoing operations, which decreased from $423.2 million in 2007 to $285.7 million in 2008.\\n\\n3. **Basic Earnings per Share (EPS)**: This metric provides the earnings available to each common share, which declined from $1.10 in 2007 to $0.76 in 2008.\\n\\n4. **Diluted Earnings per Share (EPS)**: This adjusted EPS takes into account the potential dilution from convertible securities and options, decreasing from $1.09 in 2007 to $0.75 in 2008.\\n\\nOverall, while revenues showed a modest growth of approximately 1.3%, there was a significant decline in income from continuing operations and earnings per share, indicating some underlying challenges following the merger.\\n\\n### Table in Markdown Format\\n\\n```markdown\\n| Metric                                             | Year Ended December 31, 2008 (Unaudited) | Year Ended December 31, 2007 (Unaudited) |\\n|---------------------------------------------------|----------------------------------------|----------------------------------------|\\n| Revenue                                           | $9,362.2 million                       | $9,244.9 million                       |\\n| Income from Continuing Operations Available to Common Stockholders | $285.7 million                         | $423.2 million                        |\\n| Basic Earnings per Share                          | $0.76                                  | $1.10                                  |\\n| Diluted Earnings per Share                        | $0.75                                  | $1.09                                  |\\n```\"),\n",
       " Document(metadata={'id': 'Single_AAPL/2002/page_23.pdf-1', 'table': ' | 2002 | 2001 | 2000\\nnet sales | $ 5742 | $ 5363 | $ 7983\\ncost of sales | 4139 | 4128 | 5817\\ngross margin | $ 1603 | $ 1235 | $ 2166\\ngross margin percentage | 28% ( 28 % ) | 23% ( 23 % ) | 27% ( 27 % )', 'table_description': '### Comprehensive Description of the Table:\\nThe table presents financial data for a company over three consecutive fiscal years, specifically 2000, 2001, and 2002. The information includes four main financial metrics: net sales, cost of sales, gross margin, and gross margin percentage.\\n\\n1. **Net Sales**: This row shows the total revenue generated from sales of goods before any deductions like returns or allowances. In 2000, the net sales were $7,983 million, indicating a peak year. However, in 2001, net sales declined to $5,363 million, representing a significant decrease of 32% compared to 2000. The net sales recovered slightly to $5,742 million in 2002, but they still remained below the figures from 2000.\\n\\n2. **Cost of Sales**: This metric captures the expenses directly associated with the production of the goods sold. The cost of sales remained relatively stable over the three years, showing minor changes. In 2000, the cost was $5,817 million, slightly decreased to $4,128 million in 2001, and marginally increased to $4,139 million in 2002.\\n\\n3. **Gross Margin**: The gross margin is calculated by subtracting the cost of sales from net sales. In 2000, the gross margin was $2,166 million, which declined significantly to $1,235 million in 2001. The gross margin showed improvement in 2002, rising to $1,603 million.\\n\\n4. **Gross Margin Percentage**: This indicates the proportion of revenue that exceeds the cost of goods sold and is presented as a percentage of net sales. It highlights the profitability relative to sales. The gross margin percentage decreased from 27% in 2000 to 23% in 2001, reflecting lower profitability due to the drop in net sales and cost management issues. In 2002, it recovered to 28%, marking an improvement from the previous year.\\n\\nOverall, the table illustrates the financial performance and challenges faced by the company over these years, marked by a sharp decline in sales and gross margin percentage followed by a recovery phase.\\n\\n### Table in Markdown Format:\\n\\n```markdown\\n|                 | 2002   | 2001   | 2000   |\\n|-----------------|--------|--------|--------|\\n| net sales       | $5742  | $5363  | $7983  |\\n| cost of sales   | $4139  | $4128  | $5817  |\\n| gross margin     | $1603  | $1235  | $2166  |\\n| gross margin percentage | 28%    | 23%    | 27%    |\\n```'}, page_content='in a new business model such as the retail segment is inherently risky , particularly in light of the significant investment involved , the current economic climate , and the fixed nature of a substantial portion of the retail segment\\'s operating expenses . results for this segment are dependent upon a number of risks and uncertainties , some of which are discussed below under the heading \"factors that may affect future results and financial condition.\" backlog in the company\\'s experience , the actual amount of product backlog at any particular time is not a meaningful indication of its future business prospects . in particular , backlog often increases in anticipation of or immediately following new product introductions because of over- ordering by dealers anticipating shortages . backlog often is reduced once dealers and customers believe they can obtain sufficient supply . because of the foregoing , backlog cannot be considered a reliable indicator of the company\\'s ability to achieve any particular level of revenue or financial performance . further information regarding the company\\'s backlog may be found below under the heading \"factors that may affect future results and financial condition.\" gross margin gross margin for the three fiscal years ended september 28 , 2002 are as follows ( in millions , except gross margin percentages ) : gross margin increased to 28% ( 28 % ) of net sales in 2002 from 23% ( 23 % ) in 2001 . as discussed below , gross margin in 2001 was unusually low resulting from negative gross margin of 2% ( 2 % ) experienced in the first quarter of 2001 . as a percentage of net sales , the company\\'s quarterly gross margins declined during fiscal 2002 from 31% ( 31 % ) in the first quarter down to 26% ( 26 % ) in the fourth quarter . this decline resulted from several factors including a rise in component costs as the year progressed and aggressive pricing by the company across its products lines instituted as a result of continued pricing pressures in the personal computer industry . the company anticipates that its gross margin and the gross margin of the overall personal computer industry will remain under pressure throughout fiscal 2003 in light of weak economic conditions , flat demand for personal computers in general , and the resulting pressure on prices . the foregoing statements regarding anticipated gross margin in 2003 and the general demand for personal computers during 2003 are forward- looking . gross margin could differ from anticipated levels because of several factors , including certain of those set forth below in the subsection entitled \"factors that may affect future results and financial condition.\" there can be no assurance that current gross margins will be maintained , targeted gross margin levels will be achieved , or current margins on existing individual products will be maintained . in general , gross margins and margins on individual products will remain under significant downward pressure due to a variety of factors , including continued industry wide global pricing pressures , increased competition , compressed product life cycles , potential increases in the cost and availability of raw material and outside manufacturing services , and potential changes to the company\\'s product mix , including higher unit sales of consumer products with lower average selling prices and lower gross margins . in response to these downward pressures , the company expects it will continue to take pricing actions with respect to its products . gross margins could also be affected by the company\\'s ability to effectively manage quality problems and warranty costs and to stimulate demand for certain of its products . the company\\'s operating strategy and pricing take into account anticipated changes in foreign currency exchange rates over time ; however , the company\\'s results of operations can be significantly affected in the short-term by fluctuations in exchange rates . the company orders components for its products and builds inventory in advance of product shipments . because the company\\'s markets are volatile and subject to rapid technology and price changes , there is a risk the company will forecast incorrectly and produce or order from third parties excess or insufficient inventories of particular products or components . the company\\'s operating results and financial condition have been in the past and may in the future be materially adversely affected by the company\\'s ability to manage its inventory levels and outstanding purchase commitments and to respond to short-term shifts in customer demand patterns . gross margin declined to 23% ( 23 % ) of net sales in 2001 from 27% ( 27 % ) in 2000 . this decline resulted primarily from gross margin of negative 2% ( 2 % ) experienced during the first quarter of 2001 compared to 26% ( 26 % ) gross margin for the same quarter in 2000 . in addition to lower than normal net .\\n\\n | 2002 | 2001 | 2000\\nnet sales | $ 5742 | $ 5363 | $ 7983\\ncost of sales | 4139 | 4128 | 5817\\ngross margin | $ 1603 | $ 1235 | $ 2166\\ngross margin percentage | 28% ( 28 % ) | 23% ( 23 % ) | 27% ( 27 % )\\n\\n.\\n\\nQuestion: what was the percentage change in net sales from 2000 to 2001?\\nAnswer: -32%\\nExecution Answer: -0.3282\\n\\nDialogue Break: [\\'what was the total of net sales in 2001?\\', \\'and what was that in 2000?\\', \\'what was, then, the change in the total of net sales over the year?\\', \\'and how much does this change represent in relation to that total in 2000, in percentage?\\']\\n\\n### Comprehensive Description of the Table:\\nThe table presents financial data for a company over three consecutive fiscal years, specifically 2000, 2001, and 2002. The information includes four main financial metrics: net sales, cost of sales, gross margin, and gross margin percentage.\\n\\n1. **Net Sales**: This row shows the total revenue generated from sales of goods before any deductions like returns or allowances. In 2000, the net sales were $7,983 million, indicating a peak year. However, in 2001, net sales declined to $5,363 million, representing a significant decrease of 32% compared to 2000. The net sales recovered slightly to $5,742 million in 2002, but they still remained below the figures from 2000.\\n\\n2. **Cost of Sales**: This metric captures the expenses directly associated with the production of the goods sold. The cost of sales remained relatively stable over the three years, showing minor changes. In 2000, the cost was $5,817 million, slightly decreased to $4,128 million in 2001, and marginally increased to $4,139 million in 2002.\\n\\n3. **Gross Margin**: The gross margin is calculated by subtracting the cost of sales from net sales. In 2000, the gross margin was $2,166 million, which declined significantly to $1,235 million in 2001. The gross margin showed improvement in 2002, rising to $1,603 million.\\n\\n4. **Gross Margin Percentage**: This indicates the proportion of revenue that exceeds the cost of goods sold and is presented as a percentage of net sales. It highlights the profitability relative to sales. The gross margin percentage decreased from 27% in 2000 to 23% in 2001, reflecting lower profitability due to the drop in net sales and cost management issues. In 2002, it recovered to 28%, marking an improvement from the previous year.\\n\\nOverall, the table illustrates the financial performance and challenges faced by the company over these years, marked by a sharp decline in sales and gross margin percentage followed by a recovery phase.\\n\\n### Table in Markdown Format:\\n\\n```markdown\\n|                 | 2002   | 2001   | 2000   |\\n|-----------------|--------|--------|--------|\\n| net sales       | $5742  | $5363  | $7983  |\\n| cost of sales   | $4139  | $4128  | $5817  |\\n| gross margin     | $1603  | $1235  | $2166  |\\n| gross margin percentage | 28%    | 23%    | 27%    |\\n```'),\n",
       " Document(metadata={'id': 'Single_UPS/2009/page_33.pdf-2', 'table': ' | 12/31/04 | 12/31/05 | 12/31/06 | 12/31/07 | 12/31/08 | 12/31/09\\nunited parcel service inc . | $ 100.00 | $ 89.49 | $ 91.06 | $ 87.88 | $ 70.48 | $ 75.95\\ns&p 500 index | $ 100.00 | $ 104.91 | $ 121.48 | $ 128.15 | $ 80.74 | $ 102.11\\ndow jones transportation average | $ 100.00 | $ 111.65 | $ 122.61 | $ 124.35 | $ 97.72 | $ 115.88', 'table_description': '### Description of the Table\\n\\nThe table presents a comparative analysis of cumulative total returns for three investment entities over a five-year period from December 31, 2004, to December 31, 2009. The entities compared are United Parcel Service Inc. (UPS), the S&P 500 Index, and the Dow Jones Transportation Average. Each column in the table represents the total investment value at the end of each year for the respective date, where an initial investment of $100 is assumed at the start of the period (December 31, 2004).\\n\\n- **Row 1**: United Parcel Service Inc. shows a decreasing trend in total returns from $100.00 in 2004 to $75.95 in 2009, indicating a decline in value over the period.\\n  \\n- **Row 2**: The S&P 500 Index displays a generally upward trend, increasing from $100.00 in 2004 to $102.11 in 2009. It shows a dip in 2008, but it still manages to end higher than the starting value.\\n  \\n- **Row 3**: The Dow Jones Transportation Average also starts at $100.00 in 2004, peaking to $115.88 in 2009 after minor fluctuations, including a low point in 2008.\\n\\nThe table effectively illustrates the performance of these three investments over five years, highlighting how UPS has not performed favorably compared to the broad market index and the transportation sector index.\\n\\n### Table in Markdown Format\\n\\n```markdown\\n| Date        | United Parcel Service Inc. | S&P 500 Index | Dow Jones Transportation Average |\\n|-------------|----------------------------|----------------|----------------------------------|\\n| 12/31/04    | $100.00                    | $100.00        | $100.00                          |\\n| 12/31/05    | $89.49                     | $104.91        | $111.65                          |\\n| 12/31/06    | $91.06                     | $121.48        | $122.61                          |\\n| 12/31/07    | $87.88                     | $128.15        | $124.35                          |\\n| 12/31/08    | $70.48                     | $80.74         | $97.72                           |\\n| 12/31/09    | $75.95                     | $102.11        | $115.88                          |\\n```'}, page_content=\"( 1 ) includes shares repurchased through our publicly announced share repurchase program and shares tendered to pay the exercise price and tax withholding on employee stock options . shareowner return performance graph the following performance graph and related information shall not be deemed 201csoliciting material 201d or to be 201cfiled 201d with the securities and exchange commission , nor shall such information be incorporated by reference into any future filing under the securities act of 1933 or securities exchange act of 1934 , each as amended , except to the extent that the company specifically incorporates such information by reference into such filing . the following graph shows a five-year comparison of cumulative total shareowners 2019 returns for our class b common stock , the s&p 500 index , and the dow jones transportation average . the comparison of the total cumulative return on investment , which is the change in the quarterly stock price plus reinvested dividends for each of the quarterly periods , assumes that $ 100 was invested on december 31 , 2004 in the s&p 500 index , the dow jones transportation average , and our class b common stock . comparison of five year cumulative total return $ 40.00 $ 60.00 $ 80.00 $ 100.00 $ 120.00 $ 140.00 $ 160.00 2004 20092008200720062005 s&p 500 ups dj transport .\\n\\n | 12/31/04 | 12/31/05 | 12/31/06 | 12/31/07 | 12/31/08 | 12/31/09\\nunited parcel service inc . | $ 100.00 | $ 89.49 | $ 91.06 | $ 87.88 | $ 70.48 | $ 75.95\\ns&p 500 index | $ 100.00 | $ 104.91 | $ 121.48 | $ 128.15 | $ 80.74 | $ 102.11\\ndow jones transportation average | $ 100.00 | $ 111.65 | $ 122.61 | $ 124.35 | $ 97.72 | $ 115.88\\n\\n.\\n\\nQuestion: what was the difference in percentage cumulative return on investment for united parcel service inc . compared to the s&p 500 index for the five year period ended 12/31/09?\\nAnswer: -26.16%\\nExecution Answer: -0.2616\\n\\nDialogue Break: ['what was the change in the performance of the united parcel service inc . from 2004 to 2009?', 'and how much does this change represent in relation to that performance in 2004, in percentage?', 'what was the performance value of the s&p 500 index in 2009?', 'what was, then, the change in that performance from 2004 to 2009?', 'and how much does this change represent in relation to that performance in 2004, in percentage?', 'what is, then, the difference between the percent representation of the united parcel service inc . and the s&p 500 index?']\\n\\n### Description of the Table\\n\\nThe table presents a comparative analysis of cumulative total returns for three investment entities over a five-year period from December 31, 2004, to December 31, 2009. The entities compared are United Parcel Service Inc. (UPS), the S&P 500 Index, and the Dow Jones Transportation Average. Each column in the table represents the total investment value at the end of each year for the respective date, where an initial investment of $100 is assumed at the start of the period (December 31, 2004).\\n\\n- **Row 1**: United Parcel Service Inc. shows a decreasing trend in total returns from $100.00 in 2004 to $75.95 in 2009, indicating a decline in value over the period.\\n  \\n- **Row 2**: The S&P 500 Index displays a generally upward trend, increasing from $100.00 in 2004 to $102.11 in 2009. It shows a dip in 2008, but it still manages to end higher than the starting value.\\n  \\n- **Row 3**: The Dow Jones Transportation Average also starts at $100.00 in 2004, peaking to $115.88 in 2009 after minor fluctuations, including a low point in 2008.\\n\\nThe table effectively illustrates the performance of these three investments over five years, highlighting how UPS has not performed favorably compared to the broad market index and the transportation sector index.\\n\\n### Table in Markdown Format\\n\\n```markdown\\n| Date        | United Parcel Service Inc. | S&P 500 Index | Dow Jones Transportation Average |\\n|-------------|----------------------------|----------------|----------------------------------|\\n| 12/31/04    | $100.00                    | $100.00        | $100.00                          |\\n| 12/31/05    | $89.49                     | $104.91        | $111.65                          |\\n| 12/31/06    | $91.06                     | $121.48        | $122.61                          |\\n| 12/31/07    | $87.88                     | $128.15        | $124.35                          |\\n| 12/31/08    | $70.48                     | $80.74         | $97.72                           |\\n| 12/31/09    | $75.95                     | $102.11        | $115.88                          |\\n```\"),\n",
       " Document(metadata={'id': 'Double_UPS/2009/page_33.pdf', 'table': ' | 12/31/04 | 12/31/05 | 12/31/06 | 12/31/07 | 12/31/08 | 12/31/09\\nunited parcel service inc . | $ 100.00 | $ 89.49 | $ 91.06 | $ 87.88 | $ 70.48 | $ 75.95\\ns&p 500 index | $ 100.00 | $ 104.91 | $ 121.48 | $ 128.15 | $ 80.74 | $ 102.11\\ndow jones transportation average | $ 100.00 | $ 111.65 | $ 122.61 | $ 124.35 | $ 97.72 | $ 115.88', 'table_description': '### Description of the Table\\n\\nThe table provides a five-year comparison of cumulative total shareowner returns for three entities: United Parcel Service Inc. (UPS), the S&P 500 Index, and the Dow Jones Transportation Average. It illustrates the value of a hypothetical investment of $100 made on December 31, 2004, and how that investment would have changed over the subsequent years through to December 31, 2009.\\n\\nThe first row showcases the returns for United Parcel Service Inc., which starts at $100.00 in 2004 and experiences fluctuations in value over the following years, with a decline to $89.49 in 2005, followed by slight recoveries leading to $91.06 in 2006. However, it continues to decline in value, reaching $70.48 by 2008, and slightly recovering to $75.95 in 2009.\\n\\nThe second row outlines the performance of the S&P 500 index, which initially matches the $100 investment in 2004 and rises in value to $104.91 in 2005, continuing to increase through 2006 and 2007, peaking at $128.15. However, it reflects a drop to $80.74 in 2008 before recovering to $102.11 in 2009.\\n\\nThe final row presents the returns for the Dow Jones Transportation Average, which also starts with an initial investment of $100. This index shows a similar upward trend to the S&P 500, with a peak of $124.35 in 2007, but it declines to $97.72 in 2008 before ending at $115.88 in 2009.\\n\\nOverall, the table vividly highlights the changes in investment value over five years for each entity and allows for comparison of their performance during that period.\\n\\n### Table in Markdown Format\\n\\n```markdown\\n| Date       | United Parcel Service Inc. | S&P 500 Index | Dow Jones Transportation Average |\\n|------------|-----------------------------|----------------|----------------------------------|\\n| 12/31/04   | $ 100.00                    | $ 100.00       | $ 100.00                         |\\n| 12/31/05   | $ 89.49                     | $ 104.91       | $ 111.65                         |\\n| 12/31/06   | $ 91.06                     | $ 121.48       | $ 122.61                         |\\n| 12/31/07   | $ 87.88                     | $ 128.15       | $ 124.35                         |\\n| 12/31/08   | $ 70.48                     | $ 80.74        | $ 97.72                          |\\n| 12/31/09   | $ 75.95                     | $ 102.11       | $ 115.88                         |\\n```'}, page_content=\"( 1 ) includes shares repurchased through our publicly announced share repurchase program and shares tendered to pay the exercise price and tax withholding on employee stock options . shareowner return performance graph the following performance graph and related information shall not be deemed 201csoliciting material 201d or to be 201cfiled 201d with the securities and exchange commission , nor shall such information be incorporated by reference into any future filing under the securities act of 1933 or securities exchange act of 1934 , each as amended , except to the extent that the company specifically incorporates such information by reference into such filing . the following graph shows a five-year comparison of cumulative total shareowners 2019 returns for our class b common stock , the s&p 500 index , and the dow jones transportation average . the comparison of the total cumulative return on investment , which is the change in the quarterly stock price plus reinvested dividends for each of the quarterly periods , assumes that $ 100 was invested on december 31 , 2004 in the s&p 500 index , the dow jones transportation average , and our class b common stock . comparison of five year cumulative total return $ 40.00 $ 60.00 $ 80.00 $ 100.00 $ 120.00 $ 140.00 $ 160.00 2004 20092008200720062005 s&p 500 ups dj transport .\\n\\n | 12/31/04 | 12/31/05 | 12/31/06 | 12/31/07 | 12/31/08 | 12/31/09\\nunited parcel service inc . | $ 100.00 | $ 89.49 | $ 91.06 | $ 87.88 | $ 70.48 | $ 75.95\\ns&p 500 index | $ 100.00 | $ 104.91 | $ 121.48 | $ 128.15 | $ 80.74 | $ 102.11\\ndow jones transportation average | $ 100.00 | $ 111.65 | $ 122.61 | $ 124.35 | $ 97.72 | $ 115.88\\n\\n.\\n\\nDialogue Break: ['what was the fluctuation of the performance price of the ups from 2004 to 2006?', 'and how much does this fluctuation represent in relation to that price in 2004?', 'and from this year to 2009, what was the fluctuation for that stock?', 'what is this fluctuation as a percentage of the 2004 price?', 'and for the s&p 500 index price, what was the fluctuation in those five years?', 'and what percentage does this fluctuation represent in relation to the 2004 price of this stock?', 'what is, then, the difference between the ups percentage and this s&p 500 index one, for this five year period?']\\n\\n### Description of the Table\\n\\nThe table provides a five-year comparison of cumulative total shareowner returns for three entities: United Parcel Service Inc. (UPS), the S&P 500 Index, and the Dow Jones Transportation Average. It illustrates the value of a hypothetical investment of $100 made on December 31, 2004, and how that investment would have changed over the subsequent years through to December 31, 2009.\\n\\nThe first row showcases the returns for United Parcel Service Inc., which starts at $100.00 in 2004 and experiences fluctuations in value over the following years, with a decline to $89.49 in 2005, followed by slight recoveries leading to $91.06 in 2006. However, it continues to decline in value, reaching $70.48 by 2008, and slightly recovering to $75.95 in 2009.\\n\\nThe second row outlines the performance of the S&P 500 index, which initially matches the $100 investment in 2004 and rises in value to $104.91 in 2005, continuing to increase through 2006 and 2007, peaking at $128.15. However, it reflects a drop to $80.74 in 2008 before recovering to $102.11 in 2009.\\n\\nThe final row presents the returns for the Dow Jones Transportation Average, which also starts with an initial investment of $100. This index shows a similar upward trend to the S&P 500, with a peak of $124.35 in 2007, but it declines to $97.72 in 2008 before ending at $115.88 in 2009.\\n\\nOverall, the table vividly highlights the changes in investment value over five years for each entity and allows for comparison of their performance during that period.\\n\\n### Table in Markdown Format\\n\\n```markdown\\n| Date       | United Parcel Service Inc. | S&P 500 Index | Dow Jones Transportation Average |\\n|------------|-----------------------------|----------------|----------------------------------|\\n| 12/31/04   | $ 100.00                    | $ 100.00       | $ 100.00                         |\\n| 12/31/05   | $ 89.49                     | $ 104.91       | $ 111.65                         |\\n| 12/31/06   | $ 91.06                     | $ 121.48       | $ 122.61                         |\\n| 12/31/07   | $ 87.88                     | $ 128.15       | $ 124.35                         |\\n| 12/31/08   | $ 70.48                     | $ 80.74        | $ 97.72                          |\\n| 12/31/09   | $ 75.95                     | $ 102.11       | $ 115.88                         |\\n```\")]"
      ]
     },
     "execution_count": 19,
     "metadata": {},
     "output_type": "execute_result"
    }
   ],
   "source": [
    "documents"
   ]
  },
  {
   "cell_type": "code",
   "execution_count": 20,
   "metadata": {},
   "outputs": [],
   "source": [
    "# Initialise ChromaDB vector store\n",
    "persist_directory = \"vectorstore\""
   ]
  },
  {
   "cell_type": "code",
   "execution_count": 21,
   "metadata": {},
   "outputs": [
    {
     "name": "stderr",
     "output_type": "stream",
     "text": [
      "/var/folders/4f/c9ycdnn56lx6fjnv2my0qwk80000gn/T/ipykernel_4263/299267684.py:6: LangChainDeprecationWarning: Since Chroma 0.4.x the manual persistence method is no longer supported as docs are automatically persisted.\n",
      "  vectorstore.persist()\n"
     ]
    }
   ],
   "source": [
    "vectorstore = Chroma.from_documents(\n",
    "    documents=documents,\n",
    "    embedding=embedding_model,\n",
    "    persist_directory=persist_directory\n",
    ")\n",
    "vectorstore.persist()"
   ]
  },
  {
   "cell_type": "markdown",
   "metadata": {},
   "source": [
    "### 8. Create the Prompt Template\n",
    "---"
   ]
  },
  {
   "cell_type": "code",
   "execution_count": 22,
   "metadata": {},
   "outputs": [],
   "source": [
    "FIN_PROMPT_TEMPLATE = \"\"\"\n",
    "You are a financial analyst assistant. Use the following pieces of context to answer the question about financial data in tables. \n",
    "If you don't know the answer, just say that you don't know, don't try to make up an answer.\n",
    "\n",
    "Context: {context}\n",
    "\n",
    "Question: {question}\n",
    "\n",
    "Provide a detailed answer with numerical calculations when applicable:\n",
    "\"\"\""
   ]
  },
  {
   "cell_type": "code",
   "execution_count": 23,
   "metadata": {},
   "outputs": [],
   "source": [
    "PROMPT = PromptTemplate(\n",
    "    template=FIN_PROMPT_TEMPLATE,\n",
    "    input_variables=[\"context\", \"question\"]\n",
    ")"
   ]
  },
  {
   "cell_type": "markdown",
   "metadata": {},
   "source": [
    "### 9. Query the vector store\n",
    "---"
   ]
  },
  {
   "cell_type": "code",
   "execution_count": 24,
   "metadata": {},
   "outputs": [
    {
     "name": "stderr",
     "output_type": "stream",
     "text": [
      "/var/folders/4f/c9ycdnn56lx6fjnv2my0qwk80000gn/T/ipykernel_4263/668712054.py:2: LangChainDeprecationWarning: The class `ChatOpenAI` was deprecated in LangChain 0.0.10 and will be removed in 1.0. An updated version of the class exists in the :class:`~langchain-openai package and should be used instead. To use it run `pip install -U :class:`~langchain-openai` and import as `from :class:`~langchain_openai import ChatOpenAI``.\n",
      "  llm = ChatOpenAI(model_name=\"gpt-4o-mini\", temperature=0)\n"
     ]
    }
   ],
   "source": [
    "# Initialize QA chain\n",
    "llm = ChatOpenAI(model_name=\"gpt-4o-mini\", temperature=0)\n",
    "qa_chain = RetrievalQA.from_chain_type(\n",
    "    llm=llm,\n",
    "    chain_type=\"stuff\",\n",
    "    retriever=vectorstore.as_retriever(search_kwargs={\"k\": 3}),\n",
    "    chain_type_kwargs={\"prompt\": PROMPT},\n",
    "    return_source_documents=True\n",
    ")"
   ]
  },
  {
   "cell_type": "code",
   "execution_count": 25,
   "metadata": {},
   "outputs": [],
   "source": [
    "def query_financial_data(question):\n",
    "    \"\"\"\n",
    "    Query the financial data using the QA chain.\n",
    "    \n",
    "    Args:\n",
    "        question (str): The question to ask about the financial data\n",
    "        \n",
    "    Returns:\n",
    "        Dict: Contains the answer and source documents\n",
    "    \"\"\"\n",
    "    result = qa_chain({\"query\": question})\n",
    "    return {\n",
    "        \"answer\": result[\"result\"],\n",
    "        \"source_documents\": [doc.page_content for doc in result[\"source_documents\"]]\n",
    "    }"
   ]
  },
  {
   "cell_type": "code",
   "execution_count": 32,
   "metadata": {},
   "outputs": [],
   "source": [
    "question = \"What was the net cash from operating activities in 2008?\""
   ]
  },
  {
   "cell_type": "code",
   "execution_count": 33,
   "metadata": {},
   "outputs": [],
   "source": [
    "result = query_financial_data(question)"
   ]
  },
  {
   "cell_type": "code",
   "execution_count": 34,
   "metadata": {},
   "outputs": [
    {
     "name": "stdout",
     "output_type": "stream",
     "text": [
      "The net cash from operating activities in 2008 was $181,001. \n",
      "\n",
      "This figure is taken directly from the provided table summarizing net cash from operating activities for the fiscal years ending June 30 from 2007 to 2009. Here is the relevant portion of the table for clarity:\n",
      "\n",
      "```markdown\n",
      "| Line Item                           | 2009         | 2008         | 2007         |\n",
      "|-------------------------------------|--------------|--------------|--------------|\n",
      "| **Net Cash from Operating Activities** | **$ 206,588** | **$ 181,001** | **$ 174,247** |\n",
      "```\n",
      "\n",
      "Thus, the net cash from operating activities for the fiscal year ended June 30, 2008, was **$181,001**.\n"
     ]
    }
   ],
   "source": [
    "print(result[\"answer\"])"
   ]
  },
  {
   "cell_type": "code",
   "execution_count": null,
   "metadata": {},
   "outputs": [],
   "source": []
  }
 ],
 "metadata": {
  "kernelspec": {
   "display_name": "llmengg",
   "language": "python",
   "name": "python3"
  },
  "language_info": {
   "codemirror_mode": {
    "name": "ipython",
    "version": 3
   },
   "file_extension": ".py",
   "mimetype": "text/x-python",
   "name": "python",
   "nbconvert_exporter": "python",
   "pygments_lexer": "ipython3",
   "version": "3.11.11"
  }
 },
 "nbformat": 4,
 "nbformat_minor": 2
}
