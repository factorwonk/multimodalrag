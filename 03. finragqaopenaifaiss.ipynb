{
 "cells": [
  {
   "cell_type": "code",
   "execution_count": 1,
   "metadata": {},
   "outputs": [],
   "source": [
    "import os\n",
    "import json\n",
    "import pandas as pd\n",
    "import ast\n",
    "import numpy as np\n",
    "import faiss\n",
    "import openai\n",
    " \n",
    "from typing import List\n",
    "from IPython.display import Markdown, display, update_display\n",
    "from dotenv import load_dotenv\n",
    "from convfinqaloader import convfinqadfloader\n",
    "from transformers import pipeline\n",
    "from openai import OpenAI"
   ]
  },
  {
   "cell_type": "code",
   "execution_count": 2,
   "metadata": {},
   "outputs": [],
   "source": [
    "pd.set_option('display.width', -1)\n",
    "pd.set_option('max_colwidth', 1000)"
   ]
  },
  {
   "cell_type": "code",
   "execution_count": 3,
   "metadata": {},
   "outputs": [
    {
     "name": "stdout",
     "output_type": "stream",
     "text": [
      "API key looks good so far\n"
     ]
    }
   ],
   "source": [
    "load_dotenv(override=True)\n",
    "api_key = os.getenv('OPENAI_API_KEY')\n",
    "\n",
    "if api_key and api_key.startswith('sk-proj-') and len(api_key)>10:\n",
    "    print(\"API key looks good so far\")\n",
    "else:\n",
    "    print(\"There might be a problem with your API key? Please visit the troubleshooting notebook!\")\n",
    "    \n",
    "openai = OpenAI()"
   ]
  },
  {
   "cell_type": "code",
   "execution_count": 4,
   "metadata": {},
   "outputs": [],
   "source": [
    "client = OpenAI(api_key=os.environ['OPENAI_API_KEY'])"
   ]
  },
  {
   "cell_type": "markdown",
   "metadata": {},
   "source": [
    "### 1. Load and Flattion ConvFinQA JSON data\n",
    "---"
   ]
  },
  {
   "cell_type": "code",
   "execution_count": 5,
   "metadata": {},
   "outputs": [],
   "source": [
    "df = convfinqadfloader(\"data/convfinqatrain.json\")"
   ]
  },
  {
   "cell_type": "markdown",
   "metadata": {},
   "source": [
    "### 2. Combine relevant text fields for retrieval\n",
    "---"
   ]
  },
  {
   "cell_type": "code",
   "execution_count": 6,
   "metadata": {},
   "outputs": [],
   "source": [
    "def create_combined_text(row):\n",
    "    \"\"\"\n",
    "    Combine key text fields to form a context string.\n",
    "    Uses 'pre_text', 'dialogue_text', 'post_text', and 'execution_answer'.\n",
    "    \"\"\"\n",
    "    texts = []\n",
    "    if pd.notnull(row.get('pre_text')):\n",
    "        texts.append(\"Pre-Text: \" + row['pre_text'])\n",
    "    if pd.notnull(row.get('dialogue_text')):\n",
    "        texts.append(\"Dialogue: \" + row['dialogue_text'])\n",
    "    if pd.notnull(row.get('post_text')):\n",
    "        texts.append(\"Post-Text: \" + row['post_text'])\n",
    "    if pd.notnull(row.get('execution_answer')):\n",
    "        texts.append(\"Execution Answer: \" + str(row['execution_answer']))\n",
    "    return \" | \".join(texts)"
   ]
  },
  {
   "cell_type": "code",
   "execution_count": 7,
   "metadata": {},
   "outputs": [],
   "source": [
    "# Create a new column 'combined_text'\n",
    "df['combined_text'] = df.apply(create_combined_text, axis=1)"
   ]
  },
  {
   "cell_type": "markdown",
   "metadata": {},
   "source": [
    "### 3. Chunking Documents\n",
    "---"
   ]
  },
  {
   "cell_type": "code",
   "execution_count": 8,
   "metadata": {},
   "outputs": [],
   "source": [
    "def chunk_text(text, chunk_size=200, chunk_overlap=100):\n",
    "    \"\"\"\n",
    "    Split a text into chunks of words with a specified chunk size and overlap.\n",
    "    chunk_size and chunk_overlap are measured in words.\n",
    "    \"\"\"\n",
    "    words = text.split()\n",
    "    chunks = []\n",
    "    start = 0\n",
    "    while start < len(words):\n",
    "        chunk = \" \".join(words[start: start + chunk_size])\n",
    "        chunks.append(chunk)\n",
    "        if start + chunk_size >= len(words):\n",
    "            break\n",
    "        start += (chunk_size - chunk_overlap)\n",
    "    return chunks\n"
   ]
  },
  {
   "cell_type": "code",
   "execution_count": 27,
   "metadata": {},
   "outputs": [],
   "source": [
    "# Only use the first 100 documents in the dataframe\n",
    "subset_df = df.iloc[:500].copy()"
   ]
  },
  {
   "cell_type": "code",
   "execution_count": 48,
   "metadata": {},
   "outputs": [
    {
     "data": {
      "text/html": [
       "<div>\n",
       "<style scoped>\n",
       "    .dataframe tbody tr th:only-of-type {\n",
       "        vertical-align: middle;\n",
       "    }\n",
       "\n",
       "    .dataframe tbody tr th {\n",
       "        vertical-align: top;\n",
       "    }\n",
       "\n",
       "    .dataframe thead th {\n",
       "        text-align: right;\n",
       "    }\n",
       "</style>\n",
       "<table border=\"1\" class=\"dataframe\">\n",
       "  <thead>\n",
       "    <tr style=\"text-align: right;\">\n",
       "      <th></th>\n",
       "      <th>id</th>\n",
       "      <th>pre_text</th>\n",
       "      <th>post_text</th>\n",
       "      <th>filename</th>\n",
       "      <th>table</th>\n",
       "      <th>dialogue_text</th>\n",
       "      <th>turn_program</th>\n",
       "      <th>qa_split</th>\n",
       "      <th>execution_answer</th>\n",
       "      <th>turn_index</th>\n",
       "      <th>question</th>\n",
       "      <th>answer</th>\n",
       "      <th>explanation</th>\n",
       "      <th>program</th>\n",
       "      <th>combined_text</th>\n",
       "    </tr>\n",
       "  </thead>\n",
       "  <tbody>\n",
       "    <tr>\n",
       "      <th>0</th>\n",
       "      <td>Single_JKHY/2009/page_28.pdf-3</td>\n",
       "      <td>26 | 2009 annual report in fiscal 2008 , revenues in the credit union systems and services business segment increased 14% ( 14 % ) from fiscal 2007 . all revenue components within the segment experienced growth during fiscal 2008 . license revenue generated the largest dollar growth in revenue as episys ae , our flagship core processing system aimed at larger credit unions , experienced strong sales throughout the year . support and service revenue , which is the largest component of total revenues for the credit union segment , experienced 34 percent growth in eft support and 10 percent growth in in-house support . gross profit in this business segment increased $ 9344 in fiscal 2008 compared to fiscal 2007 , due primarily to the increase in license revenue , which carries the highest margins . liquidity and capital resources we have historically generated positive cash flow from operations and have generally used funds generated from operations and short-term borrowings on our re...</td>\n",
       "      <td>year ended june 30 , cash provided by operations increased $ 25587 to $ 206588 for the fiscal year ended june 30 , 2009 as compared to $ 181001 for the fiscal year ended june 30 , 2008 . this increase is primarily attributable to a decrease in receivables compared to the same period a year ago of $ 21214 . this decrease is largely the result of fiscal 2010 annual software maintenance billings being provided to customers earlier than in the prior year , which allowed more cash to be collected before the end of the fiscal year than in previous years . further , we collected more cash overall related to revenues that will be recognized in subsequent periods in the current year than in fiscal 2008 . cash used in investing activities for the fiscal year ended june 2009 was $ 59227 and includes $ 3027 in contingent consideration paid on prior years 2019 acquisitions . cash used in investing activities for the fiscal year ended june 2008 was $ 102148 and includes payments for acquisitions...</td>\n",
       "      <td>JKHY/2009/page_28.pdf</td>\n",
       "      <td>[['2008', 'year ended june 30 2009 2008', 'year ended june 30 2009 2008', 'year ended june 30 2009'], ['net income', '$ 103102', '$ 104222', '$ 104681'], ['non-cash expenses', '74397', '70420', '56348'], ['change in receivables', '21214', '-2913 ( 2913 )', '-28853 ( 28853 )'], ['change in deferred revenue', '21943', '5100', '24576'], ['change in other assets and liabilities', '-14068 ( 14068 )', '4172', '17495'], ['net cash from operating activities', '$ 206588', '$ 181001', '$ 174247']]</td>\n",
       "      <td>what is the net cash from operating activities in 2009?</td>\n",
       "      <td>206588</td>\n",
       "      <td>0.0</td>\n",
       "      <td>206588.00000</td>\n",
       "      <td>0</td>\n",
       "      <td>NaN</td>\n",
       "      <td>NaN</td>\n",
       "      <td>NaN</td>\n",
       "      <td>NaN</td>\n",
       "      <td>Pre-Text: 26 | 2009 annual report in fiscal 2008 , revenues in the credit union systems and services business segment increased 14% ( 14 % ) from fiscal 2007 . all revenue components within the segment experienced growth during fiscal 2008 . license revenue generated the largest dollar growth in revenue as episys ae , our flagship core processing system aimed at larger credit unions , experienced strong sales throughout the year . support and service revenue , which is the largest component of total revenues for the credit union segment , experienced 34 percent growth in eft support and 10 percent growth in in-house support . gross profit in this business segment increased $ 9344 in fiscal 2008 compared to fiscal 2007 , due primarily to the increase in license revenue , which carries the highest margins . liquidity and capital resources we have historically generated positive cash flow from operations and have generally used funds generated from operations and short-term borrowings...</td>\n",
       "    </tr>\n",
       "    <tr>\n",
       "      <th>1</th>\n",
       "      <td>Single_JKHY/2009/page_28.pdf-3</td>\n",
       "      <td>26 | 2009 annual report in fiscal 2008 , revenues in the credit union systems and services business segment increased 14% ( 14 % ) from fiscal 2007 . all revenue components within the segment experienced growth during fiscal 2008 . license revenue generated the largest dollar growth in revenue as episys ae , our flagship core processing system aimed at larger credit unions , experienced strong sales throughout the year . support and service revenue , which is the largest component of total revenues for the credit union segment , experienced 34 percent growth in eft support and 10 percent growth in in-house support . gross profit in this business segment increased $ 9344 in fiscal 2008 compared to fiscal 2007 , due primarily to the increase in license revenue , which carries the highest margins . liquidity and capital resources we have historically generated positive cash flow from operations and have generally used funds generated from operations and short-term borrowings on our re...</td>\n",
       "      <td>year ended june 30 , cash provided by operations increased $ 25587 to $ 206588 for the fiscal year ended june 30 , 2009 as compared to $ 181001 for the fiscal year ended june 30 , 2008 . this increase is primarily attributable to a decrease in receivables compared to the same period a year ago of $ 21214 . this decrease is largely the result of fiscal 2010 annual software maintenance billings being provided to customers earlier than in the prior year , which allowed more cash to be collected before the end of the fiscal year than in previous years . further , we collected more cash overall related to revenues that will be recognized in subsequent periods in the current year than in fiscal 2008 . cash used in investing activities for the fiscal year ended june 2009 was $ 59227 and includes $ 3027 in contingent consideration paid on prior years 2019 acquisitions . cash used in investing activities for the fiscal year ended june 2008 was $ 102148 and includes payments for acquisitions...</td>\n",
       "      <td>JKHY/2009/page_28.pdf</td>\n",
       "      <td>[['2008', 'year ended june 30 2009 2008', 'year ended june 30 2009 2008', 'year ended june 30 2009'], ['net income', '$ 103102', '$ 104222', '$ 104681'], ['non-cash expenses', '74397', '70420', '56348'], ['change in receivables', '21214', '-2913 ( 2913 )', '-28853 ( 28853 )'], ['change in deferred revenue', '21943', '5100', '24576'], ['change in other assets and liabilities', '-14068 ( 14068 )', '4172', '17495'], ['net cash from operating activities', '$ 206588', '$ 181001', '$ 174247']]</td>\n",
       "      <td>what about in 2008?</td>\n",
       "      <td>181001</td>\n",
       "      <td>0.0</td>\n",
       "      <td>181001.00000</td>\n",
       "      <td>1</td>\n",
       "      <td>NaN</td>\n",
       "      <td>NaN</td>\n",
       "      <td>NaN</td>\n",
       "      <td>NaN</td>\n",
       "      <td>Pre-Text: 26 | 2009 annual report in fiscal 2008 , revenues in the credit union systems and services business segment increased 14% ( 14 % ) from fiscal 2007 . all revenue components within the segment experienced growth during fiscal 2008 . license revenue generated the largest dollar growth in revenue as episys ae , our flagship core processing system aimed at larger credit unions , experienced strong sales throughout the year . support and service revenue , which is the largest component of total revenues for the credit union segment , experienced 34 percent growth in eft support and 10 percent growth in in-house support . gross profit in this business segment increased $ 9344 in fiscal 2008 compared to fiscal 2007 , due primarily to the increase in license revenue , which carries the highest margins . liquidity and capital resources we have historically generated positive cash flow from operations and have generally used funds generated from operations and short-term borrowings...</td>\n",
       "    </tr>\n",
       "    <tr>\n",
       "      <th>2</th>\n",
       "      <td>Single_JKHY/2009/page_28.pdf-3</td>\n",
       "      <td>26 | 2009 annual report in fiscal 2008 , revenues in the credit union systems and services business segment increased 14% ( 14 % ) from fiscal 2007 . all revenue components within the segment experienced growth during fiscal 2008 . license revenue generated the largest dollar growth in revenue as episys ae , our flagship core processing system aimed at larger credit unions , experienced strong sales throughout the year . support and service revenue , which is the largest component of total revenues for the credit union segment , experienced 34 percent growth in eft support and 10 percent growth in in-house support . gross profit in this business segment increased $ 9344 in fiscal 2008 compared to fiscal 2007 , due primarily to the increase in license revenue , which carries the highest margins . liquidity and capital resources we have historically generated positive cash flow from operations and have generally used funds generated from operations and short-term borrowings on our re...</td>\n",
       "      <td>year ended june 30 , cash provided by operations increased $ 25587 to $ 206588 for the fiscal year ended june 30 , 2009 as compared to $ 181001 for the fiscal year ended june 30 , 2008 . this increase is primarily attributable to a decrease in receivables compared to the same period a year ago of $ 21214 . this decrease is largely the result of fiscal 2010 annual software maintenance billings being provided to customers earlier than in the prior year , which allowed more cash to be collected before the end of the fiscal year than in previous years . further , we collected more cash overall related to revenues that will be recognized in subsequent periods in the current year than in fiscal 2008 . cash used in investing activities for the fiscal year ended june 2009 was $ 59227 and includes $ 3027 in contingent consideration paid on prior years 2019 acquisitions . cash used in investing activities for the fiscal year ended june 2008 was $ 102148 and includes payments for acquisitions...</td>\n",
       "      <td>JKHY/2009/page_28.pdf</td>\n",
       "      <td>[['2008', 'year ended june 30 2009 2008', 'year ended june 30 2009 2008', 'year ended june 30 2009'], ['net income', '$ 103102', '$ 104222', '$ 104681'], ['non-cash expenses', '74397', '70420', '56348'], ['change in receivables', '21214', '-2913 ( 2913 )', '-28853 ( 28853 )'], ['change in deferred revenue', '21943', '5100', '24576'], ['change in other assets and liabilities', '-14068 ( 14068 )', '4172', '17495'], ['net cash from operating activities', '$ 206588', '$ 181001', '$ 174247']]</td>\n",
       "      <td>what is the difference?</td>\n",
       "      <td>subtract(206588, 181001)</td>\n",
       "      <td>0.0</td>\n",
       "      <td>25587.00000</td>\n",
       "      <td>2</td>\n",
       "      <td>NaN</td>\n",
       "      <td>NaN</td>\n",
       "      <td>NaN</td>\n",
       "      <td>NaN</td>\n",
       "      <td>Pre-Text: 26 | 2009 annual report in fiscal 2008 , revenues in the credit union systems and services business segment increased 14% ( 14 % ) from fiscal 2007 . all revenue components within the segment experienced growth during fiscal 2008 . license revenue generated the largest dollar growth in revenue as episys ae , our flagship core processing system aimed at larger credit unions , experienced strong sales throughout the year . support and service revenue , which is the largest component of total revenues for the credit union segment , experienced 34 percent growth in eft support and 10 percent growth in in-house support . gross profit in this business segment increased $ 9344 in fiscal 2008 compared to fiscal 2007 , due primarily to the increase in license revenue , which carries the highest margins . liquidity and capital resources we have historically generated positive cash flow from operations and have generally used funds generated from operations and short-term borrowings...</td>\n",
       "    </tr>\n",
       "    <tr>\n",
       "      <th>3</th>\n",
       "      <td>Single_JKHY/2009/page_28.pdf-3</td>\n",
       "      <td>26 | 2009 annual report in fiscal 2008 , revenues in the credit union systems and services business segment increased 14% ( 14 % ) from fiscal 2007 . all revenue components within the segment experienced growth during fiscal 2008 . license revenue generated the largest dollar growth in revenue as episys ae , our flagship core processing system aimed at larger credit unions , experienced strong sales throughout the year . support and service revenue , which is the largest component of total revenues for the credit union segment , experienced 34 percent growth in eft support and 10 percent growth in in-house support . gross profit in this business segment increased $ 9344 in fiscal 2008 compared to fiscal 2007 , due primarily to the increase in license revenue , which carries the highest margins . liquidity and capital resources we have historically generated positive cash flow from operations and have generally used funds generated from operations and short-term borrowings on our re...</td>\n",
       "      <td>year ended june 30 , cash provided by operations increased $ 25587 to $ 206588 for the fiscal year ended june 30 , 2009 as compared to $ 181001 for the fiscal year ended june 30 , 2008 . this increase is primarily attributable to a decrease in receivables compared to the same period a year ago of $ 21214 . this decrease is largely the result of fiscal 2010 annual software maintenance billings being provided to customers earlier than in the prior year , which allowed more cash to be collected before the end of the fiscal year than in previous years . further , we collected more cash overall related to revenues that will be recognized in subsequent periods in the current year than in fiscal 2008 . cash used in investing activities for the fiscal year ended june 2009 was $ 59227 and includes $ 3027 in contingent consideration paid on prior years 2019 acquisitions . cash used in investing activities for the fiscal year ended june 2008 was $ 102148 and includes payments for acquisitions...</td>\n",
       "      <td>JKHY/2009/page_28.pdf</td>\n",
       "      <td>[['2008', 'year ended june 30 2009 2008', 'year ended june 30 2009 2008', 'year ended june 30 2009'], ['net income', '$ 103102', '$ 104222', '$ 104681'], ['non-cash expenses', '74397', '70420', '56348'], ['change in receivables', '21214', '-2913 ( 2913 )', '-28853 ( 28853 )'], ['change in deferred revenue', '21943', '5100', '24576'], ['change in other assets and liabilities', '-14068 ( 14068 )', '4172', '17495'], ['net cash from operating activities', '$ 206588', '$ 181001', '$ 174247']]</td>\n",
       "      <td>what percentage change does this represent?</td>\n",
       "      <td>subtract(206588, 181001), divide(#0, 181001)</td>\n",
       "      <td>0.0</td>\n",
       "      <td>0.14136</td>\n",
       "      <td>3</td>\n",
       "      <td>NaN</td>\n",
       "      <td>NaN</td>\n",
       "      <td>NaN</td>\n",
       "      <td>NaN</td>\n",
       "      <td>Pre-Text: 26 | 2009 annual report in fiscal 2008 , revenues in the credit union systems and services business segment increased 14% ( 14 % ) from fiscal 2007 . all revenue components within the segment experienced growth during fiscal 2008 . license revenue generated the largest dollar growth in revenue as episys ae , our flagship core processing system aimed at larger credit unions , experienced strong sales throughout the year . support and service revenue , which is the largest component of total revenues for the credit union segment , experienced 34 percent growth in eft support and 10 percent growth in in-house support . gross profit in this business segment increased $ 9344 in fiscal 2008 compared to fiscal 2007 , due primarily to the increase in license revenue , which carries the highest margins . liquidity and capital resources we have historically generated positive cash flow from operations and have generally used funds generated from operations and short-term borrowings...</td>\n",
       "    </tr>\n",
       "    <tr>\n",
       "      <th>4</th>\n",
       "      <td>Single_JKHY/2009/page_28.pdf-3</td>\n",
       "      <td>26 | 2009 annual report in fiscal 2008 , revenues in the credit union systems and services business segment increased 14% ( 14 % ) from fiscal 2007 . all revenue components within the segment experienced growth during fiscal 2008 . license revenue generated the largest dollar growth in revenue as episys ae , our flagship core processing system aimed at larger credit unions , experienced strong sales throughout the year . support and service revenue , which is the largest component of total revenues for the credit union segment , experienced 34 percent growth in eft support and 10 percent growth in in-house support . gross profit in this business segment increased $ 9344 in fiscal 2008 compared to fiscal 2007 , due primarily to the increase in license revenue , which carries the highest margins . liquidity and capital resources we have historically generated positive cash flow from operations and have generally used funds generated from operations and short-term borrowings on our re...</td>\n",
       "      <td>year ended june 30 , cash provided by operations increased $ 25587 to $ 206588 for the fiscal year ended june 30 , 2009 as compared to $ 181001 for the fiscal year ended june 30 , 2008 . this increase is primarily attributable to a decrease in receivables compared to the same period a year ago of $ 21214 . this decrease is largely the result of fiscal 2010 annual software maintenance billings being provided to customers earlier than in the prior year , which allowed more cash to be collected before the end of the fiscal year than in previous years . further , we collected more cash overall related to revenues that will be recognized in subsequent periods in the current year than in fiscal 2008 . cash used in investing activities for the fiscal year ended june 2009 was $ 59227 and includes $ 3027 in contingent consideration paid on prior years 2019 acquisitions . cash used in investing activities for the fiscal year ended june 2008 was $ 102148 and includes payments for acquisitions...</td>\n",
       "      <td>JKHY/2009/page_28.pdf</td>\n",
       "      <td>[['2008', 'year ended june 30 2009 2008', 'year ended june 30 2009 2008', 'year ended june 30 2009'], ['net income', '$ 103102', '$ 104222', '$ 104681'], ['non-cash expenses', '74397', '70420', '56348'], ['change in receivables', '21214', '-2913 ( 2913 )', '-28853 ( 28853 )'], ['change in deferred revenue', '21943', '5100', '24576'], ['change in other assets and liabilities', '-14068 ( 14068 )', '4172', '17495'], ['net cash from operating activities', '$ 206588', '$ 181001', '$ 174247']]</td>\n",
       "      <td>NaN</td>\n",
       "      <td>NaN</td>\n",
       "      <td>NaN</td>\n",
       "      <td>0.14136</td>\n",
       "      <td>0</td>\n",
       "      <td>what was the percentage change in the net cash from operating activities from 2008 to 2009</td>\n",
       "      <td>14.1%</td>\n",
       "      <td></td>\n",
       "      <td>subtract(206588, 181001), divide(#0, 181001)</td>\n",
       "      <td>Pre-Text: 26 | 2009 annual report in fiscal 2008 , revenues in the credit union systems and services business segment increased 14% ( 14 % ) from fiscal 2007 . all revenue components within the segment experienced growth during fiscal 2008 . license revenue generated the largest dollar growth in revenue as episys ae , our flagship core processing system aimed at larger credit unions , experienced strong sales throughout the year . support and service revenue , which is the largest component of total revenues for the credit union segment , experienced 34 percent growth in eft support and 10 percent growth in in-house support . gross profit in this business segment increased $ 9344 in fiscal 2008 compared to fiscal 2007 , due primarily to the increase in license revenue , which carries the highest margins . liquidity and capital resources we have historically generated positive cash flow from operations and have generally used funds generated from operations and short-term borrowings...</td>\n",
       "    </tr>\n",
       "    <tr>\n",
       "      <th>5</th>\n",
       "      <td>Single_RSG/2008/page_114.pdf-2</td>\n",
       "      <td>substantially all of the goodwill and other intangible assets recorded related to the acquisition of allied are not deductible for tax purposes . pro forma information the consolidated financial statements presented for republic include the operating results of allied from the date of the acquisition . the following pro forma information is presented assuming the merger had been completed as of january 1 , 2007 . the unaudited pro forma information presented below has been prepared for illustrative purposes and is not intended to be indicative of the results of operations that would have actually occurred had the acquisition been consummated at the beginning of the periods presented or of future results of the combined operations ( in millions , except share and per share amounts ) . year ended december 31 , year ended december 31 , ( unaudited ) ( unaudited ) .</td>\n",
       "      <td>the above unaudited pro forma financial information includes adjustments for amortization of identifiable intangible assets , accretion of discounts to fair value associated with debt , environmental , self-insurance and other liabilities , accretion of capping , closure and post-closure obligations and amortization of the related assets , and provision for income taxes . assets held for sale as a condition of the merger with allied in december 2008 , we reached a settlement with the doj requiring us to divest of certain operations serving fifteen metropolitan areas including los angeles , ca ; san francisco , ca ; denver , co ; atlanta , ga ; northwestern indiana ; lexington , ky ; flint , mi ; cape girardeau , mo ; charlotte , nc ; cleveland , oh ; philadelphia , pa ; greenville-spartanburg , sc ; and fort worth , houston and lubbock , tx . the settlement requires us to divest 87 commercial waste collection routes , nine landfills and ten transfer stations , together with ancilla...</td>\n",
       "      <td>RSG/2008/page_114.pdf</td>\n",
       "      <td>[['', 'year ended december 31 2008 ( unaudited )', 'year ended december 31 2007 ( unaudited )'], ['revenue', '$ 9362.2', '$ 9244.9'], ['income from continuing operations available to common stockholders', '285.7', '423.2'], ['basic earnings per share', '.76', '1.10'], ['diluted earnings per share', '.75', '1.09']]</td>\n",
       "      <td>what were revenues in 2008?</td>\n",
       "      <td>9362.2</td>\n",
       "      <td>0.0</td>\n",
       "      <td>9362.20000</td>\n",
       "      <td>0</td>\n",
       "      <td>NaN</td>\n",
       "      <td>NaN</td>\n",
       "      <td>NaN</td>\n",
       "      <td>NaN</td>\n",
       "      <td>Pre-Text: substantially all of the goodwill and other intangible assets recorded related to the acquisition of allied are not deductible for tax purposes . pro forma information the consolidated financial statements presented for republic include the operating results of allied from the date of the acquisition . the following pro forma information is presented assuming the merger had been completed as of january 1 , 2007 . the unaudited pro forma information presented below has been prepared for illustrative purposes and is not intended to be indicative of the results of operations that would have actually occurred had the acquisition been consummated at the beginning of the periods presented or of future results of the combined operations ( in millions , except share and per share amounts ) . year ended december 31 , year ended december 31 , ( unaudited ) ( unaudited ) . | Dialogue: what were revenues in 2008? | Post-Text: the above unaudited pro forma financial information includ...</td>\n",
       "    </tr>\n",
       "    <tr>\n",
       "      <th>6</th>\n",
       "      <td>Single_RSG/2008/page_114.pdf-2</td>\n",
       "      <td>substantially all of the goodwill and other intangible assets recorded related to the acquisition of allied are not deductible for tax purposes . pro forma information the consolidated financial statements presented for republic include the operating results of allied from the date of the acquisition . the following pro forma information is presented assuming the merger had been completed as of january 1 , 2007 . the unaudited pro forma information presented below has been prepared for illustrative purposes and is not intended to be indicative of the results of operations that would have actually occurred had the acquisition been consummated at the beginning of the periods presented or of future results of the combined operations ( in millions , except share and per share amounts ) . year ended december 31 , year ended december 31 , ( unaudited ) ( unaudited ) .</td>\n",
       "      <td>the above unaudited pro forma financial information includes adjustments for amortization of identifiable intangible assets , accretion of discounts to fair value associated with debt , environmental , self-insurance and other liabilities , accretion of capping , closure and post-closure obligations and amortization of the related assets , and provision for income taxes . assets held for sale as a condition of the merger with allied in december 2008 , we reached a settlement with the doj requiring us to divest of certain operations serving fifteen metropolitan areas including los angeles , ca ; san francisco , ca ; denver , co ; atlanta , ga ; northwestern indiana ; lexington , ky ; flint , mi ; cape girardeau , mo ; charlotte , nc ; cleveland , oh ; philadelphia , pa ; greenville-spartanburg , sc ; and fort worth , houston and lubbock , tx . the settlement requires us to divest 87 commercial waste collection routes , nine landfills and ten transfer stations , together with ancilla...</td>\n",
       "      <td>RSG/2008/page_114.pdf</td>\n",
       "      <td>[['', 'year ended december 31 2008 ( unaudited )', 'year ended december 31 2007 ( unaudited )'], ['revenue', '$ 9362.2', '$ 9244.9'], ['income from continuing operations available to common stockholders', '285.7', '423.2'], ['basic earnings per share', '.76', '1.10'], ['diluted earnings per share', '.75', '1.09']]</td>\n",
       "      <td>what were they in 2007?</td>\n",
       "      <td>9244.9</td>\n",
       "      <td>0.0</td>\n",
       "      <td>9244.90000</td>\n",
       "      <td>1</td>\n",
       "      <td>NaN</td>\n",
       "      <td>NaN</td>\n",
       "      <td>NaN</td>\n",
       "      <td>NaN</td>\n",
       "      <td>Pre-Text: substantially all of the goodwill and other intangible assets recorded related to the acquisition of allied are not deductible for tax purposes . pro forma information the consolidated financial statements presented for republic include the operating results of allied from the date of the acquisition . the following pro forma information is presented assuming the merger had been completed as of january 1 , 2007 . the unaudited pro forma information presented below has been prepared for illustrative purposes and is not intended to be indicative of the results of operations that would have actually occurred had the acquisition been consummated at the beginning of the periods presented or of future results of the combined operations ( in millions , except share and per share amounts ) . year ended december 31 , year ended december 31 , ( unaudited ) ( unaudited ) . | Dialogue: what were they in 2007? | Post-Text: the above unaudited pro forma financial information includes a...</td>\n",
       "    </tr>\n",
       "    <tr>\n",
       "      <th>7</th>\n",
       "      <td>Single_RSG/2008/page_114.pdf-2</td>\n",
       "      <td>substantially all of the goodwill and other intangible assets recorded related to the acquisition of allied are not deductible for tax purposes . pro forma information the consolidated financial statements presented for republic include the operating results of allied from the date of the acquisition . the following pro forma information is presented assuming the merger had been completed as of january 1 , 2007 . the unaudited pro forma information presented below has been prepared for illustrative purposes and is not intended to be indicative of the results of operations that would have actually occurred had the acquisition been consummated at the beginning of the periods presented or of future results of the combined operations ( in millions , except share and per share amounts ) . year ended december 31 , year ended december 31 , ( unaudited ) ( unaudited ) .</td>\n",
       "      <td>the above unaudited pro forma financial information includes adjustments for amortization of identifiable intangible assets , accretion of discounts to fair value associated with debt , environmental , self-insurance and other liabilities , accretion of capping , closure and post-closure obligations and amortization of the related assets , and provision for income taxes . assets held for sale as a condition of the merger with allied in december 2008 , we reached a settlement with the doj requiring us to divest of certain operations serving fifteen metropolitan areas including los angeles , ca ; san francisco , ca ; denver , co ; atlanta , ga ; northwestern indiana ; lexington , ky ; flint , mi ; cape girardeau , mo ; charlotte , nc ; cleveland , oh ; philadelphia , pa ; greenville-spartanburg , sc ; and fort worth , houston and lubbock , tx . the settlement requires us to divest 87 commercial waste collection routes , nine landfills and ten transfer stations , together with ancilla...</td>\n",
       "      <td>RSG/2008/page_114.pdf</td>\n",
       "      <td>[['', 'year ended december 31 2008 ( unaudited )', 'year ended december 31 2007 ( unaudited )'], ['revenue', '$ 9362.2', '$ 9244.9'], ['income from continuing operations available to common stockholders', '285.7', '423.2'], ['basic earnings per share', '.76', '1.10'], ['diluted earnings per share', '.75', '1.09']]</td>\n",
       "      <td>what was the net change?</td>\n",
       "      <td>subtract(9362.2, 9244.9)</td>\n",
       "      <td>0.0</td>\n",
       "      <td>117.30000</td>\n",
       "      <td>2</td>\n",
       "      <td>NaN</td>\n",
       "      <td>NaN</td>\n",
       "      <td>NaN</td>\n",
       "      <td>NaN</td>\n",
       "      <td>Pre-Text: substantially all of the goodwill and other intangible assets recorded related to the acquisition of allied are not deductible for tax purposes . pro forma information the consolidated financial statements presented for republic include the operating results of allied from the date of the acquisition . the following pro forma information is presented assuming the merger had been completed as of january 1 , 2007 . the unaudited pro forma information presented below has been prepared for illustrative purposes and is not intended to be indicative of the results of operations that would have actually occurred had the acquisition been consummated at the beginning of the periods presented or of future results of the combined operations ( in millions , except share and per share amounts ) . year ended december 31 , year ended december 31 , ( unaudited ) ( unaudited ) . | Dialogue: what was the net change? | Post-Text: the above unaudited pro forma financial information includes ...</td>\n",
       "    </tr>\n",
       "    <tr>\n",
       "      <th>8</th>\n",
       "      <td>Single_RSG/2008/page_114.pdf-2</td>\n",
       "      <td>substantially all of the goodwill and other intangible assets recorded related to the acquisition of allied are not deductible for tax purposes . pro forma information the consolidated financial statements presented for republic include the operating results of allied from the date of the acquisition . the following pro forma information is presented assuming the merger had been completed as of january 1 , 2007 . the unaudited pro forma information presented below has been prepared for illustrative purposes and is not intended to be indicative of the results of operations that would have actually occurred had the acquisition been consummated at the beginning of the periods presented or of future results of the combined operations ( in millions , except share and per share amounts ) . year ended december 31 , year ended december 31 , ( unaudited ) ( unaudited ) .</td>\n",
       "      <td>the above unaudited pro forma financial information includes adjustments for amortization of identifiable intangible assets , accretion of discounts to fair value associated with debt , environmental , self-insurance and other liabilities , accretion of capping , closure and post-closure obligations and amortization of the related assets , and provision for income taxes . assets held for sale as a condition of the merger with allied in december 2008 , we reached a settlement with the doj requiring us to divest of certain operations serving fifteen metropolitan areas including los angeles , ca ; san francisco , ca ; denver , co ; atlanta , ga ; northwestern indiana ; lexington , ky ; flint , mi ; cape girardeau , mo ; charlotte , nc ; cleveland , oh ; philadelphia , pa ; greenville-spartanburg , sc ; and fort worth , houston and lubbock , tx . the settlement requires us to divest 87 commercial waste collection routes , nine landfills and ten transfer stations , together with ancilla...</td>\n",
       "      <td>RSG/2008/page_114.pdf</td>\n",
       "      <td>[['', 'year ended december 31 2008 ( unaudited )', 'year ended december 31 2007 ( unaudited )'], ['revenue', '$ 9362.2', '$ 9244.9'], ['income from continuing operations available to common stockholders', '285.7', '423.2'], ['basic earnings per share', '.76', '1.10'], ['diluted earnings per share', '.75', '1.09']]</td>\n",
       "      <td>what is the percent change?</td>\n",
       "      <td>subtract(9362.2, 9244.9), divide(#0, 9244.9)</td>\n",
       "      <td>0.0</td>\n",
       "      <td>0.01269</td>\n",
       "      <td>3</td>\n",
       "      <td>NaN</td>\n",
       "      <td>NaN</td>\n",
       "      <td>NaN</td>\n",
       "      <td>NaN</td>\n",
       "      <td>Pre-Text: substantially all of the goodwill and other intangible assets recorded related to the acquisition of allied are not deductible for tax purposes . pro forma information the consolidated financial statements presented for republic include the operating results of allied from the date of the acquisition . the following pro forma information is presented assuming the merger had been completed as of january 1 , 2007 . the unaudited pro forma information presented below has been prepared for illustrative purposes and is not intended to be indicative of the results of operations that would have actually occurred had the acquisition been consummated at the beginning of the periods presented or of future results of the combined operations ( in millions , except share and per share amounts ) . year ended december 31 , year ended december 31 , ( unaudited ) ( unaudited ) . | Dialogue: what is the percent change? | Post-Text: the above unaudited pro forma financial information includ...</td>\n",
       "    </tr>\n",
       "    <tr>\n",
       "      <th>9</th>\n",
       "      <td>Single_RSG/2008/page_114.pdf-2</td>\n",
       "      <td>substantially all of the goodwill and other intangible assets recorded related to the acquisition of allied are not deductible for tax purposes . pro forma information the consolidated financial statements presented for republic include the operating results of allied from the date of the acquisition . the following pro forma information is presented assuming the merger had been completed as of january 1 , 2007 . the unaudited pro forma information presented below has been prepared for illustrative purposes and is not intended to be indicative of the results of operations that would have actually occurred had the acquisition been consummated at the beginning of the periods presented or of future results of the combined operations ( in millions , except share and per share amounts ) . year ended december 31 , year ended december 31 , ( unaudited ) ( unaudited ) .</td>\n",
       "      <td>the above unaudited pro forma financial information includes adjustments for amortization of identifiable intangible assets , accretion of discounts to fair value associated with debt , environmental , self-insurance and other liabilities , accretion of capping , closure and post-closure obligations and amortization of the related assets , and provision for income taxes . assets held for sale as a condition of the merger with allied in december 2008 , we reached a settlement with the doj requiring us to divest of certain operations serving fifteen metropolitan areas including los angeles , ca ; san francisco , ca ; denver , co ; atlanta , ga ; northwestern indiana ; lexington , ky ; flint , mi ; cape girardeau , mo ; charlotte , nc ; cleveland , oh ; philadelphia , pa ; greenville-spartanburg , sc ; and fort worth , houston and lubbock , tx . the settlement requires us to divest 87 commercial waste collection routes , nine landfills and ten transfer stations , together with ancilla...</td>\n",
       "      <td>RSG/2008/page_114.pdf</td>\n",
       "      <td>[['', 'year ended december 31 2008 ( unaudited )', 'year ended december 31 2007 ( unaudited )'], ['revenue', '$ 9362.2', '$ 9244.9'], ['income from continuing operations available to common stockholders', '285.7', '423.2'], ['basic earnings per share', '.76', '1.10'], ['diluted earnings per share', '.75', '1.09']]</td>\n",
       "      <td>NaN</td>\n",
       "      <td>NaN</td>\n",
       "      <td>NaN</td>\n",
       "      <td>0.01269</td>\n",
       "      <td>0</td>\n",
       "      <td>what was the percent of the growth in the revenues from 2007 to 2008</td>\n",
       "      <td>1.3%</td>\n",
       "      <td>the percent growth of the revenue is the difference between the 2 divide by the oldest amount</td>\n",
       "      <td>subtract(9362.2, 9244.9), divide(#0, 9244.9)</td>\n",
       "      <td>Pre-Text: substantially all of the goodwill and other intangible assets recorded related to the acquisition of allied are not deductible for tax purposes . pro forma information the consolidated financial statements presented for republic include the operating results of allied from the date of the acquisition . the following pro forma information is presented assuming the merger had been completed as of january 1 , 2007 . the unaudited pro forma information presented below has been prepared for illustrative purposes and is not intended to be indicative of the results of operations that would have actually occurred had the acquisition been consummated at the beginning of the periods presented or of future results of the combined operations ( in millions , except share and per share amounts ) . year ended december 31 , year ended december 31 , ( unaudited ) ( unaudited ) . | Post-Text: the above unaudited pro forma financial information includes adjustments for amortization of ident...</td>\n",
       "    </tr>\n",
       "  </tbody>\n",
       "</table>\n",
       "</div>"
      ],
      "text/plain": [
       "                               id  \\\n",
       "0  Single_JKHY/2009/page_28.pdf-3   \n",
       "1  Single_JKHY/2009/page_28.pdf-3   \n",
       "2  Single_JKHY/2009/page_28.pdf-3   \n",
       "3  Single_JKHY/2009/page_28.pdf-3   \n",
       "4  Single_JKHY/2009/page_28.pdf-3   \n",
       "5  Single_RSG/2008/page_114.pdf-2   \n",
       "6  Single_RSG/2008/page_114.pdf-2   \n",
       "7  Single_RSG/2008/page_114.pdf-2   \n",
       "8  Single_RSG/2008/page_114.pdf-2   \n",
       "9  Single_RSG/2008/page_114.pdf-2   \n",
       "\n",
       "                                                                                                                                                                                                                                                                                                                                                                                                                                                                                                                                                                                                                                                                                                                                                                                                                                                                                                                                                                                                                                  pre_text  \\\n",
       "0  26 | 2009 annual report in fiscal 2008 , revenues in the credit union systems and services business segment increased 14% ( 14 % ) from fiscal 2007 . all revenue components within the segment experienced growth during fiscal 2008 . license revenue generated the largest dollar growth in revenue as episys ae , our flagship core processing system aimed at larger credit unions , experienced strong sales throughout the year . support and service revenue , which is the largest component of total revenues for the credit union segment , experienced 34 percent growth in eft support and 10 percent growth in in-house support . gross profit in this business segment increased $ 9344 in fiscal 2008 compared to fiscal 2007 , due primarily to the increase in license revenue , which carries the highest margins . liquidity and capital resources we have historically generated positive cash flow from operations and have generally used funds generated from operations and short-term borrowings on our re...   \n",
       "1  26 | 2009 annual report in fiscal 2008 , revenues in the credit union systems and services business segment increased 14% ( 14 % ) from fiscal 2007 . all revenue components within the segment experienced growth during fiscal 2008 . license revenue generated the largest dollar growth in revenue as episys ae , our flagship core processing system aimed at larger credit unions , experienced strong sales throughout the year . support and service revenue , which is the largest component of total revenues for the credit union segment , experienced 34 percent growth in eft support and 10 percent growth in in-house support . gross profit in this business segment increased $ 9344 in fiscal 2008 compared to fiscal 2007 , due primarily to the increase in license revenue , which carries the highest margins . liquidity and capital resources we have historically generated positive cash flow from operations and have generally used funds generated from operations and short-term borrowings on our re...   \n",
       "2  26 | 2009 annual report in fiscal 2008 , revenues in the credit union systems and services business segment increased 14% ( 14 % ) from fiscal 2007 . all revenue components within the segment experienced growth during fiscal 2008 . license revenue generated the largest dollar growth in revenue as episys ae , our flagship core processing system aimed at larger credit unions , experienced strong sales throughout the year . support and service revenue , which is the largest component of total revenues for the credit union segment , experienced 34 percent growth in eft support and 10 percent growth in in-house support . gross profit in this business segment increased $ 9344 in fiscal 2008 compared to fiscal 2007 , due primarily to the increase in license revenue , which carries the highest margins . liquidity and capital resources we have historically generated positive cash flow from operations and have generally used funds generated from operations and short-term borrowings on our re...   \n",
       "3  26 | 2009 annual report in fiscal 2008 , revenues in the credit union systems and services business segment increased 14% ( 14 % ) from fiscal 2007 . all revenue components within the segment experienced growth during fiscal 2008 . license revenue generated the largest dollar growth in revenue as episys ae , our flagship core processing system aimed at larger credit unions , experienced strong sales throughout the year . support and service revenue , which is the largest component of total revenues for the credit union segment , experienced 34 percent growth in eft support and 10 percent growth in in-house support . gross profit in this business segment increased $ 9344 in fiscal 2008 compared to fiscal 2007 , due primarily to the increase in license revenue , which carries the highest margins . liquidity and capital resources we have historically generated positive cash flow from operations and have generally used funds generated from operations and short-term borrowings on our re...   \n",
       "4  26 | 2009 annual report in fiscal 2008 , revenues in the credit union systems and services business segment increased 14% ( 14 % ) from fiscal 2007 . all revenue components within the segment experienced growth during fiscal 2008 . license revenue generated the largest dollar growth in revenue as episys ae , our flagship core processing system aimed at larger credit unions , experienced strong sales throughout the year . support and service revenue , which is the largest component of total revenues for the credit union segment , experienced 34 percent growth in eft support and 10 percent growth in in-house support . gross profit in this business segment increased $ 9344 in fiscal 2008 compared to fiscal 2007 , due primarily to the increase in license revenue , which carries the highest margins . liquidity and capital resources we have historically generated positive cash flow from operations and have generally used funds generated from operations and short-term borrowings on our re...   \n",
       "5                                                                                                                               substantially all of the goodwill and other intangible assets recorded related to the acquisition of allied are not deductible for tax purposes . pro forma information the consolidated financial statements presented for republic include the operating results of allied from the date of the acquisition . the following pro forma information is presented assuming the merger had been completed as of january 1 , 2007 . the unaudited pro forma information presented below has been prepared for illustrative purposes and is not intended to be indicative of the results of operations that would have actually occurred had the acquisition been consummated at the beginning of the periods presented or of future results of the combined operations ( in millions , except share and per share amounts ) . year ended december 31 , year ended december 31 , ( unaudited ) ( unaudited ) .   \n",
       "6                                                                                                                               substantially all of the goodwill and other intangible assets recorded related to the acquisition of allied are not deductible for tax purposes . pro forma information the consolidated financial statements presented for republic include the operating results of allied from the date of the acquisition . the following pro forma information is presented assuming the merger had been completed as of january 1 , 2007 . the unaudited pro forma information presented below has been prepared for illustrative purposes and is not intended to be indicative of the results of operations that would have actually occurred had the acquisition been consummated at the beginning of the periods presented or of future results of the combined operations ( in millions , except share and per share amounts ) . year ended december 31 , year ended december 31 , ( unaudited ) ( unaudited ) .   \n",
       "7                                                                                                                               substantially all of the goodwill and other intangible assets recorded related to the acquisition of allied are not deductible for tax purposes . pro forma information the consolidated financial statements presented for republic include the operating results of allied from the date of the acquisition . the following pro forma information is presented assuming the merger had been completed as of january 1 , 2007 . the unaudited pro forma information presented below has been prepared for illustrative purposes and is not intended to be indicative of the results of operations that would have actually occurred had the acquisition been consummated at the beginning of the periods presented or of future results of the combined operations ( in millions , except share and per share amounts ) . year ended december 31 , year ended december 31 , ( unaudited ) ( unaudited ) .   \n",
       "8                                                                                                                               substantially all of the goodwill and other intangible assets recorded related to the acquisition of allied are not deductible for tax purposes . pro forma information the consolidated financial statements presented for republic include the operating results of allied from the date of the acquisition . the following pro forma information is presented assuming the merger had been completed as of january 1 , 2007 . the unaudited pro forma information presented below has been prepared for illustrative purposes and is not intended to be indicative of the results of operations that would have actually occurred had the acquisition been consummated at the beginning of the periods presented or of future results of the combined operations ( in millions , except share and per share amounts ) . year ended december 31 , year ended december 31 , ( unaudited ) ( unaudited ) .   \n",
       "9                                                                                                                               substantially all of the goodwill and other intangible assets recorded related to the acquisition of allied are not deductible for tax purposes . pro forma information the consolidated financial statements presented for republic include the operating results of allied from the date of the acquisition . the following pro forma information is presented assuming the merger had been completed as of january 1 , 2007 . the unaudited pro forma information presented below has been prepared for illustrative purposes and is not intended to be indicative of the results of operations that would have actually occurred had the acquisition been consummated at the beginning of the periods presented or of future results of the combined operations ( in millions , except share and per share amounts ) . year ended december 31 , year ended december 31 , ( unaudited ) ( unaudited ) .   \n",
       "\n",
       "                                                                                                                                                                                                                                                                                                                                                                                                                                                                                                                                                                                                                                                                                                                                                                                                                                                                                                                                                                                                                                 post_text  \\\n",
       "0  year ended june 30 , cash provided by operations increased $ 25587 to $ 206588 for the fiscal year ended june 30 , 2009 as compared to $ 181001 for the fiscal year ended june 30 , 2008 . this increase is primarily attributable to a decrease in receivables compared to the same period a year ago of $ 21214 . this decrease is largely the result of fiscal 2010 annual software maintenance billings being provided to customers earlier than in the prior year , which allowed more cash to be collected before the end of the fiscal year than in previous years . further , we collected more cash overall related to revenues that will be recognized in subsequent periods in the current year than in fiscal 2008 . cash used in investing activities for the fiscal year ended june 2009 was $ 59227 and includes $ 3027 in contingent consideration paid on prior years 2019 acquisitions . cash used in investing activities for the fiscal year ended june 2008 was $ 102148 and includes payments for acquisitions...   \n",
       "1  year ended june 30 , cash provided by operations increased $ 25587 to $ 206588 for the fiscal year ended june 30 , 2009 as compared to $ 181001 for the fiscal year ended june 30 , 2008 . this increase is primarily attributable to a decrease in receivables compared to the same period a year ago of $ 21214 . this decrease is largely the result of fiscal 2010 annual software maintenance billings being provided to customers earlier than in the prior year , which allowed more cash to be collected before the end of the fiscal year than in previous years . further , we collected more cash overall related to revenues that will be recognized in subsequent periods in the current year than in fiscal 2008 . cash used in investing activities for the fiscal year ended june 2009 was $ 59227 and includes $ 3027 in contingent consideration paid on prior years 2019 acquisitions . cash used in investing activities for the fiscal year ended june 2008 was $ 102148 and includes payments for acquisitions...   \n",
       "2  year ended june 30 , cash provided by operations increased $ 25587 to $ 206588 for the fiscal year ended june 30 , 2009 as compared to $ 181001 for the fiscal year ended june 30 , 2008 . this increase is primarily attributable to a decrease in receivables compared to the same period a year ago of $ 21214 . this decrease is largely the result of fiscal 2010 annual software maintenance billings being provided to customers earlier than in the prior year , which allowed more cash to be collected before the end of the fiscal year than in previous years . further , we collected more cash overall related to revenues that will be recognized in subsequent periods in the current year than in fiscal 2008 . cash used in investing activities for the fiscal year ended june 2009 was $ 59227 and includes $ 3027 in contingent consideration paid on prior years 2019 acquisitions . cash used in investing activities for the fiscal year ended june 2008 was $ 102148 and includes payments for acquisitions...   \n",
       "3  year ended june 30 , cash provided by operations increased $ 25587 to $ 206588 for the fiscal year ended june 30 , 2009 as compared to $ 181001 for the fiscal year ended june 30 , 2008 . this increase is primarily attributable to a decrease in receivables compared to the same period a year ago of $ 21214 . this decrease is largely the result of fiscal 2010 annual software maintenance billings being provided to customers earlier than in the prior year , which allowed more cash to be collected before the end of the fiscal year than in previous years . further , we collected more cash overall related to revenues that will be recognized in subsequent periods in the current year than in fiscal 2008 . cash used in investing activities for the fiscal year ended june 2009 was $ 59227 and includes $ 3027 in contingent consideration paid on prior years 2019 acquisitions . cash used in investing activities for the fiscal year ended june 2008 was $ 102148 and includes payments for acquisitions...   \n",
       "4  year ended june 30 , cash provided by operations increased $ 25587 to $ 206588 for the fiscal year ended june 30 , 2009 as compared to $ 181001 for the fiscal year ended june 30 , 2008 . this increase is primarily attributable to a decrease in receivables compared to the same period a year ago of $ 21214 . this decrease is largely the result of fiscal 2010 annual software maintenance billings being provided to customers earlier than in the prior year , which allowed more cash to be collected before the end of the fiscal year than in previous years . further , we collected more cash overall related to revenues that will be recognized in subsequent periods in the current year than in fiscal 2008 . cash used in investing activities for the fiscal year ended june 2009 was $ 59227 and includes $ 3027 in contingent consideration paid on prior years 2019 acquisitions . cash used in investing activities for the fiscal year ended june 2008 was $ 102148 and includes payments for acquisitions...   \n",
       "5  the above unaudited pro forma financial information includes adjustments for amortization of identifiable intangible assets , accretion of discounts to fair value associated with debt , environmental , self-insurance and other liabilities , accretion of capping , closure and post-closure obligations and amortization of the related assets , and provision for income taxes . assets held for sale as a condition of the merger with allied in december 2008 , we reached a settlement with the doj requiring us to divest of certain operations serving fifteen metropolitan areas including los angeles , ca ; san francisco , ca ; denver , co ; atlanta , ga ; northwestern indiana ; lexington , ky ; flint , mi ; cape girardeau , mo ; charlotte , nc ; cleveland , oh ; philadelphia , pa ; greenville-spartanburg , sc ; and fort worth , houston and lubbock , tx . the settlement requires us to divest 87 commercial waste collection routes , nine landfills and ten transfer stations , together with ancilla...   \n",
       "6  the above unaudited pro forma financial information includes adjustments for amortization of identifiable intangible assets , accretion of discounts to fair value associated with debt , environmental , self-insurance and other liabilities , accretion of capping , closure and post-closure obligations and amortization of the related assets , and provision for income taxes . assets held for sale as a condition of the merger with allied in december 2008 , we reached a settlement with the doj requiring us to divest of certain operations serving fifteen metropolitan areas including los angeles , ca ; san francisco , ca ; denver , co ; atlanta , ga ; northwestern indiana ; lexington , ky ; flint , mi ; cape girardeau , mo ; charlotte , nc ; cleveland , oh ; philadelphia , pa ; greenville-spartanburg , sc ; and fort worth , houston and lubbock , tx . the settlement requires us to divest 87 commercial waste collection routes , nine landfills and ten transfer stations , together with ancilla...   \n",
       "7  the above unaudited pro forma financial information includes adjustments for amortization of identifiable intangible assets , accretion of discounts to fair value associated with debt , environmental , self-insurance and other liabilities , accretion of capping , closure and post-closure obligations and amortization of the related assets , and provision for income taxes . assets held for sale as a condition of the merger with allied in december 2008 , we reached a settlement with the doj requiring us to divest of certain operations serving fifteen metropolitan areas including los angeles , ca ; san francisco , ca ; denver , co ; atlanta , ga ; northwestern indiana ; lexington , ky ; flint , mi ; cape girardeau , mo ; charlotte , nc ; cleveland , oh ; philadelphia , pa ; greenville-spartanburg , sc ; and fort worth , houston and lubbock , tx . the settlement requires us to divest 87 commercial waste collection routes , nine landfills and ten transfer stations , together with ancilla...   \n",
       "8  the above unaudited pro forma financial information includes adjustments for amortization of identifiable intangible assets , accretion of discounts to fair value associated with debt , environmental , self-insurance and other liabilities , accretion of capping , closure and post-closure obligations and amortization of the related assets , and provision for income taxes . assets held for sale as a condition of the merger with allied in december 2008 , we reached a settlement with the doj requiring us to divest of certain operations serving fifteen metropolitan areas including los angeles , ca ; san francisco , ca ; denver , co ; atlanta , ga ; northwestern indiana ; lexington , ky ; flint , mi ; cape girardeau , mo ; charlotte , nc ; cleveland , oh ; philadelphia , pa ; greenville-spartanburg , sc ; and fort worth , houston and lubbock , tx . the settlement requires us to divest 87 commercial waste collection routes , nine landfills and ten transfer stations , together with ancilla...   \n",
       "9  the above unaudited pro forma financial information includes adjustments for amortization of identifiable intangible assets , accretion of discounts to fair value associated with debt , environmental , self-insurance and other liabilities , accretion of capping , closure and post-closure obligations and amortization of the related assets , and provision for income taxes . assets held for sale as a condition of the merger with allied in december 2008 , we reached a settlement with the doj requiring us to divest of certain operations serving fifteen metropolitan areas including los angeles , ca ; san francisco , ca ; denver , co ; atlanta , ga ; northwestern indiana ; lexington , ky ; flint , mi ; cape girardeau , mo ; charlotte , nc ; cleveland , oh ; philadelphia , pa ; greenville-spartanburg , sc ; and fort worth , houston and lubbock , tx . the settlement requires us to divest 87 commercial waste collection routes , nine landfills and ten transfer stations , together with ancilla...   \n",
       "\n",
       "                filename  \\\n",
       "0  JKHY/2009/page_28.pdf   \n",
       "1  JKHY/2009/page_28.pdf   \n",
       "2  JKHY/2009/page_28.pdf   \n",
       "3  JKHY/2009/page_28.pdf   \n",
       "4  JKHY/2009/page_28.pdf   \n",
       "5  RSG/2008/page_114.pdf   \n",
       "6  RSG/2008/page_114.pdf   \n",
       "7  RSG/2008/page_114.pdf   \n",
       "8  RSG/2008/page_114.pdf   \n",
       "9  RSG/2008/page_114.pdf   \n",
       "\n",
       "                                                                                                                                                                                                                                                                                                                                                                                                                                                                                                          table  \\\n",
       "0  [['2008', 'year ended june 30 2009 2008', 'year ended june 30 2009 2008', 'year ended june 30 2009'], ['net income', '$ 103102', '$ 104222', '$ 104681'], ['non-cash expenses', '74397', '70420', '56348'], ['change in receivables', '21214', '-2913 ( 2913 )', '-28853 ( 28853 )'], ['change in deferred revenue', '21943', '5100', '24576'], ['change in other assets and liabilities', '-14068 ( 14068 )', '4172', '17495'], ['net cash from operating activities', '$ 206588', '$ 181001', '$ 174247']]   \n",
       "1  [['2008', 'year ended june 30 2009 2008', 'year ended june 30 2009 2008', 'year ended june 30 2009'], ['net income', '$ 103102', '$ 104222', '$ 104681'], ['non-cash expenses', '74397', '70420', '56348'], ['change in receivables', '21214', '-2913 ( 2913 )', '-28853 ( 28853 )'], ['change in deferred revenue', '21943', '5100', '24576'], ['change in other assets and liabilities', '-14068 ( 14068 )', '4172', '17495'], ['net cash from operating activities', '$ 206588', '$ 181001', '$ 174247']]   \n",
       "2  [['2008', 'year ended june 30 2009 2008', 'year ended june 30 2009 2008', 'year ended june 30 2009'], ['net income', '$ 103102', '$ 104222', '$ 104681'], ['non-cash expenses', '74397', '70420', '56348'], ['change in receivables', '21214', '-2913 ( 2913 )', '-28853 ( 28853 )'], ['change in deferred revenue', '21943', '5100', '24576'], ['change in other assets and liabilities', '-14068 ( 14068 )', '4172', '17495'], ['net cash from operating activities', '$ 206588', '$ 181001', '$ 174247']]   \n",
       "3  [['2008', 'year ended june 30 2009 2008', 'year ended june 30 2009 2008', 'year ended june 30 2009'], ['net income', '$ 103102', '$ 104222', '$ 104681'], ['non-cash expenses', '74397', '70420', '56348'], ['change in receivables', '21214', '-2913 ( 2913 )', '-28853 ( 28853 )'], ['change in deferred revenue', '21943', '5100', '24576'], ['change in other assets and liabilities', '-14068 ( 14068 )', '4172', '17495'], ['net cash from operating activities', '$ 206588', '$ 181001', '$ 174247']]   \n",
       "4  [['2008', 'year ended june 30 2009 2008', 'year ended june 30 2009 2008', 'year ended june 30 2009'], ['net income', '$ 103102', '$ 104222', '$ 104681'], ['non-cash expenses', '74397', '70420', '56348'], ['change in receivables', '21214', '-2913 ( 2913 )', '-28853 ( 28853 )'], ['change in deferred revenue', '21943', '5100', '24576'], ['change in other assets and liabilities', '-14068 ( 14068 )', '4172', '17495'], ['net cash from operating activities', '$ 206588', '$ 181001', '$ 174247']]   \n",
       "5                                                                                                                                                                                   [['', 'year ended december 31 2008 ( unaudited )', 'year ended december 31 2007 ( unaudited )'], ['revenue', '$ 9362.2', '$ 9244.9'], ['income from continuing operations available to common stockholders', '285.7', '423.2'], ['basic earnings per share', '.76', '1.10'], ['diluted earnings per share', '.75', '1.09']]   \n",
       "6                                                                                                                                                                                   [['', 'year ended december 31 2008 ( unaudited )', 'year ended december 31 2007 ( unaudited )'], ['revenue', '$ 9362.2', '$ 9244.9'], ['income from continuing operations available to common stockholders', '285.7', '423.2'], ['basic earnings per share', '.76', '1.10'], ['diluted earnings per share', '.75', '1.09']]   \n",
       "7                                                                                                                                                                                   [['', 'year ended december 31 2008 ( unaudited )', 'year ended december 31 2007 ( unaudited )'], ['revenue', '$ 9362.2', '$ 9244.9'], ['income from continuing operations available to common stockholders', '285.7', '423.2'], ['basic earnings per share', '.76', '1.10'], ['diluted earnings per share', '.75', '1.09']]   \n",
       "8                                                                                                                                                                                   [['', 'year ended december 31 2008 ( unaudited )', 'year ended december 31 2007 ( unaudited )'], ['revenue', '$ 9362.2', '$ 9244.9'], ['income from continuing operations available to common stockholders', '285.7', '423.2'], ['basic earnings per share', '.76', '1.10'], ['diluted earnings per share', '.75', '1.09']]   \n",
       "9                                                                                                                                                                                   [['', 'year ended december 31 2008 ( unaudited )', 'year ended december 31 2007 ( unaudited )'], ['revenue', '$ 9362.2', '$ 9244.9'], ['income from continuing operations available to common stockholders', '285.7', '423.2'], ['basic earnings per share', '.76', '1.10'], ['diluted earnings per share', '.75', '1.09']]   \n",
       "\n",
       "                                             dialogue_text  \\\n",
       "0  what is the net cash from operating activities in 2009?   \n",
       "1                                      what about in 2008?   \n",
       "2                                  what is the difference?   \n",
       "3              what percentage change does this represent?   \n",
       "4                                                      NaN   \n",
       "5                              what were revenues in 2008?   \n",
       "6                                  what were they in 2007?   \n",
       "7                                 what was the net change?   \n",
       "8                              what is the percent change?   \n",
       "9                                                      NaN   \n",
       "\n",
       "                                   turn_program  \\\n",
       "0                                        206588   \n",
       "1                                        181001   \n",
       "2                      subtract(206588, 181001)   \n",
       "3  subtract(206588, 181001), divide(#0, 181001)   \n",
       "4                                           NaN   \n",
       "5                                        9362.2   \n",
       "6                                        9244.9   \n",
       "7                      subtract(9362.2, 9244.9)   \n",
       "8  subtract(9362.2, 9244.9), divide(#0, 9244.9)   \n",
       "9                                           NaN   \n",
       "\n",
       "   qa_split  \\\n",
       "0       0.0   \n",
       "1       0.0   \n",
       "2       0.0   \n",
       "3       0.0   \n",
       "4       NaN   \n",
       "5       0.0   \n",
       "6       0.0   \n",
       "7       0.0   \n",
       "8       0.0   \n",
       "9       NaN   \n",
       "\n",
       "   execution_answer  \\\n",
       "0      206588.00000   \n",
       "1      181001.00000   \n",
       "2       25587.00000   \n",
       "3           0.14136   \n",
       "4           0.14136   \n",
       "5        9362.20000   \n",
       "6        9244.90000   \n",
       "7         117.30000   \n",
       "8           0.01269   \n",
       "9           0.01269   \n",
       "\n",
       "   turn_index  \\\n",
       "0           0   \n",
       "1           1   \n",
       "2           2   \n",
       "3           3   \n",
       "4           0   \n",
       "5           0   \n",
       "6           1   \n",
       "7           2   \n",
       "8           3   \n",
       "9           0   \n",
       "\n",
       "                                                                                     question  \\\n",
       "0                                                                                         NaN   \n",
       "1                                                                                         NaN   \n",
       "2                                                                                         NaN   \n",
       "3                                                                                         NaN   \n",
       "4  what was the percentage change in the net cash from operating activities from 2008 to 2009   \n",
       "5                                                                                         NaN   \n",
       "6                                                                                         NaN   \n",
       "7                                                                                         NaN   \n",
       "8                                                                                         NaN   \n",
       "9                        what was the percent of the growth in the revenues from 2007 to 2008   \n",
       "\n",
       "  answer  \\\n",
       "0    NaN   \n",
       "1    NaN   \n",
       "2    NaN   \n",
       "3    NaN   \n",
       "4  14.1%   \n",
       "5    NaN   \n",
       "6    NaN   \n",
       "7    NaN   \n",
       "8    NaN   \n",
       "9   1.3%   \n",
       "\n",
       "                                                                                     explanation  \\\n",
       "0                                                                                            NaN   \n",
       "1                                                                                            NaN   \n",
       "2                                                                                            NaN   \n",
       "3                                                                                            NaN   \n",
       "4                                                                                                  \n",
       "5                                                                                            NaN   \n",
       "6                                                                                            NaN   \n",
       "7                                                                                            NaN   \n",
       "8                                                                                            NaN   \n",
       "9  the percent growth of the revenue is the difference between the 2 divide by the oldest amount   \n",
       "\n",
       "                                        program  \\\n",
       "0                                           NaN   \n",
       "1                                           NaN   \n",
       "2                                           NaN   \n",
       "3                                           NaN   \n",
       "4  subtract(206588, 181001), divide(#0, 181001)   \n",
       "5                                           NaN   \n",
       "6                                           NaN   \n",
       "7                                           NaN   \n",
       "8                                           NaN   \n",
       "9  subtract(9362.2, 9244.9), divide(#0, 9244.9)   \n",
       "\n",
       "                                                                                                                                                                                                                                                                                                                                                                                                                                                                                                                                                                                                                                                                                                                                                                                                                                                                                                                                                                                                                             combined_text  \n",
       "0  Pre-Text: 26 | 2009 annual report in fiscal 2008 , revenues in the credit union systems and services business segment increased 14% ( 14 % ) from fiscal 2007 . all revenue components within the segment experienced growth during fiscal 2008 . license revenue generated the largest dollar growth in revenue as episys ae , our flagship core processing system aimed at larger credit unions , experienced strong sales throughout the year . support and service revenue , which is the largest component of total revenues for the credit union segment , experienced 34 percent growth in eft support and 10 percent growth in in-house support . gross profit in this business segment increased $ 9344 in fiscal 2008 compared to fiscal 2007 , due primarily to the increase in license revenue , which carries the highest margins . liquidity and capital resources we have historically generated positive cash flow from operations and have generally used funds generated from operations and short-term borrowings...  \n",
       "1  Pre-Text: 26 | 2009 annual report in fiscal 2008 , revenues in the credit union systems and services business segment increased 14% ( 14 % ) from fiscal 2007 . all revenue components within the segment experienced growth during fiscal 2008 . license revenue generated the largest dollar growth in revenue as episys ae , our flagship core processing system aimed at larger credit unions , experienced strong sales throughout the year . support and service revenue , which is the largest component of total revenues for the credit union segment , experienced 34 percent growth in eft support and 10 percent growth in in-house support . gross profit in this business segment increased $ 9344 in fiscal 2008 compared to fiscal 2007 , due primarily to the increase in license revenue , which carries the highest margins . liquidity and capital resources we have historically generated positive cash flow from operations and have generally used funds generated from operations and short-term borrowings...  \n",
       "2  Pre-Text: 26 | 2009 annual report in fiscal 2008 , revenues in the credit union systems and services business segment increased 14% ( 14 % ) from fiscal 2007 . all revenue components within the segment experienced growth during fiscal 2008 . license revenue generated the largest dollar growth in revenue as episys ae , our flagship core processing system aimed at larger credit unions , experienced strong sales throughout the year . support and service revenue , which is the largest component of total revenues for the credit union segment , experienced 34 percent growth in eft support and 10 percent growth in in-house support . gross profit in this business segment increased $ 9344 in fiscal 2008 compared to fiscal 2007 , due primarily to the increase in license revenue , which carries the highest margins . liquidity and capital resources we have historically generated positive cash flow from operations and have generally used funds generated from operations and short-term borrowings...  \n",
       "3  Pre-Text: 26 | 2009 annual report in fiscal 2008 , revenues in the credit union systems and services business segment increased 14% ( 14 % ) from fiscal 2007 . all revenue components within the segment experienced growth during fiscal 2008 . license revenue generated the largest dollar growth in revenue as episys ae , our flagship core processing system aimed at larger credit unions , experienced strong sales throughout the year . support and service revenue , which is the largest component of total revenues for the credit union segment , experienced 34 percent growth in eft support and 10 percent growth in in-house support . gross profit in this business segment increased $ 9344 in fiscal 2008 compared to fiscal 2007 , due primarily to the increase in license revenue , which carries the highest margins . liquidity and capital resources we have historically generated positive cash flow from operations and have generally used funds generated from operations and short-term borrowings...  \n",
       "4  Pre-Text: 26 | 2009 annual report in fiscal 2008 , revenues in the credit union systems and services business segment increased 14% ( 14 % ) from fiscal 2007 . all revenue components within the segment experienced growth during fiscal 2008 . license revenue generated the largest dollar growth in revenue as episys ae , our flagship core processing system aimed at larger credit unions , experienced strong sales throughout the year . support and service revenue , which is the largest component of total revenues for the credit union segment , experienced 34 percent growth in eft support and 10 percent growth in in-house support . gross profit in this business segment increased $ 9344 in fiscal 2008 compared to fiscal 2007 , due primarily to the increase in license revenue , which carries the highest margins . liquidity and capital resources we have historically generated positive cash flow from operations and have generally used funds generated from operations and short-term borrowings...  \n",
       "5  Pre-Text: substantially all of the goodwill and other intangible assets recorded related to the acquisition of allied are not deductible for tax purposes . pro forma information the consolidated financial statements presented for republic include the operating results of allied from the date of the acquisition . the following pro forma information is presented assuming the merger had been completed as of january 1 , 2007 . the unaudited pro forma information presented below has been prepared for illustrative purposes and is not intended to be indicative of the results of operations that would have actually occurred had the acquisition been consummated at the beginning of the periods presented or of future results of the combined operations ( in millions , except share and per share amounts ) . year ended december 31 , year ended december 31 , ( unaudited ) ( unaudited ) . | Dialogue: what were revenues in 2008? | Post-Text: the above unaudited pro forma financial information includ...  \n",
       "6  Pre-Text: substantially all of the goodwill and other intangible assets recorded related to the acquisition of allied are not deductible for tax purposes . pro forma information the consolidated financial statements presented for republic include the operating results of allied from the date of the acquisition . the following pro forma information is presented assuming the merger had been completed as of january 1 , 2007 . the unaudited pro forma information presented below has been prepared for illustrative purposes and is not intended to be indicative of the results of operations that would have actually occurred had the acquisition been consummated at the beginning of the periods presented or of future results of the combined operations ( in millions , except share and per share amounts ) . year ended december 31 , year ended december 31 , ( unaudited ) ( unaudited ) . | Dialogue: what were they in 2007? | Post-Text: the above unaudited pro forma financial information includes a...  \n",
       "7  Pre-Text: substantially all of the goodwill and other intangible assets recorded related to the acquisition of allied are not deductible for tax purposes . pro forma information the consolidated financial statements presented for republic include the operating results of allied from the date of the acquisition . the following pro forma information is presented assuming the merger had been completed as of january 1 , 2007 . the unaudited pro forma information presented below has been prepared for illustrative purposes and is not intended to be indicative of the results of operations that would have actually occurred had the acquisition been consummated at the beginning of the periods presented or of future results of the combined operations ( in millions , except share and per share amounts ) . year ended december 31 , year ended december 31 , ( unaudited ) ( unaudited ) . | Dialogue: what was the net change? | Post-Text: the above unaudited pro forma financial information includes ...  \n",
       "8  Pre-Text: substantially all of the goodwill and other intangible assets recorded related to the acquisition of allied are not deductible for tax purposes . pro forma information the consolidated financial statements presented for republic include the operating results of allied from the date of the acquisition . the following pro forma information is presented assuming the merger had been completed as of january 1 , 2007 . the unaudited pro forma information presented below has been prepared for illustrative purposes and is not intended to be indicative of the results of operations that would have actually occurred had the acquisition been consummated at the beginning of the periods presented or of future results of the combined operations ( in millions , except share and per share amounts ) . year ended december 31 , year ended december 31 , ( unaudited ) ( unaudited ) . | Dialogue: what is the percent change? | Post-Text: the above unaudited pro forma financial information includ...  \n",
       "9  Pre-Text: substantially all of the goodwill and other intangible assets recorded related to the acquisition of allied are not deductible for tax purposes . pro forma information the consolidated financial statements presented for republic include the operating results of allied from the date of the acquisition . the following pro forma information is presented assuming the merger had been completed as of january 1 , 2007 . the unaudited pro forma information presented below has been prepared for illustrative purposes and is not intended to be indicative of the results of operations that would have actually occurred had the acquisition been consummated at the beginning of the periods presented or of future results of the combined operations ( in millions , except share and per share amounts ) . year ended december 31 , year ended december 31 , ( unaudited ) ( unaudited ) . | Post-Text: the above unaudited pro forma financial information includes adjustments for amortization of ident...  "
      ]
     },
     "execution_count": 48,
     "metadata": {},
     "output_type": "execute_result"
    }
   ],
   "source": [
    "subset_df.head(10)"
   ]
  },
  {
   "cell_type": "code",
   "execution_count": 28,
   "metadata": {},
   "outputs": [],
   "source": [
    "# Create chunks for each document\n",
    "chunk_records = []\n",
    "for idx, row in subset_df.iterrows():\n",
    "    chunks = chunk_text(row['combined_text'], chunk_size=200, chunk_overlap=100)\n",
    "    for i, chunk in enumerate(chunks):\n",
    "        chunk_records.append({\n",
    "            \"doc_id\": row['id'],\n",
    "            \"chunk_text\": chunk,\n",
    "            \"turn_index\": row.get('turn_index', None)\n",
    "            # You can add more metadata here if needed.\n",
    "        })"
   ]
  },
  {
   "cell_type": "code",
   "execution_count": 29,
   "metadata": {},
   "outputs": [
    {
     "name": "stdout",
     "output_type": "stream",
     "text": [
      "Created 3002 chunks from 500 documents.\n"
     ]
    }
   ],
   "source": [
    "chunk_df = pd.DataFrame(chunk_records)\n",
    "print(f\"Created {len(chunk_df)} chunks from {len(subset_df)} documents.\")"
   ]
  },
  {
   "cell_type": "markdown",
   "metadata": {},
   "source": [
    "### 4. Calculate Embeddings and build a FAISS index\n",
    "---"
   ]
  },
  {
   "cell_type": "code",
   "execution_count": 30,
   "metadata": {},
   "outputs": [],
   "source": [
    "def get_embedding(text, model=\"text-embedding-ada-002\"):\n",
    "    \"\"\"\n",
    "    Get the embedding of a text string using OpenAI's API.\n",
    "    \"\"\"\n",
    "    response = client.embeddings.create(input=[text], model=model)\n",
    "    return np.array(response.data[0].embedding, dtype=np.float32)"
   ]
  },
  {
   "cell_type": "code",
   "execution_count": 31,
   "metadata": {},
   "outputs": [],
   "source": [
    "def compute_embeddings(texts, engine=\"text-embedding-ada-002\"):\n",
    "    \"\"\"\n",
    "    Compute embeddings for a list of texts.\n",
    "    \"\"\"\n",
    "    embeddings = []\n",
    "    for text in texts:\n",
    "        emb = get_embedding(text, model=engine)\n",
    "        embeddings.append(emb)\n",
    "    return np.vstack(embeddings)"
   ]
  },
  {
   "cell_type": "markdown",
   "metadata": {},
   "source": [
    "Creating embeddings on chunked documents ~ 20mins"
   ]
  },
  {
   "cell_type": "code",
   "execution_count": 32,
   "metadata": {},
   "outputs": [
    {
     "name": "stdout",
     "output_type": "stream",
     "text": [
      "Computing embeddings for 3002 chunks...\n"
     ]
    }
   ],
   "source": [
    "# Compute embeddings for all chunks\n",
    "chunk_texts = chunk_df['chunk_text'].tolist()\n",
    "print(\"Computing embeddings for {} chunks...\".format(len(chunk_texts)))\n",
    "document_embeddings = compute_embeddings(chunk_texts)\n",
    "embedding_dim = document_embeddings.shape[1]"
   ]
  },
  {
   "cell_type": "code",
   "execution_count": 34,
   "metadata": {},
   "outputs": [
    {
     "name": "stdout",
     "output_type": "stream",
     "text": [
      "Done!\n"
     ]
    }
   ],
   "source": [
    "print(\"Done!\")"
   ]
  },
  {
   "cell_type": "code",
   "execution_count": 35,
   "metadata": {},
   "outputs": [],
   "source": [
    "# Normalize embeddings for cosine similarity (using inner product search)\n",
    "faiss.normalize_L2(document_embeddings)"
   ]
  },
  {
   "cell_type": "code",
   "execution_count": 36,
   "metadata": {},
   "outputs": [
    {
     "name": "stdout",
     "output_type": "stream",
     "text": [
      "Faiss index built with 3002 vectors.\n"
     ]
    }
   ],
   "source": [
    "# Build a Faiss index\n",
    "index = faiss.IndexFlatIP(embedding_dim)\n",
    "index.add(document_embeddings)\n",
    "print(\"Faiss index built with {} vectors.\".format(index.ntotal))"
   ]
  },
  {
   "cell_type": "code",
   "execution_count": 37,
   "metadata": {},
   "outputs": [],
   "source": [
    "def query_dataset(query, top_n=3, engine=\"text-embedding-ada-002\"):\n",
    "    \"\"\"\n",
    "    Given a query string, compute its embedding and retrieve the top_n similar documents using Faiss.\n",
    "    \"\"\"\n",
    "    query_embedding = get_embedding(query, model=engine).reshape(1, -1)\n",
    "    faiss.normalize_L2(query_embedding)\n",
    "    distances, indices = index.search(query_embedding, top_n)\n",
    "    results = df.iloc[indices[0]].copy()\n",
    "    results['score'] = distances[0]\n",
    "    return results"
   ]
  },
  {
   "cell_type": "markdown",
   "metadata": {},
   "source": [
    "### 4. Query the model using gpt-4o-mini\n",
    "---"
   ]
  },
  {
   "cell_type": "code",
   "execution_count": 43,
   "metadata": {},
   "outputs": [],
   "source": [
    "def generate_answer(query, context_docs, max_tokens=200):\n",
    "    \"\"\"\n",
    "    Generate an answer by combining the query with retrieved context using OpenAI's GPT40-mini model.\n",
    "    A system prompt is added so the model acts as a friendly financial analyst bot that does not make up answers\n",
    "    and only uses the data it has access to in order to answer numerical questions.\n",
    "    \n",
    "    Parameters:\n",
    "      query: The question string.\n",
    "      context_docs: A list of context strings retrieved from the dataset.\n",
    "      max_tokens: Maximum number of tokens for the generated answer.\n",
    "    \n",
    "    Returns:\n",
    "      str: The generated answer.\n",
    "    \"\"\"\n",
    "    # Combine the retrieved context documents into a single string.\n",
    "    context = \"\\n\".join(context_docs)\n",
    "    \n",
    "    # Create a messages list with a system prompt and the user's prompt.\n",
    "    messages = [\n",
    "         {\n",
    "             \"role\": \"system\",\n",
    "             \"content\": (\n",
    "                 \"You are a financial analyst bot who is extremely knowlegable about financial valuations, technical analysis and quantitative finance.\"\n",
    "                 \"Your job is to read through the documents provided and use the data to answer finance questions and financial calculation questions.\"\n",
    "             )\n",
    "         },\n",
    "         {\n",
    "             \"role\": \"user\",\n",
    "             \"content\": f\"Question: {query}\\nContext: {context}\\nAnswer:\"\n",
    "         }\n",
    "    ]\n",
    "    \n",
    "    # Call the Chat Completion API with the messages.\n",
    "    response = openai.chat.completions.create(\n",
    "         model='gpt-4o-mini',\n",
    "         messages=messages,\n",
    "         max_tokens=max_tokens,\n",
    "         temperature=0.1,\n",
    "         top_p=1.0,\n",
    "         n=3,\n",
    "         stop=[\"\\n\"]\n",
    "    )\n",
    "    \n",
    "    # Extract the generated answer.\n",
    "    answer = response.choices[0].message.content.strip()\n",
    "    return answer"
   ]
  },
  {
   "cell_type": "markdown",
   "metadata": {},
   "source": [
    "### 5. Execute the RAG pipeline\n",
    "---"
   ]
  },
  {
   "cell_type": "code",
   "execution_count": 44,
   "metadata": {},
   "outputs": [
    {
     "name": "stdout",
     "output_type": "stream",
     "text": [
      "\n",
      "Top retrieved examples for query: what is the net cash from operating activities in 2009?\n",
      "ID: Single_JKHY/2009/page_28.pdf-3, Turn index: 2, Score: 0.906\n",
      "Context snippet: Pre-Text: 26 | 2009 annual report in fiscal 2008 , revenues in the credit union systems and services business segment increased 14% ( 14 % ) from fiscal 2007 . all revenue components within the segmen...\n",
      "----------\n",
      "ID: Single_IPG/2016/page_46.pdf-1, Turn index: 0, Score: 0.893\n",
      "Context snippet: Pre-Text: item 7a . quantitative and qualitative disclosures about market risk ( amounts in millions ) in the normal course of business , we are exposed to market risks related to interest rates , for...\n",
      "----------\n",
      "ID: Single_IPG/2016/page_46.pdf-1, Turn index: 1, Score: 0.891\n",
      "Context snippet: Pre-Text: item 7a . quantitative and qualitative disclosures about market risk ( amounts in millions ) in the normal course of business , we are exposed to market risks related to interest rates , for...\n",
      "----------\n",
      "\n",
      "Generated Answer:\n",
      "To provide the net cash from operating activities for 2009, I would need specific financial data from the 2009 annual report, such as the cash flow statement. Unfortunately, the provided context does not include this information. If you can provide the relevant figures or details from the cash flow statement for 2009, I would be able to assist you in calculating or identifying the net cash from operating activities.\n"
     ]
    }
   ],
   "source": [
    "query = \"what is the net cash from operating activities in 2009?\"\n",
    "retrieved_results = query_dataset(query, top_n=3)\n",
    "print(\"\\nTop retrieved examples for query:\", query)\n",
    "context_docs = []\n",
    "for i, row in retrieved_results.iterrows():\n",
    "    snippet = row['combined_text'][:200] + \"...\" if len(row['combined_text']) > 200 else row['combined_text']\n",
    "    print(f\"ID: {row['id']}, Turn index: {row.get('turn_index')}, Score: {row['score']:.3f}\")\n",
    "    print(\"Context snippet:\", snippet)\n",
    "    print(\"----------\")\n",
    "    context_docs.append(snippet)\n",
    "    \n",
    "generated_answer = generate_answer(query, context_docs)\n",
    "print(\"\\nGenerated Answer:\")\n",
    "print(generated_answer)"
   ]
  },
  {
   "cell_type": "markdown",
   "metadata": {},
   "source": [
    "### 6. Execute the RAG Pipeline by using Hugging Face Transformers\n",
    "---"
   ]
  },
  {
   "cell_type": "code",
   "execution_count": 55,
   "metadata": {},
   "outputs": [
    {
     "name": "stderr",
     "output_type": "stream",
     "text": [
      "Device set to use mps:0\n"
     ]
    }
   ],
   "source": [
    "generator = pipeline(\"text2text-generation\", model=\"t5-small\")\n",
    "\n",
    "def generate_answer(query, context_docs, max_length=200):\n",
    "    \"\"\"\n",
    "    Generate an answer by combining the query with retrieved context.\n",
    "    \"\"\"\n",
    "    context = \"\\n\".join(context_docs)\n",
    "    prompt = f\"question: {query}\\ncontext: {context}\\nanswer:\"\n",
    "\n",
    "    # prompt = f\"\"\"\n",
    "    # You are a helpful financial analyst bot. Answer the question strictly based on the given context.\n",
    "    \n",
    "    # Question: {query}\n",
    "    # Context: {context}\n",
    "    # Answer:\n",
    "    # \"\"\"\n",
    "\n",
    "    result = generator(prompt, max_length=max_length, do_sample=False)\n",
    "    return result[0]['generated_text']"
   ]
  },
  {
   "cell_type": "code",
   "execution_count": 56,
   "metadata": {},
   "outputs": [
    {
     "name": "stdout",
     "output_type": "stream",
     "text": [
      "\n",
      "Top retrieved examples for query: what is the net cash from operating activities in 2009?\n",
      "ID: Single_JKHY/2009/page_28.pdf-3, Turn index: 2, Score: 0.906\n",
      "Context snippet: Pre-Text: 26 | 2009 annual report in fiscal 2008 , revenues in the credit union systems and services business segment increased 14% ( 14 % ) from fiscal 2007 . all revenue components within the segmen...\n",
      "----------\n",
      "ID: Single_IPG/2016/page_46.pdf-1, Turn index: 0, Score: 0.893\n",
      "Context snippet: Pre-Text: item 7a . quantitative and qualitative disclosures about market risk ( amounts in millions ) in the normal course of business , we are exposed to market risks related to interest rates , for...\n",
      "----------\n",
      "ID: Single_IPG/2016/page_46.pdf-1, Turn index: 1, Score: 0.891\n",
      "Context snippet: Pre-Text: item 7a . quantitative and qualitative disclosures about market risk ( amounts in millions ) in the normal course of business , we are exposed to market risks related to interest rates , for...\n",
      "----------\n",
      "\n",
      "Generated Answer:\n",
      "14%\n"
     ]
    }
   ],
   "source": [
    "query = \"what is the net cash from operating activities in 2009?\"\n",
    "retrieved_results = query_dataset(query, top_n=3)\n",
    "print(\"\\nTop retrieved examples for query:\", query)\n",
    "context_docs = []\n",
    "for i, row in retrieved_results.iterrows():\n",
    "    snippet = row['combined_text'][:200] + \"...\" if len(row['combined_text']) > 200 else row['combined_text']\n",
    "    print(f\"ID: {row['id']}, Turn index: {row.get('turn_index')}, Score: {row['score']:.3f}\")\n",
    "    print(\"Context snippet:\", snippet)\n",
    "    print(\"----------\")\n",
    "    context_docs.append(snippet)\n",
    "    \n",
    "generated_answer = generate_answer(query, context_docs)\n",
    "print(\"\\nGenerated Answer:\")\n",
    "print(generated_answer)"
   ]
  },
  {
   "cell_type": "code",
   "execution_count": null,
   "metadata": {},
   "outputs": [],
   "source": []
  }
 ],
 "metadata": {
  "kernelspec": {
   "display_name": "llmengg",
   "language": "python",
   "name": "python3"
  },
  "language_info": {
   "codemirror_mode": {
    "name": "ipython",
    "version": 3
   },
   "file_extension": ".py",
   "mimetype": "text/x-python",
   "name": "python",
   "nbconvert_exporter": "python",
   "pygments_lexer": "ipython3",
   "version": "3.11.11"
  }
 },
 "nbformat": 4,
 "nbformat_minor": 2
}
