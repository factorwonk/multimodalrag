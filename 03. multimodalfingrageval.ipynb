{
 "cells": [
  {
   "cell_type": "code",
   "execution_count": 55,
   "metadata": {},
   "outputs": [],
   "source": [
    "import json\n",
    "import os\n",
    "import pandas as pd\n",
    "import numpy as np\n",
    "\n",
    "from dotenv import load_dotenv\n",
    "from nltk.translate.bleu_score import sentence_bleu, SmoothingFunction\n",
    "from rouge_score import rouge_scorer\n",
    "from sklearn.metrics import precision_score, recall_score, f1_score\n",
    "from typing import List, Dict, Any\n",
    "from openai import OpenAI\n",
    "from langchain.vectorstores import Chroma\n",
    "from langchain.chat_models import ChatOpenAI\n",
    "from langchain.embeddings.openai import OpenAIEmbeddings\n",
    "from langchain.schema import Document\n",
    "from langchain.chains import RetrievalQA\n",
    "from langchain.prompts import PromptTemplate\n",
    "from copy import deepcopy"
   ]
  },
  {
   "cell_type": "markdown",
   "metadata": {},
   "source": [
    "### 1. Configure Environment\n",
    "---"
   ]
  },
  {
   "cell_type": "code",
   "execution_count": 2,
   "metadata": {},
   "outputs": [],
   "source": [
    "# Set pandas display options for better readability\n",
    "pd.set_option('display.width', -1)\n",
    "pd.set_option('max_colwidth', 1000)"
   ]
  },
  {
   "cell_type": "code",
   "execution_count": 3,
   "metadata": {},
   "outputs": [],
   "source": [
    "# Load environment variables from .env file\n",
    "load_dotenv(override=True)\n",
    "api_key = os.getenv('OPENAI_API_KEY')"
   ]
  },
  {
   "cell_type": "code",
   "execution_count": 4,
   "metadata": {},
   "outputs": [
    {
     "name": "stdout",
     "output_type": "stream",
     "text": [
      "API key looks good so far\n"
     ]
    }
   ],
   "source": [
    "# Validate the API key format\n",
    "if api_key and api_key.startswith('sk-proj-') and len(api_key) > 10:\n",
    "    print(\"API key looks good so far\")\n",
    "else:\n",
    "    print(\"Issue detected with API key\")"
   ]
  },
  {
   "cell_type": "code",
   "execution_count": 5,
   "metadata": {},
   "outputs": [],
   "source": [
    "# Initialize OpenAI client\n",
    "openai = OpenAI()\n",
    "client = OpenAI(api_key=os.environ['OPENAI_API_KEY'])"
   ]
  },
  {
   "cell_type": "markdown",
   "metadata": {},
   "source": [
    "### 2. Processing Functions\n",
    "---"
   ]
  },
  {
   "cell_type": "code",
   "execution_count": 6,
   "metadata": {},
   "outputs": [],
   "source": [
    "def table_to_string(table):\n",
    "    \"\"\"Convert table to string representation.\"\"\"\n",
    "    return \"\\n\".join(\" | \".join(str(cell) for cell in row) for row in table)"
   ]
  },
  {
   "cell_type": "code",
   "execution_count": null,
   "metadata": {},
   "outputs": [],
   "source": [
    "def process_json_entry(entry):\n",
    "    \"\"\"Process a single JSON entry to extract relevant fields. Returns None if the qa field is an empty dictionary\"\"\"\n",
    "\n",
    "    # Remove entries where the qa field is empty\n",
    "    if not entry.get(\"qa\") or entry[\"qa\"] == {}:\n",
    "        return None\n",
    "    \n",
    "    entry_id = entry.get(\"id\", None)\n",
    "    parts = []\n",
    "\n",
    "    # Extract and merge pre-text\n",
    "    if \"pre_text\" in entry and entry[\"pre_text\"]:\n",
    "        parts.append(\" \".join(entry[\"pre_text\"]))\n",
    "    \n",
    "    # Convert table to string\n",
    "    table_str = table_to_string(entry[\"table\"]) if \"table\" in entry and entry[\"table\"] else \"\"\n",
    "    if table_str:\n",
    "        parts.append(table_str)\n",
    "    \n",
    "    # Extract and merge post-text\n",
    "    if \"post_text\" in entry and entry[\"post_text\"]:\n",
    "        parts.append(\" \".join(entry[\"post_text\"]))\n",
    "    \n",
    "    # Extract and merge QA details\n",
    "    if \"qa\" in entry and entry[\"qa\"]:\n",
    "        qa_parts = []\n",
    "        if \"question\" in entry[\"qa\"]:\n",
    "            qa_parts.append(f\"Question: {entry['qa']['question']}\")\n",
    "        if \"answer\" in entry[\"qa\"]:\n",
    "            qa_parts.append(f\"Answer: {entry['qa']['answer']}\")\n",
    "        if \"exe_ans\" in entry[\"qa\"]:\n",
    "            qa_parts.append(f\"Execution Answer: {entry['qa']['exe_ans']}\")\n",
    "        parts.append(\"\\n\".join(qa_parts))\n",
    "    \n",
    "    # Extract dialogue break\n",
    "    dialogue_break = entry.get(\"annotation\", {}).get(\"dialogue_break\", \"\")\n",
    "    if dialogue_break:\n",
    "        parts.append(f\"Dialogue Break: {dialogue_break}\")\n",
    "    \n",
    "    full_text = \"\\n\\n\".join(parts)\n",
    "    return {\n",
    "        \"id\": entry_id, \n",
    "        \"text\": full_text, \n",
    "        \"possible_questions\": dialogue_break, \n",
    "        \"table\": table_str,\n",
    "        \"qa\": entry.get(\"qa\", {})\n",
    "    }"
   ]
  },
  {
   "cell_type": "code",
   "execution_count": null,
   "metadata": {},
   "outputs": [],
   "source": [
    "def get_table_description(table_content, document_context):\n",
    "    \"\"\"Generate table description using GPT-4o-mini.\"\"\"\n",
    "    prompt = f\"\"\"\n",
    "    Given the following table and its context from the original document,\n",
    "    provide a detailed description of the table. Then, include the table in markdown format.\n",
    "\n",
    "    Original Document Context:\n",
    "    {document_context}\n",
    "\n",
    "    Table Content:\n",
    "    {table_content}\n",
    "\n",
    "    Please provide:\n",
    "    1. A comprehensive description of the table.\n",
    "    2. The table in markdown format.\n",
    "    \"\"\"\n",
    "    \n",
    "    response = client.chat.completions.create(\n",
    "        model=\"gpt-4o-mini\",\n",
    "        messages=[\n",
    "            {\"role\": \"system\", \"content\": \"You are a helpful assistant that describes tables and formats them in markdown.\"},\n",
    "            {\"role\": \"user\", \"content\": prompt}\n",
    "        ]\n",
    "    )\n",
    "    return response.choices[0].message.content"
   ]
  },
  {
   "cell_type": "code",
   "execution_count": 9,
   "metadata": {},
   "outputs": [],
   "source": [
    "def safe_get_table_description(row):\n",
    "    \"\"\"Safely generate table description with error handling.\"\"\"\n",
    "    table_content = row[\"table\"]\n",
    "    document_context = row[\"text\"]\n",
    "    if table_content and table_content.strip():\n",
    "        try:\n",
    "            return get_table_description(table_content, document_context)\n",
    "        except Exception as e:\n",
    "            print(f\"Error processing table description for id {row['id']}: {e}\")\n",
    "            return \"\"\n",
    "    return \"\""
   ]
  },
  {
   "cell_type": "code",
   "execution_count": 49,
   "metadata": {},
   "outputs": [],
   "source": [
    "def flatten_metadata(metadata: Dict[str, Any]) -> Dict[str, Any]:\n",
    "    \"\"\"\n",
    "    Flatten complex metadata into simple types that Chroma can handle.\n",
    "    \"\"\"\n",
    "    flattened = {}\n",
    "    \n",
    "    if 'table' in metadata:\n",
    "        flattened['table'] = str(metadata['table'])\n",
    "    \n",
    "    # Extract useful information from the qa dictionary\n",
    "    if 'qa' in metadata:\n",
    "        qa = metadata['qa']\n",
    "        if 'question' in qa:\n",
    "            flattened['question'] = str(qa['question'])\n",
    "        if 'answer' in qa:\n",
    "            flattened['answer'] = str(qa['answer'])\n",
    "        if 'explanation' in qa:\n",
    "            flattened['explanation'] = str(qa['explanation'])\n",
    "        if 'exe_ans' in qa:\n",
    "            flattened['exe_ans'] = float(qa['exe_ans'])\n",
    "    \n",
    "    # Add any table description as a string\n",
    "    if 'table_description' in metadata:\n",
    "        flattened['table_description'] = str(metadata['table_description'])\n",
    "    \n",
    "    return flattened"
   ]
  },
  {
   "cell_type": "markdown",
   "metadata": {},
   "source": [
    "### 3. MultiModal RAG Metrics\n",
    "---"
   ]
  },
  {
   "cell_type": "code",
   "execution_count": null,
   "metadata": {},
   "outputs": [],
   "source": [
    "def calculate_bleu(reference, candidate):\n",
    "    \"\"\"Calculate BLEU score.\"\"\"\n",
    "    smoothie = SmoothingFunction().method1\n",
    "    reference_tokens = reference.lower().split()\n",
    "    candidate_tokens = candidate.lower().split()\n",
    "    return sentence_bleu([reference_tokens], candidate_tokens, smoothing_function=smoothie)"
   ]
  },
  {
   "cell_type": "code",
   "execution_count": 60,
   "metadata": {},
   "outputs": [],
   "source": [
    "def calculate_rouge(reference, candidate):\n",
    "    \"\"\"Calculate ROUGE scores.\"\"\"\n",
    "    scorer = rouge_scorer.RougeScorer(['rouge1', 'rouge2', 'rougeL'], use_stemmer=True)\n",
    "    scores = scorer.score(reference, candidate)\n",
    "    return {\n",
    "        'rouge1': {'f': scores['rouge1'].fmeasure},\n",
    "        'rouge2': {'f': scores['rouge2'].fmeasure},\n",
    "        'rougeL': {'f': scores['rougeL'].fmeasure}\n",
    "    }"
   ]
  },
  {
   "cell_type": "code",
   "execution_count": null,
   "metadata": {},
   "outputs": [],
   "source": [
    "def calculate_factual_correctness(reference, candidate):\n",
    "    \"\"\"Calculate factual correctness score.\"\"\"\n",
    "    import re\n",
    "    \n",
    "    def extract_numbers(text):\n",
    "        return set(float(x) for x in re.findall(r'-?\\d*\\.?\\d+', text))\n",
    "    \n",
    "    ref_numbers = extract_numbers(reference)\n",
    "    cand_numbers = extract_numbers(candidate)\n",
    "    \n",
    "    if not ref_numbers:\n",
    "        return 1.0 if not cand_numbers else 0.0\n",
    "    \n",
    "    if not cand_numbers:\n",
    "        return 0.0\n",
    "    \n",
    "    correct_numbers = ref_numbers.intersection(cand_numbers)\n",
    "    return len(correct_numbers) / len(ref_numbers)"
   ]
  },
  {
   "cell_type": "code",
   "execution_count": null,
   "metadata": {},
   "outputs": [],
   "source": [
    "def evaluate_qa_response(reference_answer, generated_answer, source_context, retrieved_context):\n",
    "    \"\"\"Evaluate QA response using multiple metrics.\"\"\"\n",
    "    bleu = calculate_bleu(reference_answer, generated_answer)\n",
    "    rouge_scores = calculate_rouge(reference_answer, generated_answer)\n",
    "    factual = calculate_factual_correctness(reference_answer, generated_answer)\n",
    "    \n",
    "    source_tokens = set(source_context.lower().split())\n",
    "    retrieved_tokens = set(retrieved_context.lower().split())\n",
    "    \n",
    "    context_precision = len(source_tokens.intersection(retrieved_tokens)) / len(retrieved_tokens) if retrieved_tokens else 0\n",
    "    context_recall = len(source_tokens.intersection(retrieved_tokens)) / len(source_tokens) if source_tokens else 0\n",
    "    \n",
    "    return {\n",
    "        'bleu': bleu,\n",
    "        'rouge1_f': rouge_scores['rouge1']['f'],\n",
    "        'rouge2_f': rouge_scores['rouge2']['f'],\n",
    "        'rougeL_f': rouge_scores['rougeL']['f'],\n",
    "        'factual_correctness': factual,\n",
    "        'context_precision': context_precision,\n",
    "        'context_recall': context_recall,\n",
    "        'context_f1': 2 * (context_precision * context_recall) / (context_precision + context_recall) if (context_precision + context_recall) > 0 else 0\n",
    "    }"
   ]
  },
  {
   "cell_type": "markdown",
   "metadata": {},
   "source": [
    "### 4. Setup Question and Answer Chain\n",
    "---"
   ]
  },
  {
   "cell_type": "code",
   "execution_count": 52,
   "metadata": {},
   "outputs": [],
   "source": [
    "def setup_qa_chain(documents: List[Document], persist_directory: str = \"vectorstore\"):\n",
    "    \"\"\"Set up the QA chain with vector store and embedding model.\"\"\"\n",
    "    FIN_PROMPT_TEMPLATE = \"\"\"\n",
    "    You are a financial analyst assistant. Use the following pieces of context to answer the question about financial data in tables. \n",
    "    If you don't know the answer, just say that you don't know, don't try to make up an answer.\n",
    "\n",
    "    Context: {context}\n",
    "\n",
    "    Question: {question}\n",
    "\n",
    "    Provide a detailed answer with numerical calculations when applicable:\n",
    "    \"\"\"\n",
    "\n",
    "    PROMPT = PromptTemplate(\n",
    "        template=FIN_PROMPT_TEMPLATE,\n",
    "        input_variables=[\"context\", \"question\"]\n",
    "    )\n",
    "\n",
    "    llm = ChatOpenAI(model_name=\"gpt-4o-mini\", temperature=0)\n",
    "    qa_chain = RetrievalQA.from_chain_type(\n",
    "        llm=llm,\n",
    "        chain_type=\"stuff\",\n",
    "        retriever=vectorstore.as_retriever(search_kwargs={\"k\": 3}),\n",
    "        chain_type_kwargs={\"prompt\": PROMPT},\n",
    "        return_source_documents=True\n",
    "    )\n",
    "    \n",
    "    return qa_chain"
   ]
  },
  {
   "cell_type": "markdown",
   "metadata": {},
   "source": [
    "### 5. Load and Process Data\n",
    "---"
   ]
  },
  {
   "cell_type": "code",
   "execution_count": 25,
   "metadata": {},
   "outputs": [],
   "source": [
    "with open('./data/convfinqatrain.json', 'r') as f:\n",
    "        json_data = json.load(f)\n",
    "test_data = json_data.copy()\n",
    "test_data = test_data[:50]  # Using first 50 examples for calculating metrics"
   ]
  },
  {
   "cell_type": "code",
   "execution_count": 26,
   "metadata": {},
   "outputs": [],
   "source": [
    "# Process entries and exclude any entries with missing qa\n",
    "processed_data = [processed for processed in (process_json_entry(entry) for entry in test_data) if processed is not None]\n",
    "df = pd.DataFrame(processed_data)"
   ]
  },
  {
   "cell_type": "code",
   "execution_count": 27,
   "metadata": {},
   "outputs": [
    {
     "data": {
      "text/html": [
       "<div>\n",
       "<style scoped>\n",
       "    .dataframe tbody tr th:only-of-type {\n",
       "        vertical-align: middle;\n",
       "    }\n",
       "\n",
       "    .dataframe tbody tr th {\n",
       "        vertical-align: top;\n",
       "    }\n",
       "\n",
       "    .dataframe thead th {\n",
       "        text-align: right;\n",
       "    }\n",
       "</style>\n",
       "<table border=\"1\" class=\"dataframe\">\n",
       "  <thead>\n",
       "    <tr style=\"text-align: right;\">\n",
       "      <th></th>\n",
       "      <th>id</th>\n",
       "      <th>text</th>\n",
       "      <th>possible_questions</th>\n",
       "      <th>table</th>\n",
       "      <th>qa</th>\n",
       "    </tr>\n",
       "  </thead>\n",
       "  <tbody>\n",
       "    <tr>\n",
       "      <th>0</th>\n",
       "      <td>Single_JKHY/2009/page_28.pdf-3</td>\n",
       "      <td>26 | 2009 annual report in fiscal 2008 , revenues in the credit union systems and services business segment increased 14% ( 14 % ) from fiscal 2007 . all revenue components within the segment experienced growth during fiscal 2008 . license revenue generated the largest dollar growth in revenue as episys ae , our flagship core processing system aimed at larger credit unions , experienced strong sales throughout the year . support and service revenue , which is the largest component of total revenues for the credit union segment , experienced 34 percent growth in eft support and 10 percent growth in in-house support . gross profit in this business segment increased $ 9344 in fiscal 2008 compared to fiscal 2007 , due primarily to the increase in license revenue , which carries the highest margins . liquidity and capital resources we have historically generated positive cash flow from operations and have generally used funds generated from operations and short-term borrowings on our re...</td>\n",
       "      <td>[what is the net cash from operating activities in 2009?, what about in 2008?, what is the difference?, what percentage change does this represent?]</td>\n",
       "      <td>2008 | year ended june 30 2009 2008 | year ended june 30 2009 2008 | year ended june 30 2009\\nnet income | $ 103102 | $ 104222 | $ 104681\\nnon-cash expenses | 74397 | 70420 | 56348\\nchange in receivables | 21214 | -2913 ( 2913 ) | -28853 ( 28853 )\\nchange in deferred revenue | 21943 | 5100 | 24576\\nchange in other assets and liabilities | -14068 ( 14068 ) | 4172 | 17495\\nnet cash from operating activities | $ 206588 | $ 181001 | $ 174247</td>\n",
       "      <td>{'question': 'what was the percentage change in the net cash from operating activities from 2008 to 2009', 'answer': '14.1%', 'explanation': '', 'ann_table_rows': [6], 'ann_text_rows': [], 'steps': [{'op': 'minus2-1', 'arg1': '206588', 'arg2': '181001', 'res': '25587'}, {'op': 'divide2-2', 'arg1': '#0', 'arg2': '181001', 'res': '14.1%'}], 'program': 'subtract(206588, 181001), divide(#0, 181001)', 'gold_inds': {'table_6': '2008 the net cash from operating activities of year ended june 30 2009 2008 is $ 206588 ; the net cash from operating activities of year ended june 30 2009 2008 is $ 181001 ; the net cash from operating activities of year ended june 30 2009 is $ 174247 ;'}, 'exe_ans': 0.14136, 'program_re': 'divide(subtract(206588, 181001), 181001)'}</td>\n",
       "    </tr>\n",
       "    <tr>\n",
       "      <th>1</th>\n",
       "      <td>Single_RSG/2008/page_114.pdf-2</td>\n",
       "      <td>substantially all of the goodwill and other intangible assets recorded related to the acquisition of allied are not deductible for tax purposes . pro forma information the consolidated financial statements presented for republic include the operating results of allied from the date of the acquisition . the following pro forma information is presented assuming the merger had been completed as of january 1 , 2007 . the unaudited pro forma information presented below has been prepared for illustrative purposes and is not intended to be indicative of the results of operations that would have actually occurred had the acquisition been consummated at the beginning of the periods presented or of future results of the combined operations ( in millions , except share and per share amounts ) . year ended december 31 , year ended december 31 , ( unaudited ) ( unaudited ) .\\n\\n | year ended december 31 2008 ( unaudited ) | year ended december 31 2007 ( unaudited )\\nrevenue | $ 9362.2 | $ 9244....</td>\n",
       "      <td>[what were revenues in 2008?, what were they in 2007?, what was the net change?, what is the percent change?]</td>\n",
       "      <td>| year ended december 31 2008 ( unaudited ) | year ended december 31 2007 ( unaudited )\\nrevenue | $ 9362.2 | $ 9244.9\\nincome from continuing operations available to common stockholders | 285.7 | 423.2\\nbasic earnings per share | .76 | 1.10\\ndiluted earnings per share | .75 | 1.09</td>\n",
       "      <td>{'question': 'what was the percent of the growth in the revenues from 2007 to 2008', 'answer': '1.3%', 'explanation': 'the percent growth of the revenue is the difference between the 2 divide by the oldest amount', 'ann_table_rows': [1], 'ann_text_rows': [], 'steps': [{'op': 'minus2-1', 'arg1': '9362.2', 'arg2': '9244.9', 'res': '117.3'}, {'op': 'divide2-2', 'arg1': '#0', 'arg2': '9244.9', 'res': '1.3%'}], 'program': 'subtract(9362.2, 9244.9), divide(#0, 9244.9)', 'gold_inds': {'table_1': 'the revenue of year ended december 31 2008 ( unaudited ) is $ 9362.2 ; the revenue of year ended december 31 2007 ( unaudited ) is $ 9244.9 ;'}, 'exe_ans': 0.01269, 'program_re': 'divide(subtract(9362.2, 9244.9), 9244.9)'}</td>\n",
       "    </tr>\n",
       "    <tr>\n",
       "      <th>2</th>\n",
       "      <td>Single_AAPL/2002/page_23.pdf-1</td>\n",
       "      <td>in a new business model such as the retail segment is inherently risky , particularly in light of the significant investment involved , the current economic climate , and the fixed nature of a substantial portion of the retail segment's operating expenses . results for this segment are dependent upon a number of risks and uncertainties , some of which are discussed below under the heading \"factors that may affect future results and financial condition.\" backlog in the company's experience , the actual amount of product backlog at any particular time is not a meaningful indication of its future business prospects . in particular , backlog often increases in anticipation of or immediately following new product introductions because of over- ordering by dealers anticipating shortages . backlog often is reduced once dealers and customers believe they can obtain sufficient supply . because of the foregoing , backlog cannot be considered a reliable indicator of the company's ability to a...</td>\n",
       "      <td>[what was the total of net sales in 2001?, and what was that in 2000?, what was, then, the change in the total of net sales over the year?, and how much does this change represent in relation to that total in 2000, in percentage?]</td>\n",
       "      <td>| 2002 | 2001 | 2000\\nnet sales | $ 5742 | $ 5363 | $ 7983\\ncost of sales | 4139 | 4128 | 5817\\ngross margin | $ 1603 | $ 1235 | $ 2166\\ngross margin percentage | 28% ( 28 % ) | 23% ( 23 % ) | 27% ( 27 % )</td>\n",
       "      <td>{'question': 'what was the percentage change in net sales from 2000 to 2001?', 'answer': '-32%', 'explanation': '', 'ann_table_rows': [1], 'ann_text_rows': [], 'steps': [{'op': 'minus1-1', 'arg1': '5363', 'arg2': '7983', 'res': '-2620'}, {'op': 'divide1-2', 'arg1': '#0', 'arg2': '7983', 'res': '-32%'}], 'program': 'subtract(5363, 7983), divide(#0, 7983)', 'gold_inds': {'table_1': 'the net sales of 2002 is $ 5742 ; the net sales of 2001 is $ 5363 ; the net sales of 2000 is $ 7983 ;'}, 'exe_ans': -0.3282, 'program_re': 'divide(subtract(5363, 7983), 7983)'}</td>\n",
       "    </tr>\n",
       "    <tr>\n",
       "      <th>3</th>\n",
       "      <td>Single_UPS/2009/page_33.pdf-2</td>\n",
       "      <td>( 1 ) includes shares repurchased through our publicly announced share repurchase program and shares tendered to pay the exercise price and tax withholding on employee stock options . shareowner return performance graph the following performance graph and related information shall not be deemed 201csoliciting material 201d or to be 201cfiled 201d with the securities and exchange commission , nor shall such information be incorporated by reference into any future filing under the securities act of 1933 or securities exchange act of 1934 , each as amended , except to the extent that the company specifically incorporates such information by reference into such filing . the following graph shows a five-year comparison of cumulative total shareowners 2019 returns for our class b common stock , the s&amp;p 500 index , and the dow jones transportation average . the comparison of the total cumulative return on investment , which is the change in the quarterly stock price plus reinvested divide...</td>\n",
       "      <td>[what was the change in the performance of the united parcel service inc . from 2004 to 2009?, and how much does this change represent in relation to that performance in 2004, in percentage?, what was the performance value of the s&amp;p 500 index in 2009?, what was, then, the change in that performance from 2004 to 2009?, and how much does this change represent in relation to that performance in 2004, in percentage?, what is, then, the difference between the percent representation of the united parcel service inc . and the s&amp;p 500 index?]</td>\n",
       "      <td>| 12/31/04 | 12/31/05 | 12/31/06 | 12/31/07 | 12/31/08 | 12/31/09\\nunited parcel service inc . | $ 100.00 | $ 89.49 | $ 91.06 | $ 87.88 | $ 70.48 | $ 75.95\\ns&amp;p 500 index | $ 100.00 | $ 104.91 | $ 121.48 | $ 128.15 | $ 80.74 | $ 102.11\\ndow jones transportation average | $ 100.00 | $ 111.65 | $ 122.61 | $ 124.35 | $ 97.72 | $ 115.88</td>\n",
       "      <td>{'question': 'what was the difference in percentage cumulative return on investment for united parcel service inc . compared to the s&amp;p 500 index for the five year period ended 12/31/09?', 'answer': '-26.16%', 'explanation': '', 'ann_table_rows': [1, 2], 'ann_text_rows': [], 'steps': [{'op': 'minus2-1', 'arg1': '75.95', 'arg2': 'const_100', 'res': '-24.05'}, {'op': 'divide2-2', 'arg1': '#0', 'arg2': 'const_100', 'res': '-24.05%'}, {'op': 'minus2-3', 'arg1': '102.11', 'arg2': 'const_100', 'res': '2.11'}, {'op': 'divide2-4', 'arg1': '#2', 'arg2': 'const_100', 'res': '2.11%'}, {'op': 'minus2-5', 'arg1': '#1', 'arg2': '#3', 'res': '-26.16%'}], 'program': 'subtract(75.95, const_100), divide(#0, const_100), subtract(102.11, const_100), divide(#2, const_100), subtract(#1, #3)', 'gold_inds': {'table_1': 'the united parcel service inc . of 12/31/04 is $ 100.00 ; the united parcel service inc . of 12/31/05 is $ 89.49 ; the united parcel service inc . of 12/31/06 is $ 91.06 ; the united parce...</td>\n",
       "    </tr>\n",
       "    <tr>\n",
       "      <th>4</th>\n",
       "      <td>Single_CE/2010/page_134.pdf-2</td>\n",
       "      <td>tax returns for 2001 and beyond are open for examination under statute . currently , unrecognized tax benefits are not expected to change significantly over the next 12 months . 19 . stock-based and other management compensation plans in april 2009 , the company approved a global incentive plan which replaces the company 2019s 2004 stock incentive plan . the 2009 global incentive plan ( 201cgip 201d ) enables the compensation committee of the board of directors to award incentive and nonqualified stock options , stock appreciation rights , shares of series a common stock , restricted stock , restricted stock units ( 201crsus 201d ) and incentive bonuses ( which may be paid in cash or stock or a combination thereof ) , any of which may be performance-based , with vesting and other award provisions that provide effective incentive to company employees ( including officers ) , non-management directors and other service providers . under the 2009 gip , the company no longer can grant r...</td>\n",
       "      <td>[how many shares are subject to outstanding awards is under the 2009 global incentive plan?, what about under the 2004 stock incentive plan?, how many total shares are subject to outstanding awards?, what about under the 2004 stock incentive plan?, what proportion does this represent?]</td>\n",
       "      <td>| shares available for awards | shares subject to outstanding awards\\n2009 global incentive plan | 2322450 | 2530454\\n2004 stock incentive plan | - | 5923147</td>\n",
       "      <td>{'question': 'what portion of the total shares subject to outstanding awards is under the 2009 global incentive plan?', 'answer': '70.1%', 'explanation': '', 'ann_table_rows': [1, 2], 'ann_text_rows': [], 'steps': [{'op': 'add2-1', 'arg1': '2530454', 'arg2': '5923147', 'res': '8453601'}, {'op': 'divide2-2', 'arg1': '5923147', 'arg2': '#0', 'res': '70.1%'}], 'program': 'add(2530454, 5923147), divide(5923147, #0)', 'gold_inds': {'table_1': 'the 2009 global incentive plan of shares available for awards is 2322450 ; the 2009 global incentive plan of shares subject to outstanding awards is 2530454 ;', 'table_2': 'the 2004 stock incentive plan of shares available for awards is - ; the 2004 stock incentive plan of shares subject to outstanding awards is 5923147 ;'}, 'exe_ans': 0.70067, 'program_re': 'divide(5923147, add(2530454, 5923147))'}</td>\n",
       "    </tr>\n",
       "  </tbody>\n",
       "</table>\n",
       "</div>"
      ],
      "text/plain": [
       "                               id  \\\n",
       "0  Single_JKHY/2009/page_28.pdf-3   \n",
       "1  Single_RSG/2008/page_114.pdf-2   \n",
       "2  Single_AAPL/2002/page_23.pdf-1   \n",
       "3   Single_UPS/2009/page_33.pdf-2   \n",
       "4   Single_CE/2010/page_134.pdf-2   \n",
       "\n",
       "                                                                                                                                                                                                                                                                                                                                                                                                                                                                                                                                                                                                                                                                                                                                                                                                                                                                                                                                                                                                                                      text  \\\n",
       "0  26 | 2009 annual report in fiscal 2008 , revenues in the credit union systems and services business segment increased 14% ( 14 % ) from fiscal 2007 . all revenue components within the segment experienced growth during fiscal 2008 . license revenue generated the largest dollar growth in revenue as episys ae , our flagship core processing system aimed at larger credit unions , experienced strong sales throughout the year . support and service revenue , which is the largest component of total revenues for the credit union segment , experienced 34 percent growth in eft support and 10 percent growth in in-house support . gross profit in this business segment increased $ 9344 in fiscal 2008 compared to fiscal 2007 , due primarily to the increase in license revenue , which carries the highest margins . liquidity and capital resources we have historically generated positive cash flow from operations and have generally used funds generated from operations and short-term borrowings on our re...   \n",
       "1  substantially all of the goodwill and other intangible assets recorded related to the acquisition of allied are not deductible for tax purposes . pro forma information the consolidated financial statements presented for republic include the operating results of allied from the date of the acquisition . the following pro forma information is presented assuming the merger had been completed as of january 1 , 2007 . the unaudited pro forma information presented below has been prepared for illustrative purposes and is not intended to be indicative of the results of operations that would have actually occurred had the acquisition been consummated at the beginning of the periods presented or of future results of the combined operations ( in millions , except share and per share amounts ) . year ended december 31 , year ended december 31 , ( unaudited ) ( unaudited ) .\\n\\n | year ended december 31 2008 ( unaudited ) | year ended december 31 2007 ( unaudited )\\nrevenue | $ 9362.2 | $ 9244....   \n",
       "2  in a new business model such as the retail segment is inherently risky , particularly in light of the significant investment involved , the current economic climate , and the fixed nature of a substantial portion of the retail segment's operating expenses . results for this segment are dependent upon a number of risks and uncertainties , some of which are discussed below under the heading \"factors that may affect future results and financial condition.\" backlog in the company's experience , the actual amount of product backlog at any particular time is not a meaningful indication of its future business prospects . in particular , backlog often increases in anticipation of or immediately following new product introductions because of over- ordering by dealers anticipating shortages . backlog often is reduced once dealers and customers believe they can obtain sufficient supply . because of the foregoing , backlog cannot be considered a reliable indicator of the company's ability to a...   \n",
       "3  ( 1 ) includes shares repurchased through our publicly announced share repurchase program and shares tendered to pay the exercise price and tax withholding on employee stock options . shareowner return performance graph the following performance graph and related information shall not be deemed 201csoliciting material 201d or to be 201cfiled 201d with the securities and exchange commission , nor shall such information be incorporated by reference into any future filing under the securities act of 1933 or securities exchange act of 1934 , each as amended , except to the extent that the company specifically incorporates such information by reference into such filing . the following graph shows a five-year comparison of cumulative total shareowners 2019 returns for our class b common stock , the s&p 500 index , and the dow jones transportation average . the comparison of the total cumulative return on investment , which is the change in the quarterly stock price plus reinvested divide...   \n",
       "4  tax returns for 2001 and beyond are open for examination under statute . currently , unrecognized tax benefits are not expected to change significantly over the next 12 months . 19 . stock-based and other management compensation plans in april 2009 , the company approved a global incentive plan which replaces the company 2019s 2004 stock incentive plan . the 2009 global incentive plan ( 201cgip 201d ) enables the compensation committee of the board of directors to award incentive and nonqualified stock options , stock appreciation rights , shares of series a common stock , restricted stock , restricted stock units ( 201crsus 201d ) and incentive bonuses ( which may be paid in cash or stock or a combination thereof ) , any of which may be performance-based , with vesting and other award provisions that provide effective incentive to company employees ( including officers ) , non-management directors and other service providers . under the 2009 gip , the company no longer can grant r...   \n",
       "\n",
       "                                                                                                                                                                                                                                                                                                                                                                                                                                                                                                                                              possible_questions  \\\n",
       "0                                                                                                                                                                                                                                                                                                                                                                                                           [what is the net cash from operating activities in 2009?, what about in 2008?, what is the difference?, what percentage change does this represent?]   \n",
       "1                                                                                                                                                                                                                                                                                                                                                                                                                                                  [what were revenues in 2008?, what were they in 2007?, what was the net change?, what is the percent change?]   \n",
       "2                                                                                                                                                                                                                                                                                                                         [what was the total of net sales in 2001?, and what was that in 2000?, what was, then, the change in the total of net sales over the year?, and how much does this change represent in relation to that total in 2000, in percentage?]   \n",
       "3  [what was the change in the performance of the united parcel service inc . from 2004 to 2009?, and how much does this change represent in relation to that performance in 2004, in percentage?, what was the performance value of the s&p 500 index in 2009?, what was, then, the change in that performance from 2004 to 2009?, and how much does this change represent in relation to that performance in 2004, in percentage?, what is, then, the difference between the percent representation of the united parcel service inc . and the s&p 500 index?]   \n",
       "4                                                                                                                                                                                                                                                                 [how many shares are subject to outstanding awards is under the 2009 global incentive plan?, what about under the 2004 stock incentive plan?, how many total shares are subject to outstanding awards?, what about under the 2004 stock incentive plan?, what proportion does this represent?]   \n",
       "\n",
       "                                                                                                                                                                                                                                                                                                                                                                                                                                                       table  \\\n",
       "0  2008 | year ended june 30 2009 2008 | year ended june 30 2009 2008 | year ended june 30 2009\\nnet income | $ 103102 | $ 104222 | $ 104681\\nnon-cash expenses | 74397 | 70420 | 56348\\nchange in receivables | 21214 | -2913 ( 2913 ) | -28853 ( 28853 )\\nchange in deferred revenue | 21943 | 5100 | 24576\\nchange in other assets and liabilities | -14068 ( 14068 ) | 4172 | 17495\\nnet cash from operating activities | $ 206588 | $ 181001 | $ 174247   \n",
       "1                                                                                                                                                                 | year ended december 31 2008 ( unaudited ) | year ended december 31 2007 ( unaudited )\\nrevenue | $ 9362.2 | $ 9244.9\\nincome from continuing operations available to common stockholders | 285.7 | 423.2\\nbasic earnings per share | .76 | 1.10\\ndiluted earnings per share | .75 | 1.09   \n",
       "2                                                                                                                                                                                                                                              | 2002 | 2001 | 2000\\nnet sales | $ 5742 | $ 5363 | $ 7983\\ncost of sales | 4139 | 4128 | 5817\\ngross margin | $ 1603 | $ 1235 | $ 2166\\ngross margin percentage | 28% ( 28 % ) | 23% ( 23 % ) | 27% ( 27 % )   \n",
       "3                                                                                                             | 12/31/04 | 12/31/05 | 12/31/06 | 12/31/07 | 12/31/08 | 12/31/09\\nunited parcel service inc . | $ 100.00 | $ 89.49 | $ 91.06 | $ 87.88 | $ 70.48 | $ 75.95\\ns&p 500 index | $ 100.00 | $ 104.91 | $ 121.48 | $ 128.15 | $ 80.74 | $ 102.11\\ndow jones transportation average | $ 100.00 | $ 111.65 | $ 122.61 | $ 124.35 | $ 97.72 | $ 115.88   \n",
       "4                                                                                                                                                                                                                                                                                              | shares available for awards | shares subject to outstanding awards\\n2009 global incentive plan | 2322450 | 2530454\\n2004 stock incentive plan | - | 5923147   \n",
       "\n",
       "                                                                                                                                                                                                                                                                                                                                                                                                                                                                                                                                                                                                                                                                                                                                                                                                                                                                                                                                                                                                                                        qa  \n",
       "0                                                                                                                                                                                                                                                {'question': 'what was the percentage change in the net cash from operating activities from 2008 to 2009', 'answer': '14.1%', 'explanation': '', 'ann_table_rows': [6], 'ann_text_rows': [], 'steps': [{'op': 'minus2-1', 'arg1': '206588', 'arg2': '181001', 'res': '25587'}, {'op': 'divide2-2', 'arg1': '#0', 'arg2': '181001', 'res': '14.1%'}], 'program': 'subtract(206588, 181001), divide(#0, 181001)', 'gold_inds': {'table_6': '2008 the net cash from operating activities of year ended june 30 2009 2008 is $ 206588 ; the net cash from operating activities of year ended june 30 2009 2008 is $ 181001 ; the net cash from operating activities of year ended june 30 2009 is $ 174247 ;'}, 'exe_ans': 0.14136, 'program_re': 'divide(subtract(206588, 181001), 181001)'}  \n",
       "1                                                                                                                                                                                                                                                                                            {'question': 'what was the percent of the growth in the revenues from 2007 to 2008', 'answer': '1.3%', 'explanation': 'the percent growth of the revenue is the difference between the 2 divide by the oldest amount', 'ann_table_rows': [1], 'ann_text_rows': [], 'steps': [{'op': 'minus2-1', 'arg1': '9362.2', 'arg2': '9244.9', 'res': '117.3'}, {'op': 'divide2-2', 'arg1': '#0', 'arg2': '9244.9', 'res': '1.3%'}], 'program': 'subtract(9362.2, 9244.9), divide(#0, 9244.9)', 'gold_inds': {'table_1': 'the revenue of year ended december 31 2008 ( unaudited ) is $ 9362.2 ; the revenue of year ended december 31 2007 ( unaudited ) is $ 9244.9 ;'}, 'exe_ans': 0.01269, 'program_re': 'divide(subtract(9362.2, 9244.9), 9244.9)'}  \n",
       "2                                                                                                                                                                                                                                                                                                                                                                                                                                                         {'question': 'what was the percentage change in net sales from 2000 to 2001?', 'answer': '-32%', 'explanation': '', 'ann_table_rows': [1], 'ann_text_rows': [], 'steps': [{'op': 'minus1-1', 'arg1': '5363', 'arg2': '7983', 'res': '-2620'}, {'op': 'divide1-2', 'arg1': '#0', 'arg2': '7983', 'res': '-32%'}], 'program': 'subtract(5363, 7983), divide(#0, 7983)', 'gold_inds': {'table_1': 'the net sales of 2002 is $ 5742 ; the net sales of 2001 is $ 5363 ; the net sales of 2000 is $ 7983 ;'}, 'exe_ans': -0.3282, 'program_re': 'divide(subtract(5363, 7983), 7983)'}  \n",
       "3  {'question': 'what was the difference in percentage cumulative return on investment for united parcel service inc . compared to the s&p 500 index for the five year period ended 12/31/09?', 'answer': '-26.16%', 'explanation': '', 'ann_table_rows': [1, 2], 'ann_text_rows': [], 'steps': [{'op': 'minus2-1', 'arg1': '75.95', 'arg2': 'const_100', 'res': '-24.05'}, {'op': 'divide2-2', 'arg1': '#0', 'arg2': 'const_100', 'res': '-24.05%'}, {'op': 'minus2-3', 'arg1': '102.11', 'arg2': 'const_100', 'res': '2.11'}, {'op': 'divide2-4', 'arg1': '#2', 'arg2': 'const_100', 'res': '2.11%'}, {'op': 'minus2-5', 'arg1': '#1', 'arg2': '#3', 'res': '-26.16%'}], 'program': 'subtract(75.95, const_100), divide(#0, const_100), subtract(102.11, const_100), divide(#2, const_100), subtract(#1, #3)', 'gold_inds': {'table_1': 'the united parcel service inc . of 12/31/04 is $ 100.00 ; the united parcel service inc . of 12/31/05 is $ 89.49 ; the united parcel service inc . of 12/31/06 is $ 91.06 ; the united parce...  \n",
       "4                                                                                                                                                            {'question': 'what portion of the total shares subject to outstanding awards is under the 2009 global incentive plan?', 'answer': '70.1%', 'explanation': '', 'ann_table_rows': [1, 2], 'ann_text_rows': [], 'steps': [{'op': 'add2-1', 'arg1': '2530454', 'arg2': '5923147', 'res': '8453601'}, {'op': 'divide2-2', 'arg1': '5923147', 'arg2': '#0', 'res': '70.1%'}], 'program': 'add(2530454, 5923147), divide(5923147, #0)', 'gold_inds': {'table_1': 'the 2009 global incentive plan of shares available for awards is 2322450 ; the 2009 global incentive plan of shares subject to outstanding awards is 2530454 ;', 'table_2': 'the 2004 stock incentive plan of shares available for awards is - ; the 2004 stock incentive plan of shares subject to outstanding awards is 5923147 ;'}, 'exe_ans': 0.70067, 'program_re': 'divide(5923147, add(2530454, 5923147))'}  "
      ]
     },
     "execution_count": 27,
     "metadata": {},
     "output_type": "execute_result"
    }
   ],
   "source": [
    "df.head()"
   ]
  },
  {
   "cell_type": "code",
   "execution_count": 29,
   "metadata": {},
   "outputs": [],
   "source": [
    "# Generate table descriptions\n",
    "df[\"table_description\"] = df.apply(safe_get_table_description, axis=1)"
   ]
  },
  {
   "cell_type": "code",
   "execution_count": 30,
   "metadata": {},
   "outputs": [
    {
     "data": {
      "text/html": [
       "<div>\n",
       "<style scoped>\n",
       "    .dataframe tbody tr th:only-of-type {\n",
       "        vertical-align: middle;\n",
       "    }\n",
       "\n",
       "    .dataframe tbody tr th {\n",
       "        vertical-align: top;\n",
       "    }\n",
       "\n",
       "    .dataframe thead th {\n",
       "        text-align: right;\n",
       "    }\n",
       "</style>\n",
       "<table border=\"1\" class=\"dataframe\">\n",
       "  <thead>\n",
       "    <tr style=\"text-align: right;\">\n",
       "      <th></th>\n",
       "      <th>id</th>\n",
       "      <th>text</th>\n",
       "      <th>possible_questions</th>\n",
       "      <th>table</th>\n",
       "      <th>qa</th>\n",
       "      <th>table_description</th>\n",
       "      <th>expanded_text</th>\n",
       "    </tr>\n",
       "  </thead>\n",
       "  <tbody>\n",
       "    <tr>\n",
       "      <th>0</th>\n",
       "      <td>Single_JKHY/2009/page_28.pdf-3</td>\n",
       "      <td>26 | 2009 annual report in fiscal 2008 , revenues in the credit union systems and services business segment increased 14% ( 14 % ) from fiscal 2007 . all revenue components within the segment experienced growth during fiscal 2008 . license revenue generated the largest dollar growth in revenue as episys ae , our flagship core processing system aimed at larger credit unions , experienced strong sales throughout the year . support and service revenue , which is the largest component of total revenues for the credit union segment , experienced 34 percent growth in eft support and 10 percent growth in in-house support . gross profit in this business segment increased $ 9344 in fiscal 2008 compared to fiscal 2007 , due primarily to the increase in license revenue , which carries the highest margins . liquidity and capital resources we have historically generated positive cash flow from operations and have generally used funds generated from operations and short-term borrowings on our re...</td>\n",
       "      <td>[what is the net cash from operating activities in 2009?, what about in 2008?, what is the difference?, what percentage change does this represent?]</td>\n",
       "      <td>2008 | year ended june 30 2009 2008 | year ended june 30 2009 2008 | year ended june 30 2009\\nnet income | $ 103102 | $ 104222 | $ 104681\\nnon-cash expenses | 74397 | 70420 | 56348\\nchange in receivables | 21214 | -2913 ( 2913 ) | -28853 ( 28853 )\\nchange in deferred revenue | 21943 | 5100 | 24576\\nchange in other assets and liabilities | -14068 ( 14068 ) | 4172 | 17495\\nnet cash from operating activities | $ 206588 | $ 181001 | $ 174247</td>\n",
       "      <td>{'question': 'what was the percentage change in the net cash from operating activities from 2008 to 2009', 'answer': '14.1%', 'explanation': '', 'ann_table_rows': [6], 'ann_text_rows': [], 'steps': [{'op': 'minus2-1', 'arg1': '206588', 'arg2': '181001', 'res': '25587'}, {'op': 'divide2-2', 'arg1': '#0', 'arg2': '181001', 'res': '14.1%'}], 'program': 'subtract(206588, 181001), divide(#0, 181001)', 'gold_inds': {'table_6': '2008 the net cash from operating activities of year ended june 30 2009 2008 is $ 206588 ; the net cash from operating activities of year ended june 30 2009 2008 is $ 181001 ; the net cash from operating activities of year ended june 30 2009 is $ 174247 ;'}, 'exe_ans': 0.14136, 'program_re': 'divide(subtract(206588, 181001), 181001)'}</td>\n",
       "      <td>### Table Description\\n\\nThe table summarizes the net cash from operating activities for the fiscal years ended June 30, 2009, 2008, and 2007. Each row in the table presents different metrics related to cash flows, specifically focusing on components that influence net cash generated from operations. \\n\\n1. **Net Income**: This shows the total income after expenses for each fiscal year. It decreased slightly from 2008 to 2009.\\n  \\n2. **Non-Cash Expenses**: These represent expenses that affect net income but do not involve cash transactions. There was an increase from 2007 to 2008 and from 2008 to 2009.\\n  \\n3. **Change in Receivables**: This indicates the changes in money owed to the company from customers. A notable positive change of $21,214 in 2009 compared to a negative change of $2,913 in 2008 suggests improved cash collection practices.\\n  \\n4. **Change in Deferred Revenue**: This metric reflects the changes in revenue that has been collected but not yet earned. It shows sig...</td>\n",
       "      <td>26 | 2009 annual report in fiscal 2008 , revenues in the credit union systems and services business segment increased 14% ( 14 % ) from fiscal 2007 . all revenue components within the segment experienced growth during fiscal 2008 . license revenue generated the largest dollar growth in revenue as episys ae , our flagship core processing system aimed at larger credit unions , experienced strong sales throughout the year . support and service revenue , which is the largest component of total revenues for the credit union segment , experienced 34 percent growth in eft support and 10 percent growth in in-house support . gross profit in this business segment increased $ 9344 in fiscal 2008 compared to fiscal 2007 , due primarily to the increase in license revenue , which carries the highest margins . liquidity and capital resources we have historically generated positive cash flow from operations and have generally used funds generated from operations and short-term borrowings on our re...</td>\n",
       "    </tr>\n",
       "    <tr>\n",
       "      <th>1</th>\n",
       "      <td>Single_RSG/2008/page_114.pdf-2</td>\n",
       "      <td>substantially all of the goodwill and other intangible assets recorded related to the acquisition of allied are not deductible for tax purposes . pro forma information the consolidated financial statements presented for republic include the operating results of allied from the date of the acquisition . the following pro forma information is presented assuming the merger had been completed as of january 1 , 2007 . the unaudited pro forma information presented below has been prepared for illustrative purposes and is not intended to be indicative of the results of operations that would have actually occurred had the acquisition been consummated at the beginning of the periods presented or of future results of the combined operations ( in millions , except share and per share amounts ) . year ended december 31 , year ended december 31 , ( unaudited ) ( unaudited ) .\\n\\n | year ended december 31 2008 ( unaudited ) | year ended december 31 2007 ( unaudited )\\nrevenue | $ 9362.2 | $ 9244....</td>\n",
       "      <td>[what were revenues in 2008?, what were they in 2007?, what was the net change?, what is the percent change?]</td>\n",
       "      <td>| year ended december 31 2008 ( unaudited ) | year ended december 31 2007 ( unaudited )\\nrevenue | $ 9362.2 | $ 9244.9\\nincome from continuing operations available to common stockholders | 285.7 | 423.2\\nbasic earnings per share | .76 | 1.10\\ndiluted earnings per share | .75 | 1.09</td>\n",
       "      <td>{'question': 'what was the percent of the growth in the revenues from 2007 to 2008', 'answer': '1.3%', 'explanation': 'the percent growth of the revenue is the difference between the 2 divide by the oldest amount', 'ann_table_rows': [1], 'ann_text_rows': [], 'steps': [{'op': 'minus2-1', 'arg1': '9362.2', 'arg2': '9244.9', 'res': '117.3'}, {'op': 'divide2-2', 'arg1': '#0', 'arg2': '9244.9', 'res': '1.3%'}], 'program': 'subtract(9362.2, 9244.9), divide(#0, 9244.9)', 'gold_inds': {'table_1': 'the revenue of year ended december 31 2008 ( unaudited ) is $ 9362.2 ; the revenue of year ended december 31 2007 ( unaudited ) is $ 9244.9 ;'}, 'exe_ans': 0.01269, 'program_re': 'divide(subtract(9362.2, 9244.9), 9244.9)'}</td>\n",
       "      <td>### Description of the Table\\n\\nThe table presents unaudited pro forma financial information for the years ended December 31, 2008, and December 31, 2007. This information is intended to provide an illustrative comparison of selected financial metrics that would have been applicable if the merger with Allied had been completed on January 1, 2007. The figures are presented in millions of dollars, except for share and per share amounts.\\n\\nThe table includes the following categories:\\n\\n- **Revenue**: This row shows the total revenue for both years, with revenue increasing from $9,244.9 million in 2007 to $9,362.2 million in 2008, indicating a modest growth in revenue.\\n  \\n- **Income from Continuing Operations Available to Common Stockholders**: This figure reflects the earnings available to common shareholders from ongoing operations, which decreased from $423.2 million in 2007 to $285.7 million in 2008.\\n  \\n- **Basic Earnings Per Share**: This represents the earnings allocated to...</td>\n",
       "      <td>substantially all of the goodwill and other intangible assets recorded related to the acquisition of allied are not deductible for tax purposes . pro forma information the consolidated financial statements presented for republic include the operating results of allied from the date of the acquisition . the following pro forma information is presented assuming the merger had been completed as of january 1 , 2007 . the unaudited pro forma information presented below has been prepared for illustrative purposes and is not intended to be indicative of the results of operations that would have actually occurred had the acquisition been consummated at the beginning of the periods presented or of future results of the combined operations ( in millions , except share and per share amounts ) . year ended december 31 , year ended december 31 , ( unaudited ) ( unaudited ) .\\n\\n | year ended december 31 2008 ( unaudited ) | year ended december 31 2007 ( unaudited )\\nrevenue | $ 9362.2 | $ 9244....</td>\n",
       "    </tr>\n",
       "    <tr>\n",
       "      <th>2</th>\n",
       "      <td>Single_AAPL/2002/page_23.pdf-1</td>\n",
       "      <td>in a new business model such as the retail segment is inherently risky , particularly in light of the significant investment involved , the current economic climate , and the fixed nature of a substantial portion of the retail segment's operating expenses . results for this segment are dependent upon a number of risks and uncertainties , some of which are discussed below under the heading \"factors that may affect future results and financial condition.\" backlog in the company's experience , the actual amount of product backlog at any particular time is not a meaningful indication of its future business prospects . in particular , backlog often increases in anticipation of or immediately following new product introductions because of over- ordering by dealers anticipating shortages . backlog often is reduced once dealers and customers believe they can obtain sufficient supply . because of the foregoing , backlog cannot be considered a reliable indicator of the company's ability to a...</td>\n",
       "      <td>[what was the total of net sales in 2001?, and what was that in 2000?, what was, then, the change in the total of net sales over the year?, and how much does this change represent in relation to that total in 2000, in percentage?]</td>\n",
       "      <td>| 2002 | 2001 | 2000\\nnet sales | $ 5742 | $ 5363 | $ 7983\\ncost of sales | 4139 | 4128 | 5817\\ngross margin | $ 1603 | $ 1235 | $ 2166\\ngross margin percentage | 28% ( 28 % ) | 23% ( 23 % ) | 27% ( 27 % )</td>\n",
       "      <td>{'question': 'what was the percentage change in net sales from 2000 to 2001?', 'answer': '-32%', 'explanation': '', 'ann_table_rows': [1], 'ann_text_rows': [], 'steps': [{'op': 'minus1-1', 'arg1': '5363', 'arg2': '7983', 'res': '-2620'}, {'op': 'divide1-2', 'arg1': '#0', 'arg2': '7983', 'res': '-32%'}], 'program': 'subtract(5363, 7983), divide(#0, 7983)', 'gold_inds': {'table_1': 'the net sales of 2002 is $ 5742 ; the net sales of 2001 is $ 5363 ; the net sales of 2000 is $ 7983 ;'}, 'exe_ans': -0.3282, 'program_re': 'divide(subtract(5363, 7983), 7983)'}</td>\n",
       "      <td>### Comprehensive Description of the Table\\n\\nThe table presents a summary of financial performance metrics over three fiscal years: 2000, 2001, and 2002. It focuses on the company's net sales, cost of sales, gross margin, and gross margin percentage for each of those years. \\n\\n1. **Net Sales**: This row shows the total revenue generated by the company from sales of its products. In 2000, net sales were $7,983 million, which decreased to $5,363 million in 2001—a significant drop of approximately 32%. However, there was a slight recovery in 2002, with net sales increasing to $5,742 million.\\n\\n2. **Cost of Sales**: This row lists the total expenses directly associated with the production of goods sold. The costs remained relatively stable from 2000 to 2001, changing from $5,817 million in 2000 to $4,128 million in 2001. In 2002, the cost slightly increased to $4,139 million.\\n\\n3. **Gross Margin**: This row indicates the gross profit of the company calculated as net sales minus the...</td>\n",
       "      <td>in a new business model such as the retail segment is inherently risky , particularly in light of the significant investment involved , the current economic climate , and the fixed nature of a substantial portion of the retail segment's operating expenses . results for this segment are dependent upon a number of risks and uncertainties , some of which are discussed below under the heading \"factors that may affect future results and financial condition.\" backlog in the company's experience , the actual amount of product backlog at any particular time is not a meaningful indication of its future business prospects . in particular , backlog often increases in anticipation of or immediately following new product introductions because of over- ordering by dealers anticipating shortages . backlog often is reduced once dealers and customers believe they can obtain sufficient supply . because of the foregoing , backlog cannot be considered a reliable indicator of the company's ability to a...</td>\n",
       "    </tr>\n",
       "    <tr>\n",
       "      <th>3</th>\n",
       "      <td>Single_UPS/2009/page_33.pdf-2</td>\n",
       "      <td>( 1 ) includes shares repurchased through our publicly announced share repurchase program and shares tendered to pay the exercise price and tax withholding on employee stock options . shareowner return performance graph the following performance graph and related information shall not be deemed 201csoliciting material 201d or to be 201cfiled 201d with the securities and exchange commission , nor shall such information be incorporated by reference into any future filing under the securities act of 1933 or securities exchange act of 1934 , each as amended , except to the extent that the company specifically incorporates such information by reference into such filing . the following graph shows a five-year comparison of cumulative total shareowners 2019 returns for our class b common stock , the s&amp;p 500 index , and the dow jones transportation average . the comparison of the total cumulative return on investment , which is the change in the quarterly stock price plus reinvested divide...</td>\n",
       "      <td>[what was the change in the performance of the united parcel service inc . from 2004 to 2009?, and how much does this change represent in relation to that performance in 2004, in percentage?, what was the performance value of the s&amp;p 500 index in 2009?, what was, then, the change in that performance from 2004 to 2009?, and how much does this change represent in relation to that performance in 2004, in percentage?, what is, then, the difference between the percent representation of the united parcel service inc . and the s&amp;p 500 index?]</td>\n",
       "      <td>| 12/31/04 | 12/31/05 | 12/31/06 | 12/31/07 | 12/31/08 | 12/31/09\\nunited parcel service inc . | $ 100.00 | $ 89.49 | $ 91.06 | $ 87.88 | $ 70.48 | $ 75.95\\ns&amp;p 500 index | $ 100.00 | $ 104.91 | $ 121.48 | $ 128.15 | $ 80.74 | $ 102.11\\ndow jones transportation average | $ 100.00 | $ 111.65 | $ 122.61 | $ 124.35 | $ 97.72 | $ 115.88</td>\n",
       "      <td>{'question': 'what was the difference in percentage cumulative return on investment for united parcel service inc . compared to the s&amp;p 500 index for the five year period ended 12/31/09?', 'answer': '-26.16%', 'explanation': '', 'ann_table_rows': [1, 2], 'ann_text_rows': [], 'steps': [{'op': 'minus2-1', 'arg1': '75.95', 'arg2': 'const_100', 'res': '-24.05'}, {'op': 'divide2-2', 'arg1': '#0', 'arg2': 'const_100', 'res': '-24.05%'}, {'op': 'minus2-3', 'arg1': '102.11', 'arg2': 'const_100', 'res': '2.11'}, {'op': 'divide2-4', 'arg1': '#2', 'arg2': 'const_100', 'res': '2.11%'}, {'op': 'minus2-5', 'arg1': '#1', 'arg2': '#3', 'res': '-26.16%'}], 'program': 'subtract(75.95, const_100), divide(#0, const_100), subtract(102.11, const_100), divide(#2, const_100), subtract(#1, #3)', 'gold_inds': {'table_1': 'the united parcel service inc . of 12/31/04 is $ 100.00 ; the united parcel service inc . of 12/31/05 is $ 89.49 ; the united parcel service inc . of 12/31/06 is $ 91.06 ; the united parce...</td>\n",
       "      <td>### Table Description\\n\\nThe table presents cumulative total returns for three different investment options over a five-year period, from December 31, 2004, to December 31, 2009. The three options compared are:\\n\\n1. **United Parcel Service Inc. (UPS)** - Represented as \"united parcel service inc.\" in the table.\\n2. **S&amp;P 500 Index** - A stock market index that measures the stock performance of 500 large companies listed on stock exchanges in the United States.\\n3. **Dow Jones Transportation Average** - A stock market index that measures the performance of transportation sector companies.\\n\\nThe values shown in the table represent the dollar amount that an investment of $100 on December 31, 2004, would yield at the end of each subsequent year listed in the columns. The values are displayed in dollar amounts, and each row provides the cumulative investment value at the end of each specified date for the respective investment option.\\n\\nThe table reveals trends over the five-year per...</td>\n",
       "      <td>( 1 ) includes shares repurchased through our publicly announced share repurchase program and shares tendered to pay the exercise price and tax withholding on employee stock options . shareowner return performance graph the following performance graph and related information shall not be deemed 201csoliciting material 201d or to be 201cfiled 201d with the securities and exchange commission , nor shall such information be incorporated by reference into any future filing under the securities act of 1933 or securities exchange act of 1934 , each as amended , except to the extent that the company specifically incorporates such information by reference into such filing . the following graph shows a five-year comparison of cumulative total shareowners 2019 returns for our class b common stock , the s&amp;p 500 index , and the dow jones transportation average . the comparison of the total cumulative return on investment , which is the change in the quarterly stock price plus reinvested divide...</td>\n",
       "    </tr>\n",
       "    <tr>\n",
       "      <th>4</th>\n",
       "      <td>Single_CE/2010/page_134.pdf-2</td>\n",
       "      <td>tax returns for 2001 and beyond are open for examination under statute . currently , unrecognized tax benefits are not expected to change significantly over the next 12 months . 19 . stock-based and other management compensation plans in april 2009 , the company approved a global incentive plan which replaces the company 2019s 2004 stock incentive plan . the 2009 global incentive plan ( 201cgip 201d ) enables the compensation committee of the board of directors to award incentive and nonqualified stock options , stock appreciation rights , shares of series a common stock , restricted stock , restricted stock units ( 201crsus 201d ) and incentive bonuses ( which may be paid in cash or stock or a combination thereof ) , any of which may be performance-based , with vesting and other award provisions that provide effective incentive to company employees ( including officers ) , non-management directors and other service providers . under the 2009 gip , the company no longer can grant r...</td>\n",
       "      <td>[how many shares are subject to outstanding awards is under the 2009 global incentive plan?, what about under the 2004 stock incentive plan?, how many total shares are subject to outstanding awards?, what about under the 2004 stock incentive plan?, what proportion does this represent?]</td>\n",
       "      <td>| shares available for awards | shares subject to outstanding awards\\n2009 global incentive plan | 2322450 | 2530454\\n2004 stock incentive plan | - | 5923147</td>\n",
       "      <td>{'question': 'what portion of the total shares subject to outstanding awards is under the 2009 global incentive plan?', 'answer': '70.1%', 'explanation': '', 'ann_table_rows': [1, 2], 'ann_text_rows': [], 'steps': [{'op': 'add2-1', 'arg1': '2530454', 'arg2': '5923147', 'res': '8453601'}, {'op': 'divide2-2', 'arg1': '5923147', 'arg2': '#0', 'res': '70.1%'}], 'program': 'add(2530454, 5923147), divide(5923147, #0)', 'gold_inds': {'table_1': 'the 2009 global incentive plan of shares available for awards is 2322450 ; the 2009 global incentive plan of shares subject to outstanding awards is 2530454 ;', 'table_2': 'the 2004 stock incentive plan of shares available for awards is - ; the 2004 stock incentive plan of shares subject to outstanding awards is 5923147 ;'}, 'exe_ans': 0.70067, 'program_re': 'divide(5923147, add(2530454, 5923147))'}</td>\n",
       "      <td>### Description of the Table\\n\\nThe table presents information regarding the shares available for awards and shares subject to outstanding awards under two different stock incentive plans as of December 31, 2010. It compares the 2009 Global Incentive Plan (GIP) and the 2004 Stock Incentive Plan (SIP). \\n\\n1. **Shares Available for Awards**: This column indicates how many shares are currently available to be awarded under each plan. \\n   - For the 2009 GIP, there are 2,322,450 shares available.\\n   - For the 2004 SIP, there are no shares available for new awards (indicated by a dash).\\n\\n2. **Shares Subject to Outstanding Awards**: This column shows the number of shares that have been awarded but are yet to be fully utilized or completed under each plan. \\n   - The 2009 GIP has 2,530,454 shares subject to outstanding awards.\\n   - The 2004 SIP has a significantly higher number, with 5,923,147 shares subject to outstanding awards.\\n\\nOverall, the table highlights the allocation of sh...</td>\n",
       "      <td>tax returns for 2001 and beyond are open for examination under statute . currently , unrecognized tax benefits are not expected to change significantly over the next 12 months . 19 . stock-based and other management compensation plans in april 2009 , the company approved a global incentive plan which replaces the company 2019s 2004 stock incentive plan . the 2009 global incentive plan ( 201cgip 201d ) enables the compensation committee of the board of directors to award incentive and nonqualified stock options , stock appreciation rights , shares of series a common stock , restricted stock , restricted stock units ( 201crsus 201d ) and incentive bonuses ( which may be paid in cash or stock or a combination thereof ) , any of which may be performance-based , with vesting and other award provisions that provide effective incentive to company employees ( including officers ) , non-management directors and other service providers . under the 2009 gip , the company no longer can grant r...</td>\n",
       "    </tr>\n",
       "  </tbody>\n",
       "</table>\n",
       "</div>"
      ],
      "text/plain": [
       "                               id  \\\n",
       "0  Single_JKHY/2009/page_28.pdf-3   \n",
       "1  Single_RSG/2008/page_114.pdf-2   \n",
       "2  Single_AAPL/2002/page_23.pdf-1   \n",
       "3   Single_UPS/2009/page_33.pdf-2   \n",
       "4   Single_CE/2010/page_134.pdf-2   \n",
       "\n",
       "                                                                                                                                                                                                                                                                                                                                                                                                                                                                                                                                                                                                                                                                                                                                                                                                                                                                                                                                                                                                                                      text  \\\n",
       "0  26 | 2009 annual report in fiscal 2008 , revenues in the credit union systems and services business segment increased 14% ( 14 % ) from fiscal 2007 . all revenue components within the segment experienced growth during fiscal 2008 . license revenue generated the largest dollar growth in revenue as episys ae , our flagship core processing system aimed at larger credit unions , experienced strong sales throughout the year . support and service revenue , which is the largest component of total revenues for the credit union segment , experienced 34 percent growth in eft support and 10 percent growth in in-house support . gross profit in this business segment increased $ 9344 in fiscal 2008 compared to fiscal 2007 , due primarily to the increase in license revenue , which carries the highest margins . liquidity and capital resources we have historically generated positive cash flow from operations and have generally used funds generated from operations and short-term borrowings on our re...   \n",
       "1  substantially all of the goodwill and other intangible assets recorded related to the acquisition of allied are not deductible for tax purposes . pro forma information the consolidated financial statements presented for republic include the operating results of allied from the date of the acquisition . the following pro forma information is presented assuming the merger had been completed as of january 1 , 2007 . the unaudited pro forma information presented below has been prepared for illustrative purposes and is not intended to be indicative of the results of operations that would have actually occurred had the acquisition been consummated at the beginning of the periods presented or of future results of the combined operations ( in millions , except share and per share amounts ) . year ended december 31 , year ended december 31 , ( unaudited ) ( unaudited ) .\\n\\n | year ended december 31 2008 ( unaudited ) | year ended december 31 2007 ( unaudited )\\nrevenue | $ 9362.2 | $ 9244....   \n",
       "2  in a new business model such as the retail segment is inherently risky , particularly in light of the significant investment involved , the current economic climate , and the fixed nature of a substantial portion of the retail segment's operating expenses . results for this segment are dependent upon a number of risks and uncertainties , some of which are discussed below under the heading \"factors that may affect future results and financial condition.\" backlog in the company's experience , the actual amount of product backlog at any particular time is not a meaningful indication of its future business prospects . in particular , backlog often increases in anticipation of or immediately following new product introductions because of over- ordering by dealers anticipating shortages . backlog often is reduced once dealers and customers believe they can obtain sufficient supply . because of the foregoing , backlog cannot be considered a reliable indicator of the company's ability to a...   \n",
       "3  ( 1 ) includes shares repurchased through our publicly announced share repurchase program and shares tendered to pay the exercise price and tax withholding on employee stock options . shareowner return performance graph the following performance graph and related information shall not be deemed 201csoliciting material 201d or to be 201cfiled 201d with the securities and exchange commission , nor shall such information be incorporated by reference into any future filing under the securities act of 1933 or securities exchange act of 1934 , each as amended , except to the extent that the company specifically incorporates such information by reference into such filing . the following graph shows a five-year comparison of cumulative total shareowners 2019 returns for our class b common stock , the s&p 500 index , and the dow jones transportation average . the comparison of the total cumulative return on investment , which is the change in the quarterly stock price plus reinvested divide...   \n",
       "4  tax returns for 2001 and beyond are open for examination under statute . currently , unrecognized tax benefits are not expected to change significantly over the next 12 months . 19 . stock-based and other management compensation plans in april 2009 , the company approved a global incentive plan which replaces the company 2019s 2004 stock incentive plan . the 2009 global incentive plan ( 201cgip 201d ) enables the compensation committee of the board of directors to award incentive and nonqualified stock options , stock appreciation rights , shares of series a common stock , restricted stock , restricted stock units ( 201crsus 201d ) and incentive bonuses ( which may be paid in cash or stock or a combination thereof ) , any of which may be performance-based , with vesting and other award provisions that provide effective incentive to company employees ( including officers ) , non-management directors and other service providers . under the 2009 gip , the company no longer can grant r...   \n",
       "\n",
       "                                                                                                                                                                                                                                                                                                                                                                                                                                                                                                                                              possible_questions  \\\n",
       "0                                                                                                                                                                                                                                                                                                                                                                                                           [what is the net cash from operating activities in 2009?, what about in 2008?, what is the difference?, what percentage change does this represent?]   \n",
       "1                                                                                                                                                                                                                                                                                                                                                                                                                                                  [what were revenues in 2008?, what were they in 2007?, what was the net change?, what is the percent change?]   \n",
       "2                                                                                                                                                                                                                                                                                                                         [what was the total of net sales in 2001?, and what was that in 2000?, what was, then, the change in the total of net sales over the year?, and how much does this change represent in relation to that total in 2000, in percentage?]   \n",
       "3  [what was the change in the performance of the united parcel service inc . from 2004 to 2009?, and how much does this change represent in relation to that performance in 2004, in percentage?, what was the performance value of the s&p 500 index in 2009?, what was, then, the change in that performance from 2004 to 2009?, and how much does this change represent in relation to that performance in 2004, in percentage?, what is, then, the difference between the percent representation of the united parcel service inc . and the s&p 500 index?]   \n",
       "4                                                                                                                                                                                                                                                                 [how many shares are subject to outstanding awards is under the 2009 global incentive plan?, what about under the 2004 stock incentive plan?, how many total shares are subject to outstanding awards?, what about under the 2004 stock incentive plan?, what proportion does this represent?]   \n",
       "\n",
       "                                                                                                                                                                                                                                                                                                                                                                                                                                                       table  \\\n",
       "0  2008 | year ended june 30 2009 2008 | year ended june 30 2009 2008 | year ended june 30 2009\\nnet income | $ 103102 | $ 104222 | $ 104681\\nnon-cash expenses | 74397 | 70420 | 56348\\nchange in receivables | 21214 | -2913 ( 2913 ) | -28853 ( 28853 )\\nchange in deferred revenue | 21943 | 5100 | 24576\\nchange in other assets and liabilities | -14068 ( 14068 ) | 4172 | 17495\\nnet cash from operating activities | $ 206588 | $ 181001 | $ 174247   \n",
       "1                                                                                                                                                                 | year ended december 31 2008 ( unaudited ) | year ended december 31 2007 ( unaudited )\\nrevenue | $ 9362.2 | $ 9244.9\\nincome from continuing operations available to common stockholders | 285.7 | 423.2\\nbasic earnings per share | .76 | 1.10\\ndiluted earnings per share | .75 | 1.09   \n",
       "2                                                                                                                                                                                                                                              | 2002 | 2001 | 2000\\nnet sales | $ 5742 | $ 5363 | $ 7983\\ncost of sales | 4139 | 4128 | 5817\\ngross margin | $ 1603 | $ 1235 | $ 2166\\ngross margin percentage | 28% ( 28 % ) | 23% ( 23 % ) | 27% ( 27 % )   \n",
       "3                                                                                                             | 12/31/04 | 12/31/05 | 12/31/06 | 12/31/07 | 12/31/08 | 12/31/09\\nunited parcel service inc . | $ 100.00 | $ 89.49 | $ 91.06 | $ 87.88 | $ 70.48 | $ 75.95\\ns&p 500 index | $ 100.00 | $ 104.91 | $ 121.48 | $ 128.15 | $ 80.74 | $ 102.11\\ndow jones transportation average | $ 100.00 | $ 111.65 | $ 122.61 | $ 124.35 | $ 97.72 | $ 115.88   \n",
       "4                                                                                                                                                                                                                                                                                              | shares available for awards | shares subject to outstanding awards\\n2009 global incentive plan | 2322450 | 2530454\\n2004 stock incentive plan | - | 5923147   \n",
       "\n",
       "                                                                                                                                                                                                                                                                                                                                                                                                                                                                                                                                                                                                                                                                                                                                                                                                                                                                                                                                                                                                                                        qa  \\\n",
       "0                                                                                                                                                                                                                                                {'question': 'what was the percentage change in the net cash from operating activities from 2008 to 2009', 'answer': '14.1%', 'explanation': '', 'ann_table_rows': [6], 'ann_text_rows': [], 'steps': [{'op': 'minus2-1', 'arg1': '206588', 'arg2': '181001', 'res': '25587'}, {'op': 'divide2-2', 'arg1': '#0', 'arg2': '181001', 'res': '14.1%'}], 'program': 'subtract(206588, 181001), divide(#0, 181001)', 'gold_inds': {'table_6': '2008 the net cash from operating activities of year ended june 30 2009 2008 is $ 206588 ; the net cash from operating activities of year ended june 30 2009 2008 is $ 181001 ; the net cash from operating activities of year ended june 30 2009 is $ 174247 ;'}, 'exe_ans': 0.14136, 'program_re': 'divide(subtract(206588, 181001), 181001)'}   \n",
       "1                                                                                                                                                                                                                                                                                            {'question': 'what was the percent of the growth in the revenues from 2007 to 2008', 'answer': '1.3%', 'explanation': 'the percent growth of the revenue is the difference between the 2 divide by the oldest amount', 'ann_table_rows': [1], 'ann_text_rows': [], 'steps': [{'op': 'minus2-1', 'arg1': '9362.2', 'arg2': '9244.9', 'res': '117.3'}, {'op': 'divide2-2', 'arg1': '#0', 'arg2': '9244.9', 'res': '1.3%'}], 'program': 'subtract(9362.2, 9244.9), divide(#0, 9244.9)', 'gold_inds': {'table_1': 'the revenue of year ended december 31 2008 ( unaudited ) is $ 9362.2 ; the revenue of year ended december 31 2007 ( unaudited ) is $ 9244.9 ;'}, 'exe_ans': 0.01269, 'program_re': 'divide(subtract(9362.2, 9244.9), 9244.9)'}   \n",
       "2                                                                                                                                                                                                                                                                                                                                                                                                                                                         {'question': 'what was the percentage change in net sales from 2000 to 2001?', 'answer': '-32%', 'explanation': '', 'ann_table_rows': [1], 'ann_text_rows': [], 'steps': [{'op': 'minus1-1', 'arg1': '5363', 'arg2': '7983', 'res': '-2620'}, {'op': 'divide1-2', 'arg1': '#0', 'arg2': '7983', 'res': '-32%'}], 'program': 'subtract(5363, 7983), divide(#0, 7983)', 'gold_inds': {'table_1': 'the net sales of 2002 is $ 5742 ; the net sales of 2001 is $ 5363 ; the net sales of 2000 is $ 7983 ;'}, 'exe_ans': -0.3282, 'program_re': 'divide(subtract(5363, 7983), 7983)'}   \n",
       "3  {'question': 'what was the difference in percentage cumulative return on investment for united parcel service inc . compared to the s&p 500 index for the five year period ended 12/31/09?', 'answer': '-26.16%', 'explanation': '', 'ann_table_rows': [1, 2], 'ann_text_rows': [], 'steps': [{'op': 'minus2-1', 'arg1': '75.95', 'arg2': 'const_100', 'res': '-24.05'}, {'op': 'divide2-2', 'arg1': '#0', 'arg2': 'const_100', 'res': '-24.05%'}, {'op': 'minus2-3', 'arg1': '102.11', 'arg2': 'const_100', 'res': '2.11'}, {'op': 'divide2-4', 'arg1': '#2', 'arg2': 'const_100', 'res': '2.11%'}, {'op': 'minus2-5', 'arg1': '#1', 'arg2': '#3', 'res': '-26.16%'}], 'program': 'subtract(75.95, const_100), divide(#0, const_100), subtract(102.11, const_100), divide(#2, const_100), subtract(#1, #3)', 'gold_inds': {'table_1': 'the united parcel service inc . of 12/31/04 is $ 100.00 ; the united parcel service inc . of 12/31/05 is $ 89.49 ; the united parcel service inc . of 12/31/06 is $ 91.06 ; the united parce...   \n",
       "4                                                                                                                                                            {'question': 'what portion of the total shares subject to outstanding awards is under the 2009 global incentive plan?', 'answer': '70.1%', 'explanation': '', 'ann_table_rows': [1, 2], 'ann_text_rows': [], 'steps': [{'op': 'add2-1', 'arg1': '2530454', 'arg2': '5923147', 'res': '8453601'}, {'op': 'divide2-2', 'arg1': '5923147', 'arg2': '#0', 'res': '70.1%'}], 'program': 'add(2530454, 5923147), divide(5923147, #0)', 'gold_inds': {'table_1': 'the 2009 global incentive plan of shares available for awards is 2322450 ; the 2009 global incentive plan of shares subject to outstanding awards is 2530454 ;', 'table_2': 'the 2004 stock incentive plan of shares available for awards is - ; the 2004 stock incentive plan of shares subject to outstanding awards is 5923147 ;'}, 'exe_ans': 0.70067, 'program_re': 'divide(5923147, add(2530454, 5923147))'}   \n",
       "\n",
       "                                                                                                                                                                                                                                                                                                                                                                                                                                                                                                                                                                                                                                                                                                                                                                                                                                                                                                                                                                                                                         table_description  \\\n",
       "0  ### Table Description\\n\\nThe table summarizes the net cash from operating activities for the fiscal years ended June 30, 2009, 2008, and 2007. Each row in the table presents different metrics related to cash flows, specifically focusing on components that influence net cash generated from operations. \\n\\n1. **Net Income**: This shows the total income after expenses for each fiscal year. It decreased slightly from 2008 to 2009.\\n  \\n2. **Non-Cash Expenses**: These represent expenses that affect net income but do not involve cash transactions. There was an increase from 2007 to 2008 and from 2008 to 2009.\\n  \\n3. **Change in Receivables**: This indicates the changes in money owed to the company from customers. A notable positive change of $21,214 in 2009 compared to a negative change of $2,913 in 2008 suggests improved cash collection practices.\\n  \\n4. **Change in Deferred Revenue**: This metric reflects the changes in revenue that has been collected but not yet earned. It shows sig...   \n",
       "1  ### Description of the Table\\n\\nThe table presents unaudited pro forma financial information for the years ended December 31, 2008, and December 31, 2007. This information is intended to provide an illustrative comparison of selected financial metrics that would have been applicable if the merger with Allied had been completed on January 1, 2007. The figures are presented in millions of dollars, except for share and per share amounts.\\n\\nThe table includes the following categories:\\n\\n- **Revenue**: This row shows the total revenue for both years, with revenue increasing from $9,244.9 million in 2007 to $9,362.2 million in 2008, indicating a modest growth in revenue.\\n  \\n- **Income from Continuing Operations Available to Common Stockholders**: This figure reflects the earnings available to common shareholders from ongoing operations, which decreased from $423.2 million in 2007 to $285.7 million in 2008.\\n  \\n- **Basic Earnings Per Share**: This represents the earnings allocated to...   \n",
       "2  ### Comprehensive Description of the Table\\n\\nThe table presents a summary of financial performance metrics over three fiscal years: 2000, 2001, and 2002. It focuses on the company's net sales, cost of sales, gross margin, and gross margin percentage for each of those years. \\n\\n1. **Net Sales**: This row shows the total revenue generated by the company from sales of its products. In 2000, net sales were $7,983 million, which decreased to $5,363 million in 2001—a significant drop of approximately 32%. However, there was a slight recovery in 2002, with net sales increasing to $5,742 million.\\n\\n2. **Cost of Sales**: This row lists the total expenses directly associated with the production of goods sold. The costs remained relatively stable from 2000 to 2001, changing from $5,817 million in 2000 to $4,128 million in 2001. In 2002, the cost slightly increased to $4,139 million.\\n\\n3. **Gross Margin**: This row indicates the gross profit of the company calculated as net sales minus the...   \n",
       "3  ### Table Description\\n\\nThe table presents cumulative total returns for three different investment options over a five-year period, from December 31, 2004, to December 31, 2009. The three options compared are:\\n\\n1. **United Parcel Service Inc. (UPS)** - Represented as \"united parcel service inc.\" in the table.\\n2. **S&P 500 Index** - A stock market index that measures the stock performance of 500 large companies listed on stock exchanges in the United States.\\n3. **Dow Jones Transportation Average** - A stock market index that measures the performance of transportation sector companies.\\n\\nThe values shown in the table represent the dollar amount that an investment of $100 on December 31, 2004, would yield at the end of each subsequent year listed in the columns. The values are displayed in dollar amounts, and each row provides the cumulative investment value at the end of each specified date for the respective investment option.\\n\\nThe table reveals trends over the five-year per...   \n",
       "4  ### Description of the Table\\n\\nThe table presents information regarding the shares available for awards and shares subject to outstanding awards under two different stock incentive plans as of December 31, 2010. It compares the 2009 Global Incentive Plan (GIP) and the 2004 Stock Incentive Plan (SIP). \\n\\n1. **Shares Available for Awards**: This column indicates how many shares are currently available to be awarded under each plan. \\n   - For the 2009 GIP, there are 2,322,450 shares available.\\n   - For the 2004 SIP, there are no shares available for new awards (indicated by a dash).\\n\\n2. **Shares Subject to Outstanding Awards**: This column shows the number of shares that have been awarded but are yet to be fully utilized or completed under each plan. \\n   - The 2009 GIP has 2,530,454 shares subject to outstanding awards.\\n   - The 2004 SIP has a significantly higher number, with 5,923,147 shares subject to outstanding awards.\\n\\nOverall, the table highlights the allocation of sh...   \n",
       "\n",
       "                                                                                                                                                                                                                                                                                                                                                                                                                                                                                                                                                                                                                                                                                                                                                                                                                                                                                                                                                                                                                             expanded_text  \n",
       "0  26 | 2009 annual report in fiscal 2008 , revenues in the credit union systems and services business segment increased 14% ( 14 % ) from fiscal 2007 . all revenue components within the segment experienced growth during fiscal 2008 . license revenue generated the largest dollar growth in revenue as episys ae , our flagship core processing system aimed at larger credit unions , experienced strong sales throughout the year . support and service revenue , which is the largest component of total revenues for the credit union segment , experienced 34 percent growth in eft support and 10 percent growth in in-house support . gross profit in this business segment increased $ 9344 in fiscal 2008 compared to fiscal 2007 , due primarily to the increase in license revenue , which carries the highest margins . liquidity and capital resources we have historically generated positive cash flow from operations and have generally used funds generated from operations and short-term borrowings on our re...  \n",
       "1  substantially all of the goodwill and other intangible assets recorded related to the acquisition of allied are not deductible for tax purposes . pro forma information the consolidated financial statements presented for republic include the operating results of allied from the date of the acquisition . the following pro forma information is presented assuming the merger had been completed as of january 1 , 2007 . the unaudited pro forma information presented below has been prepared for illustrative purposes and is not intended to be indicative of the results of operations that would have actually occurred had the acquisition been consummated at the beginning of the periods presented or of future results of the combined operations ( in millions , except share and per share amounts ) . year ended december 31 , year ended december 31 , ( unaudited ) ( unaudited ) .\\n\\n | year ended december 31 2008 ( unaudited ) | year ended december 31 2007 ( unaudited )\\nrevenue | $ 9362.2 | $ 9244....  \n",
       "2  in a new business model such as the retail segment is inherently risky , particularly in light of the significant investment involved , the current economic climate , and the fixed nature of a substantial portion of the retail segment's operating expenses . results for this segment are dependent upon a number of risks and uncertainties , some of which are discussed below under the heading \"factors that may affect future results and financial condition.\" backlog in the company's experience , the actual amount of product backlog at any particular time is not a meaningful indication of its future business prospects . in particular , backlog often increases in anticipation of or immediately following new product introductions because of over- ordering by dealers anticipating shortages . backlog often is reduced once dealers and customers believe they can obtain sufficient supply . because of the foregoing , backlog cannot be considered a reliable indicator of the company's ability to a...  \n",
       "3  ( 1 ) includes shares repurchased through our publicly announced share repurchase program and shares tendered to pay the exercise price and tax withholding on employee stock options . shareowner return performance graph the following performance graph and related information shall not be deemed 201csoliciting material 201d or to be 201cfiled 201d with the securities and exchange commission , nor shall such information be incorporated by reference into any future filing under the securities act of 1933 or securities exchange act of 1934 , each as amended , except to the extent that the company specifically incorporates such information by reference into such filing . the following graph shows a five-year comparison of cumulative total shareowners 2019 returns for our class b common stock , the s&p 500 index , and the dow jones transportation average . the comparison of the total cumulative return on investment , which is the change in the quarterly stock price plus reinvested divide...  \n",
       "4  tax returns for 2001 and beyond are open for examination under statute . currently , unrecognized tax benefits are not expected to change significantly over the next 12 months . 19 . stock-based and other management compensation plans in april 2009 , the company approved a global incentive plan which replaces the company 2019s 2004 stock incentive plan . the 2009 global incentive plan ( 201cgip 201d ) enables the compensation committee of the board of directors to award incentive and nonqualified stock options , stock appreciation rights , shares of series a common stock , restricted stock , restricted stock units ( 201crsus 201d ) and incentive bonuses ( which may be paid in cash or stock or a combination thereof ) , any of which may be performance-based , with vesting and other award provisions that provide effective incentive to company employees ( including officers ) , non-management directors and other service providers . under the 2009 gip , the company no longer can grant r...  "
      ]
     },
     "execution_count": 30,
     "metadata": {},
     "output_type": "execute_result"
    }
   ],
   "source": [
    "df[\"expanded_text\"] = df[\"text\"] + \"\\n\\n\" + df[\"table_description\"]\n",
    "df.head()"
   ]
  },
  {
   "cell_type": "markdown",
   "metadata": {},
   "source": [
    "### 6. Load into ChromaDB Vector Store\n",
    "---"
   ]
  },
  {
   "cell_type": "code",
   "execution_count": 38,
   "metadata": {},
   "outputs": [],
   "source": [
    "# Create documents for ChromaDB vector store\n",
    "documents = []\n",
    "documents = [\n",
    "    Document(\n",
    "        page_content=row[\"expanded_text\"],\n",
    "        metadata={\n",
    "            \"id\": row[\"id\"],\n",
    "            \"table\": row[\"table\"],\n",
    "            \"table_description\": row[\"table_description\"],\n",
    "            \"qa\": row[\"qa\"]}\n",
    "        )\n",
    "        for _, row in df.iterrows()]"
   ]
  },
  {
   "cell_type": "code",
   "execution_count": 48,
   "metadata": {},
   "outputs": [
    {
     "data": {
      "text/plain": [
       "[Document(metadata={'id': 'Single_JKHY/2009/page_28.pdf-3', 'table': '2008 | year ended june 30 2009 2008 | year ended june 30 2009 2008 | year ended june 30 2009\\nnet income | $ 103102 | $ 104222 | $ 104681\\nnon-cash expenses | 74397 | 70420 | 56348\\nchange in receivables | 21214 | -2913 ( 2913 ) | -28853 ( 28853 )\\nchange in deferred revenue | 21943 | 5100 | 24576\\nchange in other assets and liabilities | -14068 ( 14068 ) | 4172 | 17495\\nnet cash from operating activities | $ 206588 | $ 181001 | $ 174247', 'table_description': \"### Table Description\\n\\nThe table summarizes the net cash from operating activities for the fiscal years ended June 30, 2009, 2008, and 2007. Each row in the table presents different metrics related to cash flows, specifically focusing on components that influence net cash generated from operations. \\n\\n1. **Net Income**: This shows the total income after expenses for each fiscal year. It decreased slightly from 2008 to 2009.\\n  \\n2. **Non-Cash Expenses**: These represent expenses that affect net income but do not involve cash transactions. There was an increase from 2007 to 2008 and from 2008 to 2009.\\n  \\n3. **Change in Receivables**: This indicates the changes in money owed to the company from customers. A notable positive change of $21,214 in 2009 compared to a negative change of $2,913 in 2008 suggests improved cash collection practices.\\n  \\n4. **Change in Deferred Revenue**: This metric reflects the changes in revenue that has been collected but not yet earned. It shows significant variations across the years.\\n  \\n5. **Change in Other Assets and Liabilities**: This indicates changes in various other balance sheet items. The values indicate fluctuations, with the year 2008 showing a negative change.\\n  \\n6. **Net Cash from Operating Activities**: This is the overall cash generated from the company's core operational activities. It highlights significant growth in cash flow from 2008 ($181,001) to 2009 ($206,588), marking an increase of $25,587.\\n\\nThe overall trend seen in the table indicates a healthy growth in cash from operations in 2009 compared to the previous years, which is likely due to improved management of receivables and growth in revenues from the credit union services.\\n\\n### Table in Markdown Format\\n\\n```markdown\\n| Description                       | Year Ended June 30, 2009 | Year Ended June 30, 2008 | Year Ended June 30, 2007 |\\n|-----------------------------------|---------------------------|---------------------------|---------------------------|\\n| Net Income                        | $103,102                  | $104,222                  | $104,681                  |\\n| Non-Cash Expenses                 | $74,397                   | $70,420                   | $56,348                   |\\n| Change in Receivables             | $21,214                   | -$2,913                   | -$28,853                  |\\n| Change in Deferred Revenue        | $21,943                   | $5,100                    | $24,576                   |\\n| Change in Other Assets and Liabilities | -$14,068                  | $4,172                    | $17,495                   |\\n| Net Cash from Operating Activities | $206,588                  | $181,001                  | $174,247                  |\\n```\\n\\nThis markdown table succinctly captures the financial data discussed in the context, allowing for easy readability and accessibility in digital formats.\", 'qa': {'question': 'what was the percentage change in the net cash from operating activities from 2008 to 2009', 'answer': '14.1%', 'explanation': '', 'ann_table_rows': [6], 'ann_text_rows': [], 'steps': [{'op': 'minus2-1', 'arg1': '206588', 'arg2': '181001', 'res': '25587'}, {'op': 'divide2-2', 'arg1': '#0', 'arg2': '181001', 'res': '14.1%'}], 'program': 'subtract(206588, 181001), divide(#0, 181001)', 'gold_inds': {'table_6': '2008 the net cash from operating activities of year ended june 30 2009 2008 is $ 206588 ; the net cash from operating activities of year ended june 30 2009 2008 is $ 181001 ; the net cash from operating activities of year ended june 30 2009 is $ 174247 ;'}, 'exe_ans': 0.14136, 'program_re': 'divide(subtract(206588, 181001), 181001)'}}, page_content=\"26 | 2009 annual report in fiscal 2008 , revenues in the credit union systems and services business segment increased 14% ( 14 % ) from fiscal 2007 . all revenue components within the segment experienced growth during fiscal 2008 . license revenue generated the largest dollar growth in revenue as episys ae , our flagship core processing system aimed at larger credit unions , experienced strong sales throughout the year . support and service revenue , which is the largest component of total revenues for the credit union segment , experienced 34 percent growth in eft support and 10 percent growth in in-house support . gross profit in this business segment increased $ 9344 in fiscal 2008 compared to fiscal 2007 , due primarily to the increase in license revenue , which carries the highest margins . liquidity and capital resources we have historically generated positive cash flow from operations and have generally used funds generated from operations and short-term borrowings on our revolving credit facility to meet capital requirements . we expect this trend to continue in the future . the company 2019s cash and cash equivalents increased to $ 118251 at june 30 , 2009 from $ 65565 at june 30 , 2008 . the following table summarizes net cash from operating activities in the statement of cash flows : 2009 2008 2007 .\\n\\n2008 | year ended june 30 2009 2008 | year ended june 30 2009 2008 | year ended june 30 2009\\nnet income | $ 103102 | $ 104222 | $ 104681\\nnon-cash expenses | 74397 | 70420 | 56348\\nchange in receivables | 21214 | -2913 ( 2913 ) | -28853 ( 28853 )\\nchange in deferred revenue | 21943 | 5100 | 24576\\nchange in other assets and liabilities | -14068 ( 14068 ) | 4172 | 17495\\nnet cash from operating activities | $ 206588 | $ 181001 | $ 174247\\n\\nyear ended june 30 , cash provided by operations increased $ 25587 to $ 206588 for the fiscal year ended june 30 , 2009 as compared to $ 181001 for the fiscal year ended june 30 , 2008 . this increase is primarily attributable to a decrease in receivables compared to the same period a year ago of $ 21214 . this decrease is largely the result of fiscal 2010 annual software maintenance billings being provided to customers earlier than in the prior year , which allowed more cash to be collected before the end of the fiscal year than in previous years . further , we collected more cash overall related to revenues that will be recognized in subsequent periods in the current year than in fiscal 2008 . cash used in investing activities for the fiscal year ended june 2009 was $ 59227 and includes $ 3027 in contingent consideration paid on prior years 2019 acquisitions . cash used in investing activities for the fiscal year ended june 2008 was $ 102148 and includes payments for acquisitions of $ 48109 , plus $ 1215 in contingent consideration paid on prior years 2019 acquisitions . capital expenditures for fiscal 2009 were $ 31562 compared to $ 31105 for fiscal 2008 . cash used for software development in fiscal 2009 was $ 24684 compared to $ 23736 during the prior year . net cash used in financing activities for the current fiscal year was $ 94675 and includes the repurchase of 3106 shares of our common stock for $ 58405 , the payment of dividends of $ 26903 and $ 13489 net repayment on our revolving credit facilities . cash used in financing activities was partially offset by proceeds of $ 3773 from the exercise of stock options and the sale of common stock ( through the employee stock purchase plan ) and $ 348 excess tax benefits from stock option exercises . during fiscal 2008 , net cash used in financing activities for the fiscal year was $ 101905 and includes the repurchase of 4200 shares of our common stock for $ 100996 , the payment of dividends of $ 24683 and $ 429 net repayment on our revolving credit facilities . cash used in financing activities was partially offset by proceeds of $ 20394 from the exercise of stock options and the sale of common stock and $ 3809 excess tax benefits from stock option exercises . beginning during fiscal 2008 , us financial markets and many of the largest us financial institutions have been shaken by negative developments in the home mortgage industry and the mortgage markets , and particularly the markets for subprime mortgage-backed securities . since that time , these and other such developments have resulted in a broad , global economic downturn . while we , as is the case with most companies , have experienced the effects of this downturn , we have not experienced any significant issues with our current collection efforts , and we believe that any future impact to our liquidity will be minimized by cash generated by recurring sources of revenue and due to our access to available lines of credit. .\\n\\nQuestion: what was the percentage change in the net cash from operating activities from 2008 to 2009\\nAnswer: 14.1%\\nExecution Answer: 0.14136\\n\\nDialogue Break: ['what is the net cash from operating activities in 2009?', 'what about in 2008?', 'what is the difference?', 'what percentage change does this represent?']\\n\\n### Table Description\\n\\nThe table summarizes the net cash from operating activities for the fiscal years ended June 30, 2009, 2008, and 2007. Each row in the table presents different metrics related to cash flows, specifically focusing on components that influence net cash generated from operations. \\n\\n1. **Net Income**: This shows the total income after expenses for each fiscal year. It decreased slightly from 2008 to 2009.\\n  \\n2. **Non-Cash Expenses**: These represent expenses that affect net income but do not involve cash transactions. There was an increase from 2007 to 2008 and from 2008 to 2009.\\n  \\n3. **Change in Receivables**: This indicates the changes in money owed to the company from customers. A notable positive change of $21,214 in 2009 compared to a negative change of $2,913 in 2008 suggests improved cash collection practices.\\n  \\n4. **Change in Deferred Revenue**: This metric reflects the changes in revenue that has been collected but not yet earned. It shows significant variations across the years.\\n  \\n5. **Change in Other Assets and Liabilities**: This indicates changes in various other balance sheet items. The values indicate fluctuations, with the year 2008 showing a negative change.\\n  \\n6. **Net Cash from Operating Activities**: This is the overall cash generated from the company's core operational activities. It highlights significant growth in cash flow from 2008 ($181,001) to 2009 ($206,588), marking an increase of $25,587.\\n\\nThe overall trend seen in the table indicates a healthy growth in cash from operations in 2009 compared to the previous years, which is likely due to improved management of receivables and growth in revenues from the credit union services.\\n\\n### Table in Markdown Format\\n\\n```markdown\\n| Description                       | Year Ended June 30, 2009 | Year Ended June 30, 2008 | Year Ended June 30, 2007 |\\n|-----------------------------------|---------------------------|---------------------------|---------------------------|\\n| Net Income                        | $103,102                  | $104,222                  | $104,681                  |\\n| Non-Cash Expenses                 | $74,397                   | $70,420                   | $56,348                   |\\n| Change in Receivables             | $21,214                   | -$2,913                   | -$28,853                  |\\n| Change in Deferred Revenue        | $21,943                   | $5,100                    | $24,576                   |\\n| Change in Other Assets and Liabilities | -$14,068                  | $4,172                    | $17,495                   |\\n| Net Cash from Operating Activities | $206,588                  | $181,001                  | $174,247                  |\\n```\\n\\nThis markdown table succinctly captures the financial data discussed in the context, allowing for easy readability and accessibility in digital formats.\"),\n",
       " Document(metadata={'id': 'Single_RSG/2008/page_114.pdf-2', 'table': ' | year ended december 31 2008 ( unaudited ) | year ended december 31 2007 ( unaudited )\\nrevenue | $ 9362.2 | $ 9244.9\\nincome from continuing operations available to common stockholders | 285.7 | 423.2\\nbasic earnings per share | .76 | 1.10\\ndiluted earnings per share | .75 | 1.09', 'table_description': '### Description of the Table\\n\\nThe table presents unaudited pro forma financial information for the years ended December 31, 2008, and December 31, 2007. This information is intended to provide an illustrative comparison of selected financial metrics that would have been applicable if the merger with Allied had been completed on January 1, 2007. The figures are presented in millions of dollars, except for share and per share amounts.\\n\\nThe table includes the following categories:\\n\\n- **Revenue**: This row shows the total revenue for both years, with revenue increasing from $9,244.9 million in 2007 to $9,362.2 million in 2008, indicating a modest growth in revenue.\\n  \\n- **Income from Continuing Operations Available to Common Stockholders**: This figure reflects the earnings available to common shareholders from ongoing operations, which decreased from $423.2 million in 2007 to $285.7 million in 2008.\\n  \\n- **Basic Earnings Per Share**: This represents the earnings allocated to each share of common stock, showing a decline from $1.10 per share in 2007 to $0.76 per share in 2008.\\n  \\n- **Diluted Earnings Per Share**: Similar to basic earnings per share, this metric accounts for the potential dilution from convertible securities, decreasing from $1.09 per share in 2007 to $0.75 per share in 2008.\\n\\nAll the figures are unaudited, suggesting that they have yet to be formally reviewed or confirmed for accuracy.\\n\\n### Table in Markdown Format\\n\\n```markdown\\n| Year Ended December 31, 2008 (Unaudited) | Year Ended December 31, 2007 (Unaudited) |\\n|-------------------------------------------|-------------------------------------------|\\n| Revenue                                    | $ 9362.2                                  | $ 9244.9                                  |\\n| Income from Continuing Operations Available to Common Stockholders | $ 285.7                                   | $ 423.2                                   |\\n| Basic Earnings Per Share                   | $ 0.76                                   | $ 1.10                                    |\\n| Diluted Earnings Per Share                 | $ 0.75                                   | $ 1.09                                    |\\n```', 'qa': {'question': 'what was the percent of the growth in the revenues from 2007 to 2008', 'answer': '1.3%', 'explanation': 'the percent growth of the revenue is the difference between the 2 divide by the oldest amount', 'ann_table_rows': [1], 'ann_text_rows': [], 'steps': [{'op': 'minus2-1', 'arg1': '9362.2', 'arg2': '9244.9', 'res': '117.3'}, {'op': 'divide2-2', 'arg1': '#0', 'arg2': '9244.9', 'res': '1.3%'}], 'program': 'subtract(9362.2, 9244.9), divide(#0, 9244.9)', 'gold_inds': {'table_1': 'the revenue of year ended december 31 2008 ( unaudited ) is $ 9362.2 ; the revenue of year ended december 31 2007 ( unaudited ) is $ 9244.9 ;'}, 'exe_ans': 0.01269, 'program_re': 'divide(subtract(9362.2, 9244.9), 9244.9)'}}, page_content=\"substantially all of the goodwill and other intangible assets recorded related to the acquisition of allied are not deductible for tax purposes . pro forma information the consolidated financial statements presented for republic include the operating results of allied from the date of the acquisition . the following pro forma information is presented assuming the merger had been completed as of january 1 , 2007 . the unaudited pro forma information presented below has been prepared for illustrative purposes and is not intended to be indicative of the results of operations that would have actually occurred had the acquisition been consummated at the beginning of the periods presented or of future results of the combined operations ( in millions , except share and per share amounts ) . year ended december 31 , year ended december 31 , ( unaudited ) ( unaudited ) .\\n\\n | year ended december 31 2008 ( unaudited ) | year ended december 31 2007 ( unaudited )\\nrevenue | $ 9362.2 | $ 9244.9\\nincome from continuing operations available to common stockholders | 285.7 | 423.2\\nbasic earnings per share | .76 | 1.10\\ndiluted earnings per share | .75 | 1.09\\n\\nthe above unaudited pro forma financial information includes adjustments for amortization of identifiable intangible assets , accretion of discounts to fair value associated with debt , environmental , self-insurance and other liabilities , accretion of capping , closure and post-closure obligations and amortization of the related assets , and provision for income taxes . assets held for sale as a condition of the merger with allied in december 2008 , we reached a settlement with the doj requiring us to divest of certain operations serving fifteen metropolitan areas including los angeles , ca ; san francisco , ca ; denver , co ; atlanta , ga ; northwestern indiana ; lexington , ky ; flint , mi ; cape girardeau , mo ; charlotte , nc ; cleveland , oh ; philadelphia , pa ; greenville-spartanburg , sc ; and fort worth , houston and lubbock , tx . the settlement requires us to divest 87 commercial waste collection routes , nine landfills and ten transfer stations , together with ancillary assets and , in three cases , access to landfill disposal capacity . we have classified the assets and liabilities we expect to divest ( including accounts receivable , property and equipment , goodwill , and accrued landfill and environmental costs ) as assets held for sale in our consolidated balance sheet at december 31 , 2008 . the assets held for sale related to operations that were republic 2019s prior to the merger with allied have been adjusted to the lower of their carrying amounts or estimated fair values less costs to sell , which resulted in us recognizing an asset impairment loss of $ 6.1 million in our consolidated statement of income for the year ended december 31 , 2008 . the assets held for sale related to operations that were allied 2019s prior to the merger are recorded at their estimated fair values in our consolidated balance sheet as of december 31 , 2008 in accordance with the purchase method of accounting . in february 2009 , we entered into an agreement to divest certain assets to waste connections , inc . the assets covered by the agreement include six municipal solid waste landfills , six collection operations and three transfer stations across the following seven markets : los angeles , ca ; denver , co ; houston , tx ; lubbock , tx ; greenville-spartanburg , sc ; charlotte , nc ; and flint , mi . the transaction with waste connections is subject to closing conditions regarding due diligence , regulatory approval and other customary matters . closing is expected to occur in the second quarter of 2009 . republic services , inc . and subsidiaries notes to consolidated financial statements %%transmsg*** transmitting job : p14076 pcn : 106000000 ***%%pcmsg|104 |00046|yes|no|02/28/2009 21:07|0|0|page is valid , no graphics -- color : d| .\\n\\nQuestion: what was the percent of the growth in the revenues from 2007 to 2008\\nAnswer: 1.3%\\nExecution Answer: 0.01269\\n\\nDialogue Break: ['what were revenues in 2008?', 'what were they in 2007?', 'what was the net change?', 'what is the percent change?']\\n\\n### Description of the Table\\n\\nThe table presents unaudited pro forma financial information for the years ended December 31, 2008, and December 31, 2007. This information is intended to provide an illustrative comparison of selected financial metrics that would have been applicable if the merger with Allied had been completed on January 1, 2007. The figures are presented in millions of dollars, except for share and per share amounts.\\n\\nThe table includes the following categories:\\n\\n- **Revenue**: This row shows the total revenue for both years, with revenue increasing from $9,244.9 million in 2007 to $9,362.2 million in 2008, indicating a modest growth in revenue.\\n  \\n- **Income from Continuing Operations Available to Common Stockholders**: This figure reflects the earnings available to common shareholders from ongoing operations, which decreased from $423.2 million in 2007 to $285.7 million in 2008.\\n  \\n- **Basic Earnings Per Share**: This represents the earnings allocated to each share of common stock, showing a decline from $1.10 per share in 2007 to $0.76 per share in 2008.\\n  \\n- **Diluted Earnings Per Share**: Similar to basic earnings per share, this metric accounts for the potential dilution from convertible securities, decreasing from $1.09 per share in 2007 to $0.75 per share in 2008.\\n\\nAll the figures are unaudited, suggesting that they have yet to be formally reviewed or confirmed for accuracy.\\n\\n### Table in Markdown Format\\n\\n```markdown\\n| Year Ended December 31, 2008 (Unaudited) | Year Ended December 31, 2007 (Unaudited) |\\n|-------------------------------------------|-------------------------------------------|\\n| Revenue                                    | $ 9362.2                                  | $ 9244.9                                  |\\n| Income from Continuing Operations Available to Common Stockholders | $ 285.7                                   | $ 423.2                                   |\\n| Basic Earnings Per Share                   | $ 0.76                                   | $ 1.10                                    |\\n| Diluted Earnings Per Share                 | $ 0.75                                   | $ 1.09                                    |\\n```\"),\n",
       " Document(metadata={'id': 'Single_AAPL/2002/page_23.pdf-1', 'table': ' | 2002 | 2001 | 2000\\nnet sales | $ 5742 | $ 5363 | $ 7983\\ncost of sales | 4139 | 4128 | 5817\\ngross margin | $ 1603 | $ 1235 | $ 2166\\ngross margin percentage | 28% ( 28 % ) | 23% ( 23 % ) | 27% ( 27 % )', 'table_description': \"### Comprehensive Description of the Table\\n\\nThe table presents a summary of financial performance metrics over three fiscal years: 2000, 2001, and 2002. It focuses on the company's net sales, cost of sales, gross margin, and gross margin percentage for each of those years. \\n\\n1. **Net Sales**: This row shows the total revenue generated by the company from sales of its products. In 2000, net sales were $7,983 million, which decreased to $5,363 million in 2001—a significant drop of approximately 32%. However, there was a slight recovery in 2002, with net sales increasing to $5,742 million.\\n\\n2. **Cost of Sales**: This row lists the total expenses directly associated with the production of goods sold. The costs remained relatively stable from 2000 to 2001, changing from $5,817 million in 2000 to $4,128 million in 2001. In 2002, the cost slightly increased to $4,139 million.\\n\\n3. **Gross Margin**: This row indicates the gross profit of the company calculated as net sales minus the cost of sales. In 2000, the gross margin was $2,166 million, but it fell to $1,235 million in 2001 due to decreased net sales. The gross margin improved in 2002 to $1,603 million, reflecting an increase in net sales while costs remained relatively stable.\\n\\n4. **Gross Margin Percentage**: This row provides the gross margin as a percentage of net sales, offering insights into profitability relative to sales. The gross margin percentage decreased from 27% in 2000 to 23% in 2001, indicating declining profitability. In 2002, the gross margin percentage rebounded to 28%, a sign of improved operational efficiency and possibly better pricing strategies.\\n\\nOverall, the table encapsulates key financial aspects pertinent to understanding the company’s performance over the specified periods, highlighting the challenges and recoveries seen in net sales and profitability.\\n\\n### Table in Markdown Format\\n\\n```markdown\\n|                 |  2002   |  2001   |  2000   |\\n|-----------------|---------|---------|---------|\\n| Net Sales       | $ 5742  | $ 5363  | $ 7983  |\\n| Cost of Sales   | $ 4139  | $ 4128  | $ 5817  |\\n| Gross Margin     | $ 1603  | $ 1235  | $ 2166  |\\n| Gross Margin %  | 28%     | 23%     | 27%     |\\n```\\n\\nThis markdown format maintains the structure and clarity of the original table, allowing it to be easily rendered in various platforms that support markdown syntax.\", 'qa': {'question': 'what was the percentage change in net sales from 2000 to 2001?', 'answer': '-32%', 'explanation': '', 'ann_table_rows': [1], 'ann_text_rows': [], 'steps': [{'op': 'minus1-1', 'arg1': '5363', 'arg2': '7983', 'res': '-2620'}, {'op': 'divide1-2', 'arg1': '#0', 'arg2': '7983', 'res': '-32%'}], 'program': 'subtract(5363, 7983), divide(#0, 7983)', 'gold_inds': {'table_1': 'the net sales of 2002 is $ 5742 ; the net sales of 2001 is $ 5363 ; the net sales of 2000 is $ 7983 ;'}, 'exe_ans': -0.3282, 'program_re': 'divide(subtract(5363, 7983), 7983)'}}, page_content='in a new business model such as the retail segment is inherently risky , particularly in light of the significant investment involved , the current economic climate , and the fixed nature of a substantial portion of the retail segment\\'s operating expenses . results for this segment are dependent upon a number of risks and uncertainties , some of which are discussed below under the heading \"factors that may affect future results and financial condition.\" backlog in the company\\'s experience , the actual amount of product backlog at any particular time is not a meaningful indication of its future business prospects . in particular , backlog often increases in anticipation of or immediately following new product introductions because of over- ordering by dealers anticipating shortages . backlog often is reduced once dealers and customers believe they can obtain sufficient supply . because of the foregoing , backlog cannot be considered a reliable indicator of the company\\'s ability to achieve any particular level of revenue or financial performance . further information regarding the company\\'s backlog may be found below under the heading \"factors that may affect future results and financial condition.\" gross margin gross margin for the three fiscal years ended september 28 , 2002 are as follows ( in millions , except gross margin percentages ) : gross margin increased to 28% ( 28 % ) of net sales in 2002 from 23% ( 23 % ) in 2001 . as discussed below , gross margin in 2001 was unusually low resulting from negative gross margin of 2% ( 2 % ) experienced in the first quarter of 2001 . as a percentage of net sales , the company\\'s quarterly gross margins declined during fiscal 2002 from 31% ( 31 % ) in the first quarter down to 26% ( 26 % ) in the fourth quarter . this decline resulted from several factors including a rise in component costs as the year progressed and aggressive pricing by the company across its products lines instituted as a result of continued pricing pressures in the personal computer industry . the company anticipates that its gross margin and the gross margin of the overall personal computer industry will remain under pressure throughout fiscal 2003 in light of weak economic conditions , flat demand for personal computers in general , and the resulting pressure on prices . the foregoing statements regarding anticipated gross margin in 2003 and the general demand for personal computers during 2003 are forward- looking . gross margin could differ from anticipated levels because of several factors , including certain of those set forth below in the subsection entitled \"factors that may affect future results and financial condition.\" there can be no assurance that current gross margins will be maintained , targeted gross margin levels will be achieved , or current margins on existing individual products will be maintained . in general , gross margins and margins on individual products will remain under significant downward pressure due to a variety of factors , including continued industry wide global pricing pressures , increased competition , compressed product life cycles , potential increases in the cost and availability of raw material and outside manufacturing services , and potential changes to the company\\'s product mix , including higher unit sales of consumer products with lower average selling prices and lower gross margins . in response to these downward pressures , the company expects it will continue to take pricing actions with respect to its products . gross margins could also be affected by the company\\'s ability to effectively manage quality problems and warranty costs and to stimulate demand for certain of its products . the company\\'s operating strategy and pricing take into account anticipated changes in foreign currency exchange rates over time ; however , the company\\'s results of operations can be significantly affected in the short-term by fluctuations in exchange rates . the company orders components for its products and builds inventory in advance of product shipments . because the company\\'s markets are volatile and subject to rapid technology and price changes , there is a risk the company will forecast incorrectly and produce or order from third parties excess or insufficient inventories of particular products or components . the company\\'s operating results and financial condition have been in the past and may in the future be materially adversely affected by the company\\'s ability to manage its inventory levels and outstanding purchase commitments and to respond to short-term shifts in customer demand patterns . gross margin declined to 23% ( 23 % ) of net sales in 2001 from 27% ( 27 % ) in 2000 . this decline resulted primarily from gross margin of negative 2% ( 2 % ) experienced during the first quarter of 2001 compared to 26% ( 26 % ) gross margin for the same quarter in 2000 . in addition to lower than normal net .\\n\\n | 2002 | 2001 | 2000\\nnet sales | $ 5742 | $ 5363 | $ 7983\\ncost of sales | 4139 | 4128 | 5817\\ngross margin | $ 1603 | $ 1235 | $ 2166\\ngross margin percentage | 28% ( 28 % ) | 23% ( 23 % ) | 27% ( 27 % )\\n\\n.\\n\\nQuestion: what was the percentage change in net sales from 2000 to 2001?\\nAnswer: -32%\\nExecution Answer: -0.3282\\n\\nDialogue Break: [\\'what was the total of net sales in 2001?\\', \\'and what was that in 2000?\\', \\'what was, then, the change in the total of net sales over the year?\\', \\'and how much does this change represent in relation to that total in 2000, in percentage?\\']\\n\\n### Comprehensive Description of the Table\\n\\nThe table presents a summary of financial performance metrics over three fiscal years: 2000, 2001, and 2002. It focuses on the company\\'s net sales, cost of sales, gross margin, and gross margin percentage for each of those years. \\n\\n1. **Net Sales**: This row shows the total revenue generated by the company from sales of its products. In 2000, net sales were $7,983 million, which decreased to $5,363 million in 2001—a significant drop of approximately 32%. However, there was a slight recovery in 2002, with net sales increasing to $5,742 million.\\n\\n2. **Cost of Sales**: This row lists the total expenses directly associated with the production of goods sold. The costs remained relatively stable from 2000 to 2001, changing from $5,817 million in 2000 to $4,128 million in 2001. In 2002, the cost slightly increased to $4,139 million.\\n\\n3. **Gross Margin**: This row indicates the gross profit of the company calculated as net sales minus the cost of sales. In 2000, the gross margin was $2,166 million, but it fell to $1,235 million in 2001 due to decreased net sales. The gross margin improved in 2002 to $1,603 million, reflecting an increase in net sales while costs remained relatively stable.\\n\\n4. **Gross Margin Percentage**: This row provides the gross margin as a percentage of net sales, offering insights into profitability relative to sales. The gross margin percentage decreased from 27% in 2000 to 23% in 2001, indicating declining profitability. In 2002, the gross margin percentage rebounded to 28%, a sign of improved operational efficiency and possibly better pricing strategies.\\n\\nOverall, the table encapsulates key financial aspects pertinent to understanding the company’s performance over the specified periods, highlighting the challenges and recoveries seen in net sales and profitability.\\n\\n### Table in Markdown Format\\n\\n```markdown\\n|                 |  2002   |  2001   |  2000   |\\n|-----------------|---------|---------|---------|\\n| Net Sales       | $ 5742  | $ 5363  | $ 7983  |\\n| Cost of Sales   | $ 4139  | $ 4128  | $ 5817  |\\n| Gross Margin     | $ 1603  | $ 1235  | $ 2166  |\\n| Gross Margin %  | 28%     | 23%     | 27%     |\\n```\\n\\nThis markdown format maintains the structure and clarity of the original table, allowing it to be easily rendered in various platforms that support markdown syntax.'),\n",
       " Document(metadata={'id': 'Single_UPS/2009/page_33.pdf-2', 'table': ' | 12/31/04 | 12/31/05 | 12/31/06 | 12/31/07 | 12/31/08 | 12/31/09\\nunited parcel service inc . | $ 100.00 | $ 89.49 | $ 91.06 | $ 87.88 | $ 70.48 | $ 75.95\\ns&p 500 index | $ 100.00 | $ 104.91 | $ 121.48 | $ 128.15 | $ 80.74 | $ 102.11\\ndow jones transportation average | $ 100.00 | $ 111.65 | $ 122.61 | $ 124.35 | $ 97.72 | $ 115.88', 'table_description': '### Table Description\\n\\nThe table presents cumulative total returns for three different investment options over a five-year period, from December 31, 2004, to December 31, 2009. The three options compared are:\\n\\n1. **United Parcel Service Inc. (UPS)** - Represented as \"united parcel service inc.\" in the table.\\n2. **S&P 500 Index** - A stock market index that measures the stock performance of 500 large companies listed on stock exchanges in the United States.\\n3. **Dow Jones Transportation Average** - A stock market index that measures the performance of transportation sector companies.\\n\\nThe values shown in the table represent the dollar amount that an investment of $100 on December 31, 2004, would yield at the end of each subsequent year listed in the columns. The values are displayed in dollar amounts, and each row provides the cumulative investment value at the end of each specified date for the respective investment option.\\n\\nThe table reveals trends over the five-year period:\\n- United Parcel Service Inc. started with a return of $100.00 in 2004 but decreased in value by 2009 to $75.95.\\n- In contrast, the S&P 500 index started at $100.00 and ultimately rose to $102.11, demonstrating a modest increase overall.\\n- The Dow Jones Transportation Average also showed growth, increasing from $100.00 in 2004 to $115.88 in 2009.\\n\\nThe data from this table indicates that while UPS experienced a reduction in value over the five-year period, both the S&P 500 Index and the Dow Jones Transportation Average showed positive returns.\\n\\n### Markdown Table\\n\\n```markdown\\n| Date        | United Parcel Service Inc. | S&P 500 Index | Dow Jones Transportation Average |\\n|-------------|-----------------------------|----------------|----------------------------------|\\n| 12/31/04    | $100.00                     | $100.00        | $100.00                          |\\n| 12/31/05    | $89.49                      | $104.91        | $111.65                          |\\n| 12/31/06    | $91.06                      | $121.48        | $122.61                          |\\n| 12/31/07    | $87.88                      | $128.15        | $124.35                          |\\n| 12/31/08    | $70.48                      | $80.74         | $97.72                           |\\n| 12/31/09    | $75.95                      | $102.11        | $115.88                          |\\n```', 'qa': {'question': 'what was the difference in percentage cumulative return on investment for united parcel service inc . compared to the s&p 500 index for the five year period ended 12/31/09?', 'answer': '-26.16%', 'explanation': '', 'ann_table_rows': [1, 2], 'ann_text_rows': [], 'steps': [{'op': 'minus2-1', 'arg1': '75.95', 'arg2': 'const_100', 'res': '-24.05'}, {'op': 'divide2-2', 'arg1': '#0', 'arg2': 'const_100', 'res': '-24.05%'}, {'op': 'minus2-3', 'arg1': '102.11', 'arg2': 'const_100', 'res': '2.11'}, {'op': 'divide2-4', 'arg1': '#2', 'arg2': 'const_100', 'res': '2.11%'}, {'op': 'minus2-5', 'arg1': '#1', 'arg2': '#3', 'res': '-26.16%'}], 'program': 'subtract(75.95, const_100), divide(#0, const_100), subtract(102.11, const_100), divide(#2, const_100), subtract(#1, #3)', 'gold_inds': {'table_1': 'the united parcel service inc . of 12/31/04 is $ 100.00 ; the united parcel service inc . of 12/31/05 is $ 89.49 ; the united parcel service inc . of 12/31/06 is $ 91.06 ; the united parcel service inc . of 12/31/07 is $ 87.88 ; the united parcel service inc . of 12/31/08 is $ 70.48 ; the united parcel service inc . of 12/31/09 is $ 75.95 ;', 'table_2': 'the s&p 500 index of 12/31/04 is $ 100.00 ; the s&p 500 index of 12/31/05 is $ 104.91 ; the s&p 500 index of 12/31/06 is $ 121.48 ; the s&p 500 index of 12/31/07 is $ 128.15 ; the s&p 500 index of 12/31/08 is $ 80.74 ; the s&p 500 index of 12/31/09 is $ 102.11 ;'}, 'exe_ans': -0.2616, 'program_re': 'subtract(divide(subtract(75.95, const_100), const_100), divide(subtract(102.11, const_100), const_100))'}}, page_content='( 1 ) includes shares repurchased through our publicly announced share repurchase program and shares tendered to pay the exercise price and tax withholding on employee stock options . shareowner return performance graph the following performance graph and related information shall not be deemed 201csoliciting material 201d or to be 201cfiled 201d with the securities and exchange commission , nor shall such information be incorporated by reference into any future filing under the securities act of 1933 or securities exchange act of 1934 , each as amended , except to the extent that the company specifically incorporates such information by reference into such filing . the following graph shows a five-year comparison of cumulative total shareowners 2019 returns for our class b common stock , the s&p 500 index , and the dow jones transportation average . the comparison of the total cumulative return on investment , which is the change in the quarterly stock price plus reinvested dividends for each of the quarterly periods , assumes that $ 100 was invested on december 31 , 2004 in the s&p 500 index , the dow jones transportation average , and our class b common stock . comparison of five year cumulative total return $ 40.00 $ 60.00 $ 80.00 $ 100.00 $ 120.00 $ 140.00 $ 160.00 2004 20092008200720062005 s&p 500 ups dj transport .\\n\\n | 12/31/04 | 12/31/05 | 12/31/06 | 12/31/07 | 12/31/08 | 12/31/09\\nunited parcel service inc . | $ 100.00 | $ 89.49 | $ 91.06 | $ 87.88 | $ 70.48 | $ 75.95\\ns&p 500 index | $ 100.00 | $ 104.91 | $ 121.48 | $ 128.15 | $ 80.74 | $ 102.11\\ndow jones transportation average | $ 100.00 | $ 111.65 | $ 122.61 | $ 124.35 | $ 97.72 | $ 115.88\\n\\n.\\n\\nQuestion: what was the difference in percentage cumulative return on investment for united parcel service inc . compared to the s&p 500 index for the five year period ended 12/31/09?\\nAnswer: -26.16%\\nExecution Answer: -0.2616\\n\\nDialogue Break: [\\'what was the change in the performance of the united parcel service inc . from 2004 to 2009?\\', \\'and how much does this change represent in relation to that performance in 2004, in percentage?\\', \\'what was the performance value of the s&p 500 index in 2009?\\', \\'what was, then, the change in that performance from 2004 to 2009?\\', \\'and how much does this change represent in relation to that performance in 2004, in percentage?\\', \\'what is, then, the difference between the percent representation of the united parcel service inc . and the s&p 500 index?\\']\\n\\n### Table Description\\n\\nThe table presents cumulative total returns for three different investment options over a five-year period, from December 31, 2004, to December 31, 2009. The three options compared are:\\n\\n1. **United Parcel Service Inc. (UPS)** - Represented as \"united parcel service inc.\" in the table.\\n2. **S&P 500 Index** - A stock market index that measures the stock performance of 500 large companies listed on stock exchanges in the United States.\\n3. **Dow Jones Transportation Average** - A stock market index that measures the performance of transportation sector companies.\\n\\nThe values shown in the table represent the dollar amount that an investment of $100 on December 31, 2004, would yield at the end of each subsequent year listed in the columns. The values are displayed in dollar amounts, and each row provides the cumulative investment value at the end of each specified date for the respective investment option.\\n\\nThe table reveals trends over the five-year period:\\n- United Parcel Service Inc. started with a return of $100.00 in 2004 but decreased in value by 2009 to $75.95.\\n- In contrast, the S&P 500 index started at $100.00 and ultimately rose to $102.11, demonstrating a modest increase overall.\\n- The Dow Jones Transportation Average also showed growth, increasing from $100.00 in 2004 to $115.88 in 2009.\\n\\nThe data from this table indicates that while UPS experienced a reduction in value over the five-year period, both the S&P 500 Index and the Dow Jones Transportation Average showed positive returns.\\n\\n### Markdown Table\\n\\n```markdown\\n| Date        | United Parcel Service Inc. | S&P 500 Index | Dow Jones Transportation Average |\\n|-------------|-----------------------------|----------------|----------------------------------|\\n| 12/31/04    | $100.00                     | $100.00        | $100.00                          |\\n| 12/31/05    | $89.49                      | $104.91        | $111.65                          |\\n| 12/31/06    | $91.06                      | $121.48        | $122.61                          |\\n| 12/31/07    | $87.88                      | $128.15        | $124.35                          |\\n| 12/31/08    | $70.48                      | $80.74         | $97.72                           |\\n| 12/31/09    | $75.95                      | $102.11        | $115.88                          |\\n```'),\n",
       " Document(metadata={'id': 'Single_CE/2010/page_134.pdf-2', 'table': ' | shares available for awards | shares subject to outstanding awards\\n2009 global incentive plan | 2322450 | 2530454\\n2004 stock incentive plan | - | 5923147', 'table_description': '### Description of the Table\\n\\nThe table presents information regarding the shares available for awards and shares subject to outstanding awards under two different stock incentive plans as of December 31, 2010. It compares the 2009 Global Incentive Plan (GIP) and the 2004 Stock Incentive Plan (SIP). \\n\\n1. **Shares Available for Awards**: This column indicates how many shares are currently available to be awarded under each plan. \\n   - For the 2009 GIP, there are 2,322,450 shares available.\\n   - For the 2004 SIP, there are no shares available for new awards (indicated by a dash).\\n\\n2. **Shares Subject to Outstanding Awards**: This column shows the number of shares that have been awarded but are yet to be fully utilized or completed under each plan. \\n   - The 2009 GIP has 2,530,454 shares subject to outstanding awards.\\n   - The 2004 SIP has a significantly higher number, with 5,923,147 shares subject to outstanding awards.\\n\\nOverall, the table highlights the allocation of shares between the two plans, indicating the transition from the older plan (2004 SIP) to the newer 2009 GIP, as the company updated its incentive structures.\\n\\n### Table in Markdown Format\\n\\n```markdown\\n| Plan                             | Shares Available for Awards | Shares Subject to Outstanding Awards |\\n|----------------------------------|-----------------------------|-------------------------------------|\\n| 2009 Global Incentive Plan       | 2,322,450                   | 2,530,454                           |\\n| 2004 Stock Incentive Plan        | -                           | 5,923,147                           |\\n```', 'qa': {'question': 'what portion of the total shares subject to outstanding awards is under the 2009 global incentive plan?', 'answer': '70.1%', 'explanation': '', 'ann_table_rows': [1, 2], 'ann_text_rows': [], 'steps': [{'op': 'add2-1', 'arg1': '2530454', 'arg2': '5923147', 'res': '8453601'}, {'op': 'divide2-2', 'arg1': '5923147', 'arg2': '#0', 'res': '70.1%'}], 'program': 'add(2530454, 5923147), divide(5923147, #0)', 'gold_inds': {'table_1': 'the 2009 global incentive plan of shares available for awards is 2322450 ; the 2009 global incentive plan of shares subject to outstanding awards is 2530454 ;', 'table_2': 'the 2004 stock incentive plan of shares available for awards is - ; the 2004 stock incentive plan of shares subject to outstanding awards is 5923147 ;'}, 'exe_ans': 0.70067, 'program_re': 'divide(5923147, add(2530454, 5923147))'}}, page_content=\"tax returns for 2001 and beyond are open for examination under statute . currently , unrecognized tax benefits are not expected to change significantly over the next 12 months . 19 . stock-based and other management compensation plans in april 2009 , the company approved a global incentive plan which replaces the company 2019s 2004 stock incentive plan . the 2009 global incentive plan ( 201cgip 201d ) enables the compensation committee of the board of directors to award incentive and nonqualified stock options , stock appreciation rights , shares of series a common stock , restricted stock , restricted stock units ( 201crsus 201d ) and incentive bonuses ( which may be paid in cash or stock or a combination thereof ) , any of which may be performance-based , with vesting and other award provisions that provide effective incentive to company employees ( including officers ) , non-management directors and other service providers . under the 2009 gip , the company no longer can grant rsus with the right to participate in dividends or dividend equivalents . the maximum number of shares that may be issued under the 2009 gip is equal to 5350000 shares plus ( a ) any shares of series a common stock that remain available for issuance under the 2004 stock incentive plan ( 201csip 201d ) ( not including any shares of series a common stock that are subject to outstanding awards under the 2004 sip or any shares of series a common stock that were issued pursuant to awards under the 2004 sip ) and ( b ) any awards under the 2004 stock incentive plan that remain outstanding that cease for any reason to be subject to such awards ( other than by reason of exercise or settlement of the award to the extent that such award is exercised for or settled in vested and non-forfeitable shares ) . as of december 31 , 2010 , total shares available for awards and total shares subject to outstanding awards are as follows : shares available for awards shares subject to outstanding awards .\\n\\n | shares available for awards | shares subject to outstanding awards\\n2009 global incentive plan | 2322450 | 2530454\\n2004 stock incentive plan | - | 5923147\\n\\nupon the termination of a participant 2019s employment with the company by reason of death or disability or by the company without cause ( as defined in the respective award agreements ) , an award in amount equal to ( i ) the value of the award granted multiplied by ( ii ) a fraction , ( x ) the numerator of which is the number of full months between grant date and the date of such termination , and ( y ) the denominator of which is the term of the award , such product to be rounded down to the nearest whole number , and reduced by ( iii ) the value of any award that previously vested , shall immediately vest and become payable to the participant . upon the termination of a participant 2019s employment with the company for any other reason , any unvested portion of the award shall be forfeited and cancelled without consideration . there was $ 19 million and $ 0 million of tax benefit realized from stock option exercises and vesting of rsus during the years ended december 31 , 2010 and 2009 , respectively . during the year ended december 31 , 2008 the company reversed $ 8 million of the $ 19 million tax benefit that was realized during the year ended december 31 , 2007 . deferred compensation in april 2007 , certain participants in the company 2019s 2004 deferred compensation plan elected to participate in a revised program , which includes both cash awards and restricted stock units ( see restricted stock units below ) . based on participation in the revised program , the company expensed $ 9 million , $ 10 million and $ 8 million during the years ended december 31 , 2010 , 2009 and 2008 , respectively , related to the revised program and made payments of $ 4 million during the year ended december 31 , 2010 to participants who left the company and $ 28 million to active employees during december 2010 . as of december 31 , 2010 , $ 1 million remains to be paid during 2011 under the revised program . as of december 31 , 2009 , there was no deferred compensation payable remaining associated with the 2004 deferred compensation plan . the company recorded expense related to participants continuing in the 2004 deferred %%transmsg*** transmitting job : d77691 pcn : 132000000 ***%%pcmsg|132 |00011|yes|no|02/09/2011 18:22|0|0|page is valid , no graphics -- color : n| .\\n\\nQuestion: what portion of the total shares subject to outstanding awards is under the 2009 global incentive plan?\\nAnswer: 70.1%\\nExecution Answer: 0.70067\\n\\nDialogue Break: ['how many shares are subject to outstanding awards is under the 2009 global incentive plan?', 'what about under the 2004 stock incentive plan?', 'how many total shares are subject to outstanding awards?', 'what about under the 2004 stock incentive plan?', 'what proportion does this represent?']\\n\\n### Description of the Table\\n\\nThe table presents information regarding the shares available for awards and shares subject to outstanding awards under two different stock incentive plans as of December 31, 2010. It compares the 2009 Global Incentive Plan (GIP) and the 2004 Stock Incentive Plan (SIP). \\n\\n1. **Shares Available for Awards**: This column indicates how many shares are currently available to be awarded under each plan. \\n   - For the 2009 GIP, there are 2,322,450 shares available.\\n   - For the 2004 SIP, there are no shares available for new awards (indicated by a dash).\\n\\n2. **Shares Subject to Outstanding Awards**: This column shows the number of shares that have been awarded but are yet to be fully utilized or completed under each plan. \\n   - The 2009 GIP has 2,530,454 shares subject to outstanding awards.\\n   - The 2004 SIP has a significantly higher number, with 5,923,147 shares subject to outstanding awards.\\n\\nOverall, the table highlights the allocation of shares between the two plans, indicating the transition from the older plan (2004 SIP) to the newer 2009 GIP, as the company updated its incentive structures.\\n\\n### Table in Markdown Format\\n\\n```markdown\\n| Plan                             | Shares Available for Awards | Shares Subject to Outstanding Awards |\\n|----------------------------------|-----------------------------|-------------------------------------|\\n| 2009 Global Incentive Plan       | 2,322,450                   | 2,530,454                           |\\n| 2004 Stock Incentive Plan        | -                           | 5,923,147                           |\\n```\")]"
      ]
     },
     "execution_count": 48,
     "metadata": {},
     "output_type": "execute_result"
    }
   ],
   "source": [
    "documents[:5]"
   ]
  },
  {
   "cell_type": "code",
   "execution_count": 41,
   "metadata": {},
   "outputs": [],
   "source": [
    "embedding_model = OpenAIEmbeddings(model=\"text-embedding-3-small\")\n",
    "\n",
    "persist_directory = \"vectorstore\""
   ]
  },
  {
   "cell_type": "code",
   "execution_count": 50,
   "metadata": {},
   "outputs": [],
   "source": [
    "# Filter complex metadata before creating documents\n",
    "filtered_documents = []\n",
    "for doc in documents:\n",
    "    # Create a copy of the document to avoid modifying the original\n",
    "    filtered_doc = deepcopy(doc)\n",
    "    \n",
    "    # If the document has metadata, filter it\n",
    "    if hasattr(filtered_doc, 'metadata'):\n",
    "        filtered_doc.metadata = flatten_metadata(filtered_doc.metadata)\n",
    "    \n",
    "    filtered_documents.append(filtered_doc)"
   ]
  },
  {
   "cell_type": "code",
   "execution_count": 53,
   "metadata": {},
   "outputs": [
    {
     "data": {
      "text/plain": [
       "[Document(metadata={'table': '2008 | year ended june 30 2009 2008 | year ended june 30 2009 2008 | year ended june 30 2009\\nnet income | $ 103102 | $ 104222 | $ 104681\\nnon-cash expenses | 74397 | 70420 | 56348\\nchange in receivables | 21214 | -2913 ( 2913 ) | -28853 ( 28853 )\\nchange in deferred revenue | 21943 | 5100 | 24576\\nchange in other assets and liabilities | -14068 ( 14068 ) | 4172 | 17495\\nnet cash from operating activities | $ 206588 | $ 181001 | $ 174247', 'question': 'what was the percentage change in the net cash from operating activities from 2008 to 2009', 'answer': '14.1%', 'explanation': '', 'exe_ans': 0.14136, 'table_description': \"### Table Description\\n\\nThe table summarizes the net cash from operating activities for the fiscal years ended June 30, 2009, 2008, and 2007. Each row in the table presents different metrics related to cash flows, specifically focusing on components that influence net cash generated from operations. \\n\\n1. **Net Income**: This shows the total income after expenses for each fiscal year. It decreased slightly from 2008 to 2009.\\n  \\n2. **Non-Cash Expenses**: These represent expenses that affect net income but do not involve cash transactions. There was an increase from 2007 to 2008 and from 2008 to 2009.\\n  \\n3. **Change in Receivables**: This indicates the changes in money owed to the company from customers. A notable positive change of $21,214 in 2009 compared to a negative change of $2,913 in 2008 suggests improved cash collection practices.\\n  \\n4. **Change in Deferred Revenue**: This metric reflects the changes in revenue that has been collected but not yet earned. It shows significant variations across the years.\\n  \\n5. **Change in Other Assets and Liabilities**: This indicates changes in various other balance sheet items. The values indicate fluctuations, with the year 2008 showing a negative change.\\n  \\n6. **Net Cash from Operating Activities**: This is the overall cash generated from the company's core operational activities. It highlights significant growth in cash flow from 2008 ($181,001) to 2009 ($206,588), marking an increase of $25,587.\\n\\nThe overall trend seen in the table indicates a healthy growth in cash from operations in 2009 compared to the previous years, which is likely due to improved management of receivables and growth in revenues from the credit union services.\\n\\n### Table in Markdown Format\\n\\n```markdown\\n| Description                       | Year Ended June 30, 2009 | Year Ended June 30, 2008 | Year Ended June 30, 2007 |\\n|-----------------------------------|---------------------------|---------------------------|---------------------------|\\n| Net Income                        | $103,102                  | $104,222                  | $104,681                  |\\n| Non-Cash Expenses                 | $74,397                   | $70,420                   | $56,348                   |\\n| Change in Receivables             | $21,214                   | -$2,913                   | -$28,853                  |\\n| Change in Deferred Revenue        | $21,943                   | $5,100                    | $24,576                   |\\n| Change in Other Assets and Liabilities | -$14,068                  | $4,172                    | $17,495                   |\\n| Net Cash from Operating Activities | $206,588                  | $181,001                  | $174,247                  |\\n```\\n\\nThis markdown table succinctly captures the financial data discussed in the context, allowing for easy readability and accessibility in digital formats.\"}, page_content=\"26 | 2009 annual report in fiscal 2008 , revenues in the credit union systems and services business segment increased 14% ( 14 % ) from fiscal 2007 . all revenue components within the segment experienced growth during fiscal 2008 . license revenue generated the largest dollar growth in revenue as episys ae , our flagship core processing system aimed at larger credit unions , experienced strong sales throughout the year . support and service revenue , which is the largest component of total revenues for the credit union segment , experienced 34 percent growth in eft support and 10 percent growth in in-house support . gross profit in this business segment increased $ 9344 in fiscal 2008 compared to fiscal 2007 , due primarily to the increase in license revenue , which carries the highest margins . liquidity and capital resources we have historically generated positive cash flow from operations and have generally used funds generated from operations and short-term borrowings on our revolving credit facility to meet capital requirements . we expect this trend to continue in the future . the company 2019s cash and cash equivalents increased to $ 118251 at june 30 , 2009 from $ 65565 at june 30 , 2008 . the following table summarizes net cash from operating activities in the statement of cash flows : 2009 2008 2007 .\\n\\n2008 | year ended june 30 2009 2008 | year ended june 30 2009 2008 | year ended june 30 2009\\nnet income | $ 103102 | $ 104222 | $ 104681\\nnon-cash expenses | 74397 | 70420 | 56348\\nchange in receivables | 21214 | -2913 ( 2913 ) | -28853 ( 28853 )\\nchange in deferred revenue | 21943 | 5100 | 24576\\nchange in other assets and liabilities | -14068 ( 14068 ) | 4172 | 17495\\nnet cash from operating activities | $ 206588 | $ 181001 | $ 174247\\n\\nyear ended june 30 , cash provided by operations increased $ 25587 to $ 206588 for the fiscal year ended june 30 , 2009 as compared to $ 181001 for the fiscal year ended june 30 , 2008 . this increase is primarily attributable to a decrease in receivables compared to the same period a year ago of $ 21214 . this decrease is largely the result of fiscal 2010 annual software maintenance billings being provided to customers earlier than in the prior year , which allowed more cash to be collected before the end of the fiscal year than in previous years . further , we collected more cash overall related to revenues that will be recognized in subsequent periods in the current year than in fiscal 2008 . cash used in investing activities for the fiscal year ended june 2009 was $ 59227 and includes $ 3027 in contingent consideration paid on prior years 2019 acquisitions . cash used in investing activities for the fiscal year ended june 2008 was $ 102148 and includes payments for acquisitions of $ 48109 , plus $ 1215 in contingent consideration paid on prior years 2019 acquisitions . capital expenditures for fiscal 2009 were $ 31562 compared to $ 31105 for fiscal 2008 . cash used for software development in fiscal 2009 was $ 24684 compared to $ 23736 during the prior year . net cash used in financing activities for the current fiscal year was $ 94675 and includes the repurchase of 3106 shares of our common stock for $ 58405 , the payment of dividends of $ 26903 and $ 13489 net repayment on our revolving credit facilities . cash used in financing activities was partially offset by proceeds of $ 3773 from the exercise of stock options and the sale of common stock ( through the employee stock purchase plan ) and $ 348 excess tax benefits from stock option exercises . during fiscal 2008 , net cash used in financing activities for the fiscal year was $ 101905 and includes the repurchase of 4200 shares of our common stock for $ 100996 , the payment of dividends of $ 24683 and $ 429 net repayment on our revolving credit facilities . cash used in financing activities was partially offset by proceeds of $ 20394 from the exercise of stock options and the sale of common stock and $ 3809 excess tax benefits from stock option exercises . beginning during fiscal 2008 , us financial markets and many of the largest us financial institutions have been shaken by negative developments in the home mortgage industry and the mortgage markets , and particularly the markets for subprime mortgage-backed securities . since that time , these and other such developments have resulted in a broad , global economic downturn . while we , as is the case with most companies , have experienced the effects of this downturn , we have not experienced any significant issues with our current collection efforts , and we believe that any future impact to our liquidity will be minimized by cash generated by recurring sources of revenue and due to our access to available lines of credit. .\\n\\nQuestion: what was the percentage change in the net cash from operating activities from 2008 to 2009\\nAnswer: 14.1%\\nExecution Answer: 0.14136\\n\\nDialogue Break: ['what is the net cash from operating activities in 2009?', 'what about in 2008?', 'what is the difference?', 'what percentage change does this represent?']\\n\\n### Table Description\\n\\nThe table summarizes the net cash from operating activities for the fiscal years ended June 30, 2009, 2008, and 2007. Each row in the table presents different metrics related to cash flows, specifically focusing on components that influence net cash generated from operations. \\n\\n1. **Net Income**: This shows the total income after expenses for each fiscal year. It decreased slightly from 2008 to 2009.\\n  \\n2. **Non-Cash Expenses**: These represent expenses that affect net income but do not involve cash transactions. There was an increase from 2007 to 2008 and from 2008 to 2009.\\n  \\n3. **Change in Receivables**: This indicates the changes in money owed to the company from customers. A notable positive change of $21,214 in 2009 compared to a negative change of $2,913 in 2008 suggests improved cash collection practices.\\n  \\n4. **Change in Deferred Revenue**: This metric reflects the changes in revenue that has been collected but not yet earned. It shows significant variations across the years.\\n  \\n5. **Change in Other Assets and Liabilities**: This indicates changes in various other balance sheet items. The values indicate fluctuations, with the year 2008 showing a negative change.\\n  \\n6. **Net Cash from Operating Activities**: This is the overall cash generated from the company's core operational activities. It highlights significant growth in cash flow from 2008 ($181,001) to 2009 ($206,588), marking an increase of $25,587.\\n\\nThe overall trend seen in the table indicates a healthy growth in cash from operations in 2009 compared to the previous years, which is likely due to improved management of receivables and growth in revenues from the credit union services.\\n\\n### Table in Markdown Format\\n\\n```markdown\\n| Description                       | Year Ended June 30, 2009 | Year Ended June 30, 2008 | Year Ended June 30, 2007 |\\n|-----------------------------------|---------------------------|---------------------------|---------------------------|\\n| Net Income                        | $103,102                  | $104,222                  | $104,681                  |\\n| Non-Cash Expenses                 | $74,397                   | $70,420                   | $56,348                   |\\n| Change in Receivables             | $21,214                   | -$2,913                   | -$28,853                  |\\n| Change in Deferred Revenue        | $21,943                   | $5,100                    | $24,576                   |\\n| Change in Other Assets and Liabilities | -$14,068                  | $4,172                    | $17,495                   |\\n| Net Cash from Operating Activities | $206,588                  | $181,001                  | $174,247                  |\\n```\\n\\nThis markdown table succinctly captures the financial data discussed in the context, allowing for easy readability and accessibility in digital formats.\"),\n",
       " Document(metadata={'table': ' | year ended december 31 2008 ( unaudited ) | year ended december 31 2007 ( unaudited )\\nrevenue | $ 9362.2 | $ 9244.9\\nincome from continuing operations available to common stockholders | 285.7 | 423.2\\nbasic earnings per share | .76 | 1.10\\ndiluted earnings per share | .75 | 1.09', 'question': 'what was the percent of the growth in the revenues from 2007 to 2008', 'answer': '1.3%', 'explanation': 'the percent growth of the revenue is the difference between the 2 divide by the oldest amount', 'exe_ans': 0.01269, 'table_description': '### Description of the Table\\n\\nThe table presents unaudited pro forma financial information for the years ended December 31, 2008, and December 31, 2007. This information is intended to provide an illustrative comparison of selected financial metrics that would have been applicable if the merger with Allied had been completed on January 1, 2007. The figures are presented in millions of dollars, except for share and per share amounts.\\n\\nThe table includes the following categories:\\n\\n- **Revenue**: This row shows the total revenue for both years, with revenue increasing from $9,244.9 million in 2007 to $9,362.2 million in 2008, indicating a modest growth in revenue.\\n  \\n- **Income from Continuing Operations Available to Common Stockholders**: This figure reflects the earnings available to common shareholders from ongoing operations, which decreased from $423.2 million in 2007 to $285.7 million in 2008.\\n  \\n- **Basic Earnings Per Share**: This represents the earnings allocated to each share of common stock, showing a decline from $1.10 per share in 2007 to $0.76 per share in 2008.\\n  \\n- **Diluted Earnings Per Share**: Similar to basic earnings per share, this metric accounts for the potential dilution from convertible securities, decreasing from $1.09 per share in 2007 to $0.75 per share in 2008.\\n\\nAll the figures are unaudited, suggesting that they have yet to be formally reviewed or confirmed for accuracy.\\n\\n### Table in Markdown Format\\n\\n```markdown\\n| Year Ended December 31, 2008 (Unaudited) | Year Ended December 31, 2007 (Unaudited) |\\n|-------------------------------------------|-------------------------------------------|\\n| Revenue                                    | $ 9362.2                                  | $ 9244.9                                  |\\n| Income from Continuing Operations Available to Common Stockholders | $ 285.7                                   | $ 423.2                                   |\\n| Basic Earnings Per Share                   | $ 0.76                                   | $ 1.10                                    |\\n| Diluted Earnings Per Share                 | $ 0.75                                   | $ 1.09                                    |\\n```'}, page_content=\"substantially all of the goodwill and other intangible assets recorded related to the acquisition of allied are not deductible for tax purposes . pro forma information the consolidated financial statements presented for republic include the operating results of allied from the date of the acquisition . the following pro forma information is presented assuming the merger had been completed as of january 1 , 2007 . the unaudited pro forma information presented below has been prepared for illustrative purposes and is not intended to be indicative of the results of operations that would have actually occurred had the acquisition been consummated at the beginning of the periods presented or of future results of the combined operations ( in millions , except share and per share amounts ) . year ended december 31 , year ended december 31 , ( unaudited ) ( unaudited ) .\\n\\n | year ended december 31 2008 ( unaudited ) | year ended december 31 2007 ( unaudited )\\nrevenue | $ 9362.2 | $ 9244.9\\nincome from continuing operations available to common stockholders | 285.7 | 423.2\\nbasic earnings per share | .76 | 1.10\\ndiluted earnings per share | .75 | 1.09\\n\\nthe above unaudited pro forma financial information includes adjustments for amortization of identifiable intangible assets , accretion of discounts to fair value associated with debt , environmental , self-insurance and other liabilities , accretion of capping , closure and post-closure obligations and amortization of the related assets , and provision for income taxes . assets held for sale as a condition of the merger with allied in december 2008 , we reached a settlement with the doj requiring us to divest of certain operations serving fifteen metropolitan areas including los angeles , ca ; san francisco , ca ; denver , co ; atlanta , ga ; northwestern indiana ; lexington , ky ; flint , mi ; cape girardeau , mo ; charlotte , nc ; cleveland , oh ; philadelphia , pa ; greenville-spartanburg , sc ; and fort worth , houston and lubbock , tx . the settlement requires us to divest 87 commercial waste collection routes , nine landfills and ten transfer stations , together with ancillary assets and , in three cases , access to landfill disposal capacity . we have classified the assets and liabilities we expect to divest ( including accounts receivable , property and equipment , goodwill , and accrued landfill and environmental costs ) as assets held for sale in our consolidated balance sheet at december 31 , 2008 . the assets held for sale related to operations that were republic 2019s prior to the merger with allied have been adjusted to the lower of their carrying amounts or estimated fair values less costs to sell , which resulted in us recognizing an asset impairment loss of $ 6.1 million in our consolidated statement of income for the year ended december 31 , 2008 . the assets held for sale related to operations that were allied 2019s prior to the merger are recorded at their estimated fair values in our consolidated balance sheet as of december 31 , 2008 in accordance with the purchase method of accounting . in february 2009 , we entered into an agreement to divest certain assets to waste connections , inc . the assets covered by the agreement include six municipal solid waste landfills , six collection operations and three transfer stations across the following seven markets : los angeles , ca ; denver , co ; houston , tx ; lubbock , tx ; greenville-spartanburg , sc ; charlotte , nc ; and flint , mi . the transaction with waste connections is subject to closing conditions regarding due diligence , regulatory approval and other customary matters . closing is expected to occur in the second quarter of 2009 . republic services , inc . and subsidiaries notes to consolidated financial statements %%transmsg*** transmitting job : p14076 pcn : 106000000 ***%%pcmsg|104 |00046|yes|no|02/28/2009 21:07|0|0|page is valid , no graphics -- color : d| .\\n\\nQuestion: what was the percent of the growth in the revenues from 2007 to 2008\\nAnswer: 1.3%\\nExecution Answer: 0.01269\\n\\nDialogue Break: ['what were revenues in 2008?', 'what were they in 2007?', 'what was the net change?', 'what is the percent change?']\\n\\n### Description of the Table\\n\\nThe table presents unaudited pro forma financial information for the years ended December 31, 2008, and December 31, 2007. This information is intended to provide an illustrative comparison of selected financial metrics that would have been applicable if the merger with Allied had been completed on January 1, 2007. The figures are presented in millions of dollars, except for share and per share amounts.\\n\\nThe table includes the following categories:\\n\\n- **Revenue**: This row shows the total revenue for both years, with revenue increasing from $9,244.9 million in 2007 to $9,362.2 million in 2008, indicating a modest growth in revenue.\\n  \\n- **Income from Continuing Operations Available to Common Stockholders**: This figure reflects the earnings available to common shareholders from ongoing operations, which decreased from $423.2 million in 2007 to $285.7 million in 2008.\\n  \\n- **Basic Earnings Per Share**: This represents the earnings allocated to each share of common stock, showing a decline from $1.10 per share in 2007 to $0.76 per share in 2008.\\n  \\n- **Diluted Earnings Per Share**: Similar to basic earnings per share, this metric accounts for the potential dilution from convertible securities, decreasing from $1.09 per share in 2007 to $0.75 per share in 2008.\\n\\nAll the figures are unaudited, suggesting that they have yet to be formally reviewed or confirmed for accuracy.\\n\\n### Table in Markdown Format\\n\\n```markdown\\n| Year Ended December 31, 2008 (Unaudited) | Year Ended December 31, 2007 (Unaudited) |\\n|-------------------------------------------|-------------------------------------------|\\n| Revenue                                    | $ 9362.2                                  | $ 9244.9                                  |\\n| Income from Continuing Operations Available to Common Stockholders | $ 285.7                                   | $ 423.2                                   |\\n| Basic Earnings Per Share                   | $ 0.76                                   | $ 1.10                                    |\\n| Diluted Earnings Per Share                 | $ 0.75                                   | $ 1.09                                    |\\n```\"),\n",
       " Document(metadata={'table': ' | 2002 | 2001 | 2000\\nnet sales | $ 5742 | $ 5363 | $ 7983\\ncost of sales | 4139 | 4128 | 5817\\ngross margin | $ 1603 | $ 1235 | $ 2166\\ngross margin percentage | 28% ( 28 % ) | 23% ( 23 % ) | 27% ( 27 % )', 'question': 'what was the percentage change in net sales from 2000 to 2001?', 'answer': '-32%', 'explanation': '', 'exe_ans': -0.3282, 'table_description': \"### Comprehensive Description of the Table\\n\\nThe table presents a summary of financial performance metrics over three fiscal years: 2000, 2001, and 2002. It focuses on the company's net sales, cost of sales, gross margin, and gross margin percentage for each of those years. \\n\\n1. **Net Sales**: This row shows the total revenue generated by the company from sales of its products. In 2000, net sales were $7,983 million, which decreased to $5,363 million in 2001—a significant drop of approximately 32%. However, there was a slight recovery in 2002, with net sales increasing to $5,742 million.\\n\\n2. **Cost of Sales**: This row lists the total expenses directly associated with the production of goods sold. The costs remained relatively stable from 2000 to 2001, changing from $5,817 million in 2000 to $4,128 million in 2001. In 2002, the cost slightly increased to $4,139 million.\\n\\n3. **Gross Margin**: This row indicates the gross profit of the company calculated as net sales minus the cost of sales. In 2000, the gross margin was $2,166 million, but it fell to $1,235 million in 2001 due to decreased net sales. The gross margin improved in 2002 to $1,603 million, reflecting an increase in net sales while costs remained relatively stable.\\n\\n4. **Gross Margin Percentage**: This row provides the gross margin as a percentage of net sales, offering insights into profitability relative to sales. The gross margin percentage decreased from 27% in 2000 to 23% in 2001, indicating declining profitability. In 2002, the gross margin percentage rebounded to 28%, a sign of improved operational efficiency and possibly better pricing strategies.\\n\\nOverall, the table encapsulates key financial aspects pertinent to understanding the company’s performance over the specified periods, highlighting the challenges and recoveries seen in net sales and profitability.\\n\\n### Table in Markdown Format\\n\\n```markdown\\n|                 |  2002   |  2001   |  2000   |\\n|-----------------|---------|---------|---------|\\n| Net Sales       | $ 5742  | $ 5363  | $ 7983  |\\n| Cost of Sales   | $ 4139  | $ 4128  | $ 5817  |\\n| Gross Margin     | $ 1603  | $ 1235  | $ 2166  |\\n| Gross Margin %  | 28%     | 23%     | 27%     |\\n```\\n\\nThis markdown format maintains the structure and clarity of the original table, allowing it to be easily rendered in various platforms that support markdown syntax.\"}, page_content='in a new business model such as the retail segment is inherently risky , particularly in light of the significant investment involved , the current economic climate , and the fixed nature of a substantial portion of the retail segment\\'s operating expenses . results for this segment are dependent upon a number of risks and uncertainties , some of which are discussed below under the heading \"factors that may affect future results and financial condition.\" backlog in the company\\'s experience , the actual amount of product backlog at any particular time is not a meaningful indication of its future business prospects . in particular , backlog often increases in anticipation of or immediately following new product introductions because of over- ordering by dealers anticipating shortages . backlog often is reduced once dealers and customers believe they can obtain sufficient supply . because of the foregoing , backlog cannot be considered a reliable indicator of the company\\'s ability to achieve any particular level of revenue or financial performance . further information regarding the company\\'s backlog may be found below under the heading \"factors that may affect future results and financial condition.\" gross margin gross margin for the three fiscal years ended september 28 , 2002 are as follows ( in millions , except gross margin percentages ) : gross margin increased to 28% ( 28 % ) of net sales in 2002 from 23% ( 23 % ) in 2001 . as discussed below , gross margin in 2001 was unusually low resulting from negative gross margin of 2% ( 2 % ) experienced in the first quarter of 2001 . as a percentage of net sales , the company\\'s quarterly gross margins declined during fiscal 2002 from 31% ( 31 % ) in the first quarter down to 26% ( 26 % ) in the fourth quarter . this decline resulted from several factors including a rise in component costs as the year progressed and aggressive pricing by the company across its products lines instituted as a result of continued pricing pressures in the personal computer industry . the company anticipates that its gross margin and the gross margin of the overall personal computer industry will remain under pressure throughout fiscal 2003 in light of weak economic conditions , flat demand for personal computers in general , and the resulting pressure on prices . the foregoing statements regarding anticipated gross margin in 2003 and the general demand for personal computers during 2003 are forward- looking . gross margin could differ from anticipated levels because of several factors , including certain of those set forth below in the subsection entitled \"factors that may affect future results and financial condition.\" there can be no assurance that current gross margins will be maintained , targeted gross margin levels will be achieved , or current margins on existing individual products will be maintained . in general , gross margins and margins on individual products will remain under significant downward pressure due to a variety of factors , including continued industry wide global pricing pressures , increased competition , compressed product life cycles , potential increases in the cost and availability of raw material and outside manufacturing services , and potential changes to the company\\'s product mix , including higher unit sales of consumer products with lower average selling prices and lower gross margins . in response to these downward pressures , the company expects it will continue to take pricing actions with respect to its products . gross margins could also be affected by the company\\'s ability to effectively manage quality problems and warranty costs and to stimulate demand for certain of its products . the company\\'s operating strategy and pricing take into account anticipated changes in foreign currency exchange rates over time ; however , the company\\'s results of operations can be significantly affected in the short-term by fluctuations in exchange rates . the company orders components for its products and builds inventory in advance of product shipments . because the company\\'s markets are volatile and subject to rapid technology and price changes , there is a risk the company will forecast incorrectly and produce or order from third parties excess or insufficient inventories of particular products or components . the company\\'s operating results and financial condition have been in the past and may in the future be materially adversely affected by the company\\'s ability to manage its inventory levels and outstanding purchase commitments and to respond to short-term shifts in customer demand patterns . gross margin declined to 23% ( 23 % ) of net sales in 2001 from 27% ( 27 % ) in 2000 . this decline resulted primarily from gross margin of negative 2% ( 2 % ) experienced during the first quarter of 2001 compared to 26% ( 26 % ) gross margin for the same quarter in 2000 . in addition to lower than normal net .\\n\\n | 2002 | 2001 | 2000\\nnet sales | $ 5742 | $ 5363 | $ 7983\\ncost of sales | 4139 | 4128 | 5817\\ngross margin | $ 1603 | $ 1235 | $ 2166\\ngross margin percentage | 28% ( 28 % ) | 23% ( 23 % ) | 27% ( 27 % )\\n\\n.\\n\\nQuestion: what was the percentage change in net sales from 2000 to 2001?\\nAnswer: -32%\\nExecution Answer: -0.3282\\n\\nDialogue Break: [\\'what was the total of net sales in 2001?\\', \\'and what was that in 2000?\\', \\'what was, then, the change in the total of net sales over the year?\\', \\'and how much does this change represent in relation to that total in 2000, in percentage?\\']\\n\\n### Comprehensive Description of the Table\\n\\nThe table presents a summary of financial performance metrics over three fiscal years: 2000, 2001, and 2002. It focuses on the company\\'s net sales, cost of sales, gross margin, and gross margin percentage for each of those years. \\n\\n1. **Net Sales**: This row shows the total revenue generated by the company from sales of its products. In 2000, net sales were $7,983 million, which decreased to $5,363 million in 2001—a significant drop of approximately 32%. However, there was a slight recovery in 2002, with net sales increasing to $5,742 million.\\n\\n2. **Cost of Sales**: This row lists the total expenses directly associated with the production of goods sold. The costs remained relatively stable from 2000 to 2001, changing from $5,817 million in 2000 to $4,128 million in 2001. In 2002, the cost slightly increased to $4,139 million.\\n\\n3. **Gross Margin**: This row indicates the gross profit of the company calculated as net sales minus the cost of sales. In 2000, the gross margin was $2,166 million, but it fell to $1,235 million in 2001 due to decreased net sales. The gross margin improved in 2002 to $1,603 million, reflecting an increase in net sales while costs remained relatively stable.\\n\\n4. **Gross Margin Percentage**: This row provides the gross margin as a percentage of net sales, offering insights into profitability relative to sales. The gross margin percentage decreased from 27% in 2000 to 23% in 2001, indicating declining profitability. In 2002, the gross margin percentage rebounded to 28%, a sign of improved operational efficiency and possibly better pricing strategies.\\n\\nOverall, the table encapsulates key financial aspects pertinent to understanding the company’s performance over the specified periods, highlighting the challenges and recoveries seen in net sales and profitability.\\n\\n### Table in Markdown Format\\n\\n```markdown\\n|                 |  2002   |  2001   |  2000   |\\n|-----------------|---------|---------|---------|\\n| Net Sales       | $ 5742  | $ 5363  | $ 7983  |\\n| Cost of Sales   | $ 4139  | $ 4128  | $ 5817  |\\n| Gross Margin     | $ 1603  | $ 1235  | $ 2166  |\\n| Gross Margin %  | 28%     | 23%     | 27%     |\\n```\\n\\nThis markdown format maintains the structure and clarity of the original table, allowing it to be easily rendered in various platforms that support markdown syntax.'),\n",
       " Document(metadata={'table': ' | 12/31/04 | 12/31/05 | 12/31/06 | 12/31/07 | 12/31/08 | 12/31/09\\nunited parcel service inc . | $ 100.00 | $ 89.49 | $ 91.06 | $ 87.88 | $ 70.48 | $ 75.95\\ns&p 500 index | $ 100.00 | $ 104.91 | $ 121.48 | $ 128.15 | $ 80.74 | $ 102.11\\ndow jones transportation average | $ 100.00 | $ 111.65 | $ 122.61 | $ 124.35 | $ 97.72 | $ 115.88', 'question': 'what was the difference in percentage cumulative return on investment for united parcel service inc . compared to the s&p 500 index for the five year period ended 12/31/09?', 'answer': '-26.16%', 'explanation': '', 'exe_ans': -0.2616, 'table_description': '### Table Description\\n\\nThe table presents cumulative total returns for three different investment options over a five-year period, from December 31, 2004, to December 31, 2009. The three options compared are:\\n\\n1. **United Parcel Service Inc. (UPS)** - Represented as \"united parcel service inc.\" in the table.\\n2. **S&P 500 Index** - A stock market index that measures the stock performance of 500 large companies listed on stock exchanges in the United States.\\n3. **Dow Jones Transportation Average** - A stock market index that measures the performance of transportation sector companies.\\n\\nThe values shown in the table represent the dollar amount that an investment of $100 on December 31, 2004, would yield at the end of each subsequent year listed in the columns. The values are displayed in dollar amounts, and each row provides the cumulative investment value at the end of each specified date for the respective investment option.\\n\\nThe table reveals trends over the five-year period:\\n- United Parcel Service Inc. started with a return of $100.00 in 2004 but decreased in value by 2009 to $75.95.\\n- In contrast, the S&P 500 index started at $100.00 and ultimately rose to $102.11, demonstrating a modest increase overall.\\n- The Dow Jones Transportation Average also showed growth, increasing from $100.00 in 2004 to $115.88 in 2009.\\n\\nThe data from this table indicates that while UPS experienced a reduction in value over the five-year period, both the S&P 500 Index and the Dow Jones Transportation Average showed positive returns.\\n\\n### Markdown Table\\n\\n```markdown\\n| Date        | United Parcel Service Inc. | S&P 500 Index | Dow Jones Transportation Average |\\n|-------------|-----------------------------|----------------|----------------------------------|\\n| 12/31/04    | $100.00                     | $100.00        | $100.00                          |\\n| 12/31/05    | $89.49                      | $104.91        | $111.65                          |\\n| 12/31/06    | $91.06                      | $121.48        | $122.61                          |\\n| 12/31/07    | $87.88                      | $128.15        | $124.35                          |\\n| 12/31/08    | $70.48                      | $80.74         | $97.72                           |\\n| 12/31/09    | $75.95                      | $102.11        | $115.88                          |\\n```'}, page_content='( 1 ) includes shares repurchased through our publicly announced share repurchase program and shares tendered to pay the exercise price and tax withholding on employee stock options . shareowner return performance graph the following performance graph and related information shall not be deemed 201csoliciting material 201d or to be 201cfiled 201d with the securities and exchange commission , nor shall such information be incorporated by reference into any future filing under the securities act of 1933 or securities exchange act of 1934 , each as amended , except to the extent that the company specifically incorporates such information by reference into such filing . the following graph shows a five-year comparison of cumulative total shareowners 2019 returns for our class b common stock , the s&p 500 index , and the dow jones transportation average . the comparison of the total cumulative return on investment , which is the change in the quarterly stock price plus reinvested dividends for each of the quarterly periods , assumes that $ 100 was invested on december 31 , 2004 in the s&p 500 index , the dow jones transportation average , and our class b common stock . comparison of five year cumulative total return $ 40.00 $ 60.00 $ 80.00 $ 100.00 $ 120.00 $ 140.00 $ 160.00 2004 20092008200720062005 s&p 500 ups dj transport .\\n\\n | 12/31/04 | 12/31/05 | 12/31/06 | 12/31/07 | 12/31/08 | 12/31/09\\nunited parcel service inc . | $ 100.00 | $ 89.49 | $ 91.06 | $ 87.88 | $ 70.48 | $ 75.95\\ns&p 500 index | $ 100.00 | $ 104.91 | $ 121.48 | $ 128.15 | $ 80.74 | $ 102.11\\ndow jones transportation average | $ 100.00 | $ 111.65 | $ 122.61 | $ 124.35 | $ 97.72 | $ 115.88\\n\\n.\\n\\nQuestion: what was the difference in percentage cumulative return on investment for united parcel service inc . compared to the s&p 500 index for the five year period ended 12/31/09?\\nAnswer: -26.16%\\nExecution Answer: -0.2616\\n\\nDialogue Break: [\\'what was the change in the performance of the united parcel service inc . from 2004 to 2009?\\', \\'and how much does this change represent in relation to that performance in 2004, in percentage?\\', \\'what was the performance value of the s&p 500 index in 2009?\\', \\'what was, then, the change in that performance from 2004 to 2009?\\', \\'and how much does this change represent in relation to that performance in 2004, in percentage?\\', \\'what is, then, the difference between the percent representation of the united parcel service inc . and the s&p 500 index?\\']\\n\\n### Table Description\\n\\nThe table presents cumulative total returns for three different investment options over a five-year period, from December 31, 2004, to December 31, 2009. The three options compared are:\\n\\n1. **United Parcel Service Inc. (UPS)** - Represented as \"united parcel service inc.\" in the table.\\n2. **S&P 500 Index** - A stock market index that measures the stock performance of 500 large companies listed on stock exchanges in the United States.\\n3. **Dow Jones Transportation Average** - A stock market index that measures the performance of transportation sector companies.\\n\\nThe values shown in the table represent the dollar amount that an investment of $100 on December 31, 2004, would yield at the end of each subsequent year listed in the columns. The values are displayed in dollar amounts, and each row provides the cumulative investment value at the end of each specified date for the respective investment option.\\n\\nThe table reveals trends over the five-year period:\\n- United Parcel Service Inc. started with a return of $100.00 in 2004 but decreased in value by 2009 to $75.95.\\n- In contrast, the S&P 500 index started at $100.00 and ultimately rose to $102.11, demonstrating a modest increase overall.\\n- The Dow Jones Transportation Average also showed growth, increasing from $100.00 in 2004 to $115.88 in 2009.\\n\\nThe data from this table indicates that while UPS experienced a reduction in value over the five-year period, both the S&P 500 Index and the Dow Jones Transportation Average showed positive returns.\\n\\n### Markdown Table\\n\\n```markdown\\n| Date        | United Parcel Service Inc. | S&P 500 Index | Dow Jones Transportation Average |\\n|-------------|-----------------------------|----------------|----------------------------------|\\n| 12/31/04    | $100.00                     | $100.00        | $100.00                          |\\n| 12/31/05    | $89.49                      | $104.91        | $111.65                          |\\n| 12/31/06    | $91.06                      | $121.48        | $122.61                          |\\n| 12/31/07    | $87.88                      | $128.15        | $124.35                          |\\n| 12/31/08    | $70.48                      | $80.74         | $97.72                           |\\n| 12/31/09    | $75.95                      | $102.11        | $115.88                          |\\n```'),\n",
       " Document(metadata={'table': ' | shares available for awards | shares subject to outstanding awards\\n2009 global incentive plan | 2322450 | 2530454\\n2004 stock incentive plan | - | 5923147', 'question': 'what portion of the total shares subject to outstanding awards is under the 2009 global incentive plan?', 'answer': '70.1%', 'explanation': '', 'exe_ans': 0.70067, 'table_description': '### Description of the Table\\n\\nThe table presents information regarding the shares available for awards and shares subject to outstanding awards under two different stock incentive plans as of December 31, 2010. It compares the 2009 Global Incentive Plan (GIP) and the 2004 Stock Incentive Plan (SIP). \\n\\n1. **Shares Available for Awards**: This column indicates how many shares are currently available to be awarded under each plan. \\n   - For the 2009 GIP, there are 2,322,450 shares available.\\n   - For the 2004 SIP, there are no shares available for new awards (indicated by a dash).\\n\\n2. **Shares Subject to Outstanding Awards**: This column shows the number of shares that have been awarded but are yet to be fully utilized or completed under each plan. \\n   - The 2009 GIP has 2,530,454 shares subject to outstanding awards.\\n   - The 2004 SIP has a significantly higher number, with 5,923,147 shares subject to outstanding awards.\\n\\nOverall, the table highlights the allocation of shares between the two plans, indicating the transition from the older plan (2004 SIP) to the newer 2009 GIP, as the company updated its incentive structures.\\n\\n### Table in Markdown Format\\n\\n```markdown\\n| Plan                             | Shares Available for Awards | Shares Subject to Outstanding Awards |\\n|----------------------------------|-----------------------------|-------------------------------------|\\n| 2009 Global Incentive Plan       | 2,322,450                   | 2,530,454                           |\\n| 2004 Stock Incentive Plan        | -                           | 5,923,147                           |\\n```'}, page_content=\"tax returns for 2001 and beyond are open for examination under statute . currently , unrecognized tax benefits are not expected to change significantly over the next 12 months . 19 . stock-based and other management compensation plans in april 2009 , the company approved a global incentive plan which replaces the company 2019s 2004 stock incentive plan . the 2009 global incentive plan ( 201cgip 201d ) enables the compensation committee of the board of directors to award incentive and nonqualified stock options , stock appreciation rights , shares of series a common stock , restricted stock , restricted stock units ( 201crsus 201d ) and incentive bonuses ( which may be paid in cash or stock or a combination thereof ) , any of which may be performance-based , with vesting and other award provisions that provide effective incentive to company employees ( including officers ) , non-management directors and other service providers . under the 2009 gip , the company no longer can grant rsus with the right to participate in dividends or dividend equivalents . the maximum number of shares that may be issued under the 2009 gip is equal to 5350000 shares plus ( a ) any shares of series a common stock that remain available for issuance under the 2004 stock incentive plan ( 201csip 201d ) ( not including any shares of series a common stock that are subject to outstanding awards under the 2004 sip or any shares of series a common stock that were issued pursuant to awards under the 2004 sip ) and ( b ) any awards under the 2004 stock incentive plan that remain outstanding that cease for any reason to be subject to such awards ( other than by reason of exercise or settlement of the award to the extent that such award is exercised for or settled in vested and non-forfeitable shares ) . as of december 31 , 2010 , total shares available for awards and total shares subject to outstanding awards are as follows : shares available for awards shares subject to outstanding awards .\\n\\n | shares available for awards | shares subject to outstanding awards\\n2009 global incentive plan | 2322450 | 2530454\\n2004 stock incentive plan | - | 5923147\\n\\nupon the termination of a participant 2019s employment with the company by reason of death or disability or by the company without cause ( as defined in the respective award agreements ) , an award in amount equal to ( i ) the value of the award granted multiplied by ( ii ) a fraction , ( x ) the numerator of which is the number of full months between grant date and the date of such termination , and ( y ) the denominator of which is the term of the award , such product to be rounded down to the nearest whole number , and reduced by ( iii ) the value of any award that previously vested , shall immediately vest and become payable to the participant . upon the termination of a participant 2019s employment with the company for any other reason , any unvested portion of the award shall be forfeited and cancelled without consideration . there was $ 19 million and $ 0 million of tax benefit realized from stock option exercises and vesting of rsus during the years ended december 31 , 2010 and 2009 , respectively . during the year ended december 31 , 2008 the company reversed $ 8 million of the $ 19 million tax benefit that was realized during the year ended december 31 , 2007 . deferred compensation in april 2007 , certain participants in the company 2019s 2004 deferred compensation plan elected to participate in a revised program , which includes both cash awards and restricted stock units ( see restricted stock units below ) . based on participation in the revised program , the company expensed $ 9 million , $ 10 million and $ 8 million during the years ended december 31 , 2010 , 2009 and 2008 , respectively , related to the revised program and made payments of $ 4 million during the year ended december 31 , 2010 to participants who left the company and $ 28 million to active employees during december 2010 . as of december 31 , 2010 , $ 1 million remains to be paid during 2011 under the revised program . as of december 31 , 2009 , there was no deferred compensation payable remaining associated with the 2004 deferred compensation plan . the company recorded expense related to participants continuing in the 2004 deferred %%transmsg*** transmitting job : d77691 pcn : 132000000 ***%%pcmsg|132 |00011|yes|no|02/09/2011 18:22|0|0|page is valid , no graphics -- color : n| .\\n\\nQuestion: what portion of the total shares subject to outstanding awards is under the 2009 global incentive plan?\\nAnswer: 70.1%\\nExecution Answer: 0.70067\\n\\nDialogue Break: ['how many shares are subject to outstanding awards is under the 2009 global incentive plan?', 'what about under the 2004 stock incentive plan?', 'how many total shares are subject to outstanding awards?', 'what about under the 2004 stock incentive plan?', 'what proportion does this represent?']\\n\\n### Description of the Table\\n\\nThe table presents information regarding the shares available for awards and shares subject to outstanding awards under two different stock incentive plans as of December 31, 2010. It compares the 2009 Global Incentive Plan (GIP) and the 2004 Stock Incentive Plan (SIP). \\n\\n1. **Shares Available for Awards**: This column indicates how many shares are currently available to be awarded under each plan. \\n   - For the 2009 GIP, there are 2,322,450 shares available.\\n   - For the 2004 SIP, there are no shares available for new awards (indicated by a dash).\\n\\n2. **Shares Subject to Outstanding Awards**: This column shows the number of shares that have been awarded but are yet to be fully utilized or completed under each plan. \\n   - The 2009 GIP has 2,530,454 shares subject to outstanding awards.\\n   - The 2004 SIP has a significantly higher number, with 5,923,147 shares subject to outstanding awards.\\n\\nOverall, the table highlights the allocation of shares between the two plans, indicating the transition from the older plan (2004 SIP) to the newer 2009 GIP, as the company updated its incentive structures.\\n\\n### Table in Markdown Format\\n\\n```markdown\\n| Plan                             | Shares Available for Awards | Shares Subject to Outstanding Awards |\\n|----------------------------------|-----------------------------|-------------------------------------|\\n| 2009 Global Incentive Plan       | 2,322,450                   | 2,530,454                           |\\n| 2004 Stock Incentive Plan        | -                           | 5,923,147                           |\\n```\")]"
      ]
     },
     "execution_count": 53,
     "metadata": {},
     "output_type": "execute_result"
    }
   ],
   "source": [
    "filtered_documents[:5]"
   ]
  },
  {
   "cell_type": "code",
   "execution_count": 51,
   "metadata": {},
   "outputs": [
    {
     "name": "stderr",
     "output_type": "stream",
     "text": [
      "/var/folders/4f/c9ycdnn56lx6fjnv2my0qwk80000gn/T/ipykernel_65465/3965004403.py:6: LangChainDeprecationWarning: Since Chroma 0.4.x the manual persistence method is no longer supported as docs are automatically persisted.\n",
      "  vectorstore.persist()\n"
     ]
    }
   ],
   "source": [
    "vectorstore = Chroma.from_documents(\n",
    "    documents=filtered_documents,\n",
    "    embedding=embedding_model,\n",
    "    persist_directory=persist_directory\n",
    ")\n",
    "vectorstore.persist()"
   ]
  },
  {
   "cell_type": "code",
   "execution_count": 56,
   "metadata": {},
   "outputs": [
    {
     "name": "stderr",
     "output_type": "stream",
     "text": [
      "/var/folders/4f/c9ycdnn56lx6fjnv2my0qwk80000gn/T/ipykernel_65465/3560521359.py:19: LangChainDeprecationWarning: The class `ChatOpenAI` was deprecated in LangChain 0.0.10 and will be removed in 1.0. An updated version of the class exists in the :class:`~langchain-openai package and should be used instead. To use it run `pip install -U :class:`~langchain-openai` and import as `from :class:`~langchain_openai import ChatOpenAI``.\n",
      "  llm = ChatOpenAI(model_name=\"gpt-4o-mini\", temperature=0)\n"
     ]
    }
   ],
   "source": [
    "# Setup QA chain\n",
    "qa_chain = setup_qa_chain(filtered_documents)"
   ]
  },
  {
   "cell_type": "markdown",
   "metadata": {},
   "source": [
    "### 7. Evaluate System\n",
    "---"
   ]
  },
  {
   "cell_type": "code",
   "execution_count": 61,
   "metadata": {},
   "outputs": [],
   "source": [
    "# Evaluate system\n",
    "all_results = []\n",
    "for entry in processed_data:\n",
    "    question = entry[\"qa\"][\"question\"]\n",
    "    result = qa_chain({\"query\": question})\n",
    "        \n",
    "    evaluation = evaluate_qa_response(\n",
    "        reference_answer=entry[\"qa\"][\"answer\"],\n",
    "        generated_answer=result[\"result\"],\n",
    "        source_context=entry[\"text\"],\n",
    "        retrieved_context=\"\\n\".join([doc.page_content for doc in result[\"source_documents\"]])\n",
    "        )\n",
    "        \n",
    "    result_dict = {\n",
    "        \"question\": question,\n",
    "        \"reference_answer\": entry[\"qa\"][\"answer\"],\n",
    "        \"generated_answer\": result[\"result\"],\n",
    "        **evaluation}\n",
    "    all_results.append(result_dict)"
   ]
  },
  {
   "cell_type": "code",
   "execution_count": 63,
   "metadata": {},
   "outputs": [
    {
     "data": {
      "text/html": [
       "<div>\n",
       "<style scoped>\n",
       "    .dataframe tbody tr th:only-of-type {\n",
       "        vertical-align: middle;\n",
       "    }\n",
       "\n",
       "    .dataframe tbody tr th {\n",
       "        vertical-align: top;\n",
       "    }\n",
       "\n",
       "    .dataframe thead th {\n",
       "        text-align: right;\n",
       "    }\n",
       "</style>\n",
       "<table border=\"1\" class=\"dataframe\">\n",
       "  <thead>\n",
       "    <tr style=\"text-align: right;\">\n",
       "      <th></th>\n",
       "      <th>question</th>\n",
       "      <th>reference_answer</th>\n",
       "      <th>generated_answer</th>\n",
       "      <th>bleu</th>\n",
       "      <th>rouge1_f</th>\n",
       "      <th>rouge2_f</th>\n",
       "      <th>rougeL_f</th>\n",
       "      <th>factual_correctness</th>\n",
       "      <th>context_precision</th>\n",
       "      <th>context_recall</th>\n",
       "      <th>context_f1</th>\n",
       "    </tr>\n",
       "  </thead>\n",
       "  <tbody>\n",
       "    <tr>\n",
       "      <th>0</th>\n",
       "      <td>what was the percentage change in the net cash from operating activities from 2008 to 2009</td>\n",
       "      <td>14.1%</td>\n",
       "      <td>To calculate the percentage change in net cash from operating activities from 2008 to 2009, we can use the following formula:\\n\\n\\[\\n\\text{Percentage Change} = \\left( \\frac{\\text{New Value} - \\text{Old Value}}{\\text{Old Value}} \\right) \\times 100\\n\\]\\n\\nFrom the provided data:\\n\\n- Net cash from operating activities in 2008: **$181,001**\\n- Net cash from operating activities in 2009: **$206,588**\\n\\nNow, we can plug these values into the formula:\\n\\n1. Calculate the difference:\\n   \\[\\n   \\text{Difference} = 206,588 - 181,001 = 25,587\\n   \\]\\n\\n2. Calculate the percentage change:\\n   \\[\\n   \\text{Percentage Change} = \\left( \\frac{25,587}{181,001} \\right) \\times 100 \\approx 14.14\\%\\n   \\]\\n\\nThus, the percentage change in net cash from operating activities from 2008 to 2009 is approximately **14.1%**.</td>\n",
       "      <td>0.0</td>\n",
       "      <td>0.033058</td>\n",
       "      <td>0.016807</td>\n",
       "      <td>0.033058</td>\n",
       "      <td>1.0</td>\n",
       "      <td>0.433333</td>\n",
       "      <td>1.000000</td>\n",
       "      <td>0.604651</td>\n",
       "    </tr>\n",
       "    <tr>\n",
       "      <th>1</th>\n",
       "      <td>what was the percent of the growth in the revenues from 2007 to 2008</td>\n",
       "      <td>1.3%</td>\n",
       "      <td>To calculate the percentage growth in revenues from 2007 to 2008, we need the revenue figures for both years. However, the provided context does not specify the exact revenue amounts for 2007 and 2008. \\n\\nThe context mentions that revenues in the credit union systems and services business segment increased by 14% from fiscal 2007 to fiscal 2008, but it does not provide the actual revenue figures for those years.\\n\\nWithout the specific revenue amounts for 2007 and 2008, I cannot calculate the percentage growth in revenues. Therefore, I don't know the answer.</td>\n",
       "      <td>0.0</td>\n",
       "      <td>0.000000</td>\n",
       "      <td>0.000000</td>\n",
       "      <td>0.000000</td>\n",
       "      <td>0.0</td>\n",
       "      <td>0.132629</td>\n",
       "      <td>0.385666</td>\n",
       "      <td>0.197380</td>\n",
       "    </tr>\n",
       "    <tr>\n",
       "      <th>2</th>\n",
       "      <td>what was the percentage change in net sales from 2000 to 2001?</td>\n",
       "      <td>-32%</td>\n",
       "      <td>To calculate the percentage change in net sales from 2000 to 2001, we can use the following formula:\\n\\n\\[\\n\\text{Percentage Change} = \\left( \\frac{\\text{New Value} - \\text{Old Value}}{\\text{Old Value}} \\right) \\times 100\\n\\]\\n\\nIn this case:\\n- The net sales in 2000 (Old Value) = $7,983 million\\n- The net sales in 2001 (New Value) = $5,363 million\\n\\nNow, we can plug in the values:\\n\\n\\[\\n\\text{Percentage Change} = \\left( \\frac{5,363 - 7,983}{7,983} \\right) \\times 100\\n\\]\\n\\nCalculating the difference:\\n\\n\\[\\n5,363 - 7,983 = -2,620\\n\\]\\n\\nNow, substituting back into the formula:\\n\\n\\[\\n\\text{Percentage Change} = \\left( \\frac{-2,620}{7,983} \\right) \\times 100 \\approx -32.8\\%\\n\\]\\n\\nThus, the percentage change in net sales from 2000 to 2001 is approximately **-32.8%**. \\n\\nTherefore, the answer is:\\n**-32.8%**.</td>\n",
       "      <td>0.0</td>\n",
       "      <td>0.015267</td>\n",
       "      <td>0.000000</td>\n",
       "      <td>0.015267</td>\n",
       "      <td>0.0</td>\n",
       "      <td>0.430504</td>\n",
       "      <td>1.000000</td>\n",
       "      <td>0.601892</td>\n",
       "    </tr>\n",
       "    <tr>\n",
       "      <th>3</th>\n",
       "      <td>what was the difference in percentage cumulative return on investment for united parcel service inc . compared to the s&amp;p 500 index for the five year period ended 12/31/09?</td>\n",
       "      <td>-26.16%</td>\n",
       "      <td>To calculate the difference in percentage cumulative return on investment for United Parcel Service Inc. (UPS) compared to the S&amp;P 500 index for the five-year period ended December 31, 2009, we can follow these steps:\\n\\n1. **Determine the cumulative return for UPS and the S&amp;P 500 index:**\\n   - For UPS:\\n     - Value at 12/31/04: $100.00\\n     - Value at 12/31/09: $75.95\\n     - Change in value: $75.95 - $100.00 = -$24.05\\n     - Percentage change: \\((-24.05 / 100) \\times 100 = -24.05\\%\\)\\n\\n   - For the S&amp;P 500 index:\\n     - Value at 12/31/04: $100.00\\n     - Value at 12/31/09: $102.11\\n     - Change in value: $102.11 - $100.00 = $2.11\\n     - Percentage change: \\((2.11 / 100) \\times 100 = 2.11\\%\\)\\n\\n2. **Calculate the difference in percentage cumulative return:**\\n   - Difference = Percentage change for UPS - Percentage change for S&amp;P 500\\n   - Difference = \\(-24.05\\% - 2.11\\% = -26.16\\%\\)\\n\\nThus, the difference in percentage cumulative return on investment for United Parcel ...</td>\n",
       "      <td>0.0</td>\n",
       "      <td>0.021858</td>\n",
       "      <td>0.011050</td>\n",
       "      <td>0.021858</td>\n",
       "      <td>1.0</td>\n",
       "      <td>0.446341</td>\n",
       "      <td>1.000000</td>\n",
       "      <td>0.617201</td>\n",
       "    </tr>\n",
       "    <tr>\n",
       "      <th>4</th>\n",
       "      <td>what portion of the total shares subject to outstanding awards is under the 2009 global incentive plan?</td>\n",
       "      <td>70.1%</td>\n",
       "      <td>To determine the portion of the total shares subject to outstanding awards that is under the 2009 Global Incentive Plan (GIP), we need to use the data provided in the context.\\n\\nFrom the table, we have the following information:\\n\\n- Shares subject to outstanding awards under the 2009 Global Incentive Plan: **2,530,454**\\n- Shares subject to outstanding awards under the 2004 Stock Incentive Plan: **5,923,147**\\n\\nFirst, we calculate the total shares subject to outstanding awards:\\n\\n\\[\\n\\text{Total shares subject to outstanding awards} = \\text{Shares under 2009 GIP} + \\text{Shares under 2004 SIP}\\n\\]\\n\\[\\n\\text{Total shares subject to outstanding awards} = 2,530,454 + 5,923,147 = 8,453,601\\n\\]\\n\\nNext, we calculate the portion of the total shares that are under the 2009 Global Incentive Plan:\\n\\n\\[\\n\\text{Portion under 2009 GIP} = \\frac{\\text{Shares under 2009 GIP}}{\\text{Total shares subject to outstanding awards}}\\n\\]\\n\\[\\n\\text{Portion under 2009 GIP} = \\frac{2,530,454}{8,453,6...</td>\n",
       "      <td>0.0</td>\n",
       "      <td>0.000000</td>\n",
       "      <td>0.000000</td>\n",
       "      <td>0.000000</td>\n",
       "      <td>0.0</td>\n",
       "      <td>0.338750</td>\n",
       "      <td>1.000000</td>\n",
       "      <td>0.506069</td>\n",
       "    </tr>\n",
       "  </tbody>\n",
       "</table>\n",
       "</div>"
      ],
      "text/plain": [
       "                                                                                                                                                                       question  \\\n",
       "0                                                                                    what was the percentage change in the net cash from operating activities from 2008 to 2009   \n",
       "1                                                                                                          what was the percent of the growth in the revenues from 2007 to 2008   \n",
       "2                                                                                                                what was the percentage change in net sales from 2000 to 2001?   \n",
       "3  what was the difference in percentage cumulative return on investment for united parcel service inc . compared to the s&p 500 index for the five year period ended 12/31/09?   \n",
       "4                                                                       what portion of the total shares subject to outstanding awards is under the 2009 global incentive plan?   \n",
       "\n",
       "  reference_answer  \\\n",
       "0            14.1%   \n",
       "1             1.3%   \n",
       "2             -32%   \n",
       "3          -26.16%   \n",
       "4            70.1%   \n",
       "\n",
       "                                                                                                                                                                                                                                                                                                                                                                                                                                                                                                                                                                                                                                                                                                                                                                                                                                                                                                                                                                                                                          generated_answer  \\\n",
       "0                                                                                                                                                                                              To calculate the percentage change in net cash from operating activities from 2008 to 2009, we can use the following formula:\\n\\n\\[\\n\\text{Percentage Change} = \\left( \\frac{\\text{New Value} - \\text{Old Value}}{\\text{Old Value}} \\right) \\times 100\\n\\]\\n\\nFrom the provided data:\\n\\n- Net cash from operating activities in 2008: **$181,001**\\n- Net cash from operating activities in 2009: **$206,588**\\n\\nNow, we can plug these values into the formula:\\n\\n1. Calculate the difference:\\n   \\[\\n   \\text{Difference} = 206,588 - 181,001 = 25,587\\n   \\]\\n\\n2. Calculate the percentage change:\\n   \\[\\n   \\text{Percentage Change} = \\left( \\frac{25,587}{181,001} \\right) \\times 100 \\approx 14.14\\%\\n   \\]\\n\\nThus, the percentage change in net cash from operating activities from 2008 to 2009 is approximately **14.1%**.   \n",
       "1                                                                                                                                                                                                                                                                                                                                                                                                                                                    To calculate the percentage growth in revenues from 2007 to 2008, we need the revenue figures for both years. However, the provided context does not specify the exact revenue amounts for 2007 and 2008. \\n\\nThe context mentions that revenues in the credit union systems and services business segment increased by 14% from fiscal 2007 to fiscal 2008, but it does not provide the actual revenue figures for those years.\\n\\nWithout the specific revenue amounts for 2007 and 2008, I cannot calculate the percentage growth in revenues. Therefore, I don't know the answer.   \n",
       "2                                                                                                                                                                                    To calculate the percentage change in net sales from 2000 to 2001, we can use the following formula:\\n\\n\\[\\n\\text{Percentage Change} = \\left( \\frac{\\text{New Value} - \\text{Old Value}}{\\text{Old Value}} \\right) \\times 100\\n\\]\\n\\nIn this case:\\n- The net sales in 2000 (Old Value) = $7,983 million\\n- The net sales in 2001 (New Value) = $5,363 million\\n\\nNow, we can plug in the values:\\n\\n\\[\\n\\text{Percentage Change} = \\left( \\frac{5,363 - 7,983}{7,983} \\right) \\times 100\\n\\]\\n\\nCalculating the difference:\\n\\n\\[\\n5,363 - 7,983 = -2,620\\n\\]\\n\\nNow, substituting back into the formula:\\n\\n\\[\\n\\text{Percentage Change} = \\left( \\frac{-2,620}{7,983} \\right) \\times 100 \\approx -32.8\\%\\n\\]\\n\\nThus, the percentage change in net sales from 2000 to 2001 is approximately **-32.8%**. \\n\\nTherefore, the answer is:\\n**-32.8%**.   \n",
       "3  To calculate the difference in percentage cumulative return on investment for United Parcel Service Inc. (UPS) compared to the S&P 500 index for the five-year period ended December 31, 2009, we can follow these steps:\\n\\n1. **Determine the cumulative return for UPS and the S&P 500 index:**\\n   - For UPS:\\n     - Value at 12/31/04: $100.00\\n     - Value at 12/31/09: $75.95\\n     - Change in value: $75.95 - $100.00 = -$24.05\\n     - Percentage change: \\((-24.05 / 100) \\times 100 = -24.05\\%\\)\\n\\n   - For the S&P 500 index:\\n     - Value at 12/31/04: $100.00\\n     - Value at 12/31/09: $102.11\\n     - Change in value: $102.11 - $100.00 = $2.11\\n     - Percentage change: \\((2.11 / 100) \\times 100 = 2.11\\%\\)\\n\\n2. **Calculate the difference in percentage cumulative return:**\\n   - Difference = Percentage change for UPS - Percentage change for S&P 500\\n   - Difference = \\(-24.05\\% - 2.11\\% = -26.16\\%\\)\\n\\nThus, the difference in percentage cumulative return on investment for United Parcel ...   \n",
       "4  To determine the portion of the total shares subject to outstanding awards that is under the 2009 Global Incentive Plan (GIP), we need to use the data provided in the context.\\n\\nFrom the table, we have the following information:\\n\\n- Shares subject to outstanding awards under the 2009 Global Incentive Plan: **2,530,454**\\n- Shares subject to outstanding awards under the 2004 Stock Incentive Plan: **5,923,147**\\n\\nFirst, we calculate the total shares subject to outstanding awards:\\n\\n\\[\\n\\text{Total shares subject to outstanding awards} = \\text{Shares under 2009 GIP} + \\text{Shares under 2004 SIP}\\n\\]\\n\\[\\n\\text{Total shares subject to outstanding awards} = 2,530,454 + 5,923,147 = 8,453,601\\n\\]\\n\\nNext, we calculate the portion of the total shares that are under the 2009 Global Incentive Plan:\\n\\n\\[\\n\\text{Portion under 2009 GIP} = \\frac{\\text{Shares under 2009 GIP}}{\\text{Total shares subject to outstanding awards}}\\n\\]\\n\\[\\n\\text{Portion under 2009 GIP} = \\frac{2,530,454}{8,453,6...   \n",
       "\n",
       "   bleu  \\\n",
       "0   0.0   \n",
       "1   0.0   \n",
       "2   0.0   \n",
       "3   0.0   \n",
       "4   0.0   \n",
       "\n",
       "   rouge1_f  \\\n",
       "0  0.033058   \n",
       "1  0.000000   \n",
       "2  0.015267   \n",
       "3  0.021858   \n",
       "4  0.000000   \n",
       "\n",
       "   rouge2_f  \\\n",
       "0  0.016807   \n",
       "1  0.000000   \n",
       "2  0.000000   \n",
       "3  0.011050   \n",
       "4  0.000000   \n",
       "\n",
       "   rougeL_f  \\\n",
       "0  0.033058   \n",
       "1  0.000000   \n",
       "2  0.015267   \n",
       "3  0.021858   \n",
       "4  0.000000   \n",
       "\n",
       "   factual_correctness  \\\n",
       "0                  1.0   \n",
       "1                  0.0   \n",
       "2                  0.0   \n",
       "3                  1.0   \n",
       "4                  0.0   \n",
       "\n",
       "   context_precision  \\\n",
       "0           0.433333   \n",
       "1           0.132629   \n",
       "2           0.430504   \n",
       "3           0.446341   \n",
       "4           0.338750   \n",
       "\n",
       "   context_recall  \\\n",
       "0        1.000000   \n",
       "1        0.385666   \n",
       "2        1.000000   \n",
       "3        1.000000   \n",
       "4        1.000000   \n",
       "\n",
       "   context_f1  \n",
       "0    0.604651  \n",
       "1    0.197380  \n",
       "2    0.601892  \n",
       "3    0.617201  \n",
       "4    0.506069  "
      ]
     },
     "execution_count": 63,
     "metadata": {},
     "output_type": "execute_result"
    }
   ],
   "source": [
    "# Create results DataFrame\n",
    "results_df = pd.DataFrame(all_results)\n",
    "results_df.head()"
   ]
  },
  {
   "cell_type": "code",
   "execution_count": 64,
   "metadata": {},
   "outputs": [
    {
     "name": "stdout",
     "output_type": "stream",
     "text": [
      "\n",
      "Aggregate Evaluation Metrics:\n",
      "mean_bleu: 0.0001\n",
      "mean_rouge1: 0.0199\n",
      "mean_rouge2: 0.0070\n",
      "mean_rougeL: 0.0191\n",
      "mean_factual: 0.5385\n",
      "mean_context_precision: 0.3244\n",
      "mean_context_recall: 0.9842\n",
      "mean_context_f1: 0.4826\n"
     ]
    }
   ],
   "source": [
    "# Calculate aggregate metrics\n",
    "aggregate_metrics = {\n",
    "    \"mean_bleu\": results_df[\"bleu\"].mean(),\n",
    "    \"mean_rouge1\": results_df[\"rouge1_f\"].mean(),\n",
    "    \"mean_rouge2\": results_df[\"rouge2_f\"].mean(),\n",
    "    \"mean_rougeL\": results_df[\"rougeL_f\"].mean(),\n",
    "    \"mean_factual\": results_df[\"factual_correctness\"].mean(),\n",
    "    \"mean_context_precision\": results_df[\"context_precision\"].mean(),\n",
    "    \"mean_context_recall\": results_df[\"context_recall\"].mean(),\n",
    "    \"mean_context_f1\": results_df[\"context_f1\"].mean()\n",
    "}\n",
    "    \n",
    "# Print results\n",
    "print(\"\\nAggregate Evaluation Metrics:\")\n",
    "for metric, value in aggregate_metrics.items():\n",
    "    print(f\"{metric}: {value:.4f}\")"
   ]
  },
  {
   "cell_type": "code",
   "execution_count": null,
   "metadata": {},
   "outputs": [],
   "source": []
  }
 ],
 "metadata": {
  "kernelspec": {
   "display_name": "llmengg",
   "language": "python",
   "name": "python3"
  },
  "language_info": {
   "codemirror_mode": {
    "name": "ipython",
    "version": 3
   },
   "file_extension": ".py",
   "mimetype": "text/x-python",
   "name": "python",
   "nbconvert_exporter": "python",
   "pygments_lexer": "ipython3",
   "version": "3.11.11"
  }
 },
 "nbformat": 4,
 "nbformat_minor": 2
}
